{
  "nbformat": 4,
  "nbformat_minor": 0,
  "metadata": {
    "colab": {
      "provenance": [],
      "toc_visible": true,
      "include_colab_link": true
    },
    "kernelspec": {
      "name": "python3",
      "display_name": "Python 3"
    },
    "language_info": {
      "name": "python"
    }
  },
  "cells": [
    {
      "cell_type": "markdown",
      "metadata": {
        "id": "view-in-github",
        "colab_type": "text"
      },
      "source": [
        "<a href=\"https://colab.research.google.com/github/pattichis/AIML/blob/main/Session_5_1_Lists_and_black_and_white_images.ipynb\" target=\"_parent\"><img src=\"https://colab.research.google.com/assets/colab-badge.svg\" alt=\"Open In Colab\"/></a>"
      ]
    },
    {
      "cell_type": "markdown",
      "source": [
        "# Goals"
      ],
      "metadata": {
        "id": "LdE05nG2YLOF"
      }
    },
    {
      "cell_type": "markdown",
      "source": [
        " SESSION DESCRIPTION AND OBJECTIVES\n",
        "\n",
        "Session-4 introduces students to Binary and Hexadecimal number systems. The session goals include:\n",
        "\n",
        "1. Identify the connections between x-y coordinate plane and use of binary numbers to represent black and white images. / Identificar la conexión que existe entre el plano coordenado x-y y los números binarios en la representación de imágenes en blanco y negroIdentificar la conexión que existe entre el plano coordenado x-y y los números binarios en la representación de imágenes en blanco y negro.\n",
        "2. Introduce the indexing\n",
        "3. Introduce Python lists and their operations.\n",
        "4. Lists indexing and lists of lists.\n",
        "5. Operations on NumPy arrays.\n",
        "6. Design basic black and white images. / Diseñar imágenes sencillas en blanco y negro.\n",
        "7. Program binary images using Python. / Utilizar números binarios para programar imágenes en Python.\n"
      ],
      "metadata": {
        "id": "asVBI7g8rbgb"
      }
    },
    {
      "cell_type": "markdown",
      "source": [
        "# Create a binary image"
      ],
      "metadata": {
        "id": "O20BdPNAZhNG"
      }
    },
    {
      "cell_type": "markdown",
      "source": [
        "Navigate to the\n",
        "[WebApp Link](https://ivpcl.unm.edu/ivpclpages/Research/aolme/app/interactive-img-v2.html)<br>\n",
        "\n",
        "1. Create a few binary images. Share with the other groups.<br>\n",
        "2. What is the value of <tt>i</tt> for the first row?<br>\n",
        "3. What is the value of <tt>i</tt> for the second row?<br>\n",
        "4. What is the value of <tt>i</tt> for the last row?<br>\n",
        "5. What is the value of <tt>j</tt> for the first column?<br>\n",
        "6. What is the value of <tt>j</tt> for the last column?<br>\n",
        "7. Explain the correspondence between the first row and the array shown in the Python code below.\n"
      ],
      "metadata": {
        "id": "5YGPLzJZZh0t"
      }
    },
    {
      "cell_type": "markdown",
      "source": [
        "# Working with Python Lists"
      ],
      "metadata": {
        "id": "IFDRrvBFrbpr"
      }
    },
    {
      "cell_type": "markdown",
      "source": [
        "## Create a list of numbers"
      ],
      "metadata": {
        "id": "tKxTHpowJ-Ea"
      }
    },
    {
      "cell_type": "markdown",
      "source": [
        "1. Study the code below.\n",
        "2. Create a list that contains 5.\n",
        "3. Create [2, 2, 2] two different ways.\n",
        "4. Create [1, 2, 3, 4] in variable e."
      ],
      "metadata": {
        "id": "dylWDJAaLUfg"
      }
    },
    {
      "cell_type": "code",
      "source": [
        "# Empty list\n",
        "a = []\n",
        "print(\"a = \", a)\n",
        "\n",
        "# One element\n",
        "b = [1]\n",
        "print(\"b = \", b)\n",
        "\n",
        "# Standard list\n",
        "c = [1, 2, 3]\n",
        "print(\"c = \", c)\n",
        "\n",
        "# Use * to duplicate elements\n",
        "num_of_elements = 5\n",
        "d = b*num_of_elements\n",
        "print(\"d = \", d)"
      ],
      "metadata": {
        "colab": {
          "base_uri": "https://localhost:8080/"
        },
        "id": "acX_f5AtKLH_",
        "outputId": "097b9f50-992d-4127-a7df-9fdea874e307"
      },
      "execution_count": null,
      "outputs": [
        {
          "output_type": "stream",
          "name": "stdout",
          "text": [
            "a =  []\n",
            "b =  [1]\n",
            "c =  [1, 2, 3]\n",
            "d =  [1, 1, 1, 1, 1]\n"
          ]
        }
      ]
    },
    {
      "cell_type": "markdown",
      "source": [
        "## Create a list using list comprehensions"
      ],
      "metadata": {
        "id": "lZzIC5o3NgkU"
      }
    },
    {
      "cell_type": "markdown",
      "source": [
        "1. Study the code below and answer the questions.\n",
        "2. What do you think range(5) does?\n",
        "3. What does append do?\n",
        "4. Note the special format string for print. What does {i} mean?\n",
        "5. Explain how you think the list comprehension works."
      ],
      "metadata": {
        "id": "v3jtSS3DN6Tl"
      }
    },
    {
      "cell_type": "code",
      "source": [
        "# Add elements using a for loop\n",
        "a = []\n",
        "\n",
        "print(\"Entering the loop: a = \", a)\n",
        "for i in range(5): # range generates values ...\n",
        "  a.append(i)      # Expand the list ...\n",
        "  print(f\"a.append({i}) gives a = {a}\") # Variable inside {} makes it print.\n",
        "print(\"Exiting the loop: a = \", a)\n",
        "\n",
        "# Add elements using list comprehension\n",
        "a = [i for i in range(5)]\n",
        "print(\"a = \", a)"
      ],
      "metadata": {
        "colab": {
          "base_uri": "https://localhost:8080/"
        },
        "id": "BIAGN0F-N8Jz",
        "outputId": "6fe6a1e3-56ec-4bb2-a22d-7685c710b1ad"
      },
      "execution_count": null,
      "outputs": [
        {
          "output_type": "stream",
          "name": "stdout",
          "text": [
            "Entering the loop: a =  []\n",
            "a.append(0) gives a = [0]\n",
            "a.append(1) gives a = [0, 1]\n",
            "a.append(2) gives a = [0, 1, 2]\n",
            "a.append(3) gives a = [0, 1, 2, 3]\n",
            "a.append(4) gives a = [0, 1, 2, 3, 4]\n",
            "Exiting the loop: a =  [0, 1, 2, 3, 4]\n",
            "a =  [0, 1, 2, 3, 4]\n"
          ]
        }
      ]
    },
    {
      "cell_type": "markdown",
      "source": [
        "## Indexing elements in a list"
      ],
      "metadata": {
        "id": "UwvW7Jp0N81k"
      }
    },
    {
      "cell_type": "markdown",
      "source": [
        "1. Study the examples below and discuss within your group.\n",
        "2. Is a[5] valid? Explain.\n",
        "3. What is the largest positive index? Explain.\n",
        "4. What is the most negative index? Explain.\n"
      ],
      "metadata": {
        "id": "ptc7ZFxGQjae"
      }
    },
    {
      "cell_type": "code",
      "source": [
        "a = [1, 2, 3, 4, 5]\n",
        "\n",
        "print(\"a = \", a)\n",
        "print(\"len(a) = \", len(a))\n",
        "print(\" \")\n",
        "\n",
        "print(\"a[0] = \", a[0])\n",
        "print(\"a[1] = \", a[1])\n",
        "print(\"a[2] = \", a[2])\n",
        "print(\" \")\n",
        "\n",
        "print(\"a[-1] = \", a[-1])\n",
        "print(\"a[-2] = \", a[-2])\n",
        "print(\"a[-3] = \", a[-3])\n"
      ],
      "metadata": {
        "colab": {
          "base_uri": "https://localhost:8080/"
        },
        "id": "KXW-kTCTKzLu",
        "outputId": "f39e0850-75c3-426f-8dba-0fc7a3098482"
      },
      "execution_count": null,
      "outputs": [
        {
          "output_type": "stream",
          "name": "stdout",
          "text": [
            "a =  [1, 2, 3, 4, 5]\n",
            "len(a) =  5\n",
            " \n",
            "a[0] =  1\n",
            "a[1] =  2\n",
            "a[2] =  3\n",
            " \n",
            "a[-1] =  5\n",
            "a[-2] =  4\n",
            "a[-3] =  3\n"
          ]
        }
      ]
    },
    {
      "cell_type": "markdown",
      "source": [
        "## Understanding what \"=\" means for lists"
      ],
      "metadata": {
        "id": "L0HAYat-qHRJ"
      }
    },
    {
      "cell_type": "markdown",
      "source": [
        "1. Run and study the code below.\n",
        "2. Do you see anything strange? Explain.\n",
        "3. What does \"=\" do here?\n"
      ],
      "metadata": {
        "id": "ZRcLr0m00M09"
      }
    },
    {
      "cell_type": "code",
      "source": [
        "a = [1, 2, 3, 4, 5]\n",
        "b = a\n",
        "print(\"a = \", a)\n",
        "print(\"b = \", b)\n",
        "print(\" \")\n",
        "\n",
        "a[0] = 100\n",
        "print(\"a = \", a)\n",
        "print(\"b = \", b)"
      ],
      "metadata": {
        "colab": {
          "base_uri": "https://localhost:8080/"
        },
        "id": "e6SUT3ZK0Bvy",
        "outputId": "8141da91-897b-4202-9527-983057672f6f"
      },
      "execution_count": null,
      "outputs": [
        {
          "output_type": "stream",
          "name": "stdout",
          "text": [
            "a =  [1, 2, 3, 4, 5]\n",
            "b =  [1, 2, 3, 4, 5]\n",
            " \n",
            "a =  [100, 2, 3, 4, 5]\n",
            "b =  [100, 2, 3, 4, 5]\n"
          ]
        }
      ]
    },
    {
      "cell_type": "markdown",
      "source": [
        "## Optional: Reference counting"
      ],
      "metadata": {
        "id": "pIFU8VPm1-4F"
      }
    },
    {
      "cell_type": "markdown",
      "source": [
        "1. Examine how the number of references changes.\n",
        "2. Click on <tt>{} Variables</tt> below. Do <tt>a</tt> and <tt>b</tt> exist? Explain.\n",
        "3. What do you think <tt>del</tt> does?\n",
        "4. Why do you think the number of references changes in each step?"
      ],
      "metadata": {
        "id": "anW92hqs2F4L"
      }
    },
    {
      "cell_type": "code",
      "source": [
        "import sys\n",
        "a = [1, 2, 3, 4, 5]\n",
        "print(\"1. References to a: \", sys.getrefcount(a))\n",
        "\n",
        "b = a\n",
        "print(\"2. References to a: \", sys.getrefcount(a))\n",
        "\n",
        "a[0] = 100\n",
        "print(\"3. References to a: \", sys.getrefcount(a))\n",
        "print(\"4. References to b: \", sys.getrefcount(b))\n",
        "\n",
        "del a\n",
        "print(\"5. References to b: \", sys.getrefcount(b))\n",
        "\n",
        "del b\n"
      ],
      "metadata": {
        "colab": {
          "base_uri": "https://localhost:8080/"
        },
        "id": "J8Xoap2l2GoQ",
        "outputId": "0244d20b-5c6c-4c0d-eab9-f37e848caefb"
      },
      "execution_count": null,
      "outputs": [
        {
          "output_type": "stream",
          "name": "stdout",
          "text": [
            "1. References to a:  2\n",
            "2. References to a:  3\n",
            "3. References to a:  3\n",
            "4. References to b:  3\n",
            "5. References to b:  2\n"
          ]
        }
      ]
    },
    {
      "cell_type": "markdown",
      "source": [
        "## Copying lists"
      ],
      "metadata": {
        "id": "ohnpl3rc-55T"
      }
    },
    {
      "cell_type": "markdown",
      "source": [
        "1. Study the example carefully.\n",
        "2. What changed?\n",
        "3. What do you think <tt>copy.deepcopy()</tt> does?"
      ],
      "metadata": {
        "id": "2vVPl--1--OZ"
      }
    },
    {
      "cell_type": "code",
      "source": [
        "import copy\n",
        "\n",
        "a = [1, 2, 3, 4, 5]\n",
        "b = copy.deepcopy(a)\n",
        "print(\"a = \", a)\n",
        "print(\"b = \", b)\n",
        "print(\" \")\n",
        "\n",
        "a[0] = 100\n",
        "print(\"a = \", a)\n",
        "print(\"b = \", b)"
      ],
      "metadata": {
        "colab": {
          "base_uri": "https://localhost:8080/"
        },
        "id": "_0qDDvSF_BbM",
        "outputId": "28c8ac5d-927d-41e2-8edf-d99de5ad0722"
      },
      "execution_count": null,
      "outputs": [
        {
          "output_type": "stream",
          "name": "stdout",
          "text": [
            "a =  [1, 2, 3, 4, 5]\n",
            "b =  [1, 2, 3, 4, 5]\n",
            " \n",
            "a =  [100, 2, 3, 4, 5]\n",
            "b =  [1, 2, 3, 4, 5]\n"
          ]
        }
      ]
    },
    {
      "cell_type": "markdown",
      "source": [
        "## Operations on lists"
      ],
      "metadata": {
        "id": "vtMChfhJUOvR"
      }
    },
    {
      "cell_type": "markdown",
      "source": [
        "1. Study and discuss the code.\n",
        "2. What does + do?\n",
        "3. Use + to generate 5 copies of a list.\n",
        "4. What dows * do?\n",
        "5. Use * to generate 10 copies of an element.\n",
        "\n"
      ],
      "metadata": {
        "id": "mhvmXRMGUYiq"
      }
    },
    {
      "cell_type": "code",
      "source": [
        "# Length of list\n",
        "a = [1, 2, 3]\n",
        "print(\"len(a) = \", len(a))\n",
        "\n",
        "# Concatenation using +\n",
        "a = [1, 2]\n",
        "b = [3, 4, 5]\n",
        "c = a + b\n",
        "print(\"c = \", c)\n",
        "\n",
        "\n",
        "# Multiplication: * = duplicate.\n",
        "a = [2]\n",
        "b = a*3\n",
        "print(\"b = \", b)"
      ],
      "metadata": {
        "id": "g9F8pIHFUaMv"
      },
      "execution_count": null,
      "outputs": []
    },
    {
      "cell_type": "markdown",
      "source": [
        "## A list of lists"
      ],
      "metadata": {
        "id": "e8W8q0nWSMds"
      }
    },
    {
      "cell_type": "markdown",
      "source": [
        "1. Study the code below and discuss.\n",
        "2. What does * do?\n",
        "3. What does + do?\n",
        "4. Create a list of 10 lists of [1, 2] using *\n"
      ],
      "metadata": {
        "id": "_JlQEcXaSZPl"
      }
    },
    {
      "cell_type": "code",
      "source": [
        "# A simple list\n",
        "a = [1,  2, 3]\n",
        "print(\"a = \", a)\n",
        "\n",
        "# Create a list of lists directly:\n",
        "b = [[1, 2, 3], [4, 5, 6]]\n",
        "print(\"b = \", b)\n",
        "print(\"len(b) = \", len(b))\n",
        "print(\" \")\n",
        "\n",
        "# The * operator on a simple list\n",
        "c = b*2\n",
        "print( \"c = \", c)\n",
        "\n",
        "# The + operator\n",
        "d = b + b\n",
        "print(\"d = \", d)"
      ],
      "metadata": {
        "colab": {
          "base_uri": "https://localhost:8080/"
        },
        "id": "1qTNoU_pOFac",
        "outputId": "5af5e29f-ed59-4f89-c684-7f879dd7de6b"
      },
      "execution_count": null,
      "outputs": [
        {
          "output_type": "stream",
          "name": "stdout",
          "text": [
            "a =  [1, 2, 3]\n",
            "b =  [[1, 2, 3], [4, 5, 6]]\n",
            "len(b) =  2\n",
            " \n",
            "c =  [[1, 2, 3], [4, 5, 6], [1, 2, 3], [4, 5, 6]]\n",
            "d =  [[1, 2, 3], [4, 5, 6], [1, 2, 3], [4, 5, 6]]\n"
          ]
        }
      ]
    },
    {
      "cell_type": "markdown",
      "source": [
        "## Indexing lists"
      ],
      "metadata": {
        "id": "v-QMZcN5zJfY"
      }
    },
    {
      "cell_type": "markdown",
      "source": [
        "1. Study the example.\n",
        "2. What does indexing the row a[i] for i>=0 do?\n",
        "3. What does indexing the row a[i] for i<0 do?\n",
        "4. Discuss how element indexing works.\n",
        "5. What does a[-2][-1] represent? Verify your answer.\n"
      ],
      "metadata": {
        "id": "claQMYNYAsvg"
      }
    },
    {
      "cell_type": "code",
      "source": [
        "# Create a list:\n",
        "a = [[1, 2, 3], [4, 5, 6]] # Two 1D lists make a list of lists.\n",
        "\n",
        "# Access by rows:\n",
        "print(\"a[0] = \", a[0])   # First element.\n",
        "print(\"a[1] = \", a[1])   # Second element.\n",
        "print(\"a[-1] = \", a[-1]) # Last element.\n",
        "print(\"a[-2] = \", a[-2]) # Second to last element.\n",
        "print(\" \")\n",
        "\n",
        "# Access by elements:\n",
        "print(\"a[0][0] = \", a[0][0]) # First row. First element.\n",
        "print(\"a[0][1] = \", a[0][1]) # First row. Second elment.\n",
        "print(\"a[0][2] = \", a[0][2]) # First row. Third element.\n",
        "print(\"a[1][0] = \", a[1][0]) # Fill in!\n",
        "print(\" \")\n",
        "\n",
        "# Some negative indices:\n",
        "print(\"a[-1][-2] = \", a[-1][-2]) # Explain the output."
      ],
      "metadata": {
        "id": "mKFdXkfQTJGE",
        "colab": {
          "base_uri": "https://localhost:8080/"
        },
        "outputId": "c4962916-727b-4d8c-ecf7-a1ae8c5378d2"
      },
      "execution_count": null,
      "outputs": [
        {
          "output_type": "stream",
          "name": "stdout",
          "text": [
            "a[0] =  [1, 2, 3]\n",
            "a[1] =  [4, 5, 6]\n",
            "a[-1] =  [4, 5, 6]\n",
            "a[-2] =  [1, 2, 3]\n",
            " \n",
            "a[0][0] =  1\n",
            "a[0][1] =  2\n",
            "a[0][2] =  3\n",
            "a[1][0] =  4\n",
            "a[-1][-2] =  5\n"
          ]
        }
      ]
    },
    {
      "cell_type": "markdown",
      "source": [
        "## Accessing elements using for loops and \"in\""
      ],
      "metadata": {
        "id": "W20D6TSIA6Fg"
      }
    },
    {
      "cell_type": "markdown",
      "source": [
        "1. Study and discuss the example.\n",
        "2. Modify the example for b = [3, 2, 1]. What do you observe about the order that you are retrieving the elements?"
      ],
      "metadata": {
        "id": "SJHQ9V9rA6Th"
      }
    },
    {
      "cell_type": "code",
      "source": [
        "row_array = [1, 2, 3]\n",
        "print(row_array)\n",
        "\n",
        "# Access elements using for-loop and in:\n",
        "for a in row_array:\n",
        "  print(a)\n"
      ],
      "metadata": {
        "colab": {
          "base_uri": "https://localhost:8080/"
        },
        "id": "H5xjAAgQA6x4",
        "outputId": "3bd2d9e2-f894-4eb9-fed1-cbd5cffa00ad"
      },
      "execution_count": null,
      "outputs": [
        {
          "output_type": "stream",
          "name": "stdout",
          "text": [
            "[1, 2, 3]\n",
            "1\n",
            "2\n",
            "3\n"
          ]
        }
      ]
    },
    {
      "cell_type": "markdown",
      "source": [
        "## Accessing elements in a list of lists using two for loops and \"in\""
      ],
      "metadata": {
        "id": "aiaBaxfxB6QG"
      }
    },
    {
      "cell_type": "markdown",
      "source": [
        "1. Study the example and discuss within your group.\n",
        "2. Modify the example for [[0, 1, 2], [3, 4]]. What do you observe?"
      ],
      "metadata": {
        "id": "Pv9uQfRgB6Zb"
      }
    },
    {
      "cell_type": "code",
      "source": [
        "array_2d = [[1, 2, 3], [4, 5, 6]]\n",
        "print(array_2d)\n",
        "\n",
        "# Access elements using for-loop and in:\n",
        "for row in array_2d: # Retrieve a row.\n",
        "  for a in row:      # Retrieve an elements within the row.\n",
        "    print(a)"
      ],
      "metadata": {
        "id": "DXpW13tVB7DB"
      },
      "execution_count": null,
      "outputs": []
    },
    {
      "cell_type": "markdown",
      "source": [
        "## Acessing element index using enum"
      ],
      "metadata": {
        "id": "vwgbmR4hCmnK"
      }
    },
    {
      "cell_type": "markdown",
      "source": [
        "1. Note that the indices are the same as for the image generation WebApp.\n",
        "2. What is the row and column for 5? Explain.\n",
        "3. What is the row and column for 3? Explain."
      ],
      "metadata": {
        "id": "47RLYFXKCm1V"
      }
    },
    {
      "cell_type": "code",
      "source": [
        "array_2d = [[1, 2, 3], [4, 5, 6]]\n",
        "print(array_2d)\n",
        "\n",
        "# Access elements using for-loop and in:\n",
        "for i, row in enumerate(array_2d): # Retrieve a row.\n",
        "  print(\"row i = \", i, \" row = \", row)\n",
        "  for j, a in enumerate(row):      # Retrieve an elements within the row.\n",
        "    print(\"Column j = \", j, \" element = \", a)\n"
      ],
      "metadata": {
        "colab": {
          "base_uri": "https://localhost:8080/"
        },
        "id": "lCm9gS2YCnQB",
        "outputId": "b3014eb0-1c26-4235-c55a-6cfa4ca7beb0"
      },
      "execution_count": null,
      "outputs": [
        {
          "output_type": "stream",
          "name": "stdout",
          "text": [
            "[[1, 2, 3], [4, 5, 6]]\n",
            "row i =  0  row =  [1, 2, 3]\n",
            "Column j =  0  element =  1\n",
            "Column j =  1  element =  2\n",
            "Column j =  2  element =  3\n",
            "row i =  1  row =  [4, 5, 6]\n",
            "Column j =  0  element =  4\n",
            "Column j =  1  element =  5\n",
            "Column j =  2  element =  6\n"
          ]
        }
      ]
    },
    {
      "cell_type": "markdown",
      "source": [
        "## Combining two arrays of different types using zip"
      ],
      "metadata": {
        "id": "RE-f_O1EDtp5"
      }
    },
    {
      "cell_type": "markdown",
      "source": [
        "1. Study the code and discuss.\n",
        "2. Add \"Antonia\" with an age of 20 and verify."
      ],
      "metadata": {
        "id": "7HU1BkSSDt0Z"
      }
    },
    {
      "cell_type": "code",
      "source": [
        "names = [\"Marios\", \"Sylvia\", \"Rebecca\"] # Array of 3 strings.\n",
        "ages  = [57, 56, 25] # Array of 3 values\n",
        "\n",
        "for name, age in zip(names, ages): # zip retrieves values with the same index.\n",
        "  print(name, age)"
      ],
      "metadata": {
        "colab": {
          "base_uri": "https://localhost:8080/"
        },
        "id": "62Xyqsb6DuKZ",
        "outputId": "fc8b873e-c310-4d32-a96d-33238c4240a9"
      },
      "execution_count": null,
      "outputs": [
        {
          "output_type": "stream",
          "name": "stdout",
          "text": [
            "Marios 57\n",
            "Sylvia 56\n",
            "Rebecca 25\n"
          ]
        }
      ]
    },
    {
      "cell_type": "markdown",
      "source": [
        "## Slices within a list (stride=1)"
      ],
      "metadata": {
        "id": "3rm4y4BkErhL"
      }
    },
    {
      "cell_type": "markdown",
      "source": [
        "1. Study the code."
      ],
      "metadata": {
        "id": "KD0uGjs4Evav"
      }
    },
    {
      "cell_type": "code",
      "source": [
        "# Create a list:\n",
        "a = [[1, 2, 3, 4, 5, 6], [7, 8, 9, 10, 11, 12]]\n",
        "print(\"a = \", a)\n",
        "print(\" \")\n",
        "\n",
        "# Use : to access elements inside a column\n",
        "# This does not work.\n",
        "print(\"a[:] = \", a[:])\n",
        "print(\"a[0][1:4] = \", a[0][1:4])\n",
        "print(\"a[1][0:3] = \", a[1][0:3])"
      ],
      "metadata": {
        "colab": {
          "base_uri": "https://localhost:8080/"
        },
        "id": "vzWrze3t5Sdv",
        "outputId": "d774d78a-a48b-464d-fe82-1b3e1aae7e98"
      },
      "execution_count": null,
      "outputs": [
        {
          "output_type": "stream",
          "name": "stdout",
          "text": [
            "a =  [[1, 2, 3, 4, 5, 6], [7, 8, 9, 10, 11, 12]]\n",
            " \n",
            "a[:] =  [[1, 2, 3, 4, 5, 6], [7, 8, 9, 10, 11, 12]]\n",
            "a[0][1:4] =  [2, 3, 4]\n",
            "a[1][0:3] =  [7, 8, 9]\n"
          ]
        }
      ]
    },
    {
      "cell_type": "markdown",
      "source": [
        "## Slices using a different stride (stride=2)\n",
        "\n"
      ],
      "metadata": {
        "id": "9oJk-Zr-8mgC"
      }
    },
    {
      "cell_type": "code",
      "source": [
        "# Create a list:\n",
        "a = [[1, 2, 3, 4, 5, 6], [7, 8, 9, 10, 11, 12]]\n",
        "print(\"a = \", a)\n",
        "print(\" \")\n",
        "\n",
        "# Use : to access elements inside a column\n",
        "# This does not work.\n",
        "print(\"a[0][1:4:2] = \", a[0][1:4:2])   # access every 2 elements.\n",
        "print(\"a[1][1:7:2] = \", (a[1])[1:7:2]) # access every 2 elements."
      ],
      "metadata": {
        "colab": {
          "base_uri": "https://localhost:8080/"
        },
        "id": "UP8vY-KO9ApT",
        "outputId": "e742564b-bd52-43e1-bcb3-ceec8b7137f9"
      },
      "execution_count": null,
      "outputs": [
        {
          "output_type": "stream",
          "name": "stdout",
          "text": [
            "a =  [[1, 2, 3, 4, 5, 6], [7, 8, 9, 10, 11, 12]]\n",
            " \n",
            "a[0][1:4:2] =  [2, 4]\n",
            "a[1][1:7:2] =  [8, 10, 12]\n"
          ]
        }
      ]
    },
    {
      "cell_type": "markdown",
      "source": [
        "## Cannot access columns in regular lists"
      ],
      "metadata": {
        "id": "TQ2FeWfvJ95O"
      }
    },
    {
      "cell_type": "markdown",
      "source": [
        "Note that the first index refers to the elements in the list (rows).\n",
        "1. Study the code and discuss. What is surprising here?\n",
        "2. Why does the code work this way?"
      ],
      "metadata": {
        "id": "xa_Woyk0KDqE"
      }
    },
    {
      "cell_type": "code",
      "source": [
        "# Create a list:\n",
        "a = [[1, 2, 3], [4, 5, 6]]\n",
        "print(\"a = \", a)\n",
        "print(\" \")\n",
        "\n",
        "# Use : to access elements inside a column\n",
        "# This does not work.\n",
        "print(\"a[:] = \", a[:])\n",
        "print(\"a[:][0] = \", a[:][0]) # What happened here?\n",
        "print(\"a[0:2][0] = \", a[0:2][0])\n"
      ],
      "metadata": {
        "colab": {
          "base_uri": "https://localhost:8080/"
        },
        "id": "T7uliPEIE-lT",
        "outputId": "e7f19352-52da-42a4-8b1a-d3f9397db3bc"
      },
      "execution_count": null,
      "outputs": [
        {
          "output_type": "stream",
          "name": "stdout",
          "text": [
            "a =  [[1, 2, 3], [4, 5, 6]]\n",
            " \n",
            "a[:] =  [[1, 2, 3], [4, 5, 6]]\n",
            "a[:][0] =  [1, 2, 3]\n",
            "a[0:2][0] =  [1, 2, 3]\n"
          ]
        }
      ]
    },
    {
      "cell_type": "markdown",
      "source": [
        "# Binary Image Example in Python"
      ],
      "metadata": {
        "id": "i1wkcnT3eUWj"
      }
    },
    {
      "cell_type": "markdown",
      "source": [
        "## Download a module from the internet"
      ],
      "metadata": {
        "id": "dqBFAuhxeUgj"
      }
    },
    {
      "cell_type": "markdown",
      "source": [
        "We use <tt>!wget</tt> to download files from the internet:\n",
        "```\n",
        "!wget https://location-of-the-file\n",
        "```\n",
        "Note that ! allows us to execute Operating System calls.<br>\n",
        "<tt>wget</tt> gets the file and downloads them locally.\n",
        "\n",
        "1. Click on the folder icon to see the local directory.\n",
        "2. Then run the code to see how AOLME.py appears on the left.\n",
        "3. Look at the file being downloaded!\n"
      ],
      "metadata": {
        "id": "E-DPfr6ReVXo"
      }
    },
    {
      "cell_type": "code",
      "source": [
        "# Download AOLME.py from the GitHub account.\n",
        "!wget https://raw.githubusercontent.com/pattichis/AIML/main/AOLME.py"
      ],
      "metadata": {
        "colab": {
          "base_uri": "https://localhost:8080/"
        },
        "id": "IX962N7_l6Tl",
        "outputId": "0e3e3e7f-492e-4e7d-9123-3c9ca69782b9"
      },
      "execution_count": 1,
      "outputs": [
        {
          "output_type": "stream",
          "name": "stdout",
          "text": [
            "--2025-06-09 12:15:47--  https://raw.githubusercontent.com/pattichis/AIML/main/AOLME.py\n",
            "Resolving raw.githubusercontent.com (raw.githubusercontent.com)... 185.199.108.133, 185.199.109.133, 185.199.110.133, ...\n",
            "Connecting to raw.githubusercontent.com (raw.githubusercontent.com)|185.199.108.133|:443... connected.\n",
            "HTTP request sent, awaiting response... 200 OK\n",
            "Length: 22543 (22K) [text/plain]\n",
            "Saving to: ‘AOLME.py’\n",
            "\n",
            "\rAOLME.py              0%[                    ]       0  --.-KB/s               \rAOLME.py            100%[===================>]  22.01K  --.-KB/s    in 0s      \n",
            "\n",
            "2025-06-09 12:15:47 (66.5 MB/s) - ‘AOLME.py’ saved [22543/22543]\n",
            "\n"
          ]
        }
      ]
    },
    {
      "cell_type": "markdown",
      "source": [
        "## Creation of a binary image in Python"
      ],
      "metadata": {
        "id": "yDHBMRwDmqJz"
      }
    },
    {
      "cell_type": "markdown",
      "source": [
        "1. Run the code below and look at the created image.\n",
        "2. Follow the steps line by line and look at the created images for each step.\n",
        "3. How does the list comprehension work here?\n",
        "4. Why is the top row black?\n",
        "5. Why is the middle column black?"
      ],
      "metadata": {
        "id": "wlm5jfWBmqWL"
      }
    },
    {
      "cell_type": "code",
      "source": [
        "# Import all of the functions from that module!\n",
        "from AOLME import *\n",
        "\n",
        "# Create a white image of size 10x10.\n",
        "# Use a list comprehension to place \"1\" everywhere.\n",
        "num_of_rows = 10\n",
        "num_of_cols = 10\n",
        "matrix = [[\"1\"]*num_of_cols for i in range(num_of_rows)]\n",
        "\n",
        "# Verify the matrix creation:\n",
        "print(\"1.\", matrix)\n",
        "im_show(matrix)\n",
        "\n",
        "# Go through the columns\n",
        "for column in range(num_of_cols):\n",
        "  matrix[0][column] = \"0\"\n",
        "\n",
        "\n",
        "print(\"2.\", matrix)\n",
        "im_show(matrix)\n",
        "\n",
        "# Make the column using strides:\n",
        "for row in range(num_of_rows):\n",
        "  matrix[row][5] = \"0\"\n",
        "\n",
        "print(\"3.\", matrix)\n",
        "im_show(matrix)"
      ],
      "metadata": {
        "id": "4RYa8dPfVMQM",
        "colab": {
          "base_uri": "https://localhost:8080/",
          "height": 1000
        },
        "outputId": "80eb4ca0-2817-434b-b052-9df29b2afc7a"
      },
      "execution_count": 24,
      "outputs": [
        {
          "output_type": "stream",
          "name": "stdout",
          "text": [
            "1. [['1', '1', '1', '1', '1', '1', '1', '1', '1', '1'], ['1', '1', '1', '1', '1', '1', '1', '1', '1', '1'], ['1', '1', '1', '1', '1', '1', '1', '1', '1', '1'], ['1', '1', '1', '1', '1', '1', '1', '1', '1', '1'], ['1', '1', '1', '1', '1', '1', '1', '1', '1', '1'], ['1', '1', '1', '1', '1', '1', '1', '1', '1', '1'], ['1', '1', '1', '1', '1', '1', '1', '1', '1', '1'], ['1', '1', '1', '1', '1', '1', '1', '1', '1', '1'], ['1', '1', '1', '1', '1', '1', '1', '1', '1', '1'], ['1', '1', '1', '1', '1', '1', '1', '1', '1', '1']]\n",
            "10 10\n"
          ]
        },
        {
          "output_type": "display_data",
          "data": {
            "text/plain": [
              "<Figure size 640x480 with 1 Axes>"
            ],
            "image/png": "[encoded data removed]"
          },
          "metadata": {}
        },
        {
          "output_type": "stream",
          "name": "stdout",
          "text": [
            "2. [['0', '0', '0', '0', '0', '0', '0', '0', '0', '0'], ['1', '1', '1', '1', '1', '1', '1', '1', '1', '1'], ['1', '1', '1', '1', '1', '1', '1', '1', '1', '1'], ['1', '1', '1', '1', '1', '1', '1', '1', '1', '1'], ['1', '1', '1', '1', '1', '1', '1', '1', '1', '1'], ['1', '1', '1', '1', '1', '1', '1', '1', '1', '1'], ['1', '1', '1', '1', '1', '1', '1', '1', '1', '1'], ['1', '1', '1', '1', '1', '1', '1', '1', '1', '1'], ['1', '1', '1', '1', '1', '1', '1', '1', '1', '1'], ['1', '1', '1', '1', '1', '1', '1', '1', '1', '1']]\n",
            "10 10\n"
          ]
        },
        {
          "output_type": "display_data",
          "data": {
            "text/plain": [
              "<Figure size 640x480 with 1 Axes>"
            ],
            "image/png": "[encoded data removed]"
          },
          "metadata": {}
        },
        {
          "output_type": "stream",
          "name": "stdout",
          "text": [
            "3. [['0', '0', '0', '0', '0', '0', '0', '0', '0', '0'], ['1', '1', '1', '1', '1', '0', '1', '1', '1', '1'], ['1', '1', '1', '1', '1', '0', '1', '1', '1', '1'], ['1', '1', '1', '1', '1', '0', '1', '1', '1', '1'], ['1', '1', '1', '1', '1', '0', '1', '1', '1', '1'], ['1', '1', '1', '1', '1', '0', '1', '1', '1', '1'], ['1', '1', '1', '1', '1', '0', '1', '1', '1', '1'], ['1', '1', '1', '1', '1', '0', '1', '1', '1', '1'], ['1', '1', '1', '1', '1', '0', '1', '1', '1', '1'], ['1', '1', '1', '1', '1', '0', '1', '1', '1', '1']]\n",
            "10 10\n"
          ]
        },
        {
          "output_type": "display_data",
          "data": {
            "text/plain": [
              "<Figure size 640x480 with 1 Axes>"
            ],
            "image/png": "[encoded data removed]"
          },
          "metadata": {}
        }
      ]
    },
    {
      "cell_type": "markdown",
      "source": [
        "## Create your own black and white image"
      ],
      "metadata": {
        "id": "MgVn6FLpnySj"
      }
    },
    {
      "cell_type": "markdown",
      "source": [
        "Modify the following code to make a fun black and white image in Python!"
      ],
      "metadata": {
        "id": "JsGEFgJDnygU"
      }
    },
    {
      "cell_type": "code",
      "source": [
        "from AOLME import *\n",
        "\n",
        "matrix = [[\"1\"]*10 for i in range(10)]\n",
        "'''\n",
        "******************************************************************************\n",
        "Put your code below this line\n",
        "******************************************************************************\n",
        "'''\n",
        "for row in range(3,7):\n",
        "    for col in range (3,7):\n",
        "        matrix [row][col]=\"0\"\n",
        "\n",
        "\n",
        "'''\n",
        "******************************************************************************\n",
        "Put your code above this line\n",
        "******************************************************************************\n",
        "'''\n",
        "im_show(matrix)"
      ],
      "metadata": {
        "colab": {
          "base_uri": "https://localhost:8080/",
          "height": 504
        },
        "id": "0eYhIqkbnyr4",
        "outputId": "8cf318d7-3e29-4810-8b24-84c394d5dacf"
      },
      "execution_count": 14,
      "outputs": [
        {
          "output_type": "stream",
          "name": "stdout",
          "text": [
            "10 10\n"
          ]
        },
        {
          "output_type": "display_data",
          "data": {
            "text/plain": [
              "<Figure size 640x480 with 1 Axes>"
            ],
            "image/png": "[encoded data removed]"
          },
          "metadata": {}
        }
      ]
    }
  ]
}