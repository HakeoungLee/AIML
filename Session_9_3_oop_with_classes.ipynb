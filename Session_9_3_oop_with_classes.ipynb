{
  "nbformat": 4,
  "nbformat_minor": 0,
  "metadata": {
    "colab": {
      "provenance": [],
      "toc_visible": true,
      "authorship_tag": "ABX9TyNVYsLndv5mmA8F5xhCufbj",
      "include_colab_link": true
    },
    "kernelspec": {
      "name": "python3",
      "display_name": "Python 3"
    },
    "language_info": {
      "name": "python"
    }
  },
  "cells": [
    {
      "cell_type": "markdown",
      "metadata": {
        "id": "view-in-github",
        "colab_type": "text"
      },
      "source": [
        "<a href=\"https://colab.research.google.com/github/pattichis/AIML/blob/main/Session_9_3_oop_with_classes.ipynb\" target=\"_parent\"><img src=\"https://colab.research.google.com/assets/colab-badge.svg\" alt=\"Open In Colab\"/></a>"
      ]
    },
    {
      "cell_type": "markdown",
      "source": [
        "# Goals"
      ],
      "metadata": {
        "id": "JtVL_nYBecRL"
      }
    },
    {
      "cell_type": "markdown",
      "source": [
        "1. Introduce object oriented programming.\n",
        "2. Use classes in Python."
      ],
      "metadata": {
        "id": "zmGt03oVn2XD"
      }
    },
    {
      "cell_type": "markdown",
      "source": [
        "This material follows Chapter 7 from: David M. Beazley, <i>Python Distilled</i>."
      ],
      "metadata": {
        "id": "gOWsJcYzn2if"
      }
    },
    {
      "cell_type": "markdown",
      "source": [
        "## Everything is a class!"
      ],
      "metadata": {
        "id": "mKjuvwIoqWiY"
      }
    },
    {
      "cell_type": "markdown",
      "source": [
        "1. Look at the class type!\n",
        "2. Where did the length come from?\n",
        "3. What can you do?\n",
        "4. How can you use help?"
      ],
      "metadata": {
        "id": "Qfy6jB5hrdIR"
      }
    },
    {
      "cell_type": "code",
      "source": [
        "s = \"Hello string!\"\n",
        "\n",
        "print(\"type(s) = \", type(s))\n",
        "print(len(s))\n",
        "\n",
        "dir(s)\n",
        "help(s.capitalize)"
      ],
      "metadata": {
        "colab": {
          "base_uri": "https://localhost:8080/"
        },
        "id": "qLImyxssn2yb",
        "outputId": "4ee51fbd-58de-4b90-c3cb-af2a1f5bdfc2"
      },
      "execution_count": null,
      "outputs": [
        {
          "output_type": "stream",
          "name": "stdout",
          "text": [
            "<class 'str'>\n",
            "13\n",
            "Help on built-in function capitalize:\n",
            "\n",
            "capitalize() method of builtins.str instance\n",
            "    Return a capitalized version of the string.\n",
            "    \n",
            "    More specifically, make the first character have upper case and the rest lower\n",
            "    case.\n",
            "\n"
          ]
        }
      ]
    },
    {
      "cell_type": "markdown",
      "source": [
        "## You can keep calling function after function after function!"
      ],
      "metadata": {
        "id": "__KLVQO35g5N"
      }
    },
    {
      "cell_type": "markdown",
      "source": [
        "Here is the coding pattern:\n",
        "```\n",
        "object.fun1(args1).fun2(args2)...funN(argsN)\n",
        "```\n",
        "1. Work through the following code and explain what happened.\n",
        "\n"
      ],
      "metadata": {
        "id": "vGG18lo15hE8"
      }
    },
    {
      "cell_type": "code",
      "source": [
        "\"Hello\".replace('Hello', 'hola marios').capitalize().split()"
      ],
      "metadata": {
        "id": "XBoqsEXT5hb6",
        "colab": {
          "base_uri": "https://localhost:8080/"
        },
        "outputId": "f11e9cfb-aa9c-4d7e-94dd-d9725367f637"
      },
      "execution_count": 6,
      "outputs": [
        {
          "output_type": "execute_result",
          "data": {
            "text/plain": [
              "['Hola', 'marios']"
            ]
          },
          "metadata": {},
          "execution_count": 6
        }
      ]
    },
    {
      "cell_type": "markdown",
      "source": [
        "## Objects and instances"
      ],
      "metadata": {
        "id": "c_YGRwqWT0bk"
      }
    },
    {
      "cell_type": "markdown",
      "source": [
        "The simplest useful class definition is:\n",
        "```\n",
        "class object_name:\n",
        "   def __init__(self, arguments):\n",
        "       Body of function.\n",
        "\n",
        "   def method1(self, arguments):\n",
        "        Body of method 1\n",
        "\n",
        "   ... define other methods\n",
        "```\n",
        "\n",
        "1. Study the code and explain line by line what is happening!\n",
        "2. What is self?\n",
        "3. When is __init__ called?\n",
        "4. How do you access functions (internal functions)?\n",
        "5. We say that non-defined methods are inherited from a default class. What do you think this means?\n",
        "6. Can you see where your methods are in the list?\n"
      ],
      "metadata": {
        "id": "SBkifMNlT0pV"
      }
    },
    {
      "cell_type": "code",
      "source": [
        "# Define an object.\n",
        "# This is just a definition!\n",
        "class calculator:\n",
        "  def __init__(self, prompt):\n",
        "    print(\"Inside __init__()\")\n",
        "    self.prompt = prompt\n",
        "\n",
        "  def print_prompt(self):\n",
        "    print(self.prompt)\n",
        "\n",
        "# Create an instance:\n",
        "a = calculator(\"Hello\")\n",
        "print(\" \")\n",
        "\n",
        "# Call a method:\n",
        "a.print_prompt()\n",
        "print(\" \")\n",
        "\n",
        "# Print all the methods!\n",
        "print(\"Can you find your methods here?\")\n",
        "dir(a)"
      ],
      "metadata": {
        "colab": {
          "base_uri": "https://localhost:8080/"
        },
        "id": "aVrKud7mT07J",
        "outputId": "cf5a2a3b-11fb-4752-bc46-7efe7d4e5d91"
      },
      "execution_count": 10,
      "outputs": [
        {
          "output_type": "stream",
          "name": "stdout",
          "text": [
            "Inside __init__()\n",
            " \n",
            "Hello\n",
            " \n",
            "Can you find your methods here?\n"
          ]
        },
        {
          "output_type": "execute_result",
          "data": {
            "text/plain": [
              "['__class__',\n",
              " '__delattr__',\n",
              " '__dict__',\n",
              " '__dir__',\n",
              " '__doc__',\n",
              " '__eq__',\n",
              " '__format__',\n",
              " '__ge__',\n",
              " '__getattribute__',\n",
              " '__getstate__',\n",
              " '__gt__',\n",
              " '__hash__',\n",
              " '__init__',\n",
              " '__init_subclass__',\n",
              " '__le__',\n",
              " '__lt__',\n",
              " '__module__',\n",
              " '__ne__',\n",
              " '__new__',\n",
              " '__reduce__',\n",
              " '__reduce_ex__',\n",
              " '__repr__',\n",
              " '__setattr__',\n",
              " '__sizeof__',\n",
              " '__str__',\n",
              " '__subclasshook__',\n",
              " '__weakref__',\n",
              " 'print_prompt',\n",
              " 'prompt']"
            ]
          },
          "metadata": {},
          "execution_count": 10
        }
      ]
    },
    {
      "cell_type": "markdown",
      "source": [
        "## Set, get, and del attributes"
      ],
      "metadata": {
        "id": "moDnUOHRF41C"
      }
    },
    {
      "cell_type": "markdown",
      "source": [
        "Attributes work like dictionary members:<br>\n",
        "```\n",
        "print(instance_name.attribute_name)   # access\n",
        "instance_name.attribute_name = value  # set\n",
        "del instance_name.attribute_name      # delete\n",
        "```\n",
        "\n"
      ],
      "metadata": {
        "id": "ozRiZcRQF49-"
      }
    },
    {
      "cell_type": "code",
      "source": [
        "# Define calculator object:\n",
        "class calculator:\n",
        "  def __init__(self, prompt):\n",
        "    print(\"Inside __init__()\")\n",
        "    self.prompt = prompt\n",
        "\n",
        "  def print_prompt(self):\n",
        "    print(self.prompt)\n",
        "\n",
        "# Create an instance:\n",
        "a = calculator(\"Hello\")\n",
        "\n",
        "# Set an internal variable:\n",
        "a.prompt = \"Hola\" # set\n",
        "\n",
        "# Check for the updated prompt:\n",
        "print(a.prompt)   # access\n",
        "\n",
        "# Delete the attribute:\n",
        "del a.prompt     # delete\n",
        "\n",
        "# Make sure it was removed:\n",
        "print(a.prompt)"
      ],
      "metadata": {
        "colab": {
          "base_uri": "https://localhost:8080/",
          "height": 211
        },
        "id": "1qdvorG7F5KN",
        "outputId": "6a94cb9c-004c-4fb4-f3a5-b3df37885a18"
      },
      "execution_count": 13,
      "outputs": [
        {
          "output_type": "stream",
          "name": "stdout",
          "text": [
            "Inside __init__()\n",
            "Hola\n"
          ]
        },
        {
          "output_type": "error",
          "ename": "AttributeError",
          "evalue": "'calculator' object has no attribute 'prompt'",
          "traceback": [
            "\u001b[0;31m---------------------------------------------------------------------------\u001b[0m",
            "\u001b[0;31mAttributeError\u001b[0m                            Traceback (most recent call last)",
            "\u001b[0;32m<ipython-input-13-1385583661>\u001b[0m in \u001b[0;36m<cell line: 0>\u001b[0;34m()\u001b[0m\n\u001b[1;32m     20\u001b[0m \u001b[0;32mdel\u001b[0m \u001b[0ma\u001b[0m\u001b[0;34m.\u001b[0m\u001b[0mprompt\u001b[0m\u001b[0;34m\u001b[0m\u001b[0;34m\u001b[0m\u001b[0m\n\u001b[1;32m     21\u001b[0m \u001b[0;34m\u001b[0m\u001b[0m\n\u001b[0;32m---> 22\u001b[0;31m \u001b[0mprint\u001b[0m\u001b[0;34m(\u001b[0m\u001b[0ma\u001b[0m\u001b[0;34m.\u001b[0m\u001b[0mprompt\u001b[0m\u001b[0;34m)\u001b[0m\u001b[0;34m\u001b[0m\u001b[0;34m\u001b[0m\u001b[0m\n\u001b[0m",
            "\u001b[0;31mAttributeError\u001b[0m: 'calculator' object has no attribute 'prompt'"
          ]
        }
      ]
    },
    {
      "cell_type": "markdown",
      "source": [
        "## Documenting your class"
      ],
      "metadata": {
        "id": "Ula69pM4NAtn"
      }
    },
    {
      "cell_type": "code",
      "source": [
        "# Define calculator object:\n",
        "class calculator:\n",
        "  \"\"\" Documentation for the class.\n",
        "  \"\"\"\n",
        "\n",
        "  def __init__(self, prompt):\n",
        "    \"\"\" Documentation for the __init__() function.\n",
        "    \"\"\"\n",
        "    print(\"Inside __init__()\")\n",
        "    self.prompt = prompt\n",
        "\n",
        "  def print_prompt(self):\n",
        "    \"\"\"\n",
        "    Documentation for the print_prompt() function.\n",
        "    \"\"\"\n",
        "    print(self.prompt)\n",
        "\n",
        "help(calculator)\n",
        "print(\" \")\n",
        "\n",
        "help(calculator.__init__)\n",
        "print(\" \")\n",
        "\n",
        "help(calculator.print_prompt)\n",
        "print(\" \")\n",
        "\n",
        "print(\"A class has a dictionary:\")\n",
        "print(calculator.__dict__)"
      ],
      "metadata": {
        "colab": {
          "base_uri": "https://localhost:8080/"
        },
        "id": "z6XB3X_dcIPa",
        "outputId": "52f5e876-4a8f-4390-eaab-4f49d13dd486"
      },
      "execution_count": 25,
      "outputs": [
        {
          "output_type": "stream",
          "name": "stdout",
          "text": [
            "Help on class calculator in module __main__:\n",
            "\n",
            "class calculator(builtins.object)\n",
            " |  calculator(prompt)\n",
            " |  \n",
            " |  Documentation for the class.\n",
            " |  \n",
            " |  Methods defined here:\n",
            " |  \n",
            " |  __init__(self, prompt)\n",
            " |      Documentation for the __init__() function.\n",
            " |  \n",
            " |  print_prompt(self)\n",
            " |      Documentation for the print_prompt() function.\n",
            " |  \n",
            " |  ----------------------------------------------------------------------\n",
            " |  Data descriptors defined here:\n",
            " |  \n",
            " |  __dict__\n",
            " |      dictionary for instance variables\n",
            " |  \n",
            " |  __weakref__\n",
            " |      list of weak references to the object\n",
            "\n",
            " \n",
            "Help on function __init__ in module __main__:\n",
            "\n",
            "__init__(self, prompt)\n",
            "    Documentation for the __init__() function.\n",
            "\n",
            " \n",
            "Help on function print_prompt in module __main__:\n",
            "\n",
            "print_prompt(self)\n",
            "    Documentation for the print_prompt() function.\n",
            "\n",
            " \n",
            "A class has a dictionary:\n",
            "{'__module__': '__main__', '__doc__': ' Documentation for the class.\\n  ', '__init__': <function calculator.__init__ at 0x7dd490a01940>, 'print_prompt': <function calculator.print_prompt at 0x7dd490a01a80>, '__dict__': <attribute '__dict__' of 'calculator' objects>, '__weakref__': <attribute '__weakref__' of 'calculator' objects>}\n"
          ]
        }
      ]
    },
    {
      "cell_type": "markdown",
      "source": [
        "## Optional: Advanced Concepts!"
      ],
      "metadata": {
        "id": "m5Zo4ZJTNb5b"
      }
    },
    {
      "cell_type": "markdown",
      "source": [
        "1. Class variables.\n",
        "2. Class methods.\n",
        "3. Static methods.\n",
        "4. Prefer composition to inheritence (not shown here)."
      ],
      "metadata": {
        "id": "vu9ZW2ZqNA1u"
      }
    },
    {
      "cell_type": "code",
      "source": [
        "# Define calculator object:\n",
        "class calculator:\n",
        "  num_of_instances = 0 # class variable\n",
        "\n",
        "  def __init__(self, prompt):\n",
        "    print(\"Inside __init__()\")\n",
        "    self.prompt = prompt\n",
        "    calculator.num_of_instances += 1 # Keep track of the number of instances.\n",
        "\n",
        "  # Use class as a namespace:\n",
        "  @staticmethod\n",
        "  def add(x, y):\n",
        "    return x + y\n",
        "\n",
        "  @classmethod\n",
        "  def print_num_of_instances(cls, args):\n",
        "    print(\"Number of instances = \", cls.num_of_instances)\n",
        "    print(args)\n",
        "\n",
        "  def print_prompt(self):\n",
        "    print(self.prompt)\n",
        "\n",
        "# Instances\n",
        "a = calculator(\"Hello\")\n",
        "b = calculator(\"Hola\")\n",
        "\n",
        "# Class method:\n",
        "calculator.print_num_of_instances(\"Other parameters ...\")\n",
        "\n",
        "# Static method:\n",
        "calculator.add(1, 2)\n",
        "\n",
        "# Dictionary for all of the instances:\n",
        "print(calculator.__dict__)\n",
        "print(\" \")\n",
        "\n",
        "# Weak references ... not instances:\n",
        "print(str(calculator.__weakref__))"
      ],
      "metadata": {
        "colab": {
          "base_uri": "https://localhost:8080/"
        },
        "id": "DETX0KbBNBCA",
        "outputId": "7637ce82-7791-4818-eb3e-d5da53f95f56"
      },
      "execution_count": 26,
      "outputs": [
        {
          "output_type": "stream",
          "name": "stdout",
          "text": [
            "Inside __init__()\n",
            "Inside __init__()\n",
            "Number of instances =  2\n",
            "Other parameters ...\n",
            "{'__module__': '__main__', 'num_of_instances': 2, '__init__': <function calculator.__init__ at 0x7dd4916b0400>, 'add': <staticmethod(<function calculator.add at 0x7dd4916b0360>)>, 'print_num_of_instances': <classmethod(<function calculator.print_num_of_instances at 0x7dd4916b05e0>)>, 'print_prompt': <function calculator.print_prompt at 0x7dd4916b04a0>, '__dict__': <attribute '__dict__' of 'calculator' objects>, '__weakref__': <attribute '__weakref__' of 'calculator' objects>, '__doc__': None}\n",
            " \n",
            "<attribute '__weakref__' of 'calculator' objects>\n"
          ]
        }
      ]
    },
    {
      "cell_type": "markdown",
      "source": [
        "# Assignment"
      ],
      "metadata": {
        "id": "Q7SXYPcseFY8"
      }
    },
    {
      "cell_type": "markdown",
      "source": [
        "Create the full calculator class:\n",
        "1. Create the add(), sub(), multiply().\n",
        "2. Show how to use it."
      ],
      "metadata": {
        "id": "8Z9vWBdOeFhP"
      }
    },
    {
      "cell_type": "code",
      "source": [],
      "metadata": {
        "id": "2U6Ftj9_eFty"
      },
      "execution_count": null,
      "outputs": []
    }
  ]
}