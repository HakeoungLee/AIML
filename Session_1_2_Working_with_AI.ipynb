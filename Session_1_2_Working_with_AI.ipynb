{
  "nbformat": 4,
  "nbformat_minor": 0,
  "metadata": {
    "colab": {
      "provenance": [],
      "collapsed_sections": [
        "3p2CBRoXMdoJ"
      ],
      "toc_visible": true,
      "authorship_tag": "ABX9TyOLs6UVmzD1U3VXAKy3L9Ae",
      "include_colab_link": true
    },
    "kernelspec": {
      "name": "python3",
      "display_name": "Python 3"
    },
    "language_info": {
      "name": "python"
    }
  },
  "cells": [
    {
      "cell_type": "markdown",
      "metadata": {
        "id": "view-in-github",
        "colab_type": "text"
      },
      "source": [
        "<a href=\"https://colab.research.google.com/github/pattichis/AIML/blob/main/Session_1_2_Working_with_AI.ipynb\" target=\"_parent\"><img src=\"https://colab.research.google.com/assets/colab-badge.svg\" alt=\"Open In Colab\"/></a>"
      ]
    },
    {
      "cell_type": "markdown",
      "source": [
        "# General Guidelines for working with the code and AI"
      ],
      "metadata": {
        "id": "ozXOUdDEE0OQ"
      }
    },
    {
      "cell_type": "markdown",
      "source": [
        "# How to work with the code examples"
      ],
      "metadata": {
        "id": "O-aYn6vMlPEW"
      }
    },
    {
      "cell_type": "markdown",
      "source": [
        "The activities are designed to be self-contained.\n",
        "\n",
        "Try to understand what is happening inside the code without using ChatGPT or any AI to help you.\n",
        "\n",
        "You need to interact with the code, make mistakes, and then correct your mistakes after you figure out what went wrong.\n",
        "\n",
        "Here are some rules for understanding code:\n",
        "\n",
        "<h4>Do not rush through the assignments.</h4>\n",
        "Take the time to understand what is happening. Ask questions if you have doubts on what is happening. Sometimes it takes longer to understand a concept. This is not a race.\n",
        "\n",
        "<h4>Read the text descriptions!</h4>\n",
        "Prior to running the code, read the description right before. It usually contains a code pattern that you need to recognize.\n",
        "\n",
        "<h4>Read the comments</h4>\n",
        "Read the comments to see what the code claims to be doing. As you understand what is happening, add your own comments. To avoid having the wrong comments, use <tt>me:</tt> to show that this are your comments and not the original ones that came with the code.\n",
        "\n",
        "<h4>Predict the output BEFORE running</h4>\n",
        "Try to predict the output of the code WITHOUT LOOKING at the output. How is the output different from what you would expect? Discuss within your group.\n",
        "\n",
        "Then look at the output to see if it matches your expectations. If not, try to isolate the code fragment where things do not make sense to you.\n",
        "\n",
        "<h4>Match print statements to outputs.</h4>\n",
        "Make sure to match the print statements to the output that they produce. If needed, add a unique number to make it clear:\n",
        "\n",
        "```\n",
        "print(\"1: ...\")\n",
        ":\n",
        "```\n",
        "\n",
        "<h4>Detect and discuss what each text code color means.</h4>\n",
        "As you modify the code, watch for text color changes. Why are the colors changing?\n",
        "\n",
        "<h4>Work through the code line-by-line.</h4>\n",
        "You can add comments to reflect your understanding.\n",
        "\n",
        "<h4>Keep track of changes to the variables.</h4>\n",
        "If needed, add a print statements before and after each statement to see what is happening.\n",
        "\n",
        "<h4>Use AI as a last resort</h4>\n",
        "NEVER start the assignment by asking ChatGPT. Always try to understand what is happening based on the hints given above. If you cannot make sense of what is happening, you can ask the instructor or use ChatGPT as given below. Also, note that AI can make a lot of mistakes!"
      ],
      "metadata": {
        "id": "Cqpc7O5ilPHN"
      }
    },
    {
      "cell_type": "markdown",
      "source": [
        "# Using ChatGPT as a tutor"
      ],
      "metadata": {
        "id": "VUBLjEj_mbVO"
      }
    },
    {
      "cell_type": "markdown",
      "source": [
        "ChatGPT can be used as a tutor to answer your questions as discussed below.\n",
        "\n",
        "\n",
        "ChatGPT responds to your prompts. Here is a prompt that you can use for interacting with ChatGPT:\n",
        "```\n",
        "Give me a list of prompts for using ChatGPT to tutor Python.\n",
        "```\n",
        "\n",
        "You should be able to get correct answers to all of the questions using a prompt like:\n",
        "```\n",
        "Analyze the execution of the following code line-by-line:\n",
        "... Copy and paste the Python code below.\n",
        "```\n",
        "You should then be able to enter the specific prompt to get answers to your questions:\n",
        "```\n",
        "Explain ... enter a small part of the code ...\n",
        "```\n",
        "You can also ask ChatGPT to summarize what is happening:\n",
        "```\n",
        "Summarize what the code is doing.\n",
        "```\n",
        "Alternatively, you can ask ChatGPT to break it into pieces.\n",
        "```\n",
        "Explain to a beginner what each code part is doing.\n",
        "```\n",
        "<h1>NOTE that AI can make mistakes!</h1>\n",
        "\n",
        "If you use ChatGPT to do the assignment, make sure you understand what is happening by following the guidelines above.\n",
        "<h2>You will be asked to explain what is happening in your own words.</h2>"
      ],
      "metadata": {
        "id": "4YL2-IxkmbdL"
      }
    },
    {
      "cell_type": "markdown",
      "source": [
        "# Generate a Cell Using AI"
      ],
      "metadata": {
        "id": "7yJNs9M7mb1K"
      }
    },
    {
      "cell_type": "markdown",
      "source": [
        "1. Create a cell using <b>+ Code</b>\n",
        "2. Click on <u>generate</u> from:</br>\n",
        "<tt>Start coding or <u>generate</u> with AI.</tt></br>\n",
        "3. Enter a prompt like <tt>Create and print a number</tt></br>\n",
        "4. Analyze the created code.\n",
        "\n",
        "\n"
      ],
      "metadata": {
        "id": "0ZpEsozQE6sX"
      }
    },
    {
      "cell_type": "markdown",
      "source": [
        "# Explain code in a cell\n"
      ],
      "metadata": {
        "id": "3p2CBRoXMdoJ"
      }
    },
    {
      "cell_type": "markdown",
      "source": [
        "Within any code cell, click on ⋮ and click on <tt>Explain Code</tt>."
      ],
      "metadata": {
        "id": "X0UCm6N2M5dq"
      }
    },
    {
      "cell_type": "markdown",
      "source": [
        "# Chat with Gemini to analyze and explain code"
      ],
      "metadata": {
        "id": "7Qm93RxtIvBX"
      }
    },
    {
      "cell_type": "markdown",
      "source": [
        "## Explain a cell or a portion of the code\n",
        "1. Click on the upper right part of a code cell and select <tt>Explain Code</tt>\n",
        "2. Similarly, select any portion of the code and right click and select <tt>Explain Code</tt>."
      ],
      "metadata": {
        "id": "ahj_udOFQJSS"
      }
    },
    {
      "cell_type": "markdown",
      "source": [
        "## Explain code Using Gemini chat\n",
        "1. Click on <b>Gemini</b> on the upper right.\n",
        "2. Paste code in the prompt and press enter.\n",
        "\n",
        "Alternatively, you can enter code manually:\n",
        "1. Enter the prompt by using <tt>Shift key + Enter</tt> at the end of each line of code.\n",
        "2. Hit <tt>Enter</tt> to get the explanation.\n",
        "Example:\n",
        "```\n",
        "Explain the following code:  Shift-Enter\n",
        "Shift-Enter\n",
        "x = 5 Shift-Enter\n",
        "Enter\n",
        "```\n"
      ],
      "metadata": {
        "id": "MimXaDFmJB4v"
      }
    },
    {
      "cell_type": "markdown",
      "source": [
        "# Autocompletion while typing"
      ],
      "metadata": {
        "id": "27imruaKQTfQ"
      }
    },
    {
      "cell_type": "markdown",
      "source": [
        "As you type in a Code cell, Google Colab may show you recommendations.\n",
        "\n",
        "If you think they are correct, press <tt>Enter</tt> to accept them.\n",
        "\n",
        "You can also press the <tt>tab</tt> key to accept them.\n",
        "\n",
        "You may then edit them."
      ],
      "metadata": {
        "id": "367ebvKyQz84"
      }
    },
    {
      "cell_type": "markdown",
      "source": [
        "# Understanding cell code colors"
      ],
      "metadata": {
        "id": "ozrBXBBsNC4N"
      }
    },
    {
      "cell_type": "markdown",
      "source": [
        "Try the following on the code below:\n",
        "1. Identify the different colors in each code cell.\n",
        "2. What does green color mean?\n",
        "3. What does yellow color mean?\n",
        "4. What does white color mean?\n",
        "5. How do colors change when you change the code?\n",
        "6. Can you detect syntax errors by the changing colors? How?"
      ],
      "metadata": {
        "id": "8QOEkvfsNaAg"
      }
    },
    {
      "cell_type": "code",
      "source": [
        "# Remove the # from the begining and see what happens.\n",
        "x = 5\n",
        "\n",
        "y = 2*x # Remove = and see what happens.\n",
        "\n",
        "print(x,y) # Remove a parenthesis and see color changes."
      ],
      "metadata": {
        "colab": {
          "base_uri": "https://localhost:8080/"
        },
        "id": "HiDXzZygOKmg",
        "outputId": "271292de-2346-4db5-f04f-5f376214cdc9"
      },
      "execution_count": null,
      "outputs": [
        {
          "output_type": "stream",
          "name": "stdout",
          "text": [
            "5 10\n"
          ]
        }
      ]
    },
    {
      "cell_type": "markdown",
      "source": [
        "# Using <tt>print</tt> statements to understand code"
      ],
      "metadata": {
        "id": "IinJX4SiSJ54"
      }
    },
    {
      "cell_type": "markdown",
      "source": [
        "A simple technique for understanding how code works to use <tt>print</tt> statements before and after variable changes.\n",
        "\n",
        "Note that you need to think sequentially. Sequentially means that you need to understand the order in which the statement appear to modify your variables.\n",
        "\n",
        "For example, to see how the code below works:\n",
        "```\n",
        "x = 5\n",
        "y = 5*x - 4\n",
        "z = y**2\n",
        "```\n",
        "You can use:\n",
        "```\n",
        "x = 5\n",
        "print(\"x=\", x)\n",
        "\n",
        "y = 5*x - 4\n",
        "print(\"y=\", y)\n",
        "\n",
        "z = y**2\n",
        "print(\"Z=\", z)\n",
        "```\n",
        "\n",
        "\n"
      ],
      "metadata": {
        "id": "Bj6-4zmZSgf9"
      }
    }
  ]
}