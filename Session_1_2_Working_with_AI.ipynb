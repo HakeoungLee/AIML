{
  "nbformat": 4,
  "nbformat_minor": 0,
  "metadata": {
    "colab": {
      "provenance": [],
      "collapsed_sections": [
        "3p2CBRoXMdoJ"
      ],
      "toc_visible": true,
      "authorship_tag": "ABX9TyN4zpaB0yYtLrzWTg0FZ/35",
      "include_colab_link": true
    },
    "kernelspec": {
      "name": "python3",
      "display_name": "Python 3"
    },
    "language_info": {
      "name": "python"
    }
  },
  "cells": [
    {
      "cell_type": "markdown",
      "metadata": {
        "id": "view-in-github",
        "colab_type": "text"
      },
      "source": [
        "<a href=\"https://colab.research.google.com/github/pattichis/AIML/blob/main/Session_1_2_Working_with_AI.ipynb\" target=\"_parent\"><img src=\"https://colab.research.google.com/assets/colab-badge.svg\" alt=\"Open In Colab\"/></a>"
      ]
    },
    {
      "cell_type": "markdown",
      "source": [
        "# Prompt to generate code in a new code cell"
      ],
      "metadata": {
        "id": "ozXOUdDEE0OQ"
      }
    },
    {
      "cell_type": "markdown",
      "source": [
        "1. Create a cell using <b>+ Code</b>\n",
        "2. Click on <u>generate</u> from:</br>\n",
        "<tt>Start coding or <u>generate</u> with AI.</tt></br>\n",
        "3. Enter a prompt like <tt>Create and print a number</tt></br>\n",
        "4. Analyze the created code.\n",
        "\n",
        "\n"
      ],
      "metadata": {
        "id": "0ZpEsozQE6sX"
      }
    },
    {
      "cell_type": "markdown",
      "source": [
        "# Explain code in a cell\n"
      ],
      "metadata": {
        "id": "3p2CBRoXMdoJ"
      }
    },
    {
      "cell_type": "markdown",
      "source": [
        "Within any code cell, click on ⋮ and click on <tt>Explain Code</tt>."
      ],
      "metadata": {
        "id": "X0UCm6N2M5dq"
      }
    },
    {
      "cell_type": "markdown",
      "source": [
        "# Chat with Gemini to analyze and explain code"
      ],
      "metadata": {
        "id": "7Qm93RxtIvBX"
      }
    },
    {
      "cell_type": "markdown",
      "source": [
        "## Explain a cell or a portion of the code\n",
        "1. Click on the upper right part of a code cell and select <tt>Explain Code</tt>\n",
        "2. Similarly, select any portion of the code and right click and select <tt>Explain Code</tt>."
      ],
      "metadata": {
        "id": "ahj_udOFQJSS"
      }
    },
    {
      "cell_type": "markdown",
      "source": [
        "## Explain code Using Gemini chat\n",
        "1. Click on <b>Gemini</b> on the upper right.\n",
        "2. Paste code in the prompt and press enter.\n",
        "\n",
        "Alternatively, you can enter code manually:\n",
        "1. Enter the prompt by using <tt>Shift key + Enter</tt> at the end of each line of code.\n",
        "2. Hit <tt>Enter</tt> to get the explanation.\n",
        "Example:\n",
        "```\n",
        "Explain the following code:  Shift-Enter\n",
        "Shift-Enter\n",
        "x = 5 Shift-Enter\n",
        "Enter\n",
        "```\n"
      ],
      "metadata": {
        "id": "MimXaDFmJB4v"
      }
    },
    {
      "cell_type": "markdown",
      "source": [
        "# Autocompletion while typing"
      ],
      "metadata": {
        "id": "27imruaKQTfQ"
      }
    },
    {
      "cell_type": "markdown",
      "source": [
        "As you type in a Code cell, Google Colab may show you recommendations.\n",
        "\n",
        "If you think they are correct, press <tt>Enter</tt> to accept them.\n",
        "\n",
        "You can also press the <tt>tab</tt> key to accept them.\n",
        "\n",
        "You may then edit them."
      ],
      "metadata": {
        "id": "367ebvKyQz84"
      }
    },
    {
      "cell_type": "markdown",
      "source": [
        "# Understanding cell code colors"
      ],
      "metadata": {
        "id": "ozrBXBBsNC4N"
      }
    },
    {
      "cell_type": "markdown",
      "source": [
        "Try the following on the code below:\n",
        "1. Identify the different colors in each code cell.\n",
        "2. What does green color mean?\n",
        "3. What does yellow color mean?\n",
        "4. What does white color mean?\n",
        "5. How do colors change when you change the code?\n",
        "6. Can you detect syntax errors by the changing colors? How?"
      ],
      "metadata": {
        "id": "8QOEkvfsNaAg"
      }
    },
    {
      "cell_type": "code",
      "source": [
        "# Remove the # from the begining and see what happens.\n",
        "x = 5\n",
        "\n",
        "y = 2*x # Remove = and see what happens.\n",
        "\n",
        "print(x,y) # Remove a parenthesis and see color changes."
      ],
      "metadata": {
        "colab": {
          "base_uri": "https://localhost:8080/"
        },
        "id": "HiDXzZygOKmg",
        "outputId": "271292de-2346-4db5-f04f-5f376214cdc9"
      },
      "execution_count": null,
      "outputs": [
        {
          "output_type": "stream",
          "name": "stdout",
          "text": [
            "5 10\n"
          ]
        }
      ]
    },
    {
      "cell_type": "markdown",
      "source": [
        "# Using <tt>print</tt> statements to understand code"
      ],
      "metadata": {
        "id": "IinJX4SiSJ54"
      }
    },
    {
      "cell_type": "markdown",
      "source": [
        "A simple technique for understanding how code works to use <tt>print</tt> statements before and after variable changes.\n",
        "\n",
        "Note that you need to think sequentially. Sequentially means that you need to understand the order in which the statement appear to modify your variables.\n",
        "\n",
        "For example, to see how the code below works:\n",
        "```\n",
        "x = 5\n",
        "y = 5*x - 4\n",
        "z = y**2\n",
        "```\n",
        "You can use:\n",
        "```\n",
        "x = 5\n",
        "print(\"x=\", x)\n",
        "\n",
        "y = 5*x - 4\n",
        "print(\"y=\", y)\n",
        "\n",
        "z = y**2\n",
        "print(\"Z=\", z)\n",
        "```\n",
        "\n",
        "\n"
      ],
      "metadata": {
        "id": "Bj6-4zmZSgf9"
      }
    },
    {
      "cell_type": "markdown",
      "source": [
        "# Analyzing code"
      ],
      "metadata": {
        "id": "GS_KAxRDTy8V"
      }
    },
    {
      "cell_type": "markdown",
      "source": [
        "1. Analyze code sequentially.\n",
        "2. Examine code color changes.\n",
        "3. Examine variables with <tt>print</tt> statements.\n",
        "4. Use AI to assist you <b>after</b> you try to write the code by yourself.\n",
        "5. Always question AI generated code."
      ],
      "metadata": {
        "id": "nXMueftIUDnO"
      }
    }
  ]
}