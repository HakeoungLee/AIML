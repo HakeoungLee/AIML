{
  "nbformat": 4,
  "nbformat_minor": 0,
  "metadata": {
    "colab": {
      "provenance": [],
      "collapsed_sections": [
        "PCW3KVNSdMVW"
      ],
      "authorship_tag": "ABX9TyNnn/u6HKKFcN/FgcCFpF3r",
      "include_colab_link": true
    },
    "kernelspec": {
      "name": "python3",
      "display_name": "Python 3"
    },
    "language_info": {
      "name": "python"
    }
  },
  "cells": [
    {
      "cell_type": "markdown",
      "metadata": {
        "id": "view-in-github",
        "colab_type": "text"
      },
      "source": [
        "<a href=\"https://colab.research.google.com/github/pattichis/AIML/blob/main/Session_1_Variables_Strings_and_Directories.ipynb\" target=\"_parent\"><img src=\"https://colab.research.google.com/assets/colab-badge.svg\" alt=\"Open In Colab\"/></a>"
      ]
    },
    {
      "cell_type": "markdown",
      "source": [
        "# Introductions"
      ],
      "metadata": {
        "id": "Q21UmpyZfC9J"
      }
    },
    {
      "cell_type": "markdown",
      "source": [
        "1.   Teacher and facilitators introduce themselves.\n",
        "2.   Brief introduction of the course topics.\n",
        "3.   Each student:\n",
        "* Introduce yourself.\n",
        "* Tell us how you found out about the course.\n",
        "* Discuss what you are hoping to learn.\n",
        "* Tell us about any prior programming experience.\n",
        "\n"
      ],
      "metadata": {
        "id": "PCW3KVNSdMVW"
      }
    },
    {
      "cell_type": "markdown",
      "source": [
        "# Basic Google Colab Instructions\n"
      ],
      "metadata": {
        "id": "-jBY7gGmURI-"
      }
    },
    {
      "cell_type": "markdown",
      "source": [
        "<dl>\n",
        "  <dt><h3>Prerequisites</h3></dt>\n",
        "  <dd><ol type=\"1\">\n",
        "      <li>You need to have a Gmail account to save your work.</li>\n",
        "      <li>If you do not have a Gmail account, you can create one.</li>\n",
        "  </ol></dd>\n",
        "  <dt><h3>Open Files Using Google Colab</h3></dt>\n",
        "  <dd><ol type=\"1\">\n",
        "      <li>Navigate to\n",
        "      <a href=\"https://github.com/pattichis/AIML\">GitHub Repository</a>.</li>\n",
        "      <li>Select lesson for each day and click to open in Google Colab.</li>\n",
        "  </ol></dd>\n",
        "  <dt><h3>Saving your file</h3></dt>\n",
        "  <dd><ol type=\"1\">\n",
        "      <li>Click on <b>File</b> on the upper left</li>\n",
        "      <li>Click on <b>Save</b></li>\n",
        "  </ol></dd>\n",
        "\n",
        "  <dt><h3>Running your code</h3></dt>\n",
        "  <dd><ol type=\"1\">\n",
        "      <li>Move your cursor over <tt>[ ]</tt></li>\n",
        "      <li>With your mouse over <tt>[ ]</tt>, you will see the play button</li>\n",
        "      <li>Click on the play button</li>\n",
        "      <li>You should see output below</li>\n",
        "  </ol></dd>\n",
        "\n",
        "  <dt><h3>Printing your code</h3></dt>\n",
        "  <dd><ol type=\"1\">\n",
        "      <li>Click on <b>File</b> on the upper left</li>\n",
        "      <li>Click on <b>Print</b></li>\n",
        "  </ol></dd>\n",
        "</dl>\n"
      ],
      "metadata": {
        "id": "vAXXSgocUQH9"
      }
    },
    {
      "cell_type": "markdown",
      "source": [
        "# Inside Google Colab: Adding Cells and variables\n",
        "<b>+ Code</b> for adding a code cell.</br>\n",
        "<b>+ Text</b> for adding a text cell.</br>\n",
        "\n",
        "## Add a text cell\n",
        "1. Click <b>+ Text</b> and type some text.\n",
        "2. Use the trash icon to delete it.\n",
        "\n",
        "## Add a variable code cell\n",
        "1. Click <b>+ Code</b> to add add a code cell.</br>\n",
        "2. Type the following code:\n",
        "```\n",
        "a=3\n",
        "print(a)\n",
        "```\n",
        "3. Navigate over [ ] to run it.\n",
        "4. What do you see?\n"
      ],
      "metadata": {
        "id": "Z91ifwRFcRwT"
      }
    },
    {
      "cell_type": "markdown",
      "source": [
        "# Introduction to Variables\n",
        "\n",
        "Run the following code by clicking on the play button inside [ ].\n",
        "\n",
        "What can you see?\n",
        "\n",
        "Comments are used for making notes:\n",
        "\n",
        "```\n",
        "# After this special character, computer ignores the text.\n",
        "```\n",
        "\n",
        "A variable is created using the following line:\n",
        "```\n",
        "x = 3\n",
        "```\n",
        "Thus, the variable <tt>x</tt> stores the value 3.</br>\n",
        "<b>Whenever we see <tt>x</tt>, remember that <tt>x</tt> holds the value of 3.</b>\n",
        "\n",
        "Note the special format</br>\n",
        "- The name of the variable is on the left of <tt>=</tt>.\n",
        "- On the right of <tt>=</tt>, we have an expression.\n",
        "- The computer will not understand <tt>3 = x</tt>, eventhough this is valid mathematically!\n",
        "\n",
        "We can see what <tt>x</tt> holds using:\n",
        "```\n",
        "print(x)\n",
        "```\n",
        "\n",
        "In programming, we say that <tt>print()</tt> is a\n",
        " <b>function</b>.\n",
        "\n",
        "We say that the variable <tt>x</tt> is an argument to\n",
        "   <tt>print()</tt>.\n",
        "\n",
        "We can change what we print by changing the variable <tt>a</tt>.   \n",
        "\n",
        "Carefully review the code line-by-line to understand how it works.\n",
        "\n",
        "## Assignment: understanding comments and variables\n",
        "Study the code and answer the following:\n",
        "1. Does the output change if you change a comment?\n",
        "2. Note the () after print. What happens when you remove one of them or both?\n",
        "3. What is the variable in the code?\n",
        "4. Can you change the code so that it will print 999?\n",
        "5. Click on '{} Variables'\n",
        "6. Can you see your variable? Comment.\n",
        "7. Try x=2**3.\n",
        "8. What is 2**3? Discuss.\n",
        "9. Can you print infinity?\n",
        "10. Click on the three vertical dots : (three instead of just two dots). Do you agree with the AI explanation?\n",
        "\n",
        "\n",
        "\n",
        "\n"
      ],
      "metadata": {
        "id": "QILaN9xMlfea"
      }
    },
    {
      "cell_type": "code",
      "source": [
        "# Hello. This line is for humans to read.\n",
        "# It is not to be executed.\n",
        "# When you first type #, we have a comment. Typing here does not affect anything\n",
        "# Comments are used to explain programs to humans.\n",
        "# Computers do not execute the comments.\n",
        "\n",
        "# Computers use variables to store information.\n",
        "# In the following line, we store the number 3 in the variable \"x\"\n",
        "\n",
        "# What do you understand by saying that \"x\" is a variable?\n",
        "# Run this cell. Try a different value for \"x\".\n",
        "\n",
        "# Create another variable and experiment with different values.\n",
        "\n",
        "x = 5\n",
        "\n",
        "# print the value of x\n",
        "print(x)\n"
      ],
      "metadata": {
        "colab": {
          "base_uri": "https://localhost:8080/"
        },
        "id": "Kl3sgjbvl06C",
        "outputId": "5f963209-0c0c-4159-bc69-06af5196c9b7"
      },
      "execution_count": 5,
      "outputs": [
        {
          "output_type": "stream",
          "name": "stdout",
          "text": [
            "5\n"
          ]
        }
      ]
    },
    {
      "cell_type": "markdown",
      "source": [
        "# Where is my file?"
      ],
      "metadata": {
        "id": "x3ztfH2EqqxT"
      }
    },
    {
      "cell_type": "markdown",
      "source": [
        "1. Click on <b>File</b>.\n",
        "2. Click on <b>Locate in Drive</b>.\n",
        "3. Write down the directory name under \"My Drive\" where your file appears.\n",
        "4. Can you see your file?\n",
        "5. Does it match the name above?\n",
        "\n",
        "\n"
      ],
      "metadata": {
        "id": "hIRsoUokbkdF"
      }
    },
    {
      "cell_type": "markdown",
      "source": [
        "# Find the current file at the terminal\n",
        "1. Click on Terminal icon in the lower-left.\n",
        "2. Type <b>pwd</b> in the terminal.\n",
        "3. What do you observe? What does / mean?\n",
        "4. Click on the folder icon (bottom icon) on the left.\n",
        "5. Can you find the same directory from the left panel?\n",
        "6. What is a directory?\n",
        "7. What is a file?\n",
        "\n",
        "Note <b>pwd</b> comes from:\n",
        "*   p=print\n",
        "*   w=working\n",
        "*   d=directory\n",
        "\n",
        "8. Use <b>ls</ls> to see the local files and directories.\n",
        "9. Check by clicking on the left. Do you see the same files as for <b>ls</ls>?\n"
      ],
      "metadata": {
        "id": "0VNY9eqcpBhT"
      }
    },
    {
      "cell_type": "markdown",
      "source": [
        "# Changing directories\n",
        "You can change directories using:\n",
        "```\n",
        "cd directory-name\n",
        "```\n",
        "This will change the current directory name.\n",
        "\n",
        "You can go back a directory using:\n",
        "```\n",
        "cd ...\n",
        "```\n",
        "1. What does \"go back\" mean here?\n",
        "2. Use <b>cd</b>, <b>ls</b>, and <b>pwd</b> to find the current Google Colab file.\n",
        "\n"
      ],
      "metadata": {
        "id": "uOMXI4bAsIGJ"
      }
    },
    {
      "cell_type": "markdown",
      "source": [
        "# Changing directory inside Google Colab\n",
        "You can apply terminal commands inside Google Colab by simply entering a \"!\".\n",
        "1. Find the current file by typing the code in the cell below."
      ],
      "metadata": {
        "id": "nhXLW9_wsqid"
      }
    },
    {
      "cell_type": "code",
      "source": [
        "!pwd\n",
        "!ls\n",
        "!cd .."
      ],
      "metadata": {
        "id": "nuFN13CVcEsk"
      },
      "execution_count": null,
      "outputs": []
    }
  ]
}