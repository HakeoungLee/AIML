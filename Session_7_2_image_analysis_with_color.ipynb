{
  "nbformat": 4,
  "nbformat_minor": 0,
  "metadata": {
    "colab": {
      "provenance": [],
      "include_colab_link": true
    },
    "kernelspec": {
      "name": "python3",
      "display_name": "Python 3"
    },
    "language_info": {
      "name": "python"
    }
  },
  "cells": [
    {
      "cell_type": "markdown",
      "metadata": {
        "id": "view-in-github",
        "colab_type": "text"
      },
      "source": [
        "<a href=\"https://colab.research.google.com/github/pattichis/AIML/blob/main/Session_7_2_image_analysis_with_color.ipynb\" target=\"_parent\"><img src=\"https://colab.research.google.com/assets/colab-badge.svg\" alt=\"Open In Colab\"/></a>"
      ]
    },
    {
      "cell_type": "markdown",
      "source": [
        "# Object Detection Based on Colors"
      ],
      "metadata": {
        "id": "tMCneSymyOnZ"
      }
    },
    {
      "cell_type": "markdown",
      "source": [
        "The goal of this assignment is to introduce a basic image analysis project that detects objects based on their color.\n",
        "\n",
        "The lesson uses histograms and inequalities on the red, green, and blue channels."
      ],
      "metadata": {
        "id": "fgif_f-9yQ4t"
      }
    },
    {
      "cell_type": "code",
      "source": [
        "!wget https://raw.githubusercontent.com/ivpcl/AOLME_Level2/main/ColorDetectionInterface/AOLMERobots.py\n",
        "!wget https://raw.githubusercontent.com/ivpcl/AOLME_Level2/main/ColorDetectionInterface/color_threshold_sliders_image.py\n",
        "!wget https://raw.githubusercontent.com/ivpcl/AOLME_Level2/main/ColorDetectionInterface/thresholds2.py\n",
        "!wget https://raw.githubusercontent.com/ivpcl/AOLME_Level2/main/ColorDetectionInterface/Bob.jpg"
      ],
      "metadata": {
        "id": "Tspu7lFVyRWh"
      },
      "execution_count": null,
      "outputs": []
    },
    {
      "cell_type": "code",
      "metadata": {
        "id": "L5vg8DZMbJ7h"
      },
      "source": [
        "#@title Color threshold{ run: \"auto\" }\n",
        "%matplotlib inline\n",
        "import cv2\n",
        "import AOLMERobots as gopi\n",
        "from thresholds2 import *\n",
        "from ipywidgets import interactive\n",
        "import ipywidgets as widgets\n",
        "import matplotlib.pyplot as plt\n",
        "\n",
        "\n",
        "image = cv2.imread('Bob.jpg')\n",
        "height, width = image.shape[:2]\n",
        "image= cv2.resize(image, (int(320/height*width), 320))\n",
        "\n",
        "thr_obj = threshold(image)\n",
        "\n",
        "\n",
        "\n",
        "def DisplayData(redLow, redHigh, greenLow, greenHigh, blueLow, blueHigh):\n",
        "\n",
        "  img = image.copy()\n",
        "\n",
        "  # Red component processing:\n",
        "  thr_obj.sel_color_comp ('red')\n",
        "  RedRange =  thr_obj.ThreshRange (redLow , redHigh)\n",
        "  #RedLow   =  thr_obj.ThreshLow   (redLow)\n",
        "  #RedHi    =  thr_obj.ThreshHigh  (redHi)\n",
        "\n",
        "\n",
        "  # Green component processing:\n",
        "  thr_obj.sel_color_comp ('green')\n",
        "  GreenRange =  thr_obj.ThreshRange (greenLow , greenHigh)\n",
        "  #GreenLow   =  thr_obj.ThreshLow   (greenLow)\n",
        "  #GreenHi    =  thr_obj.ThreshHigh  (greenHi)\n",
        "\n",
        "\n",
        "  # Blue component processing:\n",
        "  thr_obj.sel_color_comp ('blue')\n",
        "  BlueRange =  thr_obj.ThreshRange (blueLow , blueHigh)\n",
        "  #BlueLow   =  thr_obj.ThreshLow   (blueLow)\n",
        "  #BlueHi    =  thr_obj.ThreshHigh  (blueHi)\n",
        "\n",
        "  # Get middle-RGB combination\n",
        "  comb_image, comb_allTh= thr_combination(img, BlueRange,GreenRange, RedRange).return_result()\n",
        "  area = sum(comb_allTh)\n",
        "\n",
        "\n",
        "  skip = 70\n",
        "  # Generate the second window, including 9 single color images, one combination image, and text\n",
        "  white = np.zeros((image.shape[0], skip), np.uint8)\n",
        "  white[:] = (255)\n",
        "  white_3_channel = cv2.merge((white, white, white))\n",
        "\n",
        "  comb_allTh_3_channel = cv2.merge((comb_allTh*255, comb_allTh*255, comb_allTh*255))\n",
        "  row_1 = np.hstack((img, white_3_channel))\n",
        "  row_2 = np.hstack((row_1, comb_allTh_3_channel))\n",
        "  row_3 = np.hstack((row_2, white_3_channel))\n",
        "  row_4 = np.hstack((row_3, comb_image))\n",
        "\n",
        "\n",
        "\n",
        "  white_title = np.zeros((50, row_4.shape[1]), np.uint8)\n",
        "  white_title[:] = (255)\n",
        "  white_title_3_channel = cv2.merge((white_title, white_title, white_title))\n",
        "\n",
        "  font = cv2.FONT_HERSHEY_SIMPLEX\n",
        "  cv2.putText(white_title_3_channel, 'Input', (120,40), font, 0.7, (0,0,0), 2, 0)\n",
        "  cv2.putText(white_title_3_channel, 'Binary Image', (120+image.shape[0]+skip,40), font, 0.7, (0,0,0), 2, 0)\n",
        "  cv2.putText(white_title_3_channel, 'Output', (180+image.shape[0]*2+skip*2,40), font, 0.7, (0,0,0), 2, 0)\n",
        "  all = np.vstack((white_title_3_channel, row_4))\n",
        "\n",
        "  cv2_imshow(all)\n",
        "\n",
        "\n",
        "  rgb_values = [blueLow, blueHigh, greenLow, greenHigh, redLow, redHigh]\n",
        "\n",
        "  # Show histograms for RGB color\n",
        "  gopi.show_RGB_hist(img, rgb_values)\n",
        "  print('The detected color region has {} pixels'.format(int(area)))\n",
        "\n",
        "  #print(redLow,'<= Red   <= ', redHigh)\n",
        "  #print(greenLow,'<= Green <= ', greenHigh)\n",
        "  #print(blueLow,'<= Blue  <= ', blueHigh)\n",
        "\n",
        "\n",
        "\n",
        "\n",
        "interactive_plot = interactive(DisplayData,\n",
        "                               redLow   = widgets.IntSlider(min=0, max=255, step=1, value=16),\n",
        "                               redHigh  = widgets.IntSlider(min=0, max=255, step=1, value=156),\n",
        "                               greenLow = widgets.IntSlider(min=0, max=255, step=1, value=30),\n",
        "                               greenHigh= widgets.IntSlider(min=0, max=255, step=1, value=132),\n",
        "                               blueLow  = widgets.IntSlider(min=0, max=255, step=1, value=24),\n",
        "                               blueHigh = widgets.IntSlider(min=0, max=255, step=1, value=180))\n",
        "\n"
      ],
      "execution_count": null,
      "outputs": []
    },
    {
      "cell_type": "markdown",
      "source": [
        "Adjust the thresholds to detect\n",
        "*   the bear,\n",
        "*   skin color, and\n",
        "* the clothes of the minion."
      ],
      "metadata": {
        "id": "bdLA9ond0nQg"
      }
    },
    {
      "cell_type": "code",
      "source": [
        "interactive_plot"
      ],
      "metadata": {
        "id": "HTDxV2cFymaI"
      },
      "execution_count": null,
      "outputs": []
    }
  ]
}