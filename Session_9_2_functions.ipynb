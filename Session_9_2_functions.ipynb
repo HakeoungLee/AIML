{
  "nbformat": 4,
  "nbformat_minor": 0,
  "metadata": {
    "colab": {
      "provenance": [],
      "toc_visible": true,
      "authorship_tag": "ABX9TyNfVwWSvRPmBdESrQwnFSJC",
      "include_colab_link": true
    },
    "kernelspec": {
      "name": "python3",
      "display_name": "Python 3"
    },
    "language_info": {
      "name": "python"
    }
  },
  "cells": [
    {
      "cell_type": "markdown",
      "metadata": {
        "id": "view-in-github",
        "colab_type": "text"
      },
      "source": [
        "<a href=\"https://colab.research.google.com/github/pattichis/AIML/blob/main/Session_9_2_functions.ipynb\" target=\"_parent\"><img src=\"https://colab.research.google.com/assets/colab-badge.svg\" alt=\"Open In Colab\"/></a>"
      ]
    },
    {
      "cell_type": "markdown",
      "source": [
        "# Functions in Python"
      ],
      "metadata": {
        "id": "ojuFzVGubAp5"
      }
    },
    {
      "cell_type": "markdown",
      "source": [
        "Required:\n",
        "1. Defining functions.\n",
        "2. Use *args for any number of arguments.\n",
        "\n",
        "Optional:\n",
        "3. Use *args and **keywords for any number of arguments.\n",
        "4. Scoping rules.\n",
        "5. Global variables.\n",
        "5. Use dictionaries for many inputs and outputs."
      ],
      "metadata": {
        "id": "rLQVe4zQbW52"
      }
    },
    {
      "cell_type": "markdown",
      "source": [
        "This material follows Chapter 5 from: David M. Beazley, <i>Python Distilled</i>.\n",
        "\n",
        "The recommendation to use dictionaries for a large number of arguments comes from:\n",
        "\n",
        "<i>Effective Python: 125 Specific Ways to Write Better Python (Effective Software Development Series)</i> by Brett Slatkin."
      ],
      "metadata": {
        "id": "ygBlO9SieSKn"
      }
    },
    {
      "cell_type": "markdown",
      "source": [
        "# Define a function"
      ],
      "metadata": {
        "id": "FVTPL6c63l_y"
      }
    },
    {
      "cell_type": "markdown",
      "source": [
        "## Basic definition"
      ],
      "metadata": {
        "id": "72ncDpeI3mLH"
      }
    },
    {
      "cell_type": "markdown",
      "source": [
        "```\n",
        "def my_fun(arg1, arg2):\n",
        "  Body of the function\n",
        "```"
      ],
      "metadata": {
        "id": "oCZZ3KBQd6QT"
      }
    },
    {
      "cell_type": "markdown",
      "source": [
        "Explain the answer."
      ],
      "metadata": {
        "id": "N9NuIKJzqFoP"
      }
    },
    {
      "cell_type": "code",
      "source": [
        "def sub(x, y):\n",
        "  return x-y\n",
        "\n",
        "x = 1\n",
        "y = 2\n",
        "print(f\"sub({x}, {y})=\", sub(x, y))"
      ],
      "metadata": {
        "colab": {
          "base_uri": "https://localhost:8080/"
        },
        "id": "3x1REKBx3mdn",
        "outputId": "420174db-d68a-4d66-981b-7278e1a316ab"
      },
      "execution_count": null,
      "outputs": [
        {
          "output_type": "stream",
          "name": "stdout",
          "text": [
            "add(1, 2)= 3\n"
          ]
        }
      ]
    },
    {
      "cell_type": "markdown",
      "source": [
        "## Default arguments at the end."
      ],
      "metadata": {
        "id": "PEbZMwTw4CZr"
      }
    },
    {
      "cell_type": "markdown",
      "source": [
        "```\n",
        "def function_name(arg1, ..., argn, default_arg1, ..., default_argm):\n",
        "   Body of the function.\n",
        "```\n",
        "\n"
      ],
      "metadata": {
        "id": "JBg49ovsfQ5f"
      }
    },
    {
      "cell_type": "markdown",
      "source": [
        "Explain the answer. What happened?"
      ],
      "metadata": {
        "id": "pTDTbO0jqK8v"
      }
    },
    {
      "cell_type": "code",
      "source": [
        "# Optional parameters at the end.\n",
        "def sub(x, y, msg=\"Subtracting\"):\n",
        "  print(msg)\n",
        "  return x-y\n",
        "\n",
        "# Call as before. Default argument for msg.\n",
        "x = 1\n",
        "y = 2\n",
        "print(f\"sub({x}, {y})=\", sub(x, y))\n",
        "\n",
        "# Call by changing default argument\n",
        "print(f\"sub({x}, {y})=\", sub(x, y, \"I am subtracting :-) \"))"
      ],
      "metadata": {
        "id": "viPrjtxg4DFQ"
      },
      "execution_count": null,
      "outputs": []
    },
    {
      "cell_type": "markdown",
      "source": [
        "## Using * for last parameter places arguments in a list"
      ],
      "metadata": {
        "id": "UvjiMMSl7NcH"
      }
    },
    {
      "cell_type": "markdown",
      "source": [
        "```\n",
        "def function_name(arg1, arg2, *last_argument):\n",
        "  Body of the function\n",
        "```\n",
        "\n"
      ],
      "metadata": {
        "id": "q4BGV2467Nok"
      }
    },
    {
      "cell_type": "code",
      "source": [
        "# Pass any number of elements at the end:\n",
        "# args captures the elements after c.\n",
        "def add(a, b, c, *args):\n",
        "  print(f\"a={a}, b={b}, c={c}\")\n",
        "  for el in args:\n",
        "    print(el)\n",
        "\n",
        "add(1, 2, 3, 4, 5)"
      ],
      "metadata": {
        "colab": {
          "base_uri": "https://localhost:8080/"
        },
        "id": "4dzRra387OQL",
        "outputId": "988743b1-5915-47db-da87-36aad2626554"
      },
      "execution_count": null,
      "outputs": [
        {
          "output_type": "stream",
          "name": "stdout",
          "text": [
            "a=1, b=2, c=3\n",
            "4\n",
            "5\n"
          ]
        }
      ]
    },
    {
      "cell_type": "markdown",
      "source": [
        "## Calling using keywords in arbitrary order"
      ],
      "metadata": {
        "id": "YqbTK_W_qosW"
      }
    },
    {
      "cell_type": "markdown",
      "source": [
        "Use keyword names to call functions in arbitrary order:\n",
        "```\n",
        "def function_name(arg1, arg2, arg3):\n",
        "  Function_body\n",
        "\n",
        "function_name(arg3=val3, arg1=val1, arg2=val2)\n",
        "```\n",
        "\n"
      ],
      "metadata": {
        "id": "fdSKuDUoqo57"
      }
    },
    {
      "cell_type": "code",
      "source": [
        "def fun(a, b, c):\n",
        "  print(f\"a={a}, b={b}, c={c}\")\n",
        "\n",
        "print(\"They all produce the same result!\")\n",
        "fun(1, 2, 3)        # Assigning a, b, c based on order.\n",
        "fun(c=3, b=2, a=1)  # Use keywords.\n",
        "fun(b=2, a=1, c=3)"
      ],
      "metadata": {
        "colab": {
          "base_uri": "https://localhost:8080/"
        },
        "id": "GvZIeuwhc77d",
        "outputId": "5f813174-056c-4bc9-e8b4-27fad21ccd44"
      },
      "execution_count": null,
      "outputs": [
        {
          "output_type": "stream",
          "name": "stdout",
          "text": [
            "They all produce the same result!\n",
            "a=1, b=2, c=3\n",
            "a=1, b=2, c=3\n",
            "a=1, b=2, c=3\n"
          ]
        }
      ]
    },
    {
      "cell_type": "markdown",
      "source": [
        "## Disable keywords"
      ],
      "metadata": {
        "id": "NHdWl7IxytY-"
      }
    },
    {
      "cell_type": "markdown",
      "source": [
        "Disable the use of keywords using /)\n",
        "```\n",
        "def fun(arg1, arg2, .., /):\n",
        "  Body of the function.\n",
        "```\n",
        "\n"
      ],
      "metadata": {
        "id": "IPqNUXAEytpT"
      }
    },
    {
      "cell_type": "code",
      "source": [
        "def fun(a, b, /):\n",
        "  print(f\"a={a}, b={b}\")\n",
        "\n",
        "fun(1, 2)     # Values are fine.\n",
        "fun(\"a\", 1)   # Another set of values\n",
        "fun(a=1, b=2) # KEYWORDS ARE NOT ALLOWED!"
      ],
      "metadata": {
        "colab": {
          "base_uri": "https://localhost:8080/",
          "height": 211
        },
        "id": "13shOKw-yuC0",
        "outputId": "7a652d33-7d78-4fc1-ca36-3cf787f65fbe"
      },
      "execution_count": null,
      "outputs": [
        {
          "output_type": "stream",
          "name": "stdout",
          "text": [
            "a=1, b=2\n",
            "a=a, b=1\n"
          ]
        },
        {
          "output_type": "error",
          "ename": "TypeError",
          "evalue": "fun() got some positional-only arguments passed as keyword arguments: 'a, b'",
          "traceback": [
            "\u001b[0;31m---------------------------------------------------------------------------\u001b[0m",
            "\u001b[0;31mTypeError\u001b[0m                                 Traceback (most recent call last)",
            "\u001b[0;32m<ipython-input-9-2085882674>\u001b[0m in \u001b[0;36m<cell line: 0>\u001b[0;34m()\u001b[0m\n\u001b[1;32m      4\u001b[0m \u001b[0mfun\u001b[0m\u001b[0;34m(\u001b[0m\u001b[0;36m1\u001b[0m\u001b[0;34m,\u001b[0m \u001b[0;36m2\u001b[0m\u001b[0;34m)\u001b[0m     \u001b[0;31m# Values are fine.\u001b[0m\u001b[0;34m\u001b[0m\u001b[0;34m\u001b[0m\u001b[0m\n\u001b[1;32m      5\u001b[0m \u001b[0mfun\u001b[0m\u001b[0;34m(\u001b[0m\u001b[0;34m\"a\"\u001b[0m\u001b[0;34m,\u001b[0m \u001b[0;36m1\u001b[0m\u001b[0;34m)\u001b[0m   \u001b[0;31m# Another set of values\u001b[0m\u001b[0;34m\u001b[0m\u001b[0;34m\u001b[0m\u001b[0m\n\u001b[0;32m----> 6\u001b[0;31m \u001b[0mfun\u001b[0m\u001b[0;34m(\u001b[0m\u001b[0ma\u001b[0m\u001b[0;34m=\u001b[0m\u001b[0;36m1\u001b[0m\u001b[0;34m,\u001b[0m \u001b[0mb\u001b[0m\u001b[0;34m=\u001b[0m\u001b[0;36m2\u001b[0m\u001b[0;34m)\u001b[0m \u001b[0;31m# KEYWORDS ARE NOT ALLOWED!\u001b[0m\u001b[0;34m\u001b[0m\u001b[0;34m\u001b[0m\u001b[0m\n\u001b[0m",
            "\u001b[0;31mTypeError\u001b[0m: fun() got some positional-only arguments passed as keyword arguments: 'a, b'"
          ]
        }
      ]
    },
    {
      "cell_type": "markdown",
      "source": [
        "## Function that processes everything!"
      ],
      "metadata": {
        "id": "-slQp1u_t7-w"
      }
    },
    {
      "cell_type": "code",
      "source": [
        "def func(*args, **kwargs):\n",
        "  print(\"args=\", args)       # List of positional arguments (NO keywords)\n",
        "  print(\"kwargs = \", kwargs) # Dictionary of keyword arguments.\n",
        "  print(\" \")\n",
        "\n",
        "print(\"func()\")\n",
        "func()\n",
        "\n",
        "print(\"func(1)\")\n",
        "func(1)\n",
        "\n",
        "print(\"func(1, 2, 3, a=4, b=5)\")\n",
        "func(1, 2, 3, a=4, b=5)\n",
        "\n",
        "print(\"func(\\\"a\\\", b=\\\"c\\\")\")\n",
        "func(\"a\", b=\"c\")"
      ],
      "metadata": {
        "colab": {
          "base_uri": "https://localhost:8080/"
        },
        "id": "q98ZEY-Ct8af",
        "outputId": "1f02c4aa-da58-4f62-f6cf-f5742e06af7f"
      },
      "execution_count": null,
      "outputs": [
        {
          "output_type": "stream",
          "name": "stdout",
          "text": [
            "func()\n",
            "args= ()\n",
            "kwargs =  {}\n",
            " \n",
            "func(1)\n",
            "args= (1,)\n",
            "kwargs =  {}\n",
            " \n",
            "func(1, 2, 3, a=4, b=5)\n",
            "args= (1, 2, 3)\n",
            "kwargs =  {'a': 4, 'b': 5}\n",
            " \n",
            "func(\"a\", b=\"c\")\n",
            "args= ('a',)\n",
            "kwargs =  {'b': 'c'}\n",
            " \n"
          ]
        }
      ]
    },
    {
      "cell_type": "markdown",
      "source": [
        "## Local variables do not interfer with global ones."
      ],
      "metadata": {
        "id": "_W9T6WAjEtXQ"
      }
    },
    {
      "cell_type": "code",
      "source": [
        "# Global a:\n",
        "a = 1\n",
        "\n",
        "def local_example():\n",
        "  a = 2 # Does not affect \"a\" outside this function.\n",
        "  print(\"2. Inside function: a = \", a)\n",
        "\n",
        "print(\"1. Outside: a = \", a)\n",
        "local_example()\n",
        "print(\"3. Outisde: a = \", a)"
      ],
      "metadata": {
        "id": "qXPO-xE-Etnh",
        "colab": {
          "base_uri": "https://localhost:8080/"
        },
        "outputId": "7d9a8752-52b0-4fd0-8cd0-ee514d6da33f"
      },
      "execution_count": 8,
      "outputs": [
        {
          "output_type": "stream",
          "name": "stdout",
          "text": [
            "1. Outside: a =  1\n",
            "2. Inside function: a =  2\n",
            "3. Outisde: a =  1\n"
          ]
        }
      ]
    },
    {
      "cell_type": "markdown",
      "source": [
        "## Use global to access global (outside) variables."
      ],
      "metadata": {
        "id": "Xh7eBynKT-WA"
      }
    },
    {
      "cell_type": "code",
      "source": [
        "# Global a:\n",
        "a = 1\n",
        "\n",
        "def global_example():\n",
        "  global a\n",
        "  a = 2 # Does not affect \"a\" outside this function.\n",
        "  print(\"2. Inside: a = \", a)\n",
        "\n",
        "print(\"1. Outside: a = \", a)\n",
        "global_example()\n",
        "print(\"3. Outside: a = \", a)\n",
        "\n"
      ],
      "metadata": {
        "colab": {
          "base_uri": "https://localhost:8080/"
        },
        "id": "TpYr49AdT-pe",
        "outputId": "bcec662c-fd28-43b5-8858-e3b8eed0941d"
      },
      "execution_count": 7,
      "outputs": [
        {
          "output_type": "stream",
          "name": "stdout",
          "text": [
            "1. Outside: a =  1\n",
            "2. Inside: a =  2\n",
            "3. Outside: a =  2\n"
          ]
        }
      ]
    },
    {
      "cell_type": "markdown",
      "source": [
        "## A variable cannot be both local and global."
      ],
      "metadata": {
        "id": "PDobJ8VfVIV9"
      }
    },
    {
      "cell_type": "code",
      "source": [
        "# Global a:\n",
        "a = 1\n",
        "\n",
        "def local_example():\n",
        "  a = a + 1 # Fails! \"a\" is local and cannot access global value.\n",
        "  print(\"2. Inside: a = \", a)\n",
        "\n",
        "print(\"1. Outside: a = \", a)\n",
        "local_example()\n",
        "print(\"3. Outside: a = \", a)\n"
      ],
      "metadata": {
        "colab": {
          "base_uri": "https://localhost:8080/",
          "height": 332
        },
        "id": "yIQDF7Y0VIr1",
        "outputId": "c6e5a9e4-3c5e-4f12-b6e8-487b506a0936"
      },
      "execution_count": 10,
      "outputs": [
        {
          "output_type": "stream",
          "name": "stdout",
          "text": [
            "1. Outside: a =  1\n"
          ]
        },
        {
          "output_type": "error",
          "ename": "UnboundLocalError",
          "evalue": "cannot access local variable 'a' where it is not associated with a value",
          "traceback": [
            "\u001b[0;31m---------------------------------------------------------------------------\u001b[0m",
            "\u001b[0;31mUnboundLocalError\u001b[0m                         Traceback (most recent call last)",
            "\u001b[0;32m<ipython-input-10-4213914864>\u001b[0m in \u001b[0;36m<cell line: 0>\u001b[0;34m()\u001b[0m\n\u001b[1;32m      7\u001b[0m \u001b[0;34m\u001b[0m\u001b[0m\n\u001b[1;32m      8\u001b[0m \u001b[0mprint\u001b[0m\u001b[0;34m(\u001b[0m\u001b[0;34m\"1. Outside: a = \"\u001b[0m\u001b[0;34m,\u001b[0m \u001b[0ma\u001b[0m\u001b[0;34m)\u001b[0m\u001b[0;34m\u001b[0m\u001b[0;34m\u001b[0m\u001b[0m\n\u001b[0;32m----> 9\u001b[0;31m \u001b[0mlocal_example\u001b[0m\u001b[0;34m(\u001b[0m\u001b[0;34m)\u001b[0m\u001b[0;34m\u001b[0m\u001b[0;34m\u001b[0m\u001b[0m\n\u001b[0m\u001b[1;32m     10\u001b[0m \u001b[0mprint\u001b[0m\u001b[0;34m(\u001b[0m\u001b[0;34m\"3. Outside: a = \"\u001b[0m\u001b[0;34m,\u001b[0m \u001b[0ma\u001b[0m\u001b[0;34m)\u001b[0m\u001b[0;34m\u001b[0m\u001b[0;34m\u001b[0m\u001b[0m\n",
            "\u001b[0;32m<ipython-input-10-4213914864>\u001b[0m in \u001b[0;36mlocal_example\u001b[0;34m()\u001b[0m\n\u001b[1;32m      3\u001b[0m \u001b[0;34m\u001b[0m\u001b[0m\n\u001b[1;32m      4\u001b[0m \u001b[0;32mdef\u001b[0m \u001b[0mlocal_example\u001b[0m\u001b[0;34m(\u001b[0m\u001b[0;34m)\u001b[0m\u001b[0;34m:\u001b[0m\u001b[0;34m\u001b[0m\u001b[0;34m\u001b[0m\u001b[0m\n\u001b[0;32m----> 5\u001b[0;31m   \u001b[0ma\u001b[0m \u001b[0;34m=\u001b[0m \u001b[0ma\u001b[0m \u001b[0;34m+\u001b[0m \u001b[0;36m1\u001b[0m \u001b[0;31m# Fails! \"a\" is local and cannot access global value.\u001b[0m\u001b[0;34m\u001b[0m\u001b[0;34m\u001b[0m\u001b[0m\n\u001b[0m\u001b[1;32m      6\u001b[0m   \u001b[0mprint\u001b[0m\u001b[0;34m(\u001b[0m\u001b[0;34m\"2. Inside: a = \"\u001b[0m\u001b[0;34m,\u001b[0m \u001b[0ma\u001b[0m\u001b[0;34m)\u001b[0m\u001b[0;34m\u001b[0m\u001b[0;34m\u001b[0m\u001b[0m\n\u001b[1;32m      7\u001b[0m \u001b[0;34m\u001b[0m\u001b[0m\n",
            "\u001b[0;31mUnboundLocalError\u001b[0m: cannot access local variable 'a' where it is not associated with a value"
          ]
        }
      ]
    },
    {
      "cell_type": "markdown",
      "source": [
        "## Return can be used to bring back multiple values"
      ],
      "metadata": {
        "id": "0RO3LVIrExLk"
      }
    },
    {
      "cell_type": "code",
      "source": [
        "def func(a, b):\n",
        "  return a+1, b+1, a+b\n",
        "\n",
        "x, y, z = func(1, 2)\n",
        "print(f\"x={x}, y={y}, z={z}\")"
      ],
      "metadata": {
        "colab": {
          "base_uri": "https://localhost:8080/"
        },
        "id": "nHVkTvHaWOJf",
        "outputId": "bda86916-2170-4a17-aea2-980d63b69eba"
      },
      "execution_count": 11,
      "outputs": [
        {
          "output_type": "stream",
          "name": "stdout",
          "text": [
            "x=2, y=3, z=3\n"
          ]
        }
      ]
    },
    {
      "cell_type": "markdown",
      "source": [],
      "metadata": {
        "id": "HTUH3ey_cR0i"
      }
    },
    {
      "cell_type": "markdown",
      "source": [
        "## Optional: List arguments are passed by reference but local variables can make copies ..."
      ],
      "metadata": {
        "id": "u0EuBvAucR-E"
      }
    },
    {
      "cell_type": "code",
      "source": [
        "# Works on the original list.\n",
        "def modify_list(lst):\n",
        "    lst.append(100)  # Modifies the original list\n",
        "\n",
        "my_list = [1, 2, 3]\n",
        "print(\"1. input: \", my_list)\n",
        "modify_list(my_list)\n",
        "print(\"2. inpute after call: \", my_list)  # Output: [1, 2, 3, 100]\n",
        "print(\" \")\n",
        "\n",
        "\n",
        "# Makes local copy.\n",
        "def process_list(inp_list):\n",
        "  inp_list = inp_list + [1] # Creates a local list and copies the original.\n",
        "  return inp_list\n",
        "\n",
        "inp_list = [1, 2, 3]\n",
        "print(\"1. inp_list=\", inp_list)\n",
        "out_list = process_list(inp_list)\n",
        "print(\"2. inp_list=\", inp_list)\n",
        "print(\"3. out_list=\", out_list)\n",
        "print(\" \")\n",
        "\n",
        "# FAILED swap example:\n",
        "def swap(a, b):\n",
        "  temp = a\n",
        "  a = b\n",
        "  b = temp\n",
        "  print(f\"Inside swap: a={a}, b={b}\")\n",
        "  return a, b\n",
        "\n",
        "\n",
        "x = 1\n",
        "y = 2\n",
        "print(f\"1. Before swap: x={x}, y={y}\")\n",
        "swap(x, y)\n",
        "print(f\"2. After (failed) swap: x={x}, y={y}\")\n",
        "print(\" \")\n",
        "\n",
        "\n",
        "x = 1\n",
        "y = 2\n",
        "print(f\"1. Before swap: x={x}, y={y}\")\n",
        "x, y = swap(x, y)\n",
        "print(f\"2. After correct swap: x={x}, y={y}\")\n",
        "print(\" \")\n",
        "\n",
        "# Assignments are applied in-parallel in Python\n",
        "a = 5\n",
        "b = 10\n",
        "\n",
        "print(f\"1. Before assignment: a={a}, b={b}\")\n",
        "# Swap values\n",
        "a, b = b, a\n",
        "print(f\"2. After assignment: a={a}, b={b}\")"
      ],
      "metadata": {
        "colab": {
          "base_uri": "https://localhost:8080/"
        },
        "id": "FHbLBni3cSQm",
        "outputId": "1a844791-6276-4938-c7c7-7af9fe44e702"
      },
      "execution_count": 27,
      "outputs": [
        {
          "output_type": "stream",
          "name": "stdout",
          "text": [
            "1. input:  [1, 2, 3]\n",
            "2. inpute after call:  [1, 2, 3, 100]\n",
            " \n",
            "1. inp_list= [1, 2, 3]\n",
            "2. inp_list= [1, 2, 3]\n",
            "3. out_list= [1, 2, 3, 1]\n",
            " \n",
            "1. Before swap: x=1, y=2\n",
            "Inside swap: a=2, b=1\n",
            "2. After (failed) swap: x=1, y=2\n",
            " \n",
            "1. Before swap: x=1, y=2\n",
            "Inside swap: a=2, b=1\n",
            "2. After correct swap: x=2, y=1\n",
            " \n",
            "1. Before assignment: a=5, b=10\n",
            "2. After assignment: a=10, b=5\n"
          ]
        }
      ]
    },
    {
      "cell_type": "markdown",
      "source": [
        "## Use dictionaries for working with many inputs and outputs"
      ],
      "metadata": {
        "id": "dyjE2Cs_Wsh_"
      }
    },
    {
      "cell_type": "code",
      "source": [
        "def func(inp_dict):\n",
        "  # Unpack the dictionary:\n",
        "  # Create local copies that do not affect the input.\n",
        "  a = inp_dict[\"a\"]\n",
        "  b = inp_dict[\"b\"]\n",
        "  c = inp_dict[\"c\"]\n",
        "  d = inp_dict[\"d\"]\n",
        "  e = inp_dict[\"e\"]\n",
        "\n",
        "  # Process them\n",
        "  a = a\n",
        "  b = a+b\n",
        "  c = a+b+c\n",
        "\n",
        "  # Create a dictionary for returning many of them:\n",
        "  out_dict = {\"a\": a, \"b\": b, \"c\": c}\n",
        "  return out_dict\n",
        "\n",
        "inp_dict = {\"a\": 1, \"b\": 2, \"c\": 3, \"d\": 4, \"e\": 5}\n",
        "print(\"1. inputs: \", inp_dict)\n",
        "\n",
        "out_dict = func(inp_dict)\n",
        "\n",
        "print(\"2. outputs: \", out_dict)\n",
        "print(\"3. Did not change inputs: \", inp_dict)\n"
      ],
      "metadata": {
        "id": "woWnxOjREx4v",
        "colab": {
          "base_uri": "https://localhost:8080/"
        },
        "outputId": "0a6b22d0-ae3c-4609-b512-4000c2e7c628"
      },
      "execution_count": 16,
      "outputs": [
        {
          "output_type": "stream",
          "name": "stdout",
          "text": [
            "1. inputs:  {'a': 1, 'b': 2, 'c': 3, 'd': 4, 'e': 5}\n",
            "2. outputs:  {'a': 1, 'b': 3, 'c': 7}\n",
            "3. Did not change inputs:  {'a': 1, 'b': 2, 'c': 3, 'd': 4, 'e': 5}\n"
          ]
        }
      ]
    },
    {
      "cell_type": "markdown",
      "source": [
        "# Optional: Function style definition"
      ],
      "metadata": {
        "id": "Uvm_vRI50Mpl"
      }
    },
    {
      "cell_type": "markdown",
      "source": [
        "```\n",
        "def fun_name(var_name1: type1, var_name2: type2, ...) -> return_type:\n",
        "  \"\"\" Description of what the function does.\n",
        "  Desribe the parameters.\n",
        "  Describe any exceptions.\n",
        "  \"\"\"\n",
        "  Function body with exceptions.\n",
        "  return vals\n",
        "```\n",
        "You can get help on a function\n",
        "\n"
      ],
      "metadata": {
        "id": "rAxdWNW-0M5W"
      }
    },
    {
      "cell_type": "code",
      "source": [
        "def func(a, b, c):\n",
        "  \"\"\" prints a, b, c.\n",
        "  Arguments: a, b, c.\n",
        "  \"\"\"\n",
        "  print(f\"a={a}, b={b}, c={c}\")\n",
        "  return a+b+c\n",
        "\n",
        "print(func(1, 2, 3))\n",
        "\n",
        "sum = func(1, 2, 3)\n",
        "print(f\"sum={sum}\")\n",
        "\n",
        "help(func)"
      ],
      "metadata": {
        "colab": {
          "base_uri": "https://localhost:8080/"
        },
        "id": "Ec73paHE0NHU",
        "outputId": "c960b79a-92d5-4c5b-8bf2-8776a981c1c5"
      },
      "execution_count": null,
      "outputs": [
        {
          "output_type": "stream",
          "name": "stdout",
          "text": [
            "a=1, b=2, c=3\n",
            "6\n",
            "a=1, b=2, c=3\n",
            "sum=6\n",
            "Help on function func in module __main__:\n",
            "\n",
            "func(a, b, c)\n",
            "    prints a, b, c.\n",
            "    Arguments: a, b, c.\n",
            "\n"
          ]
        }
      ]
    },
    {
      "cell_type": "markdown",
      "source": [
        "# Write and test calculator functions"
      ],
      "metadata": {
        "id": "iS178N0baF_X"
      }
    },
    {
      "cell_type": "markdown",
      "source": [
        "\n",
        "1. Create sub() and mult()\n",
        "2. Print examples to show that it works."
      ],
      "metadata": {
        "id": "l8jfkSIOE6lY"
      }
    },
    {
      "cell_type": "code",
      "source": [
        "# Define add:\n",
        "def add(a, b):\n",
        "  return a+b\n",
        "\n",
        "print(f\"add(1,2)={add(1, 2)}\")\n",
        "\n",
        "# Define subtract:\n",
        "\n",
        "# Define multiply:\n"
      ],
      "metadata": {
        "id": "cgH3c-PME92R",
        "colab": {
          "base_uri": "https://localhost:8080/"
        },
        "outputId": "7b32f22a-1fae-44ea-fda2-18eccd008483"
      },
      "execution_count": 18,
      "outputs": [
        {
          "output_type": "stream",
          "name": "stdout",
          "text": [
            "add(1, 2)=3\n"
          ]
        }
      ]
    },
    {
      "cell_type": "markdown",
      "source": [
        "# Write a function adds up any number of inputs."
      ],
      "metadata": {
        "id": "BrXpgVtVaMp-"
      }
    },
    {
      "cell_type": "markdown",
      "source": [
        "1. You will need to use * for the arguments.\n",
        "2. Then use for to retrieve the elements in the list."
      ],
      "metadata": {
        "id": "I7dyQktraM0l"
      }
    },
    {
      "cell_type": "code",
      "source": [
        "def sum(*args):\n",
        "  \"\"\" adds a list of numbers \"\"\"\n",
        "  # Use total as a local variable.\n",
        "\n",
        "print(f\"sum(1, 2, 3)={sum(1, 2, 3)}\") # Should return 6."
      ],
      "metadata": {
        "colab": {
          "base_uri": "https://localhost:8080/"
        },
        "id": "dPo0O8XraNDg",
        "outputId": "c8046d7e-41aa-44a7-c79a-4d16d24f079c"
      },
      "execution_count": 19,
      "outputs": [
        {
          "output_type": "stream",
          "name": "stdout",
          "text": [
            "sum(1, 2, 3)=6\n"
          ]
        }
      ]
    }
  ]
}