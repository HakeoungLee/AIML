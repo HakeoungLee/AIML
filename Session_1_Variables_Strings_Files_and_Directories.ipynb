{
  "nbformat": 4,
  "nbformat_minor": 0,
  "metadata": {
    "colab": {
      "provenance": [],
      "collapsed_sections": [
        "Q21UmpyZfC9J",
        "arHzUKSfxwfe",
        "-jBY7gGmURI-",
        "Cfgtj4zx5qxv",
        "in4Ps2XM6SEm",
        "vfVZQVZO7Z0u"
      ],
      "machine_shape": "hm",
      "gpuType": "L4",
      "toc_visible": true,
      "authorship_tag": "ABX9TyM5cqsnEXONnSpFETrVykbi",
      "include_colab_link": true
    },
    "kernelspec": {
      "name": "python3",
      "display_name": "Python 3"
    },
    "language_info": {
      "name": "python"
    },
    "accelerator": "GPU"
  },
  "cells": [
    {
      "cell_type": "markdown",
      "metadata": {
        "id": "view-in-github",
        "colab_type": "text"
      },
      "source": [
        "<a href=\"https://colab.research.google.com/github/pattichis/AIML/blob/main/Session_1_Variables_Strings_Files_and_Directories.ipynb\" target=\"_parent\"><img src=\"https://colab.research.google.com/assets/colab-badge.svg\" alt=\"Open In Colab\"/></a>"
      ]
    },
    {
      "cell_type": "markdown",
      "source": [
        "# Introductions"
      ],
      "metadata": {
        "id": "Q21UmpyZfC9J"
      }
    },
    {
      "cell_type": "markdown",
      "source": [
        "1.   Teacher and facilitators introduce themselves.\n",
        "2.   Brief introduction of the course topics.\n",
        "3.   Each student:\n",
        "* Introduce yourself.\n",
        "* Tell us how you found out about the course.\n",
        "* Discuss what you are hoping to learn.\n",
        "* Tell us about any prior programming experience.\n",
        "* Describe something you like to do.\n",
        "* Give any further information you want us to know.\n",
        "4. Form groups of 3-4 students.\n"
      ],
      "metadata": {
        "id": "PCW3KVNSdMVW"
      }
    },
    {
      "cell_type": "markdown",
      "source": [
        "# Rules for Groups"
      ],
      "metadata": {
        "id": "_ORt8tiZk9q7"
      }
    },
    {
      "cell_type": "markdown",
      "source": [
        "1. <strong>Actively Engage During Meetings</strong>\n",
        "\n",
        "    Minimize distractions during in person and virtual meetings.​\n",
        "\n",
        "2. <strong>Ensure Every Voice Is Heard and Valued​</strong>\n",
        "\n",
        "    Listen actively and respectfully.​\n",
        "\n",
        "    Share the floor.​\n",
        "\n",
        "    Avoid interrupting and allow space for quieter participants to share.​\n",
        "\n",
        "3. <strong>Commit to Collaboration & Value Diverse Perspectives</strong>​\n",
        "\n",
        "    Share ideas openly and be willing to build on others’ contributions.​\n",
        "\n",
        "    Embrace the range of experiences and expertise in the group.​\n",
        "\n",
        "4. <strong>Be Constructive with Feedback</strong>​\n",
        "\n",
        "    Offer feedback that is specific, actionable, and kind.​\n",
        "\n",
        "    Critique ideas, not people​\n",
        "\n",
        "5. <strong>Maintain Confidentiality​</strong>\n",
        "\n",
        "    Respect the privacy of discussions and unpublished ideas.​\n",
        "\n",
        "    Only share outside the group with explicit permission.​\n",
        "\n",
        "6. <strong>Focus on Solutions</strong>​\n",
        "\n",
        "    Approach challenges and disagreements with problem-solving mindsets.​\n",
        "\n",
        "    Seek to resolve issues collaboratively and constructively.​\n",
        "\n",
        "    Address misunderstandings with curiosity and care.​\n",
        "\n",
        "7. <strong>Celebrate Progress</strong>​\n",
        "\n",
        "    Acknowledge individual and group achievements.​\n",
        "\n",
        "    Take moments to appreciate the work and effort contributed by all.\n",
        "  \n",
        "\n",
        "\n",
        "[Website link for collaborative learning](\n",
        "https://www.colorincolorado.org/article/cooperative-learning-strategies)"
      ],
      "metadata": {
        "id": "8xO2GpbRlApg"
      }
    },
    {
      "cell_type": "markdown",
      "source": [
        "# Additional rules for groups"
      ],
      "metadata": {
        "id": "arHzUKSfxwfe"
      }
    },
    {
      "cell_type": "markdown",
      "source": [
        "1. Have fun with the assignments.\n",
        "2. Take turns discussing the code.\n",
        "3. Take turns with typing.\n",
        "4. Support each other.\n",
        "5. Respect each other.\n",
        "6. Allow others to talk."
      ],
      "metadata": {
        "id": "NTSK6j3mx16E"
      }
    },
    {
      "cell_type": "markdown",
      "source": [
        "# Basic Google Colab Instructions\n"
      ],
      "metadata": {
        "id": "-jBY7gGmURI-"
      }
    },
    {
      "cell_type": "markdown",
      "source": [
        "<dl>\n",
        "  <dt><h3>Prerequisites</h3></dt>\n",
        "  <dd><ol type=\"1\">\n",
        "      <li>You need to have a Gmail account to save your work.</li>\n",
        "      <li>If you do not have a Gmail account, you can create one.</li>\n",
        "  </ol></dd>\n",
        "  <dt><h3>Open Files Using Google Colab</h3></dt>\n",
        "  <dd><ol type=\"1\">\n",
        "      <li>Navigate to\n",
        "      <a href=\"https://github.com/pattichis/AIML\">GitHub Repository</a>.</li>\n",
        "      <li>Select lesson for each day and click to open in Google Colab.</li>\n",
        "      <li>Login into your Gmail account, select Apps (upper right) and select <b>Drive</b> and create a directory titled AIML.</li>\n",
        "      <li>Save a Copy in Drive to copy in your Google Drive.</li>\n",
        "      <li>Move the file to the AIML directory.</li>\n",
        "  </ol></dd>\n",
        "  <dt><h3>Saving your file</h3></dt>\n",
        "  <dd><ol type=\"1\">\n",
        "      <li>Click on <b>File</b> on the upper left</li>\n",
        "      <li>Click on <b>Save</b></li>\n",
        "  </ol></dd>\n",
        "\n",
        "  <dt><h3>Running your code</h3></dt>\n",
        "  <dd><ol type=\"1\">\n",
        "      <li>Move your cursor over <tt>[ ]</tt></li>\n",
        "      <li>With your mouse over <tt>[ ]</tt>, you will see the play button</li>\n",
        "      <li>Click on the play button</li>\n",
        "      <li>You should see output below</li>\n",
        "  </ol></dd>\n",
        "\n",
        "  <dt><h3>Printing your code</h3></dt>\n",
        "  <dd><ol type=\"1\">\n",
        "      <li>Click on <b>File</b> on the upper left</li>\n",
        "      <li>Click on <b>Print</b></li>\n",
        "  </ol></dd>\n",
        "</dl>\n"
      ],
      "metadata": {
        "id": "vAXXSgocUQH9"
      }
    },
    {
      "cell_type": "markdown",
      "source": [
        "# Inside Google Colab: Adding Cells and variables"
      ],
      "metadata": {
        "id": "Cfgtj4zx5qxv"
      }
    },
    {
      "cell_type": "markdown",
      "source": [
        "<b>+ Code</b> for adding a code cell.</br>\n",
        "<b>+ Text</b> for adding a text cell.</br>\n",
        "\n",
        "<h2>Add a text cell</h2>\n",
        "1. Click <b>+ Text</b> and type some text.\n",
        "2. Use the trash icon to delete it.\n",
        "\n",
        "<h2>Add a variable code cell</h2>\n",
        "1. Click <b>+ Code</b> to add add a code cell.</br>\n",
        "2. Type the following code:\n",
        "\n",
        "```\n",
        "a=3\n",
        "print(a)\n",
        "```\n",
        "\n",
        "3. Navigate over [ ] to run it.\n",
        "4. What do you see?\n"
      ],
      "metadata": {
        "id": "Z91ifwRFcRwT"
      }
    },
    {
      "cell_type": "markdown",
      "source": [
        "# Introduction to Variables"
      ],
      "metadata": {
        "id": "in4Ps2XM6SEm"
      }
    },
    {
      "cell_type": "markdown",
      "source": [
        "Run the following code by clicking on the play button inside [ ].\n",
        "\n",
        "What can you see?\n",
        "\n",
        "Comments are used for making notes:\n",
        "\n",
        "```\n",
        "# After this special character, computer ignores the text.\n",
        "```\n",
        "\n",
        "A variable is created using the following line:\n",
        "```\n",
        "x = 3\n",
        "```\n",
        "Thus, the variable <tt>x</tt> stores the value 3.</br>\n",
        "<b>Whenever we see <tt>x</tt>, remember that <tt>x</tt> holds the value of 3.</b>\n",
        "\n",
        "Note the special format</br>\n",
        "- The name of the variable is on the left of <tt>=</tt>.\n",
        "- On the right of <tt>=</tt>, we have an expression.\n",
        "- The computer will not understand <tt>3 = x</tt>, eventhough this is valid mathematically!\n",
        "\n",
        "We can see what <tt>x</tt> holds using:\n",
        "```\n",
        "print(x)\n",
        "```\n",
        "\n",
        "In programming, we say that <tt>print()</tt> is a\n",
        " <b>function</b>.\n",
        "\n",
        "We say that the variable <tt>x</tt> is an argument to\n",
        "   <tt>print()</tt>.\n",
        "\n",
        "We can change what we print by changing the variable <tt>a</tt>.   \n",
        "\n",
        "Carefully review the code line-by-line to understand how it works.\n",
        "\n",
        "\n"
      ],
      "metadata": {
        "id": "QILaN9xMlfea"
      }
    },
    {
      "cell_type": "markdown",
      "source": [
        "## Assignment: understanding comments and variables"
      ],
      "metadata": {
        "id": "vfVZQVZO7Z0u"
      }
    },
    {
      "cell_type": "markdown",
      "source": [
        "Study the code and answer the following:\n",
        "1. Does the output change if you change a comment?\n",
        "2. Note the () after print. What happens when you remove one of them or both?\n",
        "3. What is the variable in the code?\n",
        "4. Can you change the code so that it will print 999?\n",
        "5. Click on '{} Variables'\n",
        "6. Can you see your variable? Comment.\n",
        "7. Try x=2**3.\n",
        "8. What is 2**3? Discuss.\n",
        "9. Can you print infinity?\n",
        "10. Click on the three vertical dots : (three instead of just two dots). Do you agree with the AI explanation?\n"
      ],
      "metadata": {
        "id": "UbjQEkgH7b3T"
      }
    },
    {
      "cell_type": "code",
      "source": [
        "# Hello. This line is for humans to read.\n",
        "# It is not to be executed.\n",
        "# When you first type #, we have a comment. Typing here does not affect anything\n",
        "# Comments are used to explain programs to humans.\n",
        "# Computers do not execute the comments.\n",
        "\n",
        "# Computers use variables to store information.\n",
        "# In the following line, we store the number 3 in the variable \"x\"\n",
        "\n",
        "# What do you understand by saying that \"x\" is a variable?\n",
        "# Run this cell. Try a different value for \"x\".\n",
        "\n",
        "# Create another variable and experiment with different values.\n",
        "\n",
        "x = 5\n",
        "\n",
        "# print the value of x\n",
        "print(x)\n"
      ],
      "metadata": {
        "colab": {
          "base_uri": "https://localhost:8080/"
        },
        "id": "Kl3sgjbvl06C",
        "outputId": "af5f8a71-08dd-468e-9e3d-4ac044f2bea6"
      },
      "execution_count": null,
      "outputs": [
        {
          "output_type": "stream",
          "name": "stdout",
          "text": [
            "5\n"
          ]
        }
      ]
    },
    {
      "cell_type": "markdown",
      "source": [
        "# Where is my file?"
      ],
      "metadata": {
        "id": "x3ztfH2EqqxT"
      }
    },
    {
      "cell_type": "markdown",
      "source": [
        "Make sure to run \"Save a copy in Drive\" before you run this example. Else, it will not work.\n",
        "\n",
        "1. Click on <b>File</b>.\n",
        "2. Click on <b>Locate in Drive</b>.\n",
        "3. Write down the directory name under \"My Drive\" where your file appears.\n",
        "4. Can you see your file?\n",
        "5. Does it match the name above?\n",
        "\n",
        "\n"
      ],
      "metadata": {
        "id": "hIRsoUokbkdF"
      }
    },
    {
      "cell_type": "markdown",
      "source": [
        "# Find the current file using Google Colab"
      ],
      "metadata": {
        "id": "9jBqeXIn7H6o"
      }
    },
    {
      "cell_type": "markdown",
      "source": [
        "To see the current directory, use:\n",
        "```\n",
        "!pwd\n",
        "```\n",
        "To see the files in the local directory, use:\n",
        "```\n",
        "!ls\n",
        "```\n",
        "\n",
        "You can change directories using:\n",
        "```\n",
        "!cd directory-name\n",
        "```\n",
        "This will change the current directory name.\n",
        "\n",
        "You can go back a directory using:\n",
        "```\n",
        "!cd ..\n",
        "```\n",
        "1. What does \"go back\" mean here?\n",
        "2.c"
      ],
      "metadata": {
        "id": "0VNY9eqcpBhT"
      }
    },
    {
      "cell_type": "code",
      "source": [
        "# Import operating system functions\n",
        "import os\n",
        "\n",
        "# Get the current working directory\n",
        "current_dir = os.getcwd()\n",
        "print(\"Current directory:\", current_dir)\n",
        "\n",
        "# List all entries in the current directory\n",
        "entries = os.listdir()\n",
        "print(entries)\n",
        "\n",
        "# Define the new directory you want to change to\n",
        "new_dir = \"/path/to/your/directory\"  # Replace with the actual path\n",
        "\n",
        "# Change to the new directory\n",
        "os.chdir(new_dir)\n",
        "\n",
        "# Confirm the new working directory\n",
        "print(\"Changed to directory:\", os.getcwd())"
      ],
      "metadata": {
        "id": "_RHc6oyWgvVp",
        "outputId": "9f34e3fe-19e9-4ac2-8701-905ffa3309f7",
        "colab": {
          "base_uri": "https://localhost:8080/"
        }
      },
      "execution_count": null,
      "outputs": [
        {
          "output_type": "stream",
          "name": "stdout",
          "text": [
            "/content\n",
            "drive  sample_data\n",
            "/content\n"
          ]
        }
      ]
    },
    {
      "cell_type": "markdown",
      "source": [
        "# Strings"
      ],
      "metadata": {
        "id": "elknbD5i8Mao"
      }
    },
    {
      "cell_type": "markdown",
      "source": [
        "\n",
        "You can use variables to store characters.\n",
        "\n",
        "A collection of characters forms a string.\n",
        "\n",
        "So the following code stores your name in a variable:\n",
        "\n",
        "\n",
        "```\n",
        "MyString = \"A short phrase\"\n",
        "```\n",
        "From now on, MyString holds \"A short phrase\".\n",
        "\n",
        "\n",
        "Run the following code by clicking on the play button on the left.\n",
        "\n",
        "What can you see?\n",
        "\n",
        "Carefully read the code line-by-line to understand how it works.\n",
        "\n",
        "## Assignment: understanding strings\n",
        "Modify the code and answer the following questions:\n",
        "1. Can you change the code so that it will print your favorite food?\n",
        "2. Can you change the name of the variable to <tt>food</tt> and then <tt>print(food)</tt>?\n"
      ],
      "metadata": {
        "id": "sGEXOqIgr1aL"
      }
    },
    {
      "cell_type": "code",
      "source": [
        "# STRINGS\n",
        "# Computers understand strings.\n",
        "# The following line creates a string and stores it in the variable MyString\n",
        "MyString = \"Hello World!\"\n",
        "\n",
        "# PRINTING\n",
        "# You can now see the string in a:\n",
        "print(MyString)"
      ],
      "metadata": {
        "colab": {
          "base_uri": "https://localhost:8080/"
        },
        "id": "WbdV3ReAr9L9",
        "outputId": "f01ad55d-6da1-4620-a99e-9eccf965ef0f"
      },
      "execution_count": null,
      "outputs": [
        {
          "output_type": "stream",
          "name": "stdout",
          "text": [
            "Hello World!\n"
          ]
        }
      ]
    },
    {
      "cell_type": "markdown",
      "source": [
        "# Working with Files, Directories, and Google Drive"
      ],
      "metadata": {
        "id": "BJ52ovtYBjib"
      }
    },
    {
      "cell_type": "markdown",
      "source": [
        "## Mount Google Drive"
      ],
      "metadata": {
        "id": "hbeSM95-BsGp"
      }
    },
    {
      "cell_type": "markdown",
      "source": [
        "1. The <tt>from</tt> statement brings the definition of the <tt>drive</tt> function from\n",
        "<tt>google.colab</tt>.\n",
        "```\n",
        "from google.colab import drive\n",
        "```\n",
        "2. The following command connects your Google Drive to your Google Colab account:\n",
        "```\n",
        "drive.mount('/content/drive')\n",
        "```\n",
        "3. Click on the foloder icon on the left (last one).\n",
        "4. Click on <tt>drive</tt>\n",
        "5. Click on <tt>MyDrive</tt>\n",
        "6. Can you see your files?\n",
        "\n",
        "\n",
        "\n"
      ],
      "metadata": {
        "id": "0kKuK54SVjdv"
      }
    },
    {
      "cell_type": "code",
      "source": [
        "# Mount Google Drive\n",
        "from google.colab import drive\n",
        "drive.mount('/content/drive')"
      ],
      "metadata": {
        "colab": {
          "base_uri": "https://localhost:8080/"
        },
        "id": "290cBUusCvEA",
        "outputId": "6fdce058-9597-47de-e9fd-80723be35f81"
      },
      "execution_count": null,
      "outputs": [
        {
          "output_type": "stream",
          "name": "stdout",
          "text": [
            "Mounted at /content/drive\n"
          ]
        }
      ]
    },
    {
      "cell_type": "markdown",
      "source": [
        "## Create and Delete Directory Structures\n"
      ],
      "metadata": {
        "id": "BVhmJoI-BvYs"
      }
    },
    {
      "cell_type": "markdown",
      "source": [
        "1. Open <tt>Terminal</tt> by clicking on the icon below.\n",
        "2. Use <tt>ls -al</tt> to see more details about each file.</br>\n",
        "Note:</br>\n",
        "* <tt>d</tt> at the begining of each line indicates a directory.\n",
        "* <tt>.</tt> refers to the current directory.\n",
        "* <tt>..</tt> refers to the previous directory (before last /).\n",
        "* <tt>/</tt> refers to the root directory.\n",
        "3. Use <tt>pwd</tt>, <tt>ls</tt>, and <tt>cd</tt> to go to <tt>MyDrive</tt> directory.\n",
        "4. Use <tt>mkdir MLAI</tt> to create</br>\n",
        "```\n",
        "/content/drive/MyDrive/MLAI\n",
        "```\n",
        "5. Create and verify the following directories:</br>\n",
        "```\n",
        "/content/drive/MyDrive/MLAI/Session1\n",
        "/content/drive/MyDrive/MLAI/Session2\n",
        "/content/drive/MyDrive/MLAI/Session3\n",
        "```\n",
        "6. Use <tt>cd</tt> to go back to\n",
        "<tt>MyDrive</tt>.\n",
        "7. You can use\n",
        "<tt>rmdir Directory-Name</tt> to remove the new directories."
      ],
      "metadata": {
        "id": "ymCfTudYW3Oj"
      }
    },
    {
      "cell_type": "markdown",
      "source": [
        "## Upload and Download Files to Google Drive"
      ],
      "metadata": {
        "id": "YjGM81cCB99O"
      }
    },
    {
      "cell_type": "markdown",
      "source": [
        "1. Click on the Folder icon on the left.\n",
        "2. Click on the up arrow icon to upload a file.\n",
        "3. Locate the new file.\n",
        "3. Click on the three dots on the right to download a file."
      ],
      "metadata": {
        "id": "qqsjxNSvgE6e"
      }
    },
    {
      "cell_type": "markdown",
      "source": [
        "## Copy, move, and remove files"
      ],
      "metadata": {
        "id": "xRH6nxtHCK8N"
      }
    },
    {
      "cell_type": "markdown",
      "source": [
        "Note:\n",
        "* Copy files:  &nbsp; &nbsp; &nbsp; <tt> cp filename new_filenam</tt>.\n",
        "* Use * for copying all files: &nbsp; &nbsp; &nbsp; <tt> cp * new_directory_name</tt>.\n",
        "* Move files: &nbsp; &nbsp; &nbsp;<tt>mv filename directory_name</tt>\n",
        "* Remove files: &nbsp; &nbsp; &nbsp;<tt>rm filename</tt>\n",
        "* Force removal: &nbsp; &nbsp; &nbsp;<tt>rm -f filename</tt>\n",
        "\n",
        "Assignment:\n",
        "1. Open the command prompt.\n",
        "2. Use cp to copy a file to a new filename.\n",
        "3. Move the new file to another directory.\n",
        "4. Remove the new filename."
      ],
      "metadata": {
        "id": "b7oIA_P-hRxu"
      }
    }
  ]
}