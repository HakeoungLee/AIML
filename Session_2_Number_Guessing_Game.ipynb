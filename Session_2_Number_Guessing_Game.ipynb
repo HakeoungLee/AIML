{
  "nbformat": 4,
  "nbformat_minor": 0,
  "metadata": {
    "colab": {
      "provenance": [],
      "toc_visible": true,
      "authorship_tag": "ABX9TyP4wqFesi7mVID1fDLMtOjr",
      "include_colab_link": true
    },
    "kernelspec": {
      "name": "python3",
      "display_name": "Python 3"
    },
    "language_info": {
      "name": "python"
    }
  },
  "cells": [
    {
      "cell_type": "markdown",
      "metadata": {
        "id": "view-in-github",
        "colab_type": "text"
      },
      "source": [
        "<a href=\"https://colab.research.google.com/github/pattichis/AIML/blob/main/Session_2_Number_Guessing_Game.ipynb\" target=\"_parent\"><img src=\"https://colab.research.google.com/assets/colab-badge.svg\" alt=\"Open In Colab\"/></a>"
      ]
    },
    {
      "cell_type": "markdown",
      "source": [
        "# Exploring Programming with Python\n",
        "## Assignment:\n",
        "1. Play the game.\n",
        "2. How do you think it works?\n",
        "3. Discuss within your group."
      ],
      "metadata": {
        "id": "fq4_NtbjtCPt"
      }
    },
    {
      "cell_type": "code",
      "source": [
        "name = input(\"What is your name? \")\n",
        "hi   = \"Hello \" + name + \"!\" # What do you think the Addition signs do?\n",
        "print(hi)\n",
        "print(\" \") # prints an empty line\n",
        "print(\"Let us play a game!\")\n",
        "\n",
        "# Recall inverse operations\n",
        "msg = \"Think of an integer number but do not tell me! Press Enter when done.\"\n",
        "wait = input(msg)                           # x\n",
        "wait = input(\"Multiply by 2 and hit enter\") # 2*x\n",
        "wait = input(\"Add 3 and hit enter\")         # 2*x + 3\n",
        "\n",
        "print(\" \")\n",
        "s = input(\"Give me the result from this operation : \")  # 2*x + 3\n",
        "print(\" \")\n",
        "\n",
        "# Apply inverse operations:\n",
        "y  = int(s)      # Convert from a string to a number.\n",
        "x1 = y - 3       # (2*x + 3) - 3 = 2*x\n",
        "x2 = int(x1/2)   # (2*x)/2 = x\n",
        "\n",
        "# Message\n",
        "msg = \"Your number is \"+str(x2) # str(x2) makes it into a number.\n",
        "print(msg)\n",
        "msg = \"Aren't you impressed \"+name+\" :-)\"\n",
        "print(msg)"
      ],
      "metadata": {
        "id": "OK1jHg9Zt0hh"
      },
      "execution_count": null,
      "outputs": []
    },
    {
      "cell_type": "markdown",
      "source": [
        "# Concatenating Strings"
      ],
      "metadata": {
        "id": "aPZkI3tkvUuI"
      }
    },
    {
      "cell_type": "markdown",
      "source": [
        "1. Run the code below.\n",
        "2. What does the + do?\n",
        "3. Modify the code to print a silly message.\n",
        "4. Share your message with your group."
      ],
      "metadata": {
        "id": "KL6HAiArvcDI"
      }
    },
    {
      "cell_type": "code",
      "source": [
        "name = input(\"What is your name? \")\n",
        "hi   = \"Hello \" + name + \"!\" # What do you think the Addition signs do?\n",
        "print(hi)"
      ],
      "metadata": {
        "id": "x0w8gTzXvfLE"
      },
      "execution_count": null,
      "outputs": []
    },
    {
      "cell_type": "markdown",
      "source": [
        "# Math Operations"
      ],
      "metadata": {
        "id": "wnT7sUdCuQOG"
      }
    },
    {
      "cell_type": "markdown",
      "source": [
        "## Complex Operations Assignment\n",
        "1. Run the code.\n",
        "2. How does it work?\n",
        "3. Can you program a complex math operation?"
      ],
      "metadata": {
        "id": "qgG4iF2ouwOh"
      }
    },
    {
      "cell_type": "code",
      "source": [
        "# Python can process complex expressions.\n",
        "# Run and think about what the code does.\n",
        "x = 100\n",
        "y = 100*x + 5\n",
        "print(\"x=\", x, \" y=\", y)"
      ],
      "metadata": {
        "colab": {
          "base_uri": "https://localhost:8080/"
        },
        "id": "gNkoLyHiudix",
        "outputId": "ca9ca096-fc40-4e62-9fd0-d920b4d5facf"
      },
      "execution_count": null,
      "outputs": [
        {
          "output_type": "stream",
          "name": "stdout",
          "text": [
            "x= 100  y= 10005\n"
          ]
        }
      ]
    },
    {
      "cell_type": "markdown",
      "source": [
        "# Strings to integers and integer operations"
      ],
      "metadata": {
        "id": "rY0NRw5VyhdL"
      }
    },
    {
      "cell_type": "markdown",
      "source": [
        "1. Run the code.\n",
        "2. Discuss the code line-by-line.\n",
        "3. Change the input number to 4.1. What happens? Why?\n",
        "4. Try a non-number input. What happens?\n",
        "5. Modify the code to calculate y=2*x-1.\n",
        "6. Try different inputs. Does it work?"
      ],
      "metadata": {
        "id": "xWCeOPuzzDO1"
      }
    },
    {
      "cell_type": "code",
      "source": [
        "string = input(\"Give me a number \")\n",
        "x = int(string)\n",
        "y = 5*x+3\n",
        "z = int(x/2)\n",
        "print(x, y, z)"
      ],
      "metadata": {
        "id": "__AKsY67yq4e"
      },
      "execution_count": null,
      "outputs": []
    },
    {
      "cell_type": "markdown",
      "source": [
        "# Connecting the Game to Variables and Operations w/ Python"
      ],
      "metadata": {
        "id": "4wUofMOc4-bu"
      }
    },
    {
      "cell_type": "markdown",
      "source": [
        "1. How does your number change? Why?\n",
        "2. Can you explain what the lines below do?\n",
        "3. After playing a couple of times, take turns making changes and predict what will happen."
      ],
      "metadata": {
        "id": "oB85btRkus9K"
      }
    },
    {
      "cell_type": "code",
      "source": [
        "x = int(input(\"Enter a number:              x     = \"))\n",
        "print(\"Multiplying x by 2 gives:    2*x   =\", 2*x)\n",
        "print(\"Adding 3 to the result gives 2*x+3 =\", 2*x+3)"
      ],
      "metadata": {
        "id": "4b5szDpn5Kkq"
      },
      "execution_count": null,
      "outputs": []
    },
    {
      "cell_type": "markdown",
      "source": [
        "# Multiple variables"
      ],
      "metadata": {
        "id": "OF-EOqCdu_to"
      }
    },
    {
      "cell_type": "markdown",
      "source": [
        "1. Run this Cell.\n",
        "2. How is it different from the previous cell?\n",
        "3. x, y and z are variables. What is a variable?\n",
        "4. How does the value of x relate to y and z?\n",
        "5. After playing a couple times, take turns changing the names of the variables."
      ],
      "metadata": {
        "id": "8mh1a6lhvIC1"
      }
    },
    {
      "cell_type": "code",
      "source": [
        "x = int(input(\"Enter a number:               x = \"))\n",
        "\n",
        "y = 2*x\n",
        "print(\"Multiplying x by 2 gives:     y = 2*x   =\", y)\n",
        "\n",
        "z = y+3\n",
        "print(\"Adding 3 to the result gives: z = 2*x+3 =\", z)"
      ],
      "metadata": {
        "id": "1EBvF5hPva7D"
      },
      "execution_count": null,
      "outputs": []
    },
    {
      "cell_type": "markdown",
      "source": [
        "# Create your own expressions"
      ],
      "metadata": {
        "id": "deyVd99cvk7X"
      }
    },
    {
      "cell_type": "markdown",
      "source": [
        "Your turn.\n",
        "1. Take turns naming and modifying the variables below\n",
        "2. Before you run your variables, predict the results."
      ],
      "metadata": {
        "id": "fFtS5MI0vuwD"
      }
    },
    {
      "cell_type": "code",
      "source": [
        "x = int(input(\"Enter a number:               x = \"))\n",
        "\n",
        "y = ?*x   # <- Multiply by your own number.\n",
        "print(\"Multiplying x by ? gives:     y = ?*x   =\", y)\n",
        "\n",
        "z = ?? + y   # <- Add your own number.\n",
        "print(\"Adding ?? to the result gives: z = y + ?? =\", z)"
      ],
      "metadata": {
        "id": "9UXUOZH4v-yn"
      },
      "execution_count": null,
      "outputs": []
    },
    {
      "cell_type": "markdown",
      "source": [
        "# Create your own number guessing game"
      ],
      "metadata": {
        "id": "xT10g4e0wRAj"
      }
    },
    {
      "cell_type": "markdown",
      "source": [
        "1. Create your own expressions.\n",
        "They cannot be 2*x+3 :-(.\n",
        "2. Then apply the inverse steps carefully.\n",
        "3. Play with your code once you are done."
      ],
      "metadata": {
        "id": "1CbYz1eZwWlC"
      }
    },
    {
      "cell_type": "code",
      "source": [
        "# Carefully modify the code below to\n",
        "# implement your equation for a new Number Guessing Game.\n",
        "# Run the code to make sure that it works!\n",
        "\n",
        "name = input(\"What is your name? \")\n",
        "hi   = \"Hello \" + name + \"!\" # Addition is concatenation:\n",
        "print(hi)\n",
        "print(\" \") # prints an empty line\n",
        "print(\"Let us play a game!\")\n",
        "\n",
        "# Recall inverse operations\n",
        "msg = \"Think of an integer number but do not tell me! Press Enter when done.\"\n",
        "wait = input(msg)                           # x\n",
        "wait = input(\"Multiply by 2 and hit enter\") # 2*x      <- 1. Change multiply.\n",
        "wait = input(\"Add 3 and hit enter\")         # 2*x + 3  <- 2. Change addition.\n",
        "\n",
        "print(\" \")\n",
        "s = input(\"Give me the result from this operation : \")  # 2*x + 3 <- 3. Change equation.\n",
        "print(\" \")\n",
        "\n",
        "# Apply inverse operations:\n",
        "y  = int(s) # Convert from a string to a number.\n",
        "x1 = y - 3  # (2*x + 3) - 3 = 2*x                 <- 4. Reverse addition.\n",
        "x2 = int(x1/2)   # (2*x)/2 = x                    <- 5. Reverse multiply.\n",
        "\n",
        "# Message\n",
        "msg = \"Your number is \"+str(x2) # str(x2) makes it into a number.\n",
        "print(msg)\n",
        "msg = \"Aren't you impressed \"+name+\" :-)\"\n",
        "print(msg)"
      ],
      "metadata": {
        "id": "55nAbUOqwrVH"
      },
      "execution_count": null,
      "outputs": []
    }
  ]
}