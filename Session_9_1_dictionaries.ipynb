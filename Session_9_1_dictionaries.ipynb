{
  "nbformat": 4,
  "nbformat_minor": 0,
  "metadata": {
    "colab": {
      "provenance": [],
      "toc_visible": true,
      "authorship_tag": "ABX9TyM+i0MsVpWWQExnPGC8uTG7",
      "include_colab_link": true
    },
    "kernelspec": {
      "name": "python3",
      "display_name": "Python 3"
    },
    "language_info": {
      "name": "python"
    }
  },
  "cells": [
    {
      "cell_type": "markdown",
      "metadata": {
        "id": "view-in-github",
        "colab_type": "text"
      },
      "source": [
        "<a href=\"https://colab.research.google.com/github/pattichis/AIML/blob/main/Session_9_1_dictionaries.ipynb\" target=\"_parent\"><img src=\"https://colab.research.google.com/assets/colab-badge.svg\" alt=\"Open In Colab\"/></a>"
      ]
    },
    {
      "cell_type": "markdown",
      "source": [
        "# Dictionaries"
      ],
      "metadata": {
        "id": "-gM-d8rignUf"
      }
    },
    {
      "cell_type": "markdown",
      "source": [
        "Goals:\n",
        "1. Create a dictionary.\n",
        "2. Retrieve dictionary values.\n",
        "3. Set values.\n",
        "4. Optional: Dynamic dictionary behavior."
      ],
      "metadata": {
        "id": "W0o1AdxcgnhV"
      }
    },
    {
      "cell_type": "markdown",
      "source": [
        "## Create a dictionary"
      ],
      "metadata": {
        "id": "xuesqXk6wugl"
      }
    },
    {
      "cell_type": "markdown",
      "source": [
        "```\n",
        "dictionary_name = {\n",
        "  String_name1 : Value_for_name1,\n",
        "  String_name2 : Value_for_name2,\n",
        "  :  \n",
        "}\n",
        "```\n",
        "\n"
      ],
      "metadata": {
        "id": "DKty5tamxkay"
      }
    },
    {
      "cell_type": "code",
      "source": [
        "# Empty dictionary creation\n",
        "empty_dict = {}\n",
        "print(\"empty_dict = \", empty_dict)\n",
        "\n",
        "# Create a dictionary\n",
        "person = {\n",
        "    \"name\": \"Alice\",\n",
        "    \"age\": 30,\n",
        "    \"city\": \"New York\"\n",
        "}\n",
        "\n",
        "print(\"person = \", person)"
      ],
      "metadata": {
        "colab": {
          "base_uri": "https://localhost:8080/"
        },
        "id": "dHqgSXSr5Jcp",
        "outputId": "eed6e79f-cf80-4e15-cc30-5383fe1b760d"
      },
      "execution_count": 25,
      "outputs": [
        {
          "output_type": "stream",
          "name": "stdout",
          "text": [
            "empty_dict =  {}\n",
            "person =  {'name': 'Alice', 'age': 30, 'city': 'New York'}\n"
          ]
        }
      ]
    },
    {
      "cell_type": "markdown",
      "source": [
        "## Set, add, delete dictionary elements"
      ],
      "metadata": {
        "id": "CiFj0yaU2qnC"
      }
    },
    {
      "cell_type": "markdown",
      "source": [
        "Set and add elements using:\n",
        "```\n",
        "dictionary_name [String_variable_name] = new_value\n",
        "```\n",
        "Note: String_variable_name will be added as a new attribute if it is not already part of the dictionary!<br>\n",
        "<br>\n",
        "\n",
        "Access using the same pattern:\n",
        "```\n",
        "print(dictionary_name[String_variable_name])\n",
        "```\n",
        "\n",
        "Delete by calling del on the same thing:\n",
        "```\n",
        "del dictionary_name[String_variable_name]\n",
        "```\n",
        "\n",
        "\n",
        "\n",
        "\n",
        "1. Add another dictionary element.\n",
        "2. Print the new element.\n",
        "3. Set the new element.\n"
      ],
      "metadata": {
        "id": "xXyuqcWevmpr"
      }
    },
    {
      "cell_type": "code",
      "source": [
        "# Create a dictionary\n",
        "person = {\n",
        "    \"name\": \"Alice\",\n",
        "    \"age\": 30,\n",
        "    \"city\": \"New York\"\n",
        "}\n",
        "\n",
        "print(\"Initial dictionary:\")\n",
        "print(person)\n",
        "print(\" \")\n",
        "\n",
        "# Access an element:\n",
        "print(\"Access an element\")\n",
        "print(\"person[\\\"name\\\"] = \", person[\"name\"])\n",
        "print(\" \")\n",
        "\n",
        "# Set an element:\n",
        "person[\"age\"] = 31\n",
        "print(\"Updated value:\")\n",
        "print(person)\n",
        "print(\" \")\n",
        "\n",
        "# Delete an element:\n",
        "del person[\"age\"]\n",
        "print(\"After del\", person)"
      ],
      "metadata": {
        "colab": {
          "base_uri": "https://localhost:8080/"
        },
        "outputId": "3377b190-c02d-41ef-ddcf-11883febcfc2",
        "id": "Du0Q89TEvneI"
      },
      "execution_count": 26,
      "outputs": [
        {
          "output_type": "stream",
          "name": "stdout",
          "text": [
            "Initial dictionary:\n",
            "{'name': 'Alice', 'age': 30, 'city': 'New York'}\n",
            " \n",
            "Access an element\n",
            "person[\"name\"] =  Alice\n",
            " \n",
            "Updated value:\n",
            "{'name': 'Alice', 'age': 31, 'city': 'New York'}\n",
            " \n",
            "After del {'name': 'Alice', 'city': 'New York'}\n"
          ]
        }
      ]
    },
    {
      "cell_type": "markdown",
      "source": [
        "# Assignment: Create a dictionary"
      ],
      "metadata": {
        "id": "CDsHPn0FgAvX"
      }
    },
    {
      "cell_type": "markdown",
      "source": [
        "For the following, use print statements to verify.\n",
        "1. Create your own dictionary.\n",
        "2. Change a value in your dictionary.\n",
        "3. Add an attribute to your dictionary.\n",
        "4. Delete an attribute."
      ],
      "metadata": {
        "id": "O335AeX4gA6e"
      }
    },
    {
      "cell_type": "code",
      "source": [],
      "metadata": {
        "id": "tmS5J3mPgBUb"
      },
      "execution_count": 26,
      "outputs": []
    },
    {
      "cell_type": "markdown",
      "source": [
        "# Optional: Real-time (dynamic) behavior of dictionaries"
      ],
      "metadata": {
        "id": "X-cVoACWTCiA"
      }
    },
    {
      "cell_type": "markdown",
      "source": [
        "## Optional: Dynamic Introspection"
      ],
      "metadata": {
        "id": "1I6T8YagTC3q"
      }
    },
    {
      "cell_type": "code",
      "source": [
        "# Create a dictionary\n",
        "person = {\n",
        "    \"name\": \"Alice\",\n",
        "    \"age\": 30,\n",
        "    \"city\": \"New York\"\n",
        "}\n",
        "my_dict = person\n",
        "\n",
        "# Basic introspection during runtime\n",
        "\n",
        "# What type is this object?\n",
        "print(\"type(my_dict) = \", type(my_dict))  #\n",
        "print(\" \")\n",
        "\n",
        "# What attributes/methods does it have?\n",
        "print(\"Attributes: dir(my_dict) = \", dir(my_dict))\n",
        "print(\" \")\n",
        "\n",
        "# Does it have a specific attribute?\n",
        "print(hasattr(my_dict, 'copy'))  # True\n",
        "print(\" \")\n",
        "\n",
        "# Get and apply a method dynamically\n",
        "print(\"Apply a method dynamically\")\n",
        "copy_method = getattr(my_dict, 'copy')\n",
        "new_dict = copy_method()\n",
        "print(type(copy_method))\n",
        "print(new_dict)\n",
        "print(\" \")\n",
        "\n",
        "# Access dictionary keys and values directly ...\n",
        "\n",
        "print(\"Keys:\")\n",
        "for key in my_dict.keys():\n",
        "    print(f\"{key}\")\n",
        "print(\" \")\n",
        "\n",
        "print(\"Values:\")\n",
        "for value in my_dict.values():\n",
        "    print(f\"{value}\")\n",
        "print(\" \")\n",
        "\n",
        "print(\"key-value pairs:\")\n",
        "for key, value in my_dict.items():\n",
        "    print(f\"{key}: {value}\")\n"
      ],
      "metadata": {
        "colab": {
          "base_uri": "https://localhost:8080/"
        },
        "id": "ug3plI_6TDYH",
        "outputId": "1a43ac2c-7403-4d6a-a05b-f19079b807e3"
      },
      "execution_count": 27,
      "outputs": [
        {
          "output_type": "stream",
          "name": "stdout",
          "text": [
            "type(my_dict) =  <class 'dict'>\n",
            " \n",
            "Attributes: dir(my_dict) =  ['__class__', '__class_getitem__', '__contains__', '__delattr__', '__delitem__', '__dir__', '__doc__', '__eq__', '__format__', '__ge__', '__getattribute__', '__getitem__', '__getstate__', '__gt__', '__hash__', '__init__', '__init_subclass__', '__ior__', '__iter__', '__le__', '__len__', '__lt__', '__ne__', '__new__', '__or__', '__reduce__', '__reduce_ex__', '__repr__', '__reversed__', '__ror__', '__setattr__', '__setitem__', '__sizeof__', '__str__', '__subclasshook__', 'clear', 'copy', 'fromkeys', 'get', 'items', 'keys', 'pop', 'popitem', 'setdefault', 'update', 'values']\n",
            " \n",
            "True\n",
            " \n",
            "Apply a method dynamically\n",
            "<class 'builtin_function_or_method'>\n",
            "{'name': 'Alice', 'age': 30, 'city': 'New York'}\n",
            " \n",
            "Keys:\n",
            "name\n",
            "age\n",
            "city\n",
            " \n",
            "Values:\n",
            "Alice\n",
            "30\n",
            "New York\n",
            " \n",
            "key-value pairs:\n",
            "name: Alice\n",
            "age: 30\n",
            "city: New York\n"
          ]
        }
      ]
    },
    {
      "cell_type": "markdown",
      "source": [
        "## Optional: Create a new dictionary from two lists of keys and values."
      ],
      "metadata": {
        "id": "Fz99V0_DVYHM"
      }
    },
    {
      "cell_type": "code",
      "source": [
        "keys = ['name', 'age', 'city', 'email']\n",
        "values = ['Alice', 30, 'New York', 'alice@example.com']\n",
        "\n",
        "person = dict(zip(keys, values))\n",
        "print(person)"
      ],
      "metadata": {
        "colab": {
          "base_uri": "https://localhost:8080/"
        },
        "id": "_XB5t1P4VYas",
        "outputId": "8de07fd6-d23d-455b-faaf-6f9380d3cc8a"
      },
      "execution_count": 28,
      "outputs": [
        {
          "output_type": "stream",
          "name": "stdout",
          "text": [
            "{'name': 'Alice', 'age': 30, 'city': 'New York', 'email': 'alice@example.com'}\n"
          ]
        }
      ]
    },
    {
      "cell_type": "markdown",
      "source": [
        "## Optional: Dynamically Create or Add to a Dictionary"
      ],
      "metadata": {
        "id": "H91Jf3mdWYez"
      }
    },
    {
      "cell_type": "code",
      "source": [
        "person = {}\n",
        "keys = ['name', 'age', 'city', 'email']\n",
        "values = ['Alice', 30, 'New York', 'alice@example.com']\n",
        "\n",
        "for key, value in zip(keys, values):\n",
        "    person[key] = value\n",
        "print(person)"
      ],
      "metadata": {
        "colab": {
          "base_uri": "https://localhost:8080/"
        },
        "id": "Hmys_c-QWYuB",
        "outputId": "89fc4858-745f-4f07-9349-738a0cb60e9d"
      },
      "execution_count": 29,
      "outputs": [
        {
          "output_type": "stream",
          "name": "stdout",
          "text": [
            "{'name': 'Alice', 'age': 30, 'city': 'New York', 'email': 'alice@example.com'}\n"
          ]
        }
      ]
    }
  ]
}