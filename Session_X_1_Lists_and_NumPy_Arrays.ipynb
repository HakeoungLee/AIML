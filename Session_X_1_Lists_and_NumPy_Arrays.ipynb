{
  "nbformat": 4,
  "nbformat_minor": 0,
  "metadata": {
    "colab": {
      "provenance": [],
      "toc_visible": true,
      "include_colab_link": true
    },
    "kernelspec": {
      "name": "python3",
      "display_name": "Python 3"
    },
    "language_info": {
      "name": "python"
    }
  },
  "cells": [
    {
      "cell_type": "markdown",
      "metadata": {
        "id": "view-in-github",
        "colab_type": "text"
      },
      "source": [
        "<a href=\"https://colab.research.google.com/github/pattichis/AIML/blob/main/Session_X_1_Lists_and_NumPy_Arrays.ipynb\" target=\"_parent\"><img src=\"https://colab.research.google.com/assets/colab-badge.svg\" alt=\"Open In Colab\"/></a>"
      ]
    },
    {
      "cell_type": "markdown",
      "source": [
        "# Goals"
      ],
      "metadata": {
        "id": "f8JQSyd507dz"
      }
    },
    {
      "cell_type": "markdown",
      "source": [
        "1. Introduce Python lists and their operations.\n",
        "2. Lists indexing and lists of lists.\n",
        "3. Operations on NumPy arrays."
      ],
      "metadata": {
        "id": "asVBI7g8rbgb"
      }
    },
    {
      "cell_type": "markdown",
      "source": [
        "# Working with Python Lists"
      ],
      "metadata": {
        "id": "IFDRrvBFrbpr"
      }
    },
    {
      "cell_type": "markdown",
      "source": [
        "## Create a list of numbers"
      ],
      "metadata": {
        "id": "tKxTHpowJ-Ea"
      }
    },
    {
      "cell_type": "markdown",
      "source": [
        "1. Study the code below.\n",
        "2. Create a list that contains 5.\n",
        "3. Create [2, 2, 2] two different ways.\n",
        "4. Create [1, 2, 3, 4] in variable e."
      ],
      "metadata": {
        "id": "dylWDJAaLUfg"
      }
    },
    {
      "cell_type": "code",
      "source": [
        "# Empty list\n",
        "a = []\n",
        "print(\"a = \", a)\n",
        "\n",
        "# One element\n",
        "b = [1]\n",
        "print(\"b = \", b)\n",
        "\n",
        "# Standard list\n",
        "c = [1, 2, 3]\n",
        "print(\"c = \", c)\n",
        "\n",
        "# Use * to duplicate elements\n",
        "num_of_elements = 5\n",
        "d = b*num_of_elements\n",
        "print(\"d = \", d)"
      ],
      "metadata": {
        "colab": {
          "base_uri": "https://localhost:8080/"
        },
        "id": "acX_f5AtKLH_",
        "outputId": "097b9f50-992d-4127-a7df-9fdea874e307"
      },
      "execution_count": null,
      "outputs": [
        {
          "output_type": "stream",
          "name": "stdout",
          "text": [
            "a =  []\n",
            "b =  [1]\n",
            "c =  [1, 2, 3]\n",
            "d =  [1, 1, 1, 1, 1]\n"
          ]
        }
      ]
    },
    {
      "cell_type": "markdown",
      "source": [
        "## Create a list using list comprehensions"
      ],
      "metadata": {
        "id": "lZzIC5o3NgkU"
      }
    },
    {
      "cell_type": "markdown",
      "source": [
        "1. Study the code below and answer the questions.\n",
        "2. What do you think range(5) does?\n",
        "3. What does append do?\n",
        "4. Note the special format string for print. What does {i} mean?\n",
        "5. Explain how you think the list comprehension works."
      ],
      "metadata": {
        "id": "v3jtSS3DN6Tl"
      }
    },
    {
      "cell_type": "code",
      "source": [
        "# Add elements using a for loop\n",
        "a = []\n",
        "\n",
        "print(\"Entering the loop: a = \", a)\n",
        "for i in range(5): # range generates values ...\n",
        "  a.append(i)      # Expand the list ...\n",
        "  print(f\"a.append({i}) gives a = {a}\") # Variable inside {} makes it print.\n",
        "print(\"Exiting the loop: a = \", a)\n",
        "\n",
        "# Add elements using list comprehension\n",
        "a = [i for i in range(5)]\n",
        "print(\"a = \", a)"
      ],
      "metadata": {
        "colab": {
          "base_uri": "https://localhost:8080/"
        },
        "id": "BIAGN0F-N8Jz",
        "outputId": "6fe6a1e3-56ec-4bb2-a22d-7685c710b1ad"
      },
      "execution_count": null,
      "outputs": [
        {
          "output_type": "stream",
          "name": "stdout",
          "text": [
            "Entering the loop: a =  []\n",
            "a.append(0) gives a = [0]\n",
            "a.append(1) gives a = [0, 1]\n",
            "a.append(2) gives a = [0, 1, 2]\n",
            "a.append(3) gives a = [0, 1, 2, 3]\n",
            "a.append(4) gives a = [0, 1, 2, 3, 4]\n",
            "Exiting the loop: a =  [0, 1, 2, 3, 4]\n",
            "a =  [0, 1, 2, 3, 4]\n"
          ]
        }
      ]
    },
    {
      "cell_type": "markdown",
      "source": [
        "## Indexing elements in a list"
      ],
      "metadata": {
        "id": "UwvW7Jp0N81k"
      }
    },
    {
      "cell_type": "markdown",
      "source": [
        "1. Study the examples below and discuss within your group.\n",
        "2. Is a[5] valid? Explain.\n",
        "3. What is the largest positive index? Explain.\n",
        "4. What is the most negative index? Explain.\n"
      ],
      "metadata": {
        "id": "ptc7ZFxGQjae"
      }
    },
    {
      "cell_type": "code",
      "source": [
        "a = [1, 2, 3, 4, 5]\n",
        "\n",
        "print(\"a = \", a)\n",
        "print(\"len(a) = \", len(a))\n",
        "print(\" \")\n",
        "\n",
        "print(\"a[0] = \", a[0])\n",
        "print(\"a[1] = \", a[1])\n",
        "print(\"a[2] = \", a[2])\n",
        "print(\" \")\n",
        "\n",
        "print(\"a[-1] = \", a[-1])\n",
        "print(\"a[-2] = \", a[-2])\n",
        "print(\"a[-3] = \", a[-3])\n"
      ],
      "metadata": {
        "colab": {
          "base_uri": "https://localhost:8080/"
        },
        "id": "KXW-kTCTKzLu",
        "outputId": "f39e0850-75c3-426f-8dba-0fc7a3098482"
      },
      "execution_count": null,
      "outputs": [
        {
          "output_type": "stream",
          "name": "stdout",
          "text": [
            "a =  [1, 2, 3, 4, 5]\n",
            "len(a) =  5\n",
            " \n",
            "a[0] =  1\n",
            "a[1] =  2\n",
            "a[2] =  3\n",
            " \n",
            "a[-1] =  5\n",
            "a[-2] =  4\n",
            "a[-3] =  3\n"
          ]
        }
      ]
    },
    {
      "cell_type": "markdown",
      "source": [
        "## Understanding what \"=\" means for lists"
      ],
      "metadata": {
        "id": "L0HAYat-qHRJ"
      }
    },
    {
      "cell_type": "markdown",
      "source": [
        "1. Run and study the code below.\n",
        "2. Do you see anything strange? Explain.\n",
        "3. What does \"=\" do here?\n"
      ],
      "metadata": {
        "id": "ZRcLr0m00M09"
      }
    },
    {
      "cell_type": "code",
      "source": [
        "a = [1, 2, 3, 4, 5]\n",
        "b = a\n",
        "print(\"a = \", a)\n",
        "print(\"b = \", b)\n",
        "print(\" \")\n",
        "\n",
        "a[0] = 100\n",
        "print(\"a = \", a)\n",
        "print(\"b = \", b)"
      ],
      "metadata": {
        "colab": {
          "base_uri": "https://localhost:8080/"
        },
        "id": "e6SUT3ZK0Bvy",
        "outputId": "8141da91-897b-4202-9527-983057672f6f"
      },
      "execution_count": null,
      "outputs": [
        {
          "output_type": "stream",
          "name": "stdout",
          "text": [
            "a =  [1, 2, 3, 4, 5]\n",
            "b =  [1, 2, 3, 4, 5]\n",
            " \n",
            "a =  [100, 2, 3, 4, 5]\n",
            "b =  [100, 2, 3, 4, 5]\n"
          ]
        }
      ]
    },
    {
      "cell_type": "markdown",
      "source": [
        "## Optional: Reference counting"
      ],
      "metadata": {
        "id": "pIFU8VPm1-4F"
      }
    },
    {
      "cell_type": "markdown",
      "source": [
        "1. Examine how the number of references changes.\n",
        "2. Click on <tt>{} Variables</tt> below. Do <tt>a</tt> and <tt>b</tt> exist? Explain.\n",
        "3. What do you think <tt>del</tt> does?\n",
        "4. Why do you think the number of references changes in each step?"
      ],
      "metadata": {
        "id": "anW92hqs2F4L"
      }
    },
    {
      "cell_type": "code",
      "source": [
        "import sys\n",
        "a = [1, 2, 3, 4, 5]\n",
        "print(\"1. References to a: \", sys.getrefcount(a))\n",
        "\n",
        "b = a\n",
        "print(\"2. References to a: \", sys.getrefcount(a))\n",
        "\n",
        "a[0] = 100\n",
        "print(\"3. References to a: \", sys.getrefcount(a))\n",
        "print(\"4. References to b: \", sys.getrefcount(b))\n",
        "\n",
        "del a\n",
        "print(\"5. References to b: \", sys.getrefcount(b))\n",
        "\n",
        "del b\n"
      ],
      "metadata": {
        "colab": {
          "base_uri": "https://localhost:8080/"
        },
        "id": "J8Xoap2l2GoQ",
        "outputId": "0244d20b-5c6c-4c0d-eab9-f37e848caefb"
      },
      "execution_count": null,
      "outputs": [
        {
          "output_type": "stream",
          "name": "stdout",
          "text": [
            "1. References to a:  2\n",
            "2. References to a:  3\n",
            "3. References to a:  3\n",
            "4. References to b:  3\n",
            "5. References to b:  2\n"
          ]
        }
      ]
    },
    {
      "cell_type": "markdown",
      "source": [
        "## Copying lists"
      ],
      "metadata": {
        "id": "ohnpl3rc-55T"
      }
    },
    {
      "cell_type": "markdown",
      "source": [
        "1. Study the example carefully.\n",
        "2. What changed?\n",
        "3. What do you think <tt>copy.deepcopy()</tt> does?"
      ],
      "metadata": {
        "id": "2vVPl--1--OZ"
      }
    },
    {
      "cell_type": "code",
      "source": [
        "import copy\n",
        "\n",
        "a = [1, 2, 3, 4, 5]\n",
        "b = copy.deepcopy(a)\n",
        "print(\"a = \", a)\n",
        "print(\"b = \", b)\n",
        "print(\" \")\n",
        "\n",
        "a[0] = 100\n",
        "print(\"a = \", a)\n",
        "print(\"b = \", b)"
      ],
      "metadata": {
        "colab": {
          "base_uri": "https://localhost:8080/"
        },
        "id": "_0qDDvSF_BbM",
        "outputId": "28c8ac5d-927d-41e2-8edf-d99de5ad0722"
      },
      "execution_count": null,
      "outputs": [
        {
          "output_type": "stream",
          "name": "stdout",
          "text": [
            "a =  [1, 2, 3, 4, 5]\n",
            "b =  [1, 2, 3, 4, 5]\n",
            " \n",
            "a =  [100, 2, 3, 4, 5]\n",
            "b =  [1, 2, 3, 4, 5]\n"
          ]
        }
      ]
    },
    {
      "cell_type": "markdown",
      "source": [
        "## Operations on lists"
      ],
      "metadata": {
        "id": "vtMChfhJUOvR"
      }
    },
    {
      "cell_type": "markdown",
      "source": [
        "1. Study and discuss the code.\n",
        "2. What does + do?\n",
        "3. Use + to generate 5 copies of a list.\n",
        "4. What dows * do?\n",
        "5. Use * to generate 10 copies of an element.\n",
        "\n"
      ],
      "metadata": {
        "id": "mhvmXRMGUYiq"
      }
    },
    {
      "cell_type": "code",
      "source": [
        "# Length of list\n",
        "a = [1, 2, 3]\n",
        "print(\"len(a) = \", len(a))\n",
        "\n",
        "# Concatenation using +\n",
        "a = [1, 2]\n",
        "b = [3, 4, 5]\n",
        "c = a + b\n",
        "print(\"c = \", c)\n",
        "\n",
        "\n",
        "# Multiplication: * = duplicate.\n",
        "a = [2]\n",
        "b = a*3\n",
        "print(\"b = \", b)"
      ],
      "metadata": {
        "id": "g9F8pIHFUaMv"
      },
      "execution_count": null,
      "outputs": []
    },
    {
      "cell_type": "markdown",
      "source": [
        "## A list of lists"
      ],
      "metadata": {
        "id": "e8W8q0nWSMds"
      }
    },
    {
      "cell_type": "markdown",
      "source": [
        "1. Study the code below and discuss.\n",
        "2. What does * do?\n",
        "3. What does + do?\n",
        "4. Create a list of 10 lists of [1, 2] using *\n"
      ],
      "metadata": {
        "id": "_JlQEcXaSZPl"
      }
    },
    {
      "cell_type": "code",
      "source": [
        "# A simple list\n",
        "a = [1,  2, 3]\n",
        "print(\"a = \", a)\n",
        "\n",
        "# Create a list of lists directly:\n",
        "b = [[1, 2, 3], [4, 5, 6]]\n",
        "print(\"b = \", b)\n",
        "print(\"len(b) = \", len(b))\n",
        "print(\" \")\n",
        "\n",
        "# The * operator on a simple list\n",
        "c = b*2\n",
        "print( \"c = \", c)\n",
        "\n",
        "# The + operator\n",
        "d = b + b\n",
        "print(\"d = \", d)"
      ],
      "metadata": {
        "colab": {
          "base_uri": "https://localhost:8080/"
        },
        "id": "1qTNoU_pOFac",
        "outputId": "5af5e29f-ed59-4f89-c684-7f879dd7de6b"
      },
      "execution_count": null,
      "outputs": [
        {
          "output_type": "stream",
          "name": "stdout",
          "text": [
            "a =  [1, 2, 3]\n",
            "b =  [[1, 2, 3], [4, 5, 6]]\n",
            "len(b) =  2\n",
            " \n",
            "c =  [[1, 2, 3], [4, 5, 6], [1, 2, 3], [4, 5, 6]]\n",
            "d =  [[1, 2, 3], [4, 5, 6], [1, 2, 3], [4, 5, 6]]\n"
          ]
        }
      ]
    },
    {
      "cell_type": "markdown",
      "source": [
        "## Indexing lists"
      ],
      "metadata": {
        "id": "v-QMZcN5zJfY"
      }
    },
    {
      "cell_type": "markdown",
      "source": [
        "1. Study the example.\n",
        "2. What does indexing the row a[i] for i>=0 do?\n",
        "3. What does indexing the row a[i] for i<0 do?\n",
        "4. Discuss how element indexing works.\n",
        "5. What does a[-2][-1] represent? Verify your answer.\n"
      ],
      "metadata": {
        "id": "claQMYNYAsvg"
      }
    },
    {
      "cell_type": "code",
      "source": [
        "# Create a list:\n",
        "a = [[1, 2, 3], [4, 5, 6]] # Two 1D lists make a list of lists.\n",
        "\n",
        "# Access by rows:\n",
        "print(\"a[0] = \", a[0])   # First element.\n",
        "print(\"a[1] = \", a[1])   # Second element.\n",
        "print(\"a[-1] = \", a[-1]) # Last element.\n",
        "print(\"a[-2] = \", a[-2]) # Second to last element.\n",
        "print(\" \")\n",
        "\n",
        "# Access by elements:\n",
        "print(\"a[0][0] = \", a[0][0]) # First row. First element.\n",
        "print(\"a[0][1] = \", a[0][1]) # First row. Second elment.\n",
        "print(\"a[0][2] = \", a[0][2]) # First row. Third element.\n",
        "print(\"a[1][0] = \", a[1][0]) # Fill in!\n",
        "print(\" \")\n",
        "\n",
        "# Some negative indices:\n",
        "print(\"a[-1][-2] = \", a[-1][-2]) # Explain the output."
      ],
      "metadata": {
        "id": "mKFdXkfQTJGE",
        "colab": {
          "base_uri": "https://localhost:8080/"
        },
        "outputId": "c4962916-727b-4d8c-ecf7-a1ae8c5378d2"
      },
      "execution_count": null,
      "outputs": [
        {
          "output_type": "stream",
          "name": "stdout",
          "text": [
            "a[0] =  [1, 2, 3]\n",
            "a[1] =  [4, 5, 6]\n",
            "a[-1] =  [4, 5, 6]\n",
            "a[-2] =  [1, 2, 3]\n",
            " \n",
            "a[0][0] =  1\n",
            "a[0][1] =  2\n",
            "a[0][2] =  3\n",
            "a[1][0] =  4\n",
            "a[-1][-2] =  5\n"
          ]
        }
      ]
    },
    {
      "cell_type": "markdown",
      "source": [
        "## Accessing elements using for loops and \"in\""
      ],
      "metadata": {
        "id": "W20D6TSIA6Fg"
      }
    },
    {
      "cell_type": "markdown",
      "source": [
        "1. Study and discuss the example.\n",
        "2. Modify the example for b = [3, 2, 1]. What do you observe about the order that you are retrieving the elements?"
      ],
      "metadata": {
        "id": "SJHQ9V9rA6Th"
      }
    },
    {
      "cell_type": "code",
      "source": [
        "row_array = [1, 2, 3]\n",
        "print(row_array)\n",
        "\n",
        "# Access elements using for-loop and in:\n",
        "for a in row_array:\n",
        "  print(a)\n"
      ],
      "metadata": {
        "colab": {
          "base_uri": "https://localhost:8080/"
        },
        "id": "H5xjAAgQA6x4",
        "outputId": "3bd2d9e2-f894-4eb9-fed1-cbd5cffa00ad"
      },
      "execution_count": null,
      "outputs": [
        {
          "output_type": "stream",
          "name": "stdout",
          "text": [
            "[1, 2, 3]\n",
            "1\n",
            "2\n",
            "3\n"
          ]
        }
      ]
    },
    {
      "cell_type": "markdown",
      "source": [
        "## Accessing elements in a list of lists using two for loops and \"in\""
      ],
      "metadata": {
        "id": "aiaBaxfxB6QG"
      }
    },
    {
      "cell_type": "markdown",
      "source": [
        "1. Study the example and discuss within your group.\n",
        "2. Modify the example for [[0, 1, 2], [3, 4]]. What do you observe?"
      ],
      "metadata": {
        "id": "Pv9uQfRgB6Zb"
      }
    },
    {
      "cell_type": "code",
      "source": [
        "array_2d = [[1, 2, 3], [4, 5, 6]]\n",
        "print(array_2d)\n",
        "\n",
        "# Access elements using for-loop and in:\n",
        "for row in array_2d: # Retrieve a row.\n",
        "  for a in row:      # Retrieve an elements within the row.\n",
        "    print(a)"
      ],
      "metadata": {
        "id": "DXpW13tVB7DB"
      },
      "execution_count": null,
      "outputs": []
    },
    {
      "cell_type": "markdown",
      "source": [
        "## Acessing element index using enum"
      ],
      "metadata": {
        "id": "vwgbmR4hCmnK"
      }
    },
    {
      "cell_type": "markdown",
      "source": [
        "1. Note that the indices are the same as for the image generation WebApp.\n",
        "2. What is the row and column for 5? Explain.\n",
        "3. What is the row and column for 3? Explain."
      ],
      "metadata": {
        "id": "47RLYFXKCm1V"
      }
    },
    {
      "cell_type": "code",
      "source": [
        "array_2d = [[1, 2, 3], [4, 5, 6]]\n",
        "print(array_2d)\n",
        "\n",
        "# Access elements using for-loop and in:\n",
        "for i, row in enumerate(array_2d): # Retrieve a row.\n",
        "  print(\"row i = \", i, \" row = \", row)\n",
        "  for j, a in enumerate(row):      # Retrieve an elements within the row.\n",
        "    print(\"Column j = \", j, \" element = \", a)\n"
      ],
      "metadata": {
        "colab": {
          "base_uri": "https://localhost:8080/"
        },
        "id": "lCm9gS2YCnQB",
        "outputId": "b3014eb0-1c26-4235-c55a-6cfa4ca7beb0"
      },
      "execution_count": null,
      "outputs": [
        {
          "output_type": "stream",
          "name": "stdout",
          "text": [
            "[[1, 2, 3], [4, 5, 6]]\n",
            "row i =  0  row =  [1, 2, 3]\n",
            "Column j =  0  element =  1\n",
            "Column j =  1  element =  2\n",
            "Column j =  2  element =  3\n",
            "row i =  1  row =  [4, 5, 6]\n",
            "Column j =  0  element =  4\n",
            "Column j =  1  element =  5\n",
            "Column j =  2  element =  6\n"
          ]
        }
      ]
    },
    {
      "cell_type": "markdown",
      "source": [
        "## Combining two arrays of different types using zip"
      ],
      "metadata": {
        "id": "RE-f_O1EDtp5"
      }
    },
    {
      "cell_type": "markdown",
      "source": [
        "1. Study the code and discuss.\n",
        "2. Add \"Antonia\" with an age of 20 and verify."
      ],
      "metadata": {
        "id": "7HU1BkSSDt0Z"
      }
    },
    {
      "cell_type": "code",
      "source": [
        "names = [\"Marios\", \"Sylvia\", \"Rebecca\"] # Array of 3 strings.\n",
        "ages  = [57, 56, 25] # Array of 3 values\n",
        "\n",
        "for name, age in zip(names, ages): # zip retrieves values with the same index.\n",
        "  print(name, age)"
      ],
      "metadata": {
        "colab": {
          "base_uri": "https://localhost:8080/"
        },
        "id": "62Xyqsb6DuKZ",
        "outputId": "fc8b873e-c310-4d32-a96d-33238c4240a9"
      },
      "execution_count": null,
      "outputs": [
        {
          "output_type": "stream",
          "name": "stdout",
          "text": [
            "Marios 57\n",
            "Sylvia 56\n",
            "Rebecca 25\n"
          ]
        }
      ]
    },
    {
      "cell_type": "markdown",
      "source": [
        "## Slices within a list (stride=1)"
      ],
      "metadata": {
        "id": "3rm4y4BkErhL"
      }
    },
    {
      "cell_type": "markdown",
      "source": [
        "1. Study the code."
      ],
      "metadata": {
        "id": "KD0uGjs4Evav"
      }
    },
    {
      "cell_type": "code",
      "source": [
        "# Create a list:\n",
        "a = [[1, 2, 3, 4, 5, 6], [7, 8, 9, 10, 11, 12]]\n",
        "print(\"a = \", a)\n",
        "print(\" \")\n",
        "\n",
        "# Use : to access elements inside a column\n",
        "# This does not work.\n",
        "print(\"a[:] = \", a[:])\n",
        "print(\"a[0][1:4] = \", a[0][1:4])\n",
        "print(\"a[1][0:3] = \", a[1][0:3])"
      ],
      "metadata": {
        "colab": {
          "base_uri": "https://localhost:8080/"
        },
        "id": "vzWrze3t5Sdv",
        "outputId": "d774d78a-a48b-464d-fe82-1b3e1aae7e98"
      },
      "execution_count": null,
      "outputs": [
        {
          "output_type": "stream",
          "name": "stdout",
          "text": [
            "a =  [[1, 2, 3, 4, 5, 6], [7, 8, 9, 10, 11, 12]]\n",
            " \n",
            "a[:] =  [[1, 2, 3, 4, 5, 6], [7, 8, 9, 10, 11, 12]]\n",
            "a[0][1:4] =  [2, 3, 4]\n",
            "a[1][0:3] =  [7, 8, 9]\n"
          ]
        }
      ]
    },
    {
      "cell_type": "markdown",
      "source": [
        "## Slices using a different stride (stride=2)\n",
        "\n"
      ],
      "metadata": {
        "id": "9oJk-Zr-8mgC"
      }
    },
    {
      "cell_type": "code",
      "source": [
        "# Create a list:\n",
        "a = [[1, 2, 3, 4, 5, 6], [7, 8, 9, 10, 11, 12]]\n",
        "print(\"a = \", a)\n",
        "print(\" \")\n",
        "\n",
        "# Use : to access elements inside a column\n",
        "# This does not work.\n",
        "print(\"a[0][1:4:2] = \", a[0][1:4:2])   # access every 2 elements.\n",
        "print(\"a[1][1:7:2] = \", (a[1])[1:7:2]) # access every 2 elements."
      ],
      "metadata": {
        "colab": {
          "base_uri": "https://localhost:8080/"
        },
        "id": "UP8vY-KO9ApT",
        "outputId": "e742564b-bd52-43e1-bcb3-ceec8b7137f9"
      },
      "execution_count": null,
      "outputs": [
        {
          "output_type": "stream",
          "name": "stdout",
          "text": [
            "a =  [[1, 2, 3, 4, 5, 6], [7, 8, 9, 10, 11, 12]]\n",
            " \n",
            "a[0][1:4:2] =  [2, 4]\n",
            "a[1][1:7:2] =  [8, 10, 12]\n"
          ]
        }
      ]
    },
    {
      "cell_type": "markdown",
      "source": [
        "## Cannot access columns in regular lists"
      ],
      "metadata": {
        "id": "TQ2FeWfvJ95O"
      }
    },
    {
      "cell_type": "markdown",
      "source": [
        "Note that the first index refers to the elements in the list (rows).\n",
        "1. Study the code and discuss. What is surprising here?\n",
        "2. Why does the code work this way?"
      ],
      "metadata": {
        "id": "xa_Woyk0KDqE"
      }
    },
    {
      "cell_type": "code",
      "source": [
        "# Create a list:\n",
        "a = [[1, 2, 3], [4, 5, 6]]\n",
        "print(\"a = \", a)\n",
        "print(\" \")\n",
        "\n",
        "# Use : to access elements inside a column\n",
        "# This does not work.\n",
        "print(\"a[:] = \", a[:])\n",
        "print(\"a[:][0] = \", a[:][0]) # What happened here?\n",
        "print(\"a[0:2][0] = \", a[0:2][0])\n"
      ],
      "metadata": {
        "colab": {
          "base_uri": "https://localhost:8080/"
        },
        "id": "T7uliPEIE-lT",
        "outputId": "e7f19352-52da-42a4-8b1a-d3f9397db3bc"
      },
      "execution_count": null,
      "outputs": [
        {
          "output_type": "stream",
          "name": "stdout",
          "text": [
            "a =  [[1, 2, 3], [4, 5, 6]]\n",
            " \n",
            "a[:] =  [[1, 2, 3], [4, 5, 6]]\n",
            "a[:][0] =  [1, 2, 3]\n",
            "a[0:2][0] =  [1, 2, 3]\n"
          ]
        }
      ]
    },
    {
      "cell_type": "markdown",
      "source": [
        "# NumPy arrays"
      ],
      "metadata": {
        "id": "6SDPRkYYKx1w"
      }
    },
    {
      "cell_type": "markdown",
      "source": [
        "## Create arrays using np.array()"
      ],
      "metadata": {
        "id": "Fdbw3BPxJe3w"
      }
    },
    {
      "cell_type": "markdown",
      "source": [
        "NumPy array allow us to use fast arithmetic for list of lists or 2D matrices.\n",
        "\n",
        "This is a new type of variable. Note that type refers to the kind of data that we can store.\n",
        "\n",
        "We require an equal number of elements in each component list.\n",
        "\n",
        "Assignment:\n",
        "1. Note that np.array() is just used for converting to a new type.\n",
        "2. What do you understand by a new type?  \n",
        "3. Study the code and comment on why the last example fails."
      ],
      "metadata": {
        "id": "x3oRtUQqFCF2"
      }
    },
    {
      "cell_type": "code",
      "source": [
        "import numpy as np # import all the functions from numpy library. Use np for its functions.\n",
        "\n",
        "str = \"A string example\"\n",
        "print(\"str has type = \", type(str)) # type is used to return the kind of data.\n",
        "\n",
        "num = 5.12\n",
        "print(\"num has type = \", type(num))  # type returns the kind of data.\n",
        "\n",
        "a = [[1, 2, 3], [4, 5, 6]] # regular list.\n",
        "print(type(a))             # print the type of variable that a \"is\"\n",
        "\n",
        "a_np = np.array(a)         # create numpy array.\n",
        "print(a_np, type(a_np))    # We have a new type.\n",
        "\n",
        "b = [[1, 2, 3], [4, 5]]    # b has lists of different sizes.\n",
        "b_np = np.array(b)         # Conversion is not possible!\n",
        "print(b_np)\n"
      ],
      "metadata": {
        "colab": {
          "base_uri": "https://localhost:8080/",
          "height": 297
        },
        "id": "HOgZvq95FCrS",
        "outputId": "ebc4894a-fd5f-4c74-fc38-fc29eedc751a"
      },
      "execution_count": null,
      "outputs": [
        {
          "output_type": "stream",
          "name": "stdout",
          "text": [
            "str has type =  <class 'str'>\n",
            "num has type =  <class 'float'>\n",
            "<class 'list'>\n",
            "[[1 2 3]\n",
            " [4 5 6]] <class 'numpy.ndarray'>\n"
          ]
        },
        {
          "output_type": "error",
          "ename": "ValueError",
          "evalue": "setting an array element with a sequence. The requested array has an inhomogeneous shape after 1 dimensions. The detected shape was (2,) + inhomogeneous part.",
          "traceback": [
            "\u001b[0;31m---------------------------------------------------------------------------\u001b[0m",
            "\u001b[0;31mValueError\u001b[0m                                Traceback (most recent call last)",
            "\u001b[0;32m<ipython-input-10-9ee01ef2d5d0>\u001b[0m in \u001b[0;36m<cell line: 0>\u001b[0;34m()\u001b[0m\n\u001b[1;32m     14\u001b[0m \u001b[0;34m\u001b[0m\u001b[0m\n\u001b[1;32m     15\u001b[0m \u001b[0mb\u001b[0m \u001b[0;34m=\u001b[0m \u001b[0;34m[\u001b[0m\u001b[0;34m[\u001b[0m\u001b[0;36m1\u001b[0m\u001b[0;34m,\u001b[0m \u001b[0;36m2\u001b[0m\u001b[0;34m,\u001b[0m \u001b[0;36m3\u001b[0m\u001b[0;34m]\u001b[0m\u001b[0;34m,\u001b[0m \u001b[0;34m[\u001b[0m\u001b[0;36m4\u001b[0m\u001b[0;34m,\u001b[0m \u001b[0;36m5\u001b[0m\u001b[0;34m]\u001b[0m\u001b[0;34m]\u001b[0m    \u001b[0;31m# b has lists of different sizes.\u001b[0m\u001b[0;34m\u001b[0m\u001b[0;34m\u001b[0m\u001b[0m\n\u001b[0;32m---> 16\u001b[0;31m \u001b[0mb_np\u001b[0m \u001b[0;34m=\u001b[0m \u001b[0mnp\u001b[0m\u001b[0;34m.\u001b[0m\u001b[0marray\u001b[0m\u001b[0;34m(\u001b[0m\u001b[0mb\u001b[0m\u001b[0;34m)\u001b[0m         \u001b[0;31m# Conversion is not possible!\u001b[0m\u001b[0;34m\u001b[0m\u001b[0;34m\u001b[0m\u001b[0m\n\u001b[0m\u001b[1;32m     17\u001b[0m \u001b[0mprint\u001b[0m\u001b[0;34m(\u001b[0m\u001b[0mb_np\u001b[0m\u001b[0;34m)\u001b[0m\u001b[0;34m\u001b[0m\u001b[0;34m\u001b[0m\u001b[0m\n",
            "\u001b[0;31mValueError\u001b[0m: setting an array element with a sequence. The requested array has an inhomogeneous shape after 1 dimensions. The detected shape was (2,) + inhomogeneous part."
          ]
        }
      ]
    },
    {
      "cell_type": "markdown",
      "source": [
        "1. Study the code.\n",
        "2. Explain the values for len(b) and b.shape."
      ],
      "metadata": {
        "id": "hCcx5HGALEgN"
      }
    },
    {
      "cell_type": "code",
      "source": [
        "import numpy as np\n",
        "\n",
        "# Create a list:\n",
        "a = [[1, 2, 3], [4, 5, 6]]\n",
        "\n",
        "# Create a 2D NumPy array\n",
        "b = np.array(a)\n",
        "\n",
        "print(\"a = \", a, \", len(a) = \", len(a), \", type(a) = \", type(a))\n",
        "print(\"b = \", b)\n",
        "print(\"len(b) = \", len(b), \", b.shape = \", b.shape, \", type(b) = \", type(b))\n",
        "print(\" \")"
      ],
      "metadata": {
        "colab": {
          "base_uri": "https://localhost:8080/"
        },
        "id": "eXdeb2W-LClz",
        "outputId": "e5ec160e-5cbe-4e53-f7e5-ad623dd1868a"
      },
      "execution_count": null,
      "outputs": [
        {
          "output_type": "stream",
          "name": "stdout",
          "text": [
            "a =  [[1, 2, 3], [4, 5, 6]] , len(a) =  2 type(a) =  <class 'list'>\n",
            "b =  [[1 2 3]\n",
            " [4 5 6]]\n",
            "len(b) =  2 , b.shape =  (2, 3) type(b) =  <class 'numpy.ndarray'>\n",
            " \n"
          ]
        }
      ]
    },
    {
      "cell_type": "markdown",
      "source": [
        "## 1D matrix array creation using *"
      ],
      "metadata": {
        "id": "Jywahhc2f4en"
      }
    },
    {
      "cell_type": "markdown",
      "source": [
        "1. Study the code.\n",
        "2. Create a 5 element row with the element of 6."
      ],
      "metadata": {
        "id": "hFaN-iMDei64"
      }
    },
    {
      "cell_type": "code",
      "source": [
        "print(\"List comprehension for a row\")\n",
        "c = np.array([3*[1]])\n",
        "print(\"c = \", c)\n",
        "print(\"len(c) = \", len(c), \", b.shape = \", c.shape)\n",
        "print(\" \")\n"
      ],
      "metadata": {
        "id": "Amrs-qzJetjl"
      },
      "execution_count": null,
      "outputs": []
    },
    {
      "cell_type": "markdown",
      "source": [
        "## 2D matrix array creation using a list comprehension"
      ],
      "metadata": {
        "id": "SJP9ueu0ezDH"
      }
    },
    {
      "cell_type": "markdown",
      "source": [
        "1. Study the code below.\n",
        "2. Explain the value of len(d).\n",
        "3. Explain the value of d.shape.\n",
        "4. Modify the example to make the shape (3, 5) of 2."
      ],
      "metadata": {
        "id": "yll-BbBee0DB"
      }
    },
    {
      "cell_type": "code",
      "source": [
        "d = np.array([3*[1] for row in range(4)])\n",
        "print(\"d = \", d)\n",
        "print(\"len(d) = \", len(d), \", d.shape = \", d.shape)\n",
        "print(\" \")"
      ],
      "metadata": {
        "colab": {
          "base_uri": "https://localhost:8080/"
        },
        "id": "jLbAcITBe1KU",
        "outputId": "82ca0a1f-8721-48bd-e0a9-fcd31c41a3c8"
      },
      "execution_count": null,
      "outputs": [
        {
          "output_type": "stream",
          "name": "stdout",
          "text": [
            "d =  [[1 1 1]\n",
            " [1 1 1]\n",
            " [1 1 1]\n",
            " [1 1 1]]\n",
            "len(d) =  4 , d.shape =  (4, 3)\n",
            " \n"
          ]
        }
      ]
    },
    {
      "cell_type": "markdown",
      "source": [
        "## Accessing NumPy Array elements"
      ],
      "metadata": {
        "id": "3l0KsnkbnkmQ"
      }
    },
    {
      "cell_type": "markdown",
      "source": [
        "1. Study the code carefully.\n",
        "2. Explain how b[0][0:2] prints what you get.\n"
      ],
      "metadata": {
        "id": "LgKYYKdGnlEh"
      }
    },
    {
      "cell_type": "code",
      "source": [
        "# Create a list:\n",
        "a = [[1, 2, 3], [4, 5, 6]]\n",
        "\n",
        "# Create a 2D NumPy array\n",
        "b = np.array(a)\n",
        "print(\"b=\", b)\n",
        "print(\" \")\n",
        "\n",
        "print(\"Like lists: Access row by row.\")\n",
        "print(\"b[0] = \", b[0])\n",
        "print(\"b[1] = \", b[1])\n",
        "print(\" \")\n",
        "\n",
        "print(\"Like lists: Access elements using 2d indices\")\n",
        "print(\"b[0][0] = \", b[0][0])\n",
        "print(\"b[1][2] = \", b[1][2])\n",
        "print(\" \")\n",
        "\n",
        "print(\"Like lists: Access using 1D strides\")\n",
        "print(\"b[0][1:3] = \", b[0][1:3])\n",
        "print(\"b[1][0:2] = \", b[1][0:2])\n",
        "print(\"b[1][0:3:2] = \", b[1][0:3:2])\n",
        "print(\" \")"
      ],
      "metadata": {
        "colab": {
          "base_uri": "https://localhost:8080/"
        },
        "id": "aZRL3pw6nmBb",
        "outputId": "fff6acba-8643-4492-c63f-666910521574"
      },
      "execution_count": null,
      "outputs": [
        {
          "output_type": "stream",
          "name": "stdout",
          "text": [
            "b= [[1 2 3]\n",
            " [4 5 6]]\n",
            " \n",
            "Like lists: Access row by row.\n",
            "b[0] =  [1 2 3]\n",
            "b[1] =  [4 5 6]\n",
            " \n",
            "Like lists: Access elements using 2d indices\n",
            "b[0][0] =  1\n",
            "b[1][2] =  6\n",
            " \n",
            "Like lists: Access using strides\n",
            "b[0][1:3] =  [2 3]\n",
            "b[1][0:2] =  [4 5]\n",
            "b[1][0:3:2] =  [4 6]\n",
            " \n"
          ]
        }
      ]
    },
    {
      "cell_type": "markdown",
      "source": [
        "## Accessing 2D blocks"
      ],
      "metadata": {
        "id": "iHiEth1YuPV6"
      }
    },
    {
      "cell_type": "markdown",
      "source": [
        "1. Study the code below.\n",
        "2. Changing the single element 10 to 3.\n",
        "3. Change the top row to all 1. Verify your answer.\n",
        "4. Change the first column to 10. Verify your answer.\n",
        "5. Change the lower-right elements to 5, 6. Verify your answer."
      ],
      "metadata": {
        "id": "kBR70IbBuPtf"
      }
    },
    {
      "cell_type": "code",
      "source": [
        "a = np.array([[1, 2, 3, 4, 5], [6, 7, 8, 9, 10]])\n",
        "print(\"1. a = \", a)\n",
        "\n",
        "print(\"2. a[0, 0] = \", a[0,0])\n",
        "print(\"3. a[1, 0] = \", a[1,0])\n",
        "\n",
        "a[1, 0] = 10\n",
        "print(\"4. a[1, 0] = \", a[1,0])\n",
        "\n",
        "a[0:2, 3:] = 5\n",
        "print(\"5. a = \", a)"
      ],
      "metadata": {
        "colab": {
          "base_uri": "https://localhost:8080/"
        },
        "id": "6vMq_Y8YuQi-",
        "outputId": "aae8ad96-8f45-4c7e-8a5f-b00fd8310b51"
      },
      "execution_count": null,
      "outputs": [
        {
          "output_type": "stream",
          "name": "stdout",
          "text": [
            "[[ 1  2  3  4  5]\n",
            " [ 6  7  8  9 10]]\n",
            "a[]= 1\n",
            "a[]= 6\n",
            "a =  [[ 1  2  3 -1 -1]\n",
            " [ 6  7  8 -1 -1]]\n"
          ]
        }
      ]
    },
    {
      "cell_type": "markdown",
      "source": [
        "## Note \"=\" in Python does not copy NumPy array elements."
      ],
      "metadata": {
        "id": "JmNBKGKfqdlS"
      }
    },
    {
      "cell_type": "markdown",
      "source": [
        "1. Study what happens after a[0]=100.\n",
        "2. Explain what is unexpected here and why."
      ],
      "metadata": {
        "id": "t6-O1Wt0qmeO"
      }
    },
    {
      "cell_type": "code",
      "source": [
        "a = np.array([1, 2, 3, 4, 5])\n",
        "b = a\n",
        "print(\"a = \", a)\n",
        "print(\"b = \", b)\n",
        "print(\" \")\n",
        "\n",
        "a[0] = 100\n",
        "print(\"a = \", a)\n",
        "print(\"b = \", b)"
      ],
      "metadata": {
        "colab": {
          "base_uri": "https://localhost:8080/"
        },
        "id": "shvvGiF0n7Wd",
        "outputId": "21ca5be9-c6f7-4684-e481-9f6a00b53ebb"
      },
      "execution_count": null,
      "outputs": [
        {
          "output_type": "stream",
          "name": "stdout",
          "text": [
            "a =  [1 2 3 4 5]\n",
            "b =  [1 2 3 4 5]\n",
            " \n",
            "a =  [100   2   3   4   5]\n",
            "b =  [100   2   3   4   5]\n"
          ]
        }
      ]
    },
    {
      "cell_type": "markdown",
      "source": [
        "## Copying NumPy arrays"
      ],
      "metadata": {
        "id": "sZ3RI-DFrDEu"
      }
    },
    {
      "cell_type": "markdown",
      "source": [
        "1. What line did we change here?\n",
        "2. How is the output different?"
      ],
      "metadata": {
        "id": "RnRUE78VrDWA"
      }
    },
    {
      "cell_type": "code",
      "source": [
        "a = np.array([1, 2, 3, 4, 5])\n",
        "b = a.copy()\n",
        "print(\"a = \", a)\n",
        "print(\"b = \", b)\n",
        "print(\" \")\n",
        "\n",
        "a[0] = 100\n",
        "print(\"a = \", a)\n",
        "print(\"b = \", b)"
      ],
      "metadata": {
        "colab": {
          "base_uri": "https://localhost:8080/"
        },
        "id": "gSGU-NubrD1q",
        "outputId": "e92f5863-b7fa-484b-a5e3-56dc62bb2de8"
      },
      "execution_count": null,
      "outputs": [
        {
          "output_type": "stream",
          "name": "stdout",
          "text": [
            "a =  [1 2 3 4 5]\n",
            "b =  [1 2 3 4 5]\n",
            " \n",
            "a =  [100   2   3   4   5]\n",
            "b =  [1 2 3 4 5]\n"
          ]
        }
      ]
    },
    {
      "cell_type": "markdown",
      "source": [
        "## Flattening arrays to one dimension"
      ],
      "metadata": {
        "id": "Q6a7FB2AKI6O"
      }
    },
    {
      "cell_type": "markdown",
      "source": [
        "1. Study the code and discuss.\n",
        "2. How is the size of b related to a?\n",
        "3. How is b related to a?\n",
        "4. Modify a to [[1, 2], [3, 4], [5, 6], [7, 8]]. What happens to b? Why?"
      ],
      "metadata": {
        "id": "YXARyzXtKJE9"
      }
    },
    {
      "cell_type": "code",
      "source": [
        "import numpy as np\n",
        "\n",
        "a = np.array([[1, 2], [1, 2], [4, 5]]) # create an array.\n",
        "b = a.flatten() # flatten all dimensions.\n",
        "\n",
        "print(\"a = \", a, \", a.shape = \", a.shape)\n",
        "print(\"b = \", b, \", b.shape = \", b.shape)\n"
      ],
      "metadata": {
        "colab": {
          "base_uri": "https://localhost:8080/"
        },
        "id": "bBxykkR3KJXa",
        "outputId": "5ccd8831-8144-495e-a0a9-2fc9d23a30b1"
      },
      "execution_count": null,
      "outputs": [
        {
          "output_type": "stream",
          "name": "stdout",
          "text": [
            "a =  [[1 2]\n",
            " [1 2]\n",
            " [4 5]] , a.shape =  (3, 2)\n",
            "b =  [1 2 1 2 4 5] , b.shape =  (6,)\n"
          ]
        }
      ]
    },
    {
      "cell_type": "markdown",
      "source": [
        "## Reshaping array rows into 2D matrices (e.g., images)"
      ],
      "metadata": {
        "id": "eGBokmPSSkBA"
      }
    },
    {
      "cell_type": "markdown",
      "source": [
        "1. Study the code carefully.\n",
        "2. Can you reshape each element to a size of 4x1. Why?\n",
        "3. Can you reshape each element to a size of 3x2. Why or why not? Explain."
      ],
      "metadata": {
        "id": "s7s_cxZOSkJi"
      }
    },
    {
      "cell_type": "code",
      "source": [
        "# Original matrix has a square number of elements in each row.\n",
        "a = np.array([[1, 2, 3, 4], [5, 6, 7, 8]])\n",
        "print(\"a = \", a, \", a.shape = \", a.shape)\n",
        "print(\" \")\n",
        "\n",
        "# Reshape each row:\n",
        "for element in a:\n",
        "  b = element.reshape(2, 2) # Reshape into 2 by 2.\n",
        "  print(\"b = \", b, \", b.shape = \", b.shape)\n"
      ],
      "metadata": {
        "id": "liyjWZ1brO6x",
        "colab": {
          "base_uri": "https://localhost:8080/"
        },
        "outputId": "7e32ae28-b17b-489c-9b3e-7bb214ec25d2"
      },
      "execution_count": null,
      "outputs": [
        {
          "output_type": "stream",
          "name": "stdout",
          "text": [
            "a =  [[1 2 3 4]\n",
            " [5 6 7 8]] , a.shape =  (2, 4)\n",
            " \n",
            "b =  [[1 2]\n",
            " [3 4]] , b.shape =  (2, 2)\n",
            "b =  [[5 6]\n",
            " [7 8]] , b.shape =  (2, 2)\n"
          ]
        }
      ]
    },
    {
      "cell_type": "markdown",
      "source": [
        "## A video as list of numpy frames."
      ],
      "metadata": {
        "id": "yO8gQcM6UGcp"
      }
    },
    {
      "cell_type": "markdown",
      "source": [
        "1. Study the example carefully.\n",
        "2. Add frame5 with some values. Verify your answer.\n",
        "3. Comment out frame1 and frame2. Does it work? Explain."
      ],
      "metadata": {
        "id": "LE4s8tZoUGhk"
      }
    },
    {
      "cell_type": "code",
      "source": [
        "# Individual frames\n",
        "frame1 = np.array([1, 2])\n",
        "frame2 = np.array([3, 4])\n",
        "frame3 = np.array([5, 6])\n",
        "frame4 = np.array([7, 8])\n",
        "\n",
        "video = [frame1, frame2, frame3, frame4]\n",
        "print(\"video = \", video, \", type(video) = \")\n",
        "print(\" \")\n",
        "\n",
        "for frame in video:\n",
        "  print(\"frame = \", frame)"
      ],
      "metadata": {
        "colab": {
          "base_uri": "https://localhost:8080/"
        },
        "id": "s46TCPgTUHG5",
        "outputId": "58f3c6c9-8ceb-414c-d433-363323df21dd"
      },
      "execution_count": null,
      "outputs": [
        {
          "output_type": "stream",
          "name": "stdout",
          "text": [
            "video =  [array([1, 2]), array([3, 4]), array([5, 6]), array([7, 8])] , type(video) =  <class 'list'>\n",
            " \n",
            "frame =  [1 2]\n",
            "frame =  [3 4]\n",
            "frame =  [5 6]\n",
            "frame =  [7 8]\n"
          ]
        }
      ]
    },
    {
      "cell_type": "code",
      "source": [],
      "metadata": {
        "id": "4RYa8dPfVMQM"
      },
      "execution_count": null,
      "outputs": []
    }
  ]
}