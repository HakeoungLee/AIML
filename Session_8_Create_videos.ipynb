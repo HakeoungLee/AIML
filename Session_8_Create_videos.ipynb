{
  "nbformat": 4,
  "nbformat_minor": 0,
  "metadata": {
    "colab": {
      "provenance": [],
      "toc_visible": true,
      "include_colab_link": true
    },
    "kernelspec": {
      "name": "python3",
      "display_name": "Python 3"
    },
    "language_info": {
      "name": "python"
    }
  },
  "cells": [
    {
      "cell_type": "markdown",
      "metadata": {
        "id": "view-in-github",
        "colab_type": "text"
      },
      "source": [
        "<a href=\"https://colab.research.google.com/github/pattichis/AIML/blob/main/Session_8_Create_videos.ipynb\" target=\"_parent\"><img src=\"https://colab.research.google.com/assets/colab-badge.svg\" alt=\"Open In Colab\"/></a>"
      ]
    },
    {
      "cell_type": "markdown",
      "source": [
        "# Video Creation Project"
      ],
      "metadata": {
        "id": "HA2q78kfOYwK"
      }
    },
    {
      "cell_type": "markdown",
      "source": [
        "Session-7 introduces students to Creation of Images and Video. The session goals include:\n",
        "\n",
        "Understand the creation of a background image. /\n",
        "Understand digital video representations. /\n",
        "Create, move, and copy a video character. /\n",
        "Review and discuss old video projects. /"
      ],
      "metadata": {
        "id": "R5xdphTlOYym"
      }
    },
    {
      "cell_type": "code",
      "source": [
        "# Download AOLME.py from the GitHub account.\n",
        "!wget https://raw.githubusercontent.com/pattichis/AIML/main/AOLME.py"
      ],
      "metadata": {
        "colab": {
          "base_uri": "https://localhost:8080/"
        },
        "id": "lpIaPUHwOZi9",
        "outputId": "9022349e-62e9-48ab-e756-6dab70b6903e"
      },
      "execution_count": 1,
      "outputs": [
        {
          "output_type": "stream",
          "name": "stdout",
          "text": [
            "--2025-06-12 06:22:56--  https://raw.githubusercontent.com/pattichis/AIML/main/AOLME.py\n",
            "Resolving raw.githubusercontent.com (raw.githubusercontent.com)... 185.199.108.133, 185.199.109.133, 185.199.110.133, ...\n",
            "Connecting to raw.githubusercontent.com (raw.githubusercontent.com)|185.199.108.133|:443... connected.\n",
            "HTTP request sent, awaiting response... 200 OK\n",
            "Length: 22702 (22K) [text/plain]\n",
            "Saving to: ‘AOLME.py’\n",
            "\n",
            "AOLME.py            100%[===================>]  22.17K  --.-KB/s    in 0.005s  \n",
            "\n",
            "2025-06-12 06:22:56 (4.73 MB/s) - ‘AOLME.py’ saved [22702/22702]\n",
            "\n"
          ]
        }
      ]
    },
    {
      "cell_type": "markdown",
      "source": [
        "# Import libraries"
      ],
      "metadata": {
        "id": "QsfFaMQcMHkP"
      }
    },
    {
      "cell_type": "code",
      "source": [
        "# Import the libraries\n",
        "from AOLME import *\n",
        "from IPython.display import HTML\n",
        "import numpy as np"
      ],
      "metadata": {
        "id": "wiT3_FFRMH1S"
      },
      "execution_count": 2,
      "outputs": []
    },
    {
      "cell_type": "markdown",
      "source": [
        "# Define colors"
      ],
      "metadata": {
        "id": "e0-lEuVEr_Z1"
      }
    },
    {
      "cell_type": "markdown",
      "source": [
        "1. Use\n",
        "[RGB Colors link](https://www.w3schools.com/colors/colors_rgb.asp) to come up with three more colors.\n",
        "2. Add the colors and thet color names to the code."
      ],
      "metadata": {
        "id": "kcOVN7Gpr_wO"
      }
    },
    {
      "cell_type": "code",
      "source": [
        "# Video setup\n",
        "\n",
        "# Define the size of the image\n",
        "rows = 20  # num of rows\n",
        "cols = 20  # num of cols\n",
        "\n",
        "# Define all of the colors\n",
        "red     = \"%02x%02x%02x\" % (255, 0, 0)\n",
        "blue    = \"%02x%02x%02x\" % (0, 0, 255)\n",
        "green   = \"%02x%02x%02x\" % (0, 255, 0)\n",
        "yellow  = \"%02x%02x%02x\" % (255, 255, 0)\n",
        "cyan    = \"%02x%02x%02x\" % (0, 255, 255)\n",
        "magenta = \"%02x%02x%02x\" % (255, 0, 255)\n",
        "white   = \"%02x%02x%02x\" % (255, 255, 255)\n",
        "black   = \"%02x%02x%02x\" % (0, 0, 0)"
      ],
      "metadata": {
        "id": "uPc16BlQ9EI-"
      },
      "execution_count": 3,
      "outputs": []
    },
    {
      "cell_type": "markdown",
      "source": [
        "# Create an image using one pixel at a time\n",
        "1. Add another pixel to the image.\n",
        "2. Change the color of the background."
      ],
      "metadata": {
        "id": "7vB_lDADnsPt"
      }
    },
    {
      "cell_type": "code",
      "source": [
        "# Create the yellow background\n",
        "frame1 = np.full((rows, cols), yellow)\n",
        "\n",
        "# Create one red dot\n",
        "# Pixel center at [10,10], starts at 9.5, ends at 10.5\n",
        "frame1[10][10] = red\n",
        "\n",
        "# Display the frame\n",
        "im_show(frame1)"
      ],
      "metadata": {
        "colab": {
          "base_uri": "https://localhost:8080/",
          "height": 505
        },
        "id": "jysyLNo_nx_Y",
        "outputId": "ab1d6ae5-2a98-49b6-87ef-9763a410ab42"
      },
      "execution_count": 4,
      "outputs": [
        {
          "output_type": "stream",
          "name": "stdout",
          "text": [
            "20 20\n"
          ]
        },
        {
          "output_type": "display_data",
          "data": {
            "text/plain": [
              "<Figure size 640x480 with 1 Axes>"
            ],
            "image/png": "[encoded data removed]"
          },
          "metadata": {}
        }
      ]
    },
    {
      "cell_type": "markdown",
      "source": [
        "# Create an image using one row of pixels at a time"
      ],
      "metadata": {
        "id": "B0qWhMLXMTer"
      }
    },
    {
      "cell_type": "markdown",
      "source": [
        "1. Change the colors in each row.\n",
        "2. Change the background color."
      ],
      "metadata": {
        "id": "Y4NroedBMTpb"
      }
    },
    {
      "cell_type": "code",
      "source": [
        "# Define the size of the image\n",
        "rows = 3  # num of rows\n",
        "cols = 4  # num of cols\n",
        "\n",
        "# Define all of the colors\n",
        "r = \"ff0000\" # red code\n",
        "b = \"0000ff\" # blue code\n",
        "\n",
        "# Create a frame with the same background color.\n",
        "# This example uses a list comprehension.\n",
        "frame0 = np.array([[r]*cols for row in range (rows)])\n",
        "\n",
        "# Specify the frame row-by-row\n",
        "frame0[0] = [r, b, r, b]\n",
        "frame0[1] = [b, b, b, b]\n",
        "\n",
        "im_show(frame0)"
      ],
      "metadata": {
        "colab": {
          "base_uri": "https://localhost:8080/",
          "height": 505
        },
        "id": "K1oa5grUMT46",
        "outputId": "6ed5a080-5c83-48fa-b3d4-d58917d45be0"
      },
      "execution_count": 5,
      "outputs": [
        {
          "output_type": "stream",
          "name": "stdout",
          "text": [
            "3 4\n"
          ]
        },
        {
          "output_type": "display_data",
          "data": {
            "text/plain": [
              "<Figure size 640x480 with 1 Axes>"
            ],
            "image/png": "[encoded data removed]"
          },
          "metadata": {}
        }
      ]
    },
    {
      "cell_type": "markdown",
      "source": [
        "# Create an object using slices"
      ],
      "metadata": {
        "id": "vhSh4F_an5j4"
      }
    },
    {
      "cell_type": "markdown",
      "source": [
        "1. Add another object color."
      ],
      "metadata": {
        "id": "_kocXGCleHe7"
      }
    },
    {
      "cell_type": "code",
      "source": [
        "# Create the yellow background\n",
        "rows = 20\n",
        "cols = 20\n",
        "frame2 = np.full((rows, cols), yellow)\n",
        "\n",
        "# Create one 5x5 green square\n",
        "frame2[8:12, 8:12] = red\n",
        "\n",
        "# Display the frame\n",
        "im_show(frame2)"
      ],
      "metadata": {
        "colab": {
          "base_uri": "https://localhost:8080/",
          "height": 505
        },
        "id": "5nARh5taLh0m",
        "outputId": "c60da6aa-c6fe-4286-8149-692475799bbf"
      },
      "execution_count": 6,
      "outputs": [
        {
          "output_type": "stream",
          "name": "stdout",
          "text": [
            "20 20\n"
          ]
        },
        {
          "output_type": "display_data",
          "data": {
            "text/plain": [
              "<Figure size 640x480 with 1 Axes>"
            ],
            "image/png": "[encoded data removed]"
          },
          "metadata": {}
        }
      ]
    },
    {
      "cell_type": "markdown",
      "source": [
        "# A second example using slices"
      ],
      "metadata": {
        "id": "muAX-oYJn6Ag"
      }
    },
    {
      "cell_type": "code",
      "source": [
        "# Create the yellow background\n",
        "frame3 = np.array([[yellow]*cols for row in range (rows)])\n",
        "\n",
        "# Create one 7x7 blue square\n",
        "frame3[7:13, 7:13] = red\n",
        "\n",
        "# Display the frame\n",
        "im_show(frame3)"
      ],
      "metadata": {
        "colab": {
          "base_uri": "https://localhost:8080/",
          "height": 505
        },
        "id": "S3kF0cvUL_NT",
        "outputId": "c790290c-07f3-4e13-d649-2686d5c5428d"
      },
      "execution_count": 7,
      "outputs": [
        {
          "output_type": "stream",
          "name": "stdout",
          "text": [
            "20 20\n"
          ]
        },
        {
          "output_type": "display_data",
          "data": {
            "text/plain": [
              "<Figure size 640x480 with 1 Axes>"
            ],
            "image/png": "[encoded data removed]"
          },
          "metadata": {}
        }
      ]
    },
    {
      "cell_type": "markdown",
      "source": [
        "# Create a circle using slices"
      ],
      "metadata": {
        "id": "Wd5abfrzoGbz"
      }
    },
    {
      "cell_type": "code",
      "source": [
        "# Create the yellow background\n",
        "frame4 = np.array([[yellow]*cols for row in range (rows)])\n",
        "\n",
        "# Create a circle\n",
        "frame4[8:13, 9:12] = red\n",
        "frame4[9:12, 8:13] = red\n",
        "\n",
        "frame4[10, 7:14] = red\n",
        "frame4[7:14, 10] = red\n",
        "\n",
        "# Display the frame\n",
        "im_show(frame4)"
      ],
      "metadata": {
        "colab": {
          "base_uri": "https://localhost:8080/",
          "height": 505
        },
        "id": "YTl7gRk7oM3z",
        "outputId": "4f338bc5-77ef-4b10-f100-fa00633b98b1"
      },
      "execution_count": 8,
      "outputs": [
        {
          "output_type": "stream",
          "name": "stdout",
          "text": [
            "20 20\n"
          ]
        },
        {
          "output_type": "display_data",
          "data": {
            "text/plain": [
              "<Figure size 640x480 with 1 Axes>"
            ],
            "image/png": "[encoded data removed]"
          },
          "metadata": {}
        }
      ]
    },
    {
      "cell_type": "markdown",
      "source": [
        "# Create a video with previous frames\n",
        "\n",
        "1. Rearrange the order of the frames.\n",
        "2. Change the number of frames per second."
      ],
      "metadata": {
        "id": "Gw990F2goOEK"
      }
    },
    {
      "cell_type": "code",
      "source": [
        "# list of frames\n",
        "frame_list = [frame1,\n",
        "              frame2,\n",
        "              frame3,\n",
        "              frame4]\n",
        "\n",
        "# frames per sec\n",
        "fps= 1\n",
        "play_video= vid_show(frame_list, fps)"
      ],
      "metadata": {
        "colab": {
          "base_uri": "https://localhost:8080/",
          "height": 487
        },
        "id": "3lnvqpbKK4Oj",
        "outputId": "53004a08-28e9-412b-8baf-3c98f9f49628"
      },
      "execution_count": 9,
      "outputs": [
        {
          "output_type": "display_data",
          "data": {
            "text/plain": [
              "<Figure size 640x480 with 1 Axes>"
            ],
            "image/png": "[encoded data removed]"
          },
          "metadata": {}
        }
      ]
    },
    {
      "cell_type": "code",
      "source": [
        "# play on screen\n",
        "HTML(play_video.to_html5_video())"
      ],
      "metadata": {
        "colab": {
          "base_uri": "https://localhost:8080/",
          "height": 519
        },
        "id": "wC2vm0l2N-6x",
        "outputId": "95568b00-9552-4d7e-f727-6ece314b847d"
      },
      "execution_count": 10,
      "outputs": [
        {
          "output_type": "execute_result",
          "data": {
            "text/plain": [
              "<IPython.core.display.HTML object>"
            ],
            "text/html": [
              "<video width=\"640\" height=\"480\" controls autoplay loop>\n",
              "  <source type=\"video/mp4\" src=\"data:video/mp4;base64,AAAAIGZ0eXBNNFYgAAACAE00ViBpc29taXNvMmF2YzEAAAAIZnJlZQAAGHptZGF0AAACrQYF//+p\n",
              "3EXpvebZSLeWLNgg2SPu73gyNjQgLSBjb3JlIDE2MyByMzA2MCA1ZGI2YWE2IC0gSC4yNjQvTVBF\n",
              "Ry00IEFWQyBjb2RlYyAtIENvcHlsZWZ0IDIwMDMtMjAyMSAtIGh0dHA6Ly93d3cudmlkZW9sYW4u\n",
              "b3JnL3gyNjQuaHRtbCAtIG9wdGlvbnM6IGNhYmFjPTEgcmVmPTMgZGVibG9jaz0xOjA6MCBhbmFs\n",
              "eXNlPTB4MzoweDExMyBtZT1oZXggc3VibWU9NyBwc3k9MSBwc3lfcmQ9MS4wMDowLjAwIG1peGVk\n",
              "X3JlZj0xIG1lX3JhbmdlPTE2IGNocm9tYV9tZT0xIHRyZWxsaXM9MSA4eDhkY3Q9MSBjcW09MCBk\n",
              "ZWFkem9uZT0yMSwxMSBmYXN0X3Bza2lwPTEgY2hyb21hX3FwX29mZnNldD0tMiB0aHJlYWRzPTMg\n",
              "bG9va2FoZWFkX3RocmVhZHM9MSBzbGljZWRfdGhyZWFkcz0wIG5yPTAgZGVjaW1hdGU9MSBpbnRl\n",
              "cmxhY2VkPTAgYmx1cmF5X2NvbXBhdD0wIGNvbnN0cmFpbmVkX2ludHJhPTAgYmZyYW1lcz0zIGJf\n",
              "cHlyYW1pZD0yIGJfYWRhcHQ9MSBiX2JpYXM9MCBkaXJlY3Q9MSB3ZWlnaHRiPTEgb3Blbl9nb3A9\n",
              "MCB3ZWlnaHRwPTIga2V5aW50PTI1MCBrZXlpbnRfbWluPTEgc2NlbmVjdXQ9NDAgaW50cmFfcmVm\n",
              "cmVzaD0wIHJjX2xvb2thaGVhZD00MCByYz1jcmYgbWJ0cmVlPTEgY3JmPTIzLjAgcWNvbXA9MC42\n",
              "MCBxcG1pbj0wIHFwbWF4PTY5IHFwc3RlcD00IGlwX3JhdGlvPTEuNDAgYXE9MToxLjAwAIAAABGx\n",
              "ZYiEABf//vfUt8yy7VNvtguo96KeJl6Tf8N+uAgBwfQiXFUT88wabglLx2gr/M7TFPdQiV1aLxle\n",
              "2e8fJxJ1RaFbyF8QAAADAAADAAATeSIg8Q5xPJ3S8LfL8ZkzXVPkPSFPpyBlyVc6aDRyFk5FPMK6\n",
              "1QDfWD1dUO03Dj0WFGkfrIpIC94+G0663uSjHUAU8oXLCCoEYYqDqeUka4l+Iq1IE7mFhqvSiOck\n",
              "eaboZE77uPcet+xR3CkagBQpxqCiQhCVdU8BJMga7gPf7WrW4F3iMj6EeB+FTc+DuBw6GZh4S8+i\n",
              "5oGSX3G+e5X9PYkJTy4DrHsfkAPxT6zvF+fG8w3Pk+UYysaopFAINgFPt062bx4dJzJ79/vVyNWF\n",
              "EG73JmsrlDhOt+hAYaKVqQFDRA0ni5+4hmhPC4wzDNHxHcMv5QhA6yGpnoJicKPSOhNzU36zgoc7\n",
              "5eUW+5dLqfKo/CX0XK6we9Hb0bY5XRnIAAEEQzreQLF8WtION6u4lKwqYnyYog/YnLT33yv7YW2T\n",
              "f/2HZ/rZq3ldwSAfkv0y/p+jmACbKwnmD774MuwgngIG8o9QpBEzE1F0qmpdbfUViSNjhrsfo9iO\n",
              "Xu/rL5XgpnCZA7hVRzZL7jJszsFVFaRrMo4/XU8Ftk24e6ThP0TexsHDDdn6wp5FFpsm8Ot+9ZZf\n",
              "3Tjoytbr4wCRiY9p/qc4uiRycyO7f9n1tf3TbvPmtqDPK87bCCwYeDZLOZkIm0t8KYXHSb9UN7D9\n",
              "AqAceBjnt+QYFQlGGWWWqMCswAbI1pU2iKy4UtzhTlGpgG49RSKj7IV2aerEmhkaM9k/ZTQFqxPy\n",
              "V7TlCvPVqERptSEz9xSfd/Ap00A/XbBf3mU/JaWa36AxGkafZ65QPCBzAoBA27v/x3hseM/FabXy\n",
              "Ycs72j0UENviVNvq629EVMNPwsKCb9e2Mh9YHf1ken31l3OKoYReLGp7Jr3QQVCB2UJwV9rdJvrj\n",
              "ptw0UdG27ychJXq55pjK2rU7Ynvn/5nRsA3Qxm2jDtxqOa6utWz7OWf1D/9mCbFFyILIUr/HHYqn\n",
              "JD63i7a74BIhNYndOZcYjhfF5S5AblaDmf0FiSyVIz/3CTrY7YbwO93WlqT288+kKLYyU72buhyV\n",
              "mipawjx1COeLTtvADzf7jYPPMgxITbPrzwVKP7TgChlWxrYP/l3S6wQLqTmhoSHKGHNbU8+gzteu\n",
              "Sky/xC2aP93uMH/3RdgsZgntESXGGsopT2bv5vf1eMVkKBi/wsFmWEqTgd3xcE9SC/eC3n4HpLWv\n",
              "/BvEaNgswTQ8CM6juEZIMIsiDTRnhkY/fgRdnVKs251I6qDHuzvXIDXPsgdTLvrAAfjVJQ+eSTk+\n",
              "ojrgmXQLqH5S1yp5dF7ItoA/K1pm1QHy52KiYbDNR/reBDYdW70aAO9Dpu5NgyPSi+RLlTIkWpXc\n",
              "Khq4/Lclu2uk4it5FJKk2TgmiZOH8G1DvWPyQ5B/pfL/0fEBIJdGiWxRowpKSbr711jMZkaIoeSp\n",
              "xpnhSQBNKU2DEnsigs2r0b7hL0oivIxeGDoQuj7VJWbMZ/AmhnkntUMf9JJXDsKyTPvPoPJTlRIO\n",
              "/lGLivFPcoz59kk6Zak0fHXXHyRm2YfWDRSvakr3DXTidtKuJmwue38g2kzwlfV9ebMxiNyoQoEp\n",
              "TsGfWKKJydRHdc+jlcn3XDIdERkOLABePFoMNmC/BrqFJRe5wbYYXmlAG/nNto4Y4kZiYCqO0BkN\n",
              "ayJh2S6CBmOFKJ2duYP//fG9PD95r20gI2uf4iaf9c5g10QZtqLiti/N+6q4vHHWJKctOui7SgNx\n",
              "Ycs+w0IX0SBpZ8jBEIHvxw2CzyZPASdWhyZ26bYMqwnWh3Z3o4mPddzA0lh3Jhh/j1TbSpnTOnUv\n",
              "wfmfH2XbJsMbbOgwkI+qR9lasDz+Cn4u5dsk3p2KJM8MfgawbxxsvRrdpra9H5bINpWSn4S3ItVN\n",
              "snFcdNEOybApwT0qXvwaDklVJ43Ky9OLVzzNqlHUiwZh/GqY76WzLle8WRH4DKW+7Oj/+F83wwV3\n",
              "jwPINkB5furmj6oNF1AmcoWiaItq7TRAPYbFZxq9QKGLsjuf+aAOAJXq4yDL4U0LTR/S1b9QU4Uh\n",
              "l6pUanCerVDfHnDbb1hBmxg4L8fD9Ka37RsSK35mFQ2449b/KmPK6GfqLtMZr6nrPtHRuf8Rcwkw\n",
              "R6zsjBVA2s3dMBHh6VuXTwDG8MIMG34c56QmbHymDq2Z3+weSU814D898ZUb/iEZxTKzWPnxVRVn\n",
              "ylL5Alaod+XfxPbq04oLlECSq1ldH9+3mY9geSjFtiiF/Mk8kc+ddEyZ8k1lWxDR0/Hlhsr8AyVs\n",
              "CKod9tdQhC5AR1dMrmtHGOFd67sWcjbR+AoaMi0wp8/0MrPLr0aRII4Ozb294d3Mm0aL5GxO2aE0\n",
              "qaDt6bfdW/JqipGjM5kfkf2yHqKJfHqsFAhW490RSbEtlcSYDXGzVYRLodC2w21Swry2OGwm81UR\n",
              "q6TO7oiB9l06reJ0QBX+DPeKorkC/2kG0AsxchvGpMHPnu0KMoiAlTfSNPoTUx3/pgrNCaBemJpI\n",
              "2I92CpboK987b3oIwQaulcbij5EChFykfVPsS0zXTTaCuJZsV4YiRp54lI+Lvrnxox75Op9bDiXN\n",
              "off/B5xC5/SgElch664ZXJYya7xos4zXTLOUya7HhOBL3Ag7D1Tgk9JnWnPwympkqu7O3iCk86/g\n",
              "Gewg/DqNBWgKnjVFUO88WvW8x8TmF4dWguxM+OiG91CghcEu+EHyR1LlKpo/pqc17ttke7e6EjOp\n",
              "rushsJ98tuJIA3jbaZLyZ+KsSSjvSpoyyhwh9Us/g2YP9b8OoLKsjAYhfT3pEIZGl+riOYWPsAYL\n",
              "hb1IzAN0AZvxsny8iJN3EIIZRfmTdOpPddEmJD3Qb8zQ+jAB2xf7KytSJxpv5LstNsoTEEbJutt1\n",
              "/Amhnk36//6pmAdZGUFLQRElU/5usZ24/gzCrKZ68/usI8opAgQB68fqx1kpVpBtOjCF1B06IKHo\n",
              "Yc2CRFjHDUJfI370FM2OJS814uvPE/M4sQL4Hm/WGmZSqT1VbFm7Um3UyKfHAJzdnklWj8g71jDm\n",
              "4PXNaD1VAasBd0iI2g3o/+4D9+AaT/xKNKrj3IvZqAddve959dCEx/zTFjrO0zlU/Uch7yHMRWVO\n",
              "F5e1Pu+ARPgborSG121PR1+eUXmQ2vOJ1t9MmgeorMHkI+KV2hcDfiUrNDvhTRlkoSIyFjZBIdm6\n",
              "Wp/IqP68y1I6IboBuJzFGUBfunbWbDuxZ1TjZJqDZzpH096UdKA92UmjwzJMGzzv5+2T518TxMOP\n",
              "2T74090WUh2CXFgo/fY5iX/wP9Y0o71sSP1UgLgN0zalkDkhw61/f9lRPjkmDLuv+AjTdq79GjtP\n",
              "/64v8EuIOVAehqj2MGZzrXcH70ewxQVzHh1c5NdNBy0PcJHcT04Z4ioUdi9VeJVNz9R4kvFWgJaP\n",
              "Pwx4QmJb7yVf+RJTyEQADCQQh1pe44NE/deCkL6Vr43QqP+rURYQLpLUE6IErc0byxiLtON+mVpO\n",
              "pm+ijYvlSB00LkCHvQjzLEqPwF5DjAjYETarg1iBnw5ooWlYv5dQnYqDGUnGNISW1tSc0nVO8PE9\n",
              "6Bm/IowSIb7yQvSUcvbkfHX4xSNwouGMBuRoEw4lxaBKuBAR+xz2rfLkG6t5qLZakIA7zIPrWb+s\n",
              "9aLb44Rlg9JXRIKEevlnnDbFQzPL08ETarg1iBnw5fVCo9V8uoTsVBi4H+XR6ANv/dGj8lR3HiL9\n",
              "LEjQVhz/pIFFtbWsOUs3+rcmxOwJdNMKmF+ctTvUzWi4cCKwV6oWUcDiVF+Gl785yWAy0vGJeUu5\n",
              "EPLGQyk9ItGQtWi0UqBPEAz4tgQWsantUdNIe5IK27ou85+bEfbiIjNP2Hc4MzZZG9SeY03kokzj\n",
              "IGGps5ivJ7qpLmhK9AuN+2gthwhUoZLolFwZD18+/sP7K14cGX06Dp2oaIqPZKeICs/d9AO4J2ht\n",
              "jPq4Ntf99f8GyLnX/fjOc3i7WsSLjZyhKzc6aj8k+P6fg+Ob57VpcuiJlV5gbrklLpFS+lz2JQa+\n",
              "J9oCbgI0FtzNAieNlgRUbNtcYlmbzsyN8LNy/pkHOBorX5WnI/JxFxXRgkyJ4B3ewspfMEovxzgq\n",
              "+RvfNEO4TuKrfaKaZrJuDeMu782MjKAvk7zJ2896cC0CqVK3rVvaBHABMVZ0Ob5oXi+dOqswwzSx\n",
              "pbAMEpqI4GjxdF6+oBirYZ0VhUezzdCp1bG4H5k5olpynBuPQKIwpCT/LR6xVzh91hpQC1+v48y4\n",
              "E7Q96N2Q4DIe09RwxGsH+yiIX35BSa9uuE4OPLOHB8ZvGRBhrS9BRDBjmF68jbLf5SmezI44Lu5N\n",
              "E7/kWxBr0G3fkrirHNi2ngf18uTHWHpOtqf3d0MXCVHMej4p5tTGDI/mTkj/bBg4aDrHZrIqBygN\n",
              "HKdZzI1noR5h28kXZv3z6D7Uns80iVujyG6XtGN9p/kFM7op/CqHz9dxpFikGTjSTtU4wM+XcouP\n",
              "MqWX16+vFWk9UySMR2HnHCXvf20+8YiZMD/n/OXWuOWUQCWHCebu9U3LXPRYeOM6XA01c+uWsqea\n",
              "w8Cn7uzb9ZqztPnKJ0KDqIn/GzYbLt4rfjdIPZCsmKz5vM8GPdVZm19Jp/34Pyk83IVzntY0GgTB\n",
              "5qtUJJKPPKsn9zIctgtfyBCIAkULdkIWgB+n2zvLpUQYfMkO3ffEg3lRN8K5UaLviDSpYoM9/fKB\n",
              "JGHDm7N4gTLaEWBGA1ByBXr6j54+IK3LoyUtRO0//zFMnlEpLzb/b208q5/6/3OTdZ3cu1bsYCsB\n",
              "8Lx6m3v528ySYj0u78Hohr6bhP/rfPrpQpAVWDrOKplCWN7uIi4ZT7AGD07NRBEhP7q9006EjWg8\n",
              "maAq9YddGhG+qJtfQIec85fum2W4avi3T1B4k3VvZdjnDd60osclpEODDOLMrYe4dN/9aRmn1oDB\n",
              "j//7j0XVHoQVFZzj+SBV537BQbAqJTTSdoMfg8GxuN+rabBD4r96bcTUXN59Oq5qTsdTpjjClkR+\n",
              "CCw0JAWzgmQ/TfUmskdr5USeKwmoRLGME5sPDWWIsFx9Vi+M5DT32D8LN8gwyWLKD0nRrhmohf/9\n",
              "iRb0IPTK8Qbw2fOpqTe7ByB1dKWjtNcukvqXw2nuYadumJqM6/dnX7ScopFrEepk8UNzaTe7QG51\n",
              "KrsAq/7lGveb/9KOJZcRI1X8JxnVXEPg6OOPn+cgedYaOEkrw69GqrmKp8q12O6+Nh0O6D5k7sro\n",
              "p98b7vsyxI3nlKTXefze0NVt447eY+EX8cg4p7iICA3RYrOAZRfk2FYlYgxHD/4WLFvuXC7zbh9q\n",
              "Ks6JTSON4IR9evguv6aj2Pba2qU6tnBk7BnhNhkUmI0638uvaDezXLSUiE1pgFu7ATXgLKdupnX0\n",
              "xxFR2qbzYo+S+J7AeMiUkWDiCuhGtqw+Xj+QWsKI5UF5qDq8XPgZG2zBNK4yIdqmsam7/i8TbyD2\n",
              "+8HDx2GRDwQrzTUKwecKqDkxowGhlXeHspmiztYPeuaLrSU1hp5bvXIK7dP8n+MOCOwwAOoDyvbP\n",
              "md3wK+r1O9T994cOi7BRfAYRO0Ms+fgtg3NBESRUql119Kh1f9yuSfKJEnwrp29Ijbluccl8UM6f\n",
              "gT5F7/iq2dZzPpWKsibm0NieZg2ZRAefqyUrIo6G2TMU/svp84znJWrmC97cXwi5Di6KG3zWtbbX\n",
              "a9ztbr8080nCM2xjQRkYKZWCOcPsr1qNfiUanDvmPYcYH7CowwUZawt+9XhhuoWi9qwHfr0yS/lg\n",
              "fEGSmx9rQmHP2NiYpHAFRGiqIsVITIzOT/mKzxOTdS0FoLHBZklTHyaubwmln1LVZoaPzVz6ZtRY\n",
              "7r6xWKsd1Ct0Fuj2X3j7YfN/KFotDBpyg6gDUrrx74uZMAEeMlCkJkVRPv8P9gr/2DyDdnyUwFyj\n",
              "elGhz1F6bw3bp1o9nDBbAADdlgWIh4TrgZ0AAACsQZohbEF//tqmWAAACEND9sAcAZ3xcscoq/ko\n",
              "k+LJGmsBHumLnXnvfFbaq0eTkuZDPmMaoAF4jr/z81L547nGDXrJJhe9xcCGtmOSQ4E9Vy0igW7o\n",
              "WQBUBKmaGXi9jtCgTw3xgVsDV0p3G2Rknva7k/KRjIJfyub2pWqZFy9QNf8VA5sqN9R32aSKZp2A\n",
              "qLXiWePua7Lu2eL/MiXzAju/27Sp/a+cIRQWcmxfMAAAAstBmkM8IZMphBX//talUAAAFcNuSIID\n",
              "Hi4ZSYT598x/8yIuaAD5Mi8twUIgVNFdXVLZ4qn5y/gfYE+6JjJyrOModXRnGehHgXndE1KpLCkQ\n",
              "iuzXyzKlKtLHmxGPJYC26O9fVSLvCungXAt0pfwyDT2Bp10ijIx937H90unlbmJ4J+H5Avm5m5TI\n",
              "f8VhZk/GAyxye8z+6LhFXd4kYWmdK+Mp+63/2uSxk6/vriG62DuPBkz2mjpLy+e15Mu+bOSM9964\n",
              "eGK+Z0qZS0NIW/BNpF4alxHU1Q5K2U1d7cRB0YJMqQNMCR1RmLCB17wmMUjRiCCAUHTX29+gXJ/6\n",
              "cRsXRcBRJ4uelYX/4nzlIiNPy8fO1sbafHymrpVX1TEWcc8BLkFUZOwO53KHzJGcyJco6GRtwrTP\n",
              "u48fw/7ssCxAdTACReUvydC6qbL2/rJKm8gDtHuUBOt92bdsi996GEF/pW6DpcggCIX3NN0oYqLR\n",
              "PD6gh+gFnG+65l2Zxmo3KEB3mKY4W6v6/y6sozzlaRPzOhJFURnpbAJrFOtt5JglITyFT5qxlj+d\n",
              "dEj2r7+hKiKC5DxyZ1+tROmHnj0D8oVuV5y0SmDFL39aj81enKIBYMAHV19PW5HfOfnSMZ3VVSVf\n",
              "0T2zhCwWMHRWUS/WyzlIh//Q6wkAo/y1RZX5TGEP6nDaDtYb/g9VKQ6c3akPM/hR50wSysr14XA5\n",
              "PqtqOIL5s4W25qbgGanrifR4SOjNHq8GmWGLfy4bpChOiTSvNApDis23swUIH/lxNUfjRT6mWjOI\n",
              "XWQTZAYxjVhCm2w1Ru2FZOUExECZ4JkR2fbYNQ0N+egO2ZuooiqJKQ0QNE1pO2fSuqJOImZ3ONgL\n",
              "Z8DlS08r+JqmZOd7PCtC7yQ7szmRtsHaxV9hNPorrpWnV/+PIumUXNxNSKHlIR0khmS4TR1p/MH1\n",
              "8/5NP1A5EAd1AAAAiQGeYmpBXwAAAwAP1OcjRAwvMAA/8deRrcPUUhQaAL9BtpMlxqATN5n5+rZu\n",
              "bbEe5d0yq1NOyqkqUbIKrrfVEpPpUehV6UyiqKf2wAd/oQ3bfSAwvJS4DLWm1JPB2RglgsKeh/lU\n",
              "TH722UWuA++GCN1WpKLyZs3cQEL83FsEmhLPSASnY/N+ADfgAAADWm1vb3YAAABsbXZoZAAAAAAA\n",
              "AAAAAAAAAAAAA+gAAA+gAAEAAAEAAAAAAAAAAAAAAAABAAAAAAAAAAAAAAAAAAAAAQAAAAAAAAAA\n",
              "AAAAAAAAQAAAAAAAAAAAAAAAAAAAAAAAAAAAAAAAAAAAAAAAAAIAAAKEdHJhawAAAFx0a2hkAAAA\n",
              "AwAAAAAAAAAAAAAAAQAAAAAAAA+gAAAAAAAAAAAAAAAAAAAAAAABAAAAAAAAAAAAAAAAAAAAAQAA\n",
              "AAAAAAAAAAAAAAAAQAAAAAKAAAAB4AAAAAAAJGVkdHMAAAAcZWxzdAAAAAAAAAABAAAPoAAAgAAA\n",
              "AQAAAAAB/G1kaWEAAAAgbWRoZAAAAAAAAAAAAAAAAAAAQAAAAQAAVcQAAAAAAC1oZGxyAAAAAAAA\n",
              "AAB2aWRlAAAAAAAAAAAAAAAAVmlkZW9IYW5kbGVyAAAAAadtaW5mAAAAFHZtaGQAAAABAAAAAAAA\n",
              "AAAAAAAkZGluZgAAABxkcmVmAAAAAAAAAAEAAAAMdXJsIAAAAAEAAAFnc3RibAAAALdzdHNkAAAA\n",
              "AAAAAAEAAACnYXZjMQAAAAAAAAABAAAAAAAAAAAAAAAAAAAAAAKAAeAASAAAAEgAAAAAAAAAAQAA\n",
              "AAAAAAAAAAAAAAAAAAAAAAAAAAAAAAAAAAAAAAAAABj//wAAADVhdmNDAWQAFv/hABhnZAAWrNlA\n",
              "oD2hAAADAAEAAAMAAg8WLZYBAAZo6+PLIsD9+PgAAAAAHHV1aWRraEDyXyRPxbo5pRvPAyPzAAAA\n",
              "AAAAABhzdHRzAAAAAAAAAAEAAAAEAABAAAAAABRzdHNzAAAAAAAAAAEAAAABAAAAKGN0dHMAAAAA\n",
              "AAAAAwAAAAIAAIAAAAAAAQAAwAAAAAABAABAAAAAABxzdHNjAAAAAAAAAAEAAAABAAAABAAAAAEA\n",
              "AAAkc3RzegAAAAAAAAAAAAAABAAAFGYAAACwAAACzwAAAI0AAAAUc3RjbwAAAAAAAAABAAAAMAAA\n",
              "AGJ1ZHRhAAAAWm1ldGEAAAAAAAAAIWhkbHIAAAAAAAAAAG1kaXJhcHBsAAAAAAAAAAAAAAAALWls\n",
              "c3QAAAAlqXRvbwAAAB1kYXRhAAAAAQAAAABMYXZmNTguNzYuMTAw\n",
              "\">\n",
              "  Your browser does not support the video tag.\n",
              "</video>"
            ]
          },
          "metadata": {},
          "execution_count": 10
        },
        {
          "output_type": "display_data",
          "data": {
            "text/plain": [
              "<Figure size 640x480 with 0 Axes>"
            ]
          },
          "metadata": {}
        }
      ]
    },
    {
      "cell_type": "markdown",
      "source": [
        "# Make a video from two frames (a complete example)"
      ],
      "metadata": {
        "id": "a24WfFJwi1UT"
      }
    },
    {
      "cell_type": "code",
      "source": [
        "from AOLME import *\n",
        "\n",
        "# Define the size of the image\n",
        "rows = 2  # num of rows\n",
        "cols = 2  # num of cols\n",
        "\n",
        "# Define all of the colors\n",
        "r = \"ff0000\" # red code\n",
        "b = \"0000ff\" # blue code\n",
        "\n",
        "# Create frame 0 with the same background color\n",
        "frame0 = np.array([[r]*cols for row in range (rows)])\n",
        "\n",
        "# Specify the frame row-by-row\n",
        "frame0[0] = [r, b]\n",
        "frame0[1] = [b, b]\n",
        "\n",
        "# Create frame 1 with the same background color\n",
        "frame1 = np.array([[r]*cols for row in range (rows)])\n",
        "\n",
        "# Specify the second frame row-by-row\n",
        "frame1[0] = [b, r]\n",
        "frame1[1] = [b, b]\n",
        "\n",
        "\n",
        "# Video play\n",
        "frame_list = [frame0, frame1]         # list of frames\n",
        "fps= 2                                # frames per sec\n",
        "play_video= vid_show(frame_list, fps) # play on screen\n",
        "\n",
        "# play on screen\n",
        "HTML(play_video.to_html5_video())"
      ],
      "metadata": {
        "colab": {
          "base_uri": "https://localhost:8080/",
          "height": 989
        },
        "id": "k_K9EBxJi2O1",
        "outputId": "313d4c31-33b4-4731-b2b0-ba2928f5880d"
      },
      "execution_count": 11,
      "outputs": [
        {
          "output_type": "display_data",
          "data": {
            "text/plain": [
              "<Figure size 640x480 with 1 Axes>"
            ],
            "image/png": "[encoded data removed]"
          },
          "metadata": {}
        },
        {
          "output_type": "execute_result",
          "data": {
            "text/plain": [
              "<IPython.core.display.HTML object>"
            ],
            "text/html": [
              "<video width=\"640\" height=\"480\" controls autoplay loop>\n",
              "  <source type=\"video/mp4\" src=\"data:video/mp4;base64,AAAAIGZ0eXBNNFYgAAACAE00ViBpc29taXNvMmF2YzEAAAAIZnJlZQAAGKttZGF0AAACrQYF//+p\n",
              "3EXpvebZSLeWLNgg2SPu73gyNjQgLSBjb3JlIDE2MyByMzA2MCA1ZGI2YWE2IC0gSC4yNjQvTVBF\n",
              "Ry00IEFWQyBjb2RlYyAtIENvcHlsZWZ0IDIwMDMtMjAyMSAtIGh0dHA6Ly93d3cudmlkZW9sYW4u\n",
              "b3JnL3gyNjQuaHRtbCAtIG9wdGlvbnM6IGNhYmFjPTEgcmVmPTMgZGVibG9jaz0xOjA6MCBhbmFs\n",
              "eXNlPTB4MzoweDExMyBtZT1oZXggc3VibWU9NyBwc3k9MSBwc3lfcmQ9MS4wMDowLjAwIG1peGVk\n",
              "X3JlZj0xIG1lX3JhbmdlPTE2IGNocm9tYV9tZT0xIHRyZWxsaXM9MSA4eDhkY3Q9MSBjcW09MCBk\n",
              "ZWFkem9uZT0yMSwxMSBmYXN0X3Bza2lwPTEgY2hyb21hX3FwX29mZnNldD0tMiB0aHJlYWRzPTMg\n",
              "bG9va2FoZWFkX3RocmVhZHM9MSBzbGljZWRfdGhyZWFkcz0wIG5yPTAgZGVjaW1hdGU9MSBpbnRl\n",
              "cmxhY2VkPTAgYmx1cmF5X2NvbXBhdD0wIGNvbnN0cmFpbmVkX2ludHJhPTAgYmZyYW1lcz0zIGJf\n",
              "cHlyYW1pZD0yIGJfYWRhcHQ9MSBiX2JpYXM9MCBkaXJlY3Q9MSB3ZWlnaHRiPTEgb3Blbl9nb3A9\n",
              "MCB3ZWlnaHRwPTIga2V5aW50PTI1MCBrZXlpbnRfbWluPTIgc2NlbmVjdXQ9NDAgaW50cmFfcmVm\n",
              "cmVzaD0wIHJjX2xvb2thaGVhZD00MCByYz1jcmYgbWJ0cmVlPTEgY3JmPTIzLjAgcWNvbXA9MC42\n",
              "MCBxcG1pbj0wIHFwbWF4PTY5IHFwc3RlcD00IGlwX3JhdGlvPTEuNDAgYXE9MToxLjAwAIAAABPU\n",
              "ZYiEABT//vfHT8Cm6Plmy51FPSEwitj6SCi9WOzQMnUAAAMAAAMAAAMBFAvtxn452Xf8QA22o0lx\n",
              "aJgHea2Awgf4X27JXWSKy73VY1dBLx301rzok3A2aQb5SHJ+LCmDIUpv3s3QAiwaQDrbfC4A/aWk\n",
              "Jp8X3XsYDztXMDVKE+fNjuBhB1sj8JG1yS5A/wTZAqyLbXDM1RPX+6dH0yg9e36S1+JzwKu29mdY\n",
              "i2KU9t2nZrjknpp0auvbm0y2WqKHpBZonS6OnB+v478d3l7p2RHF/eBiDDmPmFYrphhFROMNgD8O\n",
              "wkRqHiN8O7ESE8R61DbvFt1WWPzM6dcwxRcehmUJejJjBP1xt23Uy+xaxv5i0vnCo7goTUwos67d\n",
              "46KsuEQFcy2GXOsdNLWb0fG6XzSA8vh9CPJOzas4rYC1cQtMUlUyMBtKGzIt1jZTuVSgHYIf5Pbc\n",
              "KF3AgPMKKvKH3aBNB8UUfajcOpF7YELAhTP9DQd5/+Nj/hyuA978uqP7JwJuG1ayasJnRMGVxAfH\n",
              "GB7Ohp+dS4u3Lq+Q4iyarFmD7gu39o/qsUaCqWEtVZKG8QkCCO1hrKOVf/Jkqv7PC6qTjWFQpiBs\n",
              "OPdmzyL7ZKe764fvSyEBQOwYV6bJ6Gl7iZfjiOu1Kz80vSGR7EbKjRbzehdSAAG4qAix3j0h8f3X\n",
              "6cQC2FCdNyfaFvQOqCnvlGRgngb5/83ekIygmohYZJ0udeQ/4eyGdFZh3DR3owkVk5ahJSeqHltS\n",
              "B8vi3/cNxDtL69FIv6zs5GqIzh/XjRBFKnclWs4mtCqo4CSbV7+9DB+sDFbOVPdAjonTVavrZAD1\n",
              "g45P+bpeDJ+cjw0v8zC5PiWJ3pBzxmxIMmh3IcjAJjyaM64FZg5Rcw2SJq8DM2+aZE2l1ojLZU99\n",
              "vInB2uM6uvsvcQLB9tPVu6frSeXhNtpH7H3LJUTq6+verUbleNZxp6KifFnFNYWoflyx03djZ/jB\n",
              "5wervKWUsFNxt60venVGDup21iOAYkaNw+CC1KBc9YPMBFhG8OieWMuqhoKtURVFez2WzK25Qo2+\n",
              "CcyTpilAak57CVrnBCkgAIThGxy9S0lAPNpOTp2PYvazsPShSrcsq1uiWg6eKW0kRvyZH7Ua7wB5\n",
              "C/6cHYvHJuWy3srUsGnGOzOqkWbm8GawJGEsi0Uk9RLm0n76H0OPwUfhWjCsIyEgLKejPR3QU4Sp\n",
              "VyBpjx2RGa2CM3A4+ucixtnupvZ2L46dtL5a0gHPsFGDQ62BjA3vsfFW4rkgCfvDApogVGJcsH84\n",
              "X+Tw89WVkdpDGTWCl62YiFF5RwcxL12gz/gfhSdwTlWGcTi74Ils1ziig9Ur8puQ4lUxk7Dgjyc2\n",
              "gcf0n125C5tlvQk8OimuKIPV1HxvanBaVOuiQdx/o+hYSwvIaJDcecfgBpj3OnP+W71mC9RK7H9v\n",
              "tKwxv/6BYvDC0Oq4caxAO2VQOXGg/OKsdYolYUySm5PNZb7LjPFX55+Hhk9Ij70Z5V6PVjE0juEE\n",
              "rcGJMthDHJd6+FeAU6Wji31adjUXfBuAzmthXAEwQX+v/VC6FXyerNDyu4TWLCWoBBqjm8BYF8Rq\n",
              "B7OdH9tBwCSOHpgtX4tcXUHM8m/R9vctMULQ/RrzP9t97vw0hRRAKRrxSkHcziRBmM8qfJwfJEkg\n",
              "BSHxva4ptI3tqlV3soY6FG/r8+Y57NEDcVvx7vFbGdLPpLD7GzKRcQ2fqSc/ErY3gFTs0J+icntI\n",
              "JPnNETB2olxOxo3gsUd1VLBv7sZWC2/kHmB0/40IiEXfHUy207O2VpIjmfah+7sslt37u/jC/dkv\n",
              "568aiEeY1G8ZtKWIQmd6ICSmg9pxcM56npKUYyCb//nXwxWNzje/K7clNdjoYE4UZguKV2aC7U0O\n",
              "b2hTj11Uo1HLFFzL7DmuKvY980ePH0zfip1DPrGwcV9fxKThxYthtwSk/grvLtnx28g78MhHKf7c\n",
              "B6Akbp7Z7fPfGzgrt/tVjr2IJOMLZcIIT9mSuUop2hS3egqmqww2qzhLinuro3YJ5BmL4QaKyTif\n",
              "+f6Lp740ehzfmTHkd2lBE7u6qRwKnwz5FU5zU3xHGQyDRuVlgt5qMI0FWIHSS4ufvTi/QmCgOhKM\n",
              "3WVl8uplGoWRk+qKbPcvREJTj5GbY4K28Q1wjNfcb13rbc3Ui8kVQoYNyvuvLn3P+rehA3+ZgS49\n",
              "pyeqlzVxN080AStys9wuBvp8FBGV9Td/dpehaKWAQOjg1hBAeS4DBEStKrS5bVrCyzmB3KRQfY2+\n",
              "o7gAX/9CkL1zJHCcb/ZcqOPN2aLcK5mc0zBVeRwizSiIH6jB7gJ60QFmdYIMpGDWuLzwBhq3u+y4\n",
              "PoCA0RvYQ5Erv00VWQsAqX2qtyS6CltPaZs6u1ZUNt5Lxlji20105p4foesa5LJn5yq4QqE11pfC\n",
              "sqF4A5yWiH0EdkiaH5GLvy14XpxlEs8j4SlSOcuVfaAHYmPPbvgm44m+QW4MATH//SPTDiBktDqL\n",
              "7BQNofeQ5MhEa5YEH021f2Ld1BqghZgaMloWTjz0yqF3mJwjZzHdsPDw+M1NxobP1+j+1mPFwkxG\n",
              "0rY/terK+L2svvpx0V5zH4WNMmfiAthrYNvqDo+HIdAHBdQMcXKsrVCmScJQ9mM5qVHjZRQ/iSxJ\n",
              "Ey/7rRavkTmXByRNI3ByA+DqOn+2PSscxAfML3CvHt54DS8Duuly4NE7hpqQdbHT08wdlqswHkm/\n",
              "cv7b9x5jpcYnJ7mfgeOdGnI/WQam3rv3u9OdauFLE6kHyH9Nqb+3jgBL+JmjNb5ArayGzngagp1p\n",
              "WG6u4IyYGdGFETcTWlckqcHRQKeOc5cxtCVG9hQvbkd7cEq9n+itlCg9wnQCtiZYxPxOHYlG5Imx\n",
              "R6tirCxoEVvSUN6+38J29OZG0TqxBmWCYFoASL6X/I+7Bou17ASlvJ+ywelO8NkmOEl5xGKc0vdn\n",
              "NhdZ42zQCNAmwSn1e3EzcbXC6Mis24SOllFN69rM/xkm9+tqRFBfqtke+17pfwJ5VhScG5/+OTVr\n",
              "eovH4spKvCiR5FaraIgAUsBUKr3+L0ZFBsWLGXpnDuxg4HrC69lggt+WxSSO7A3l+enMnp1PbM6i\n",
              "A/ixvvi4OcQOA8FQCJ4RxTCMOdVFEPRQD66nElqgiaO0ZoXZbqWX5EeEW1SfZurWi28gS+mvWL8q\n",
              "s2orru8lb427LzQkbiyfU9AYLxs5/C0/R4TzV4/4zIZijXehrHSm9TSo7DJNwB2DRSepjy0eP5hx\n",
              "5/u+22CkumfJ8/qAmacMrNXTpIY0CrU9BjRSZgPgXYyu/cyNVgVHj579b+ZlG/FCQVeWmAdFV+9X\n",
              "3eLxyghMtDjRLPWV5j7M6F5E4qnZme5wgPwFLROLrgTlwmC4SEoMQ3sUf7m/xC5o3Ri7UToHz8f5\n",
              "w861W7+d+TTgbUEGRRjNGApXc9JgdSYphKXE4gUCSKa8t5Ij5Svx/U8pQv1JqayQ2cIOYumV8Vtq\n",
              "z1751s5zR+bUQet4k3gEF9OpvEVvwu/CGl8U6aanbw645DtKlKSQ+XvNKbYLexUKOOn8nq1CVovL\n",
              "2pxLSHpuVVKq1A3T9qTl2RkjVb4UQg3xTUJ4fFTQ7mIg7jx1gBtEbeyYCqDvChdBdnnvLUt+L4q/\n",
              "WQ2EWrMIRcTJG6j19e5m5kuyAr64RRMdryUZTHn5FSygZ0jp15I/m93X/DNWZqY9OhMwJ/k8S7xk\n",
              "ejz3qk7Kd0qohsg5M+0W5wYlfYaAA4e0M1QyZh2QRoXsgDHrCSH13diTxGGFC0K1n1xd9SLUf/3n\n",
              "HeIofbMP8jHMdxww6iky1tGcs6kbbK8eb0EojvGdQ1YpTFO4akdeHteZvVv64PcgFe1U8spKy7/D\n",
              "8/QoeeBDP2y9U1u/EcuT6f7og03xefmugi17htVLiFPoqKcajLCL5h0wW3hqpVW4vvSOiW1pHYV5\n",
              "yFu9UHhzIGDMr5NzCAGnK2a4eqscTdTrCkY1Zwg43I6Ph1bWd+KM9EC/anvyeUfqPVAlqtxrTE3t\n",
              "2q3eranVoy4Zu8Zy+O4clz2Q5N/EiHy5YP0fSYLLepaWpS9UQCUQ2+9TJwLRiXKK/AUl6dQs3PfQ\n",
              "HaxCvngn0XVGwotL2ZVAWatLgiBxVBmKTSVL7vCzb/+kOAvgZJoWLWHQ3vuiZwEYeBPdJOZ1NiJ5\n",
              "L8FC7X1tpWUgCUafL8+Wf04TaoqTYexfuOEzQb5sQ0axnm0v0aM+/HB0/ssk1z41eT/iIxv4At5n\n",
              "GKbRjCefgjWyxL8zekWBG8mw9VR4drcFdXDBcAsehNqQj/nTO94lvFE4RTlcil//c7pOu57HkMIg\n",
              "hiJu/715p/7ptW3z1Enn3ZSGDLF59T8zub5iVBg0E0C5463u547fLkeFHKTe/iyfwQGtx2pCBfN+\n",
              "H2f5TeJn++9imJZwF6xYH9YNw46gTYk5c2fR78XIFMIkrXnWyg6r9Eo44p6k3rEELtcD4gysCSUh\n",
              "799sA6EvHPFtvrD1GIObZNHSdjgpQ6fk2dAPaI3Q2k4oV78czy0ZGg4m/0pf/oIj2FSbuXtyH+wu\n",
              "17CaqH+OOC/lg4VvaUry0D1AuG43UB7dQguY2yYD+IDrx7Aln8R6XFrcrigDq8nLABjEPuMwxPXF\n",
              "KxxbAgH6L80KzjCrJklQRERENzDjmfWhiewDgcRCy0vL/gPym6//DMfSGSLfFZedZcq3/CFtH/ZF\n",
              "e8ww463EqDlzBAzefFG+iKVUKpUxEoAMbAaCPJCiDhJoaHbagTyddMcEJ8/7sR+L9l2Yy6egTVwm\n",
              "p7MJNKYYdi0PVmkYHSaR/kevddxQz+eBKoO/P2InlLpt7UgSKjTzNvzIN6niCcqzUBln/on5Dq36\n",
              "zxvahpQOdZjK4erfxIwx/3C8oCoOSpr9JksecRTPaW93NQ78e0u1T4CnV6hx0cXwwnTo3J8Y1npe\n",
              "RzAAOUrFzy8Y3/7mMrUFkbGCzbPcxhRgKQ+dunZUQ6edMl3M7JJw4y9Ze5h5USYvmj9g10BnDo9e\n",
              "D4zjJV3CPz3h3vWHmJahKo9LAmU9PKmm9jFnHnYNYrrbwbTtRcOZpi29NEw1ZsMBKpFfGerB/64q\n",
              "NrQUIKwvrYC/APgkhlkTgGtzY6xjoIEAL/3EqUJtrtx9s+87AcyDng+utL0zc9FcPmANppaq2VEn\n",
              "N8KOupmyazM8tW9YDRNRbzRHSYp1CZwlXwLvfOKwDoP69WjD1XF3JQVOMP41tkjsn+lZn3PWlj75\n",
              "ApG70vNGMLlor8AxCL+vijJskDmrYDu/HF4WfQuKousj5fNA51t0gS95g70spqYgu3HCFbcZkXjx\n",
              "UwfETBFKeDTuuFkWCe4RFfpCucRPh4qyqMy/XhkSeoPx0wquwTe+rii8QzF/j712JBrhR81vhO1p\n",
              "4cULbqDacangyTjUSXuO2ZKcUA3iEsJ9PviNl9FN+2bKBIbc4Yg70+h4X8Ld7/AEY1zwjTE0gBaO\n",
              "JPJo8e+j60TtQo1bui8fBI/5IPW4DTW/uKgKKoe4YE3oyoKIV38TjgrvShtxrR8gopDbPJ2zRDzs\n",
              "Bnn93E5fZMdWwql4NOdBSLrht/qWMWsG8JMoczNjJNPN6VPESsSzyKz/boL41Spq+PKinu7Q0L1t\n",
              "aUwAE3w8KFv6jgYGGBAvQJsZqopTh6sf4u2HC17YiNO32U8sdRfgXthgIt1ZMC2eT+ZcqDJLtjDz\n",
              "tzvVSlfkO/gphmQbvqGIDk9I20tCgh0iHtLUK0wODqi98YHFks7SPifDR9QF749MTvMXRpc0FkgI\n",
              "bMsbDwQ4zv3p5Wy1x7K64DAZ/kxxTNL9LY+L01rs57D5v8Mj5VpEVCHYr1lCGkYtbUNJ0Cg2Oiry\n",
              "ZRGSz/bMzWtRpPS4E9MzUhOgyOS6wK2gs05GanuyeC8Xe7s/dPHzM/ygLn+CGkQAinM/uy1WiD9s\n",
              "8t7sNWY1KBcy6ORhkl4YHTkNP23qZlAG9t/HtuKjjiOOXetnv8It6EtYc0rT7bcL33hr6yk0BnJC\n",
              "hkEreqhKfl03elej8hTaeVL0PK8tCnDNd6iWXvtXfgk8FJ/+EgMcveUpiGgyd5a0lY/GuejF/ojz\n",
              "ABz81XGZmWrn0DUgC7yTRmzj5uCrNAfdAhPcC9mH7V0Nv0AbaURoR8kdr1UKkEtvl7zIhtrxD/2g\n",
              "eALnkFaH4T4YuBj3oozD5Mab4eFQ8NhGeaquUk3GPv2Jx8bdFPI/73N7UkGPpDWgLxBjc/UgazbS\n",
              "fW9H5J4bwmBl2cf2RgKAM1/k/MJXEe15SQ4e8qkoggGMbPA8Hz4A1iGduCRSYha9slxqt2/fuB6L\n",
              "f70cQK0vLx2tGqC84mz8rdYyX+8zr4B3MdY7k9maLsroEGRT45epZOVeBhtPIW7gCsKHS3C1ddJw\n",
              "HF026SK0bYBmiEjBLq/pmEmKSPk1nrz+q/IIsJW9kGRrAiFGOAd2wtXtGcUs9DM3Cs6vmRirmAVN\n",
              "BM6HYEQqafE1bfEYqND4ae9QG9u2fbGGzxcJpO3wl2aPv6RSE3euQMvxKow4zyo63bwgQ7eg4QSW\n",
              "e1RLmqmF6HdJ9BmIeu72eTkV+T+flHNz/J6I67QHCudm7O/aKc/nUFycnN+sO/Vivbhznv2T8HB8\n",
              "J5qd6g6sVGys4F7KiZTryrPW07LrLgYejqrlhHeLj8ecZG4Y6ie8bvsX2zi+V+sL7+/QyN06TW8u\n",
              "0/SAjozjP5HlJ240Q+Jid9y4VDGp9UXvbbS9Gc8bZykoq7dnwm2Y0F8bquz90FvBU3HI/6dXgAM9\n",
              "MPnhAAACFkGaIWxBL/61KoBSag6gAIGspJQQ/tfMO62YrBMMv16jo1j8pWyXqzKFKYBKGS+lpiC3\n",
              "w/oaHAQH2DZuwgS/xvT06sXhZJ4EZdkfgaxXALVS55aV443mAHj5nwVDHm7GzziHo/s9jQyb95+L\n",
              "mF6VXHa0FaovljPM4+7WEhud5/noUfYo6fbn12JWJQA1fcXIo3XdrPP0kBqyhvBMmx9WQGo5QaWC\n",
              "m5sPJufbkr+Z3s/1a6IJfFxK4x55+UAOfiDMXpq5RHrCMkPCOvIh7P4qaY08TjO8ApQmDbD672Ya\n",
              "c2+MBxDoPORIEV3JhZI7/FEvWgbRBED7Nv7NjV7eE6KjrxfkBIs16PZIKnNnGPTCMqv6jesUq8/e\n",
              "n9FtpW2NJ5H9z0oZalGwGn0ui/Orr7agpHPXmuuho/kYY+kPip5OFgvSmJHDgXDvvUwNDf/a2AmX\n",
              "r/Ie5cxunh2h4zYvuxdg3AZrYfb77Hiyfd/QTK7Optfs8YzsP/Q7ovxBJ7XeVV5O0BycV7bGKlYs\n",
              "2GPviw0R9hQtVqgiqbV19ykTHjlumuYiZ51rB1yUJKBL2vV2bE48nq9YRAL8ul68kjDTEVW4hFJw\n",
              "RSmPRAMh3aK8wzlpUPXTfx1YVLgBpUp8zydraT/2f+Uao39DA4DqPi1lk4YEBADU+rmtnWDTxB/A\n",
              "2UF/+7qRTARl+BpnOhRGpNau79dh9ZA7CNwRYAAAAyptb292AAAAbG12aGQAAAAAAAAAAAAAAAAA\n",
              "AAPoAAAD6AABAAABAAAAAAAAAAAAAAAAAQAAAAAAAAAAAAAAAAAAAAEAAAAAAAAAAAAAAAAAAEAA\n",
              "AAAAAAAAAAAAAAAAAAAAAAAAAAAAAAAAAAAAAAACAAACVHRyYWsAAABcdGtoZAAAAAMAAAAAAAAA\n",
              "AAAAAAEAAAAAAAAD6AAAAAAAAAAAAAAAAAAAAAAAAQAAAAAAAAAAAAAAAAAAAAEAAAAAAAAAAAAA\n",
              "AAAAAEAAAAACgAAAAeAAAAAAACRlZHRzAAAAHGVsc3QAAAAAAAAAAQAAA+gAAAAAAAEAAAAAAcxt\n",
              "ZGlhAAAAIG1kaGQAAAAAAAAAAAAAAAAAAEAAAABAAFXEAAAAAAAtaGRscgAAAAAAAAAAdmlkZQAA\n",
              "AAAAAAAAAAAAAFZpZGVvSGFuZGxlcgAAAAF3bWluZgAAABR2bWhkAAAAAQAAAAAAAAAAAAAAJGRp\n",
              "bmYAAAAcZHJlZgAAAAAAAAABAAAADHVybCAAAAABAAABN3N0YmwAAAC3c3RzZAAAAAAAAAABAAAA\n",
              "p2F2YzEAAAAAAAAAAQAAAAAAAAAAAAAAAAAAAAACgAHgAEgAAABIAAAAAAAAAAEAAAAAAAAAAAAA\n",
              "AAAAAAAAAAAAAAAAAAAAAAAAAAAAAAAY//8AAAA1YXZjQwFkABb/4QAYZ2QAFqzZQKA9oQAAAwAB\n",
              "AAADAAQPFi2WAQAGaOvjyyLA/fj4AAAAABx1dWlka2hA8l8kT8W6OaUbzwMj8wAAAAAAAAAYc3R0\n",
              "cwAAAAAAAAABAAAAAgAAIAAAAAAUc3RzcwAAAAAAAAABAAAAAQAAABxzdHNjAAAAAAAAAAEAAAAB\n",
              "AAAAAgAAAAEAAAAcc3RzegAAAAAAAAAAAAAAAgAAFokAAAIaAAAAFHN0Y28AAAAAAAAAAQAAADAA\n",
              "AABidWR0YQAAAFptZXRhAAAAAAAAACFoZGxyAAAAAAAAAABtZGlyYXBwbAAAAAAAAAAAAAAAAC1p\n",
              "bHN0AAAAJal0b28AAAAdZGF0YQAAAAEAAAAATGF2ZjU4Ljc2LjEwMA==\n",
              "\">\n",
              "  Your browser does not support the video tag.\n",
              "</video>"
            ]
          },
          "metadata": {},
          "execution_count": 11
        },
        {
          "output_type": "display_data",
          "data": {
            "text/plain": [
              "<Figure size 640x480 with 0 Axes>"
            ]
          },
          "metadata": {}
        }
      ]
    },
    {
      "cell_type": "markdown",
      "source": [
        "# Complex video example with object movements"
      ],
      "metadata": {
        "id": "kmpMUAbOoTw9"
      }
    },
    {
      "cell_type": "markdown",
      "source": [
        "1. Study the code!\n",
        "2. Change the movement parameters.\n",
        "3. Change the object that is moving."
      ],
      "metadata": {
        "id": "m3pf84n5oT5w"
      }
    },
    {
      "cell_type": "code",
      "source": [
        "from AOLME import *\n",
        "\n",
        "# Define the image size:\n",
        "rows = 20\n",
        "cols = 20\n",
        "\n",
        "# Define the colors:\n",
        "r=\"fe0606\"\n",
        "v=\"157f11\"\n",
        "\n",
        "# Initialize the background using list comprehension\n",
        "backg = np.full((rows, cols), r)\n",
        "\n",
        "# Copy the background into a frame:\n",
        "frame1 = backg.copy()\n",
        "\n",
        "# Create the character\n",
        "frame1[2:5, 8:12] = v\n",
        "frame1[3, 12]  = v\n",
        "\n",
        "# Make a second copy of the character\n",
        "frame1[10:13,8:13] = frame1[2:5,8:13]\n",
        "#im_show(frame2)\n",
        "\n",
        "# Move the character by +2 to the right.\n",
        "frame2 = backg.copy() # Copy background.\n",
        "\n",
        "# Move to the right by 2 pixels.\n",
        "move_r = 2\n",
        "frame2[:, move_r:cols] = frame1[:, 0:cols-move_r]\n",
        "#im_show(frame2)\n",
        "\n",
        "\n",
        "# Create a new copy:\n",
        "frame3 = backg.copy() # Copy background.\n",
        "\n",
        "move_d = 2\n",
        "frame3[move_d:rows, :] = frame2[0:rows-move_d, :]\n",
        "#im_show(frame3)\n",
        "\n",
        "# Move the object by +2 to the left.\n",
        "frame4 = backg.copy() # Copy background.\n",
        "\n",
        "move_l = 2\n",
        "frame4[:, 0:-move_l] = frame3[:, move_l:]\n",
        "\n",
        "\n",
        "\n",
        "# Move the object by +2 up\n",
        "frame5 = backg.copy() # Copy background.\n",
        "\n",
        "move_u = 2\n",
        "frame5[0:-move_u, :] = frame4[move_u:, :]\n",
        "\n",
        "\n",
        "# Show a single image:\n",
        "# Uncommend the im_show() commands to show single images.\n",
        "#im_show(frame5)\n",
        "\n",
        "# Create a frame list of all of the frames\n",
        "frame_list = [frame1, frame2, frame3, frame4, frame5]\n",
        "\n",
        "# Setup the number of frames per second\n",
        "fps= 2\n",
        "\n",
        "# Play the video\n",
        "play_video= vid_show(frame_list, fps)\n",
        "\n"
      ],
      "metadata": {
        "colab": {
          "base_uri": "https://localhost:8080/",
          "height": 487
        },
        "id": "ol5IYSzmoUK3",
        "outputId": "eaeae6b5-8087-4d85-b04a-8b6928c8c692"
      },
      "execution_count": 12,
      "outputs": [
        {
          "output_type": "display_data",
          "data": {
            "text/plain": [
              "<Figure size 640x480 with 1 Axes>"
            ],
            "image/png": "[encoded data removed]"
          },
          "metadata": {}
        }
      ]
    },
    {
      "cell_type": "code",
      "source": [
        "\n",
        "# play on screen\n",
        "HTML(play_video.to_html5_video())"
      ],
      "metadata": {
        "id": "uAZcWqWyhzlj",
        "colab": {
          "base_uri": "https://localhost:8080/",
          "height": 519
        },
        "outputId": "f4b17dd2-8ab8-4759-d407-7f3ba6f379e3"
      },
      "execution_count": 13,
      "outputs": [
        {
          "output_type": "execute_result",
          "data": {
            "text/plain": [
              "<IPython.core.display.HTML object>"
            ],
            "text/html": [
              "<video width=\"640\" height=\"480\" controls autoplay loop>\n",
              "  <source type=\"video/mp4\" src=\"data:video/mp4;base64,AAAAIGZ0eXBNNFYgAAACAE00ViBpc29taXNvMmF2YzEAAAAIZnJlZQAAGuFtZGF0AAACrQYF//+p\n",
              "3EXpvebZSLeWLNgg2SPu73gyNjQgLSBjb3JlIDE2MyByMzA2MCA1ZGI2YWE2IC0gSC4yNjQvTVBF\n",
              "Ry00IEFWQyBjb2RlYyAtIENvcHlsZWZ0IDIwMDMtMjAyMSAtIGh0dHA6Ly93d3cudmlkZW9sYW4u\n",
              "b3JnL3gyNjQuaHRtbCAtIG9wdGlvbnM6IGNhYmFjPTEgcmVmPTMgZGVibG9jaz0xOjA6MCBhbmFs\n",
              "eXNlPTB4MzoweDExMyBtZT1oZXggc3VibWU9NyBwc3k9MSBwc3lfcmQ9MS4wMDowLjAwIG1peGVk\n",
              "X3JlZj0xIG1lX3JhbmdlPTE2IGNocm9tYV9tZT0xIHRyZWxsaXM9MSA4eDhkY3Q9MSBjcW09MCBk\n",
              "ZWFkem9uZT0yMSwxMSBmYXN0X3Bza2lwPTEgY2hyb21hX3FwX29mZnNldD0tMiB0aHJlYWRzPTMg\n",
              "bG9va2FoZWFkX3RocmVhZHM9MSBzbGljZWRfdGhyZWFkcz0wIG5yPTAgZGVjaW1hdGU9MSBpbnRl\n",
              "cmxhY2VkPTAgYmx1cmF5X2NvbXBhdD0wIGNvbnN0cmFpbmVkX2ludHJhPTAgYmZyYW1lcz0zIGJf\n",
              "cHlyYW1pZD0yIGJfYWRhcHQ9MSBiX2JpYXM9MCBkaXJlY3Q9MSB3ZWlnaHRiPTEgb3Blbl9nb3A9\n",
              "MCB3ZWlnaHRwPTIga2V5aW50PTI1MCBrZXlpbnRfbWluPTIgc2NlbmVjdXQ9NDAgaW50cmFfcmVm\n",
              "cmVzaD0wIHJjX2xvb2thaGVhZD00MCByYz1jcmYgbWJ0cmVlPTEgY3JmPTIzLjAgcWNvbXA9MC42\n",
              "MCBxcG1pbj0wIHFwbWF4PTY5IHFwc3RlcD00IGlwX3JhdGlvPTEuNDAgYXE9MToxLjAwAIAAABE2\n",
              "ZYiEABX//vfJ78Cm61tbtb+Tz0j8LLUh/w361iAIrT/wiO8SYYEf+/GvMJ/Qe9bOsWxxRmO8tSU+\n",
              "uYJ6i0K3kL4gAAADAAADAAAm7yRB2w+fJg2aF0vM3O1v3KMrheBwJyGMVg5TYWIPKbfTIZJ93OTN\n",
              "DRNux4IING+OqJ1dcKh2msyEJVK/r9QYl6iX/89B2riRaqUfi7i2lPDmdx47JTHAG+MopQB18jmb\n",
              "bOG7+BiG7AtVIo1cDvS+7/Ka8ffbij0vNDYPwHqHZUiDrNGNlyw8r1T4rDeIoluGNqByGHxmkNkJ\n",
              "1UsGDSddXJEBJUbmc9/HeCvbH0Kl1ETSmug30ifwNs+Pomu/25jqVVAxBeoYciVih7TbA2djXH18\n",
              "PkhCy5P+xaOXG+CLW1hHwk/rAPlCLdzlwYXc1ufzREpm6t55CG2wb0qGK6ijrX+JZYquJsXjGe8k\n",
              "ciDABTCznXb0tliPvxGFUQB8i67BxI1zc0AAbFuzHaUfGfAfMLWmaU+wS7n6go99cqtWN3t00KGZ\n",
              "rgq2ujpC7DE3cthOlmoHynjNwwYfm0AFNm3aV4Oy8r2EHVVWQsJt4Ku1zDDaTIcoAyQQmBDdbd5e\n",
              "AGv1ob4Bb5mcm6JG/NV97OBqKEzTLN7sp4nLPCU0wbO9WxdxIb5+leZnd5xBM+ImZW7eNTEk8IOG\n",
              "hx7IDk7r1jbECba1A8LMVpK8S9z2EmLDVb/USTcV4J8xps8nMSX6PqVbVIikkmVnShtrD5J20B8O\n",
              "v+Z4zh5dNDiMEONLozKawPFE1Mr4mbHWbcl7PW53Fg8fLTt8esk/nRTWLCfYPlbCOYM9SPQo31eC\n",
              "VdGmn6TwpkiAMzNvdx3vhKBkItlIijKrYwRuvisX8E8HIIcC/XQbeFhyA/Apo1Ke872RNYFTea8C\n",
              "eLH+4rHoPYyauPaOYV04aSm8CxtsUlxsbewqVgkDtAceBX6IIrEG6KodoTrQkwbyT6AGRLJhrLP8\n",
              "gPLftUGSIICBggHJHreIYqfP4ydNKkEF3zwqL+RA8RY23aJkXUNUhJ2AhdntljYi6YbtW4XFC37n\n",
              "5Lm/oDGpeIogVky/0y7eOTpCDx/SmPeRmO2Xkp2CZJxvH0lzXqmXTUqCizbOUaP5Nevh+NvXIvPO\n",
              "Cms0dqBgVhCTKM1WeD/tH3zbvtNRCSjdwR41CoitbfU+972G+ha6Kk+yVvzjV4y5jlt5BnLzhKLx\n",
              "5g7sd3h/L9Cq8IM7cIt9NAwDWaolUcCI0ZEujjsqQ4VLDQnlzeEeJPVNXHnqGbweW5MDgME9erM1\n",
              "04KtrUTt45G1fF8Tq8g5YYnEmPtBbPbbRViPKyQTQ0qBN0/McLOn5DbC5AXa2dSmIqqfMfqN7CUR\n",
              "QKrXqIRQ5eo+Fijm4nSheUfi+p8bExRqNN3Db/RAkqurua4f18jXloJRR3ZUeGU39BbDAEg1wtrF\n",
              "fCthLPc5YyqfDcU2zI9RcPs719O6XQ+IABbTB4V7c4VHOtpsuL+tliOyEjgAFdcKn5ohA2h0OuLg\n",
              "jRHQWLxI/Ylznrc/87Wn5eDnCYI5sEfVV0m2TtanT98VnWK8aBEthYz/v7D9a3Re05S48/oYBv7R\n",
              "5c7heUili9vuab9I3iLacOCrxh5coQU1s/CTwdtHmI+64nApcyNXngwDnBPOnC/TW50iWb6eR+TV\n",
              "P1ToNuzGf8nYxnrYCjyv1rKI4/oxCi7FJDgV+AvfX7WZvAGKzqPmN3BhjcwY12h7FOgSiCIrHTQk\n",
              "VEaWQrOJQ70+OQQsn6H/EkHX1phlqEQ/IeechNqTQD/7OYQHepHUYAHTHmjji/+lCFhnY4SqDDYg\n",
              "1RU+F3rHW91uS8KTIm6Ryvl/hebrMDLXQM0Lru/U2IyrJwvQ1RAjA+RgwuPNWwv0KqHm4erIZcBa\n",
              "YiyEPFNiu3A9cqVpvKcyF4o1DTbOojByOC/LBDUw2VJFGw1QZyIqXt4oC3SqUMA96cOt8/82JcAN\n",
              "j2CE/CBB/EY2ELD9lqgh01qsi3ZhB5ZeFEzVRvAvuCxxw7F1+YoOh/Q0RiT3iH+0xcBoa066R8sU\n",
              "ZuSJSzBjhe6EFsRe0L5FVrUJ6a4aAfvPfdBlALsU9Te27XwNuJhj39K8E4RY06Y/pJVffyAtDpPP\n",
              "wcgJcd1+xq8Hrm2MADwJ9RSUwk3eC/DaZVXYyZm0+VYUr96DnoYKHL/oE3UTbtZTHhW1ayl0sywj\n",
              "xu4Hc5Qxx0Zd6nr5D7JrGcKj9OHXGPt/eqU4eNvOspRiaJNPWxCPO3aSvdjYoHNfTdg4/rlFwCdK\n",
              "+V4/RGrxOefFklUAxxUUe1OSpnDqx70M5anIBqifne9CyK8VdT4LzyGm7F9OZUsMhA5nnDj9WII2\n",
              "rmZ0PWr2Ew83lpE+JqPtc5KFcuoan9cx5+bfgeTQq8m2sk4tjark7CA1mTjqiArd4sAYLdL9Zuga\n",
              "xqFi9YvIUuDDJhJpIoNFE+uBM7A2GP9/wZRYsZ92OwhyduZfwMzFICZp+kT/lzX7Sh1np+bJSXBj\n",
              "Yks8me5brM/pyXzlq57GfpVXaZzDiHXwteXHyKwPHfqbCPBA7uKnqlnDOy9OyV1Hw1xH25OU9zwd\n",
              "snVySE/Ahihx0FAFymVIMtK2pefQRyHCV4VYjROcKivli1pvNF56BZuolMpMeexX9qDQAy/LNqeu\n",
              "UwgAAGJsparqU+qkAPgbPag6q9r/C980PZ6n82ry61YCFiFaW4YdgZCLtMvnpuRtCgYkk+S4/6AE\n",
              "V/EYf2G0GuVfmmaxBe8lgTGKwYv7KeQDhbOa9TEpXL/llRUUS8Whhgy6DfeZq8nDrQFov6g158K9\n",
              "VbetBQ7CHvO3GT/HVnBDtAltgYQdySlMa3Rd2oh+E/NdbRyGgyicqZRSYqg5wV8O4B860JIHiICU\n",
              "KxACa5cRBxHNg1qGxQ+amPGZyJDQQuripgalvnQ1LLVa5hjVqHMaGgKoI5T5ek5mFojHYcF2Dexe\n",
              "gHJ3ihfIkjBEuBlKhVCx3zMzkg268XPJckVBkkfoKXD7LP8iEkgAx0CUHbHWrOwCIT3LzjF/dgOX\n",
              "YukPkCsS4LKiIqHYny2htzYJuKsdCkg7byqooRd//gibX6GsLjxTB1P+0AFLMP8Ua19qdPmpTgee\n",
              "ZNtyY7uKP/asmhkpSRocreng3F2m0vVMXLJ5umg9tP1HyFRBVXXt8ap/P3wHG0HsPv1d5jU8vrQl\n",
              "8626r/HUqixeIhadM4RbJ9kdSMUJryjZ59dcE9g/QglXRpjG14CBAlrjyFknFrju6W1IV6wCBc1R\n",
              "mTop3hSaV4fMxGcosVOfMKdsPPUoAmkuUw3k8f2/mVwfQZlKWBTtlvsz5S56cBRjAuSq5qsMUNFl\n",
              "8yooOC9fF2/a1AEgL+iKAe1fiQtnEBK+9TAADOzQHvwrMioSZ9Ezvf8B866f/xcbzzLkKB/uVUWr\n",
              "mrT/N+3PKkFAVnV2wn00SzpypEHiJuU0Ur99cYBJaW9VzUe/52LrNH1GNY4OZ2C8KCeyT9zcL8ky\n",
              "jP8zPlk+FO041RURe94OMFb3d7XHRrRZ545abYesj2THsL59nBnnapU1nZqhjg1m57svBKTxYjYC\n",
              "m2+jAuF0qELpLjocOzgFoyaSNQPOFMq5/pRFQUfiIZNqoy/ecAMyO8Ipnw65x3yxOMeLhMW3m7Bp\n",
              "olyPjL1Q6/ZVBoDpghyIEZ8unoI1rV5CwCOdbWp3hLZ4ha40CoES4uWejFHCBV+SLr+ngWAtaGXE\n",
              "btfyAsUVSa8ZmbiQiqAFO2SCYYzY5qbakZ66rfQFmZGyDuvG7uN2mlFypMZeRdYCXbhKhgHtGORz\n",
              "eXTMg7ePXhnq8lVkeGELU9dPw2R9LIacWuS4sme1R7xwosbnNsxP2kpkpyo/HIn7gEDv9HG4bHR4\n",
              "q6qqheOZielmqC2owatvPF/h6PI/l8WO4g+s9rQtmABp4TDtSMWjL8wMYhQNs3y4xIz4K4oJT8Mc\n",
              "pjzvDjJcVcnrtZQ9L86lDFsWfVjmwUuYX/6UVCtaa6D2hvwif69++wHmfqf4BEOVxrzG2mEXhI8X\n",
              "MWI2+M5lr7GPjzw6GgdpsrzsdgqUl60MDybOtiEKQBauYChITjrf+Gv1LXcy1OhP59Z5+xZpdrC5\n",
              "LEkJPgF1EOECyAa08NsdoamgDxVSjj7cpnN3peO0H9Vfay9X3MtOeQkecJwjcBV3V189PdmJsq9S\n",
              "j69gr42qttHilNNk7kjjSLAud8XAXFWJY6sbpFaQbride1hwdpta9VRrOcpkWXXjcG920N5XXG8K\n",
              "bkOHlL9aOICy/UbfxZVxg2wGffbeEoeg9iX5Tpb5zgEuI7O8RufDSp2XifUnuYD8oASqbnLvjaKs\n",
              "IxU70LNbAUyoDUbb6LUBMInKK4Cy5I5IGEdiQyAsfQcM3KFbqRUos5rQ69tHx5N7let/vNCn9Kal\n",
              "FZqUqUULrgjyy3LJgcxqZrdZj22tUWWDXU719ihhpauUll4iv+Af1sDMcJBQyLccBOK77NbqGwt0\n",
              "/0q3pS74+Bo0VUH5TnboqVBsuYbJc6f+M7Hq9+wIRoZIpXEIqtFm/vinzkU7in/V3xLC99HQDqzW\n",
              "DPH6uLMa0pmksW5rKnmoylu/IpW+3vxpTHk2bap0i7qpSx4zJV+dXpO2V/B+ekzsrDV4zuT0kIxu\n",
              "+CidmTO5oeU9ptDFOz4hFGIg6DN9MxeU1WDMHqVJpq6qbZO2DiDfFebdgX2jAv8JgucGoNlPAfj6\n",
              "IQvFBEh45LZjjq3/VZVm40rVGZPFt1BvaqdcDEKiT10yi02INDHv+flb84zYOcR6LFzZzwcSr0pq\n",
              "/AW5KppoxVSqAy9P/gu+D0j6vcN0T3BWNFNqoE1qjZBCoDOWwYD//kgbZ4jczrbBc43RyR7JH+1E\n",
              "z0tuQN1M1O6jMeVYHM4NLP/mb+zS8wXNBBOH6OfKCwMxDvm7tyJyhwLb9yLyltRNPvr//vThSKff\n",
              "2gzRp/yKmRRVazuQnI7+yJ9PGhXGsDWtf9VdGNlKFSPmpfR/EGjbSdbSKYUqDOMlI5EKqL/Q6f2q\n",
              "BlVGkVQ+eg4rtgDT7VWy2SvnD2WUM4hKfxjAlGLQgVTXtlVY5rdO/Lordsnc9YDwS+ChVhT7ChR+\n",
              "ZGGrUK4axX+VshM48ZdutUZn6tDuBRLyAYKQTa7HrvBZwzgV3f+MYyC2UX8FiYYE0UsXe1PpNTfR\n",
              "eUX90EXCJpuDg8keuN5MnDGTiOI7aLU2LsiNBaw9/mZRfZigz/Ap0Z1teb2aZQrXMTSNItIP2inf\n",
              "pSyNOFGAYXd3FHn0YI+nG1iDOv/TMa9LqlFB8P4H7SJvqnOGjob4BoDAElboOIZIBodlkegY0zzr\n",
              "D9vwkaUmWzbzvqXytQeRuYeLgYfanppIyWQB7Xra9J7SwlvbzL6ssm60UVqz9CVXVD8BUqhJ6Jvn\n",
              "+EC3a17uDYs+fB/YJGqCEttlwehJ61qYZDC0bO46SUFpKxZwZv3Agu4ytdi4QRt7SlLEw0tn5sWM\n",
              "FCaQMZftIbKgT3t1Z4/wVG+cFM1R3qMeT04af08uzNR7ejqp8AE4JMu6HpokthjxH0SNewwzOrQd\n",
              "n7Bn7qqoi/J/1EhGkCkr7TcGJUO2vMIeFC8OVfGi8Yn4cvBpqZ/QVAF2OqYtxb1tSnEHqh+BE2w/\n",
              "tH1SWi0V6/xpYThWt5C3jHVGgFALjxi5rl8fHeU3N6xXyFMqZj/7Qxt/0vu9yQ7FO/BsqsCYdC9t\n",
              "ylSRWYheUS9Plxoo5BDdgdZ0OrAIHBMU0XvuhmjQtny+LO9XfdsrtoG9s7hfJ9pkuZXPm9OpmVaR\n",
              "8nU+uWyMop0dlNs3nYbkysn6BcV/Bp3dujMaj/gSXvJe96BsBET4qwxv0YP1VrSKuk5FkyPcNxYi\n",
              "LsyAAGEgu2SUztIaB4qTs+EAAAIYQZoibEFP/taMsBK49CWbihnzV0GM/pRdvJuQD/qEb5/X/AAA\n",
              "GyCw4cgA+zuzMyog4TKub///38CeQoShvFsHIp//UgKu4TBv7z40SaLBlucklhboixkuZenIqB//\n",
              "I2k7E2TsgafWqwT34NOeFg9rncN14wTSTA38IxwiH8EF8Wkf/okRi3jN9yNSBanclBERCz2506EC\n",
              "keOSirGleVeX0ECN82P5RxIFOxuHNqAVbzn8rM2gwDUtdar5+t9pClb334wlsluCigN24j92kGT/\n",
              "kW7nChWUgtUYlgcaexw6sKOrul4436zH7FO8oZJQcmc5jg5DsDaoJluvk9gcmrFEa2EhZC/OHVE0\n",
              "nF3Bdsq/h4KAMY1loZ/qgiVkZ7iEbqnRXh9ASVMEjhE5lXdCJlQ8t2/U/cwXZ0YAjo5yGehe6ZNn\n",
              "QutUhrWxiZ25cTTZRiF2NpstgIQVhq/MPV+4+UWiCqktfYMqnGdWsAxSfV71ssla1e44UpyD+aND\n",
              "GghT85piROm6ZDyLtGQvO4XYWWzUNfWp3uguJa1sekWCRdE4gx6wQXWASwZ4VRD2R7U9mvdXMgd3\n",
              "Wk8l6bfyGD1N4n8vSELibQtYc0BjaQ0xkODfKyroGhMu2rnfkoI+mJjtXwLbxTlQKLJ9Z1MozpsF\n",
              "Q4ZTr72wPjerAI/c1SenxZ8n/DNLE5u+RIKjcFfxSTJFZmoVYEG4wCYkC7gAAAH1AZ5BeQS/ABOb\n",
              "wET0dxa2KxSAAWcfQ1COKKqM2claoMFwNQO+8jg9xkFd09J8z6rODkihsK+NkLutKjVd9xGuAS+5\n",
              "tE06B323r8eprBMBbmQyD3wuuJ3+kBEQCGgmSXWYgpz6gyO02NWv/4fl023r4N3pjEr0u/rfjcuV\n",
              "q3LarYpcmxWS9k/aoyOUN7zsyGtf8vTirQho2G2ks2B5klII4awGka44O6K/nYjqOZW8ajdVl8DR\n",
              "r84+zFwCfPcw0y0Jngl5rz6PaN0Uts6luGghNWWwcrtz56ko9cj0wmka1OvEPdNQHLiouDoYx3I0\n",
              "cZUSMl3W7fjKTWj1VXW33yecs0tyuEL10CoLr+kLCKIyTFusXW6VB+md1wFQtvXR/jO3KfZBbZbX\n",
              "5RVffc001yPX2eOVvlfK/dzkfn0H2Cw3nPkT1idjOR0j0m24Rs6kDcadWjGVGEH3wFrdHqtIKyvf\n",
              "abm9FBFLLtCjaBMQH1+/kBVYs/f66b4tdXnE2b0J60ScjxkrMziRCnSq4BA4LHaiLUvLYcPc6D5T\n",
              "+GZ56FnjrkoGJErCEqKnWczlaEQzDHGSPo6DUClgTzLe26yrkgdJqwe4cmii8QmwmgnnIZgK++lI\n",
              "2DskyhmVEY5X+6Qrj+0+rFmA19a9fv92aYLkZe6jDh/ioA/xAAAAh0GaRDwhkymEEv/+tSqAA6R7\n",
              "kVvaU8XBRE5QUysQ8G+YEALZJRt2F0/2oeTEUW7rVQ7dLVUF0ohB9wAB+fCZzSCfAp4+iAy0//+r\n",
              "ATmd3GSmYWPsXE4gAAaoCYRkeeqCtKOv7abgRXE0k1f0p2271ayjVZWC5tAPOJeagKPSHWEOZGbn\n",
              "EkQEXAAAAkoBnmNqQS8AAc9yXX7qthTqBcc9TRK08tZvIASMSfGGFDcfOP8gFZNA5cDaoqBuf//H\n",
              "USA2ptB14h8NT7EQENP025jq9xtcEV0uVE1cOBA+o8WMRiINs2mIOA9AaF+iMabzujtol37qpyah\n",
              "wEEb7GC5MaiZkYiPs2nqrkqM7Y6k/xJfYaTpzaVjgxsui2ojdn2qxX9quPGzR/uhYJolkMeuY+L4\n",
              "6PRZK0qxtFmwKKOEZ1+QIfu94VBU7hgJJ6YkYhrpVGJC4cVjU4cTqyc9upw1d57lzYzyURAL1fs+\n",
              "ZM3IlM6Kb3YOrRq/6OBfDAD5DcWoPwPQ4XchgLFh+88aZdR7phcvjDC8FozVIS0jOH3zBn8jGbpU\n",
              "p98SUBqOw1rR3aTzzclz0hKuBsnYdnD0Z5c5U5Qr8vPOgsW//tzh4wa3Au/XlMFi3h+cMZGFDgsv\n",
              "PRKbrtSdWn+rpmmnE+ovM8faoVKP41c4wuT59f5HwBMpzd+tZlmfTn1qNEgv2LtZDEvw4BnqXUiP\n",
              "ssPVi01nr0F8VlGfvlYD07YrulXDohsNRLoN92/TZHjT1t7x93+j9/ossI0Wdp5g5z8XedntZ0FG\n",
              "X3IGpl7hufBvldaYf6VXoOSDbNqztJLBKjsh6I9eJCqRWxQZR4JuRprE3Sqa5ZWjkhhdDI88Stm6\n",
              "oucesrE14Syu7xC9kwXri7aDGDBlI2uSxViPy+FfVuSmUmC9urJjEscF+QPmic78U8GtbG2BkdXe\n",
              "9AUIcIh0dEIwZFRmKSGsHiTZklMnoLaBAAADbm1vb3YAAABsbXZoZAAAAAAAAAAAAAAAAAAAA+gA\n",
              "AAnEAAEAAAEAAAAAAAAAAAAAAAABAAAAAAAAAAAAAAAAAAAAAQAAAAAAAAAAAAAAAAAAQAAAAAAA\n",
              "AAAAAAAAAAAAAAAAAAAAAAAAAAAAAAAAAAIAAAKYdHJhawAAAFx0a2hkAAAAAwAAAAAAAAAAAAAA\n",
              "AQAAAAAAAAnEAAAAAAAAAAAAAAAAAAAAAAABAAAAAAAAAAAAAAAAAAAAAQAAAAAAAAAAAAAAAAAA\n",
              "QAAAAAKAAAAB4AAAAAAAJGVkdHMAAAAcZWxzdAAAAAAAAAABAAAJxAAAQAAAAQAAAAACEG1kaWEA\n",
              "AAAgbWRoZAAAAAAAAAAAAAAAAAAAQAAAAKAAVcQAAAAAAC1oZGxyAAAAAAAAAAB2aWRlAAAAAAAA\n",
              "AAAAAAAAVmlkZW9IYW5kbGVyAAAAAbttaW5mAAAAFHZtaGQAAAABAAAAAAAAAAAAAAAkZGluZgAA\n",
              "ABxkcmVmAAAAAAAAAAEAAAAMdXJsIAAAAAEAAAF7c3RibAAAALdzdHNkAAAAAAAAAAEAAACnYXZj\n",
              "MQAAAAAAAAABAAAAAAAAAAAAAAAAAAAAAAKAAeAASAAAAEgAAAAAAAAAAQAAAAAAAAAAAAAAAAAA\n",
              "AAAAAAAAAAAAAAAAAAAAAAAAABj//wAAADVhdmNDAWQAFv/hABhnZAAWrNlAoD2hAAADAAEAAAMA\n",
              "BA8WLZYBAAZo6+PLIsD9+PgAAAAAHHV1aWRraEDyXyRPxbo5pRvPAyPzAAAAAAAAABhzdHRzAAAA\n",
              "AAAAAAEAAAAFAAAgAAAAABRzdHNzAAAAAAAAAAEAAAABAAAAOGN0dHMAAAAAAAAABQAAAAEAAEAA\n",
              "AAAAAQAAYAAAAAABAAAgAAAAAAEAAGAAAAAAAQAAIAAAAAAcc3RzYwAAAAAAAAABAAAAAQAAAAUA\n",
              "AAABAAAAKHN0c3oAAAAAAAAAAAAAAAUAABPrAAACHAAAAfkAAACLAAACTgAAABRzdGNvAAAAAAAA\n",
              "AAEAAAAwAAAAYnVkdGEAAABabWV0YQAAAAAAAAAhaGRscgAAAAAAAAAAbWRpcmFwcGwAAAAAAAAA\n",
              "AAAAAAAtaWxzdAAAACWpdG9vAAAAHWRhdGEAAAABAAAAAExhdmY1OC43Ni4xMDA=\n",
              "\">\n",
              "  Your browser does not support the video tag.\n",
              "</video>"
            ]
          },
          "metadata": {},
          "execution_count": 13
        },
        {
          "output_type": "display_data",
          "data": {
            "text/plain": [
              "<Figure size 640x480 with 0 Axes>"
            ]
          },
          "metadata": {}
        }
      ]
    }
  ]
}