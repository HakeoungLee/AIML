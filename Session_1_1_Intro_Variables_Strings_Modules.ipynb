{
  "nbformat": 4,
  "nbformat_minor": 0,
  "metadata": {
    "colab": {
      "provenance": [],
      "collapsed_sections": [
        "Q21UmpyZfC9J"
      ],
      "toc_visible": true,
      "mount_file_id": "1Hrq6AQPxif8-CEHIqmwTGs6cTTEJF9Cl",
      "authorship_tag": "ABX9TyPXh7HG1Isrj+P048loEFeT",
      "include_colab_link": true
    },
    "kernelspec": {
      "name": "python3",
      "display_name": "Python 3"
    },
    "language_info": {
      "name": "python"
    }
  },
  "cells": [
    {
      "cell_type": "markdown",
      "metadata": {
        "id": "view-in-github",
        "colab_type": "text"
      },
      "source": [
        "<a href=\"https://colab.research.google.com/github/pattichis/AIML/blob/main/Session_1_1_Intro_Variables_Strings_Modules.ipynb\" target=\"_parent\"><img src=\"https://colab.research.google.com/assets/colab-badge.svg\" alt=\"Open In Colab\"/></a>"
      ]
    },
    {
      "cell_type": "markdown",
      "source": [
        "# Course Outlook"
      ],
      "metadata": {
        "id": "Q21UmpyZfC9J"
      }
    },
    {
      "cell_type": "markdown",
      "source": [
        "## Course Goals\n",
        "\n",
        "*   Introduce Python coding.\n",
        "*   Learn to work with NumPy arrays and PyTorch.\n",
        "*   Make a video and understand video down to the binary level.\n",
        "*   Explore elements of modern Artificial Intelligence Systems.\n",
        "\n",
        "This event is co-sponsored by the IEEE Signal Processing Society."
      ],
      "metadata": {
        "id": "g4MNzch_b7NJ"
      }
    },
    {
      "cell_type": "markdown",
      "source": [
        "# Lesson 1 Goals"
      ],
      "metadata": {
        "id": "sluIs2r3c1Tr"
      }
    },
    {
      "cell_type": "markdown",
      "source": [
        "* Conduct pre survey to understand where we are starting.\n",
        "* Introduce each other and form teams of two.\n",
        "* Introduce Google Colab.\n",
        "* Introduce variables, strings, and files.\n",
        "* Provide a protocol for working with AI.\n",
        "* Provide recent AI examples."
      ],
      "metadata": {
        "id": "IYPGHtync1fo"
      }
    },
    {
      "cell_type": "markdown",
      "source": [
        "# Introductions"
      ],
      "metadata": {
        "id": "E0OjtK2Pb7X0"
      }
    },
    {
      "cell_type": "markdown",
      "source": [
        "1.   Teacher and facilitators introduce themselves.\n",
        "2.   Brief introduction of the course topics.\n",
        "3.   Each student:\n",
        "* Introduce yourself.\n",
        "* Tell us how you found out about the course.\n",
        "* Discuss what you are hoping to learn.\n",
        "* Tell us about any prior programming experience.\n",
        "* Describe something you like to do.\n",
        "* Give any further information you want us to know.\n",
        "4. Form groups of 2 (up to 4) students.\n"
      ],
      "metadata": {
        "id": "PCW3KVNSdMVW"
      }
    },
    {
      "cell_type": "markdown",
      "source": [
        "# Rules for Groups"
      ],
      "metadata": {
        "id": "_ORt8tiZk9q7"
      }
    },
    {
      "cell_type": "markdown",
      "source": [
        "1. <strong>Actively Engage During Meetings</strong>\n",
        "\n",
        "    Minimize distractions during in person and virtual meetings.​\n",
        "\n",
        "2. <strong>Ensure Every Voice Is Heard and Valued​</strong>\n",
        "\n",
        "    Listen actively and respectfully.​\n",
        "\n",
        "    Share the floor.​\n",
        "\n",
        "    Avoid interrupting and allow space for quieter participants to share.​\n",
        "\n",
        "3. <strong>Commit to Collaboration & Value Diverse Perspectives</strong>​\n",
        "\n",
        "    Share ideas openly and be willing to build on others’ contributions.​\n",
        "\n",
        "    Embrace the range of experiences and expertise in the group.​\n",
        "\n",
        "4. <strong>Be Constructive with Feedback</strong>​\n",
        "\n",
        "    Offer feedback that is specific, actionable, and kind.​\n",
        "\n",
        "    Critique ideas, not people​\n",
        "\n",
        "5. <strong>Maintain Confidentiality​</strong>\n",
        "\n",
        "    Respect the privacy of discussions and unpublished ideas.​\n",
        "\n",
        "    Only share outside the group with explicit permission.​\n",
        "\n",
        "6. <strong>Focus on Solutions</strong>​\n",
        "\n",
        "    Approach challenges and disagreements with problem-solving mindsets.​\n",
        "\n",
        "    Seek to resolve issues collaboratively and constructively.​\n",
        "\n",
        "    Address misunderstandings with curiosity and care.​\n",
        "\n",
        "7. <strong>Celebrate Progress</strong>​\n",
        "\n",
        "    Acknowledge individual and group achievements.​\n",
        "\n",
        "    Take moments to appreciate the work and effort contributed by all.\n",
        "  \n",
        "\n",
        "\n",
        "[Website link for collaborative learning](\n",
        "https://www.colorincolorado.org/article/cooperative-learning-strategies)"
      ],
      "metadata": {
        "id": "8xO2GpbRlApg"
      }
    },
    {
      "cell_type": "markdown",
      "source": [
        "# Additional rules for groups"
      ],
      "metadata": {
        "id": "arHzUKSfxwfe"
      }
    },
    {
      "cell_type": "markdown",
      "source": [
        "1. Have fun with the assignments.\n",
        "2. Take turns discussing the code.\n",
        "3. Take turns with typing.\n",
        "4. Support each other.\n",
        "5. Respect each other.\n",
        "6. Allow others to talk."
      ],
      "metadata": {
        "id": "NTSK6j3mx16E"
      }
    },
    {
      "cell_type": "markdown",
      "source": [
        "# Basic Google Colab Instructions\n"
      ],
      "metadata": {
        "id": "-jBY7gGmURI-"
      }
    },
    {
      "cell_type": "markdown",
      "source": [
        "<dl>\n",
        "  <dt><h3>Prerequisites</h3></dt>\n",
        "  <dd><ol type=\"1\">\n",
        "      <li>You need to have a Gmail account to save your work.</li>\n",
        "      <li>If you do not have a Gmail account, you can create one.</li>\n",
        "  </ol></dd>\n",
        "  <dt><h3>Open Files Using Google Colab</h3></dt>\n",
        "  <dd><ol type=\"1\">\n",
        "      <li>Navigate to\n",
        "      <a href=\"https://github.com/pattichis/AIML\">GitHub Repository</a>.</li>\n",
        "      <li>Select lesson for each day and click to open in Google Colab.</li>\n",
        "      <li>Login into your Gmail account, select Apps (upper right) and select <b>Drive</b> and create a directory titled AIML.</li>\n",
        "      <li>Save a Copy in Drive to copy in your Google Drive.</li>\n",
        "      <li>Move the file to the AIML directory.</li>\n",
        "  </ol></dd>\n",
        "  <dt><h3>Saving your file</h3></dt>\n",
        "  <dd><ol type=\"1\">\n",
        "      <li>Click on <b>File</b> on the upper left</li>\n",
        "      <li>Click on <b>Save</b></li>\n",
        "  </ol></dd>\n",
        "\n",
        "  <dt><h3>Running your code</h3></dt>\n",
        "  <dd><ol type=\"1\">\n",
        "      <li>Move your cursor over <tt>[ ]</tt></li>\n",
        "      <li>With your mouse over <tt>[ ]</tt>, you will see the play button</li>\n",
        "      <li>Click on the play button</li>\n",
        "      <li>You should see output below</li>\n",
        "  </ol></dd>\n",
        "\n",
        "  <dt><h3>Printing your code</h3></dt>\n",
        "  <dd><ol type=\"1\">\n",
        "      <li>Click on <b>File</b> on the upper left</li>\n",
        "      <li>Click on <b>Print</b></li>\n",
        "  </ol></dd>\n",
        "</dl>\n"
      ],
      "metadata": {
        "id": "vAXXSgocUQH9"
      }
    },
    {
      "cell_type": "markdown",
      "source": [
        "# Inside Google Colab: Adding Cells and variables"
      ],
      "metadata": {
        "id": "Cfgtj4zx5qxv"
      }
    },
    {
      "cell_type": "markdown",
      "source": [
        "<b>+ Code</b> for adding a code cell.</br>\n",
        "<b>+ Text</b> for adding a text cell.</br>\n",
        "\n",
        "<h2>Add a text cell</h2>\n",
        "1. Click <b>+ Text</b> and type some text.\n",
        "2. Use the trash icon to delete it.\n",
        "\n",
        "<h2>Add a variable code cell</h2>\n",
        "1. Click <b>+ Code</b> to add add a code cell.</br>\n",
        "2. Type the following code:\n",
        "\n",
        "```\n",
        "a=3\n",
        "print(a)\n",
        "```\n",
        "\n",
        "3. Navigate over [ ] to run it.\n",
        "4. What do you see?\n"
      ],
      "metadata": {
        "id": "Z91ifwRFcRwT"
      }
    },
    {
      "cell_type": "markdown",
      "source": [
        "# Introduction to Variables"
      ],
      "metadata": {
        "id": "in4Ps2XM6SEm"
      }
    },
    {
      "cell_type": "markdown",
      "source": [
        "Run the following code by clicking on the play button inside [ ].\n",
        "\n",
        "What can you see?\n",
        "\n",
        "Comments are used for making notes:\n",
        "\n",
        "```\n",
        "# After this special character, computer ignores the text.\n",
        "```\n",
        "\n",
        "A variable is created using the following line:\n",
        "```\n",
        "x = 3\n",
        "```\n",
        "Thus, the variable <tt>x</tt> stores the value 3.</br>\n",
        "<b>Whenever we see <tt>x</tt>, remember that <tt>x</tt> holds the value of 3.</b>\n",
        "\n",
        "Note the special format</br>\n",
        "- The name of the variable is on the left of <tt>=</tt>.\n",
        "- On the right of <tt>=</tt>, we have an expression.\n",
        "- The computer will not understand <tt>3 = x</tt>, eventhough this is valid mathematically!\n",
        "\n",
        "We can see what <tt>x</tt> holds using:\n",
        "```\n",
        "print(x)\n",
        "```\n",
        "\n",
        "In programming, we say that <tt>print()</tt> is a\n",
        " <b>function</b>.\n",
        "\n",
        "We say that the variable <tt>x</tt> is an argument to\n",
        "   <tt>print()</tt>.\n",
        "\n",
        "We can change what we print by changing the variable <tt>a</tt>.   \n",
        "\n",
        "Carefully review the code line-by-line to understand how it works.\n",
        "\n",
        "\n"
      ],
      "metadata": {
        "id": "QILaN9xMlfea"
      }
    },
    {
      "cell_type": "markdown",
      "source": [
        "## Assignment: understanding comments and variables"
      ],
      "metadata": {
        "id": "vfVZQVZO7Z0u"
      }
    },
    {
      "cell_type": "markdown",
      "source": [
        "Study the code and answer the following:\n",
        "1. Does the output change if you change a comment?\n",
        "2. Note the () after print. What happens when you remove one of them or both?\n",
        "3. What is the variable in the code?\n",
        "4. Can you change the code so that it will print 999?\n",
        "5. Click on '{} Variables'\n",
        "6. Can you see your variable? Comment.\n",
        "7. Try x=2**3.\n",
        "8. What is 2**3? Discuss.\n",
        "9. Can you print infinity?\n",
        "10. Click on the three vertical dots : (three instead of just two dots). Do you agree with the AI explanation?\n"
      ],
      "metadata": {
        "id": "UbjQEkgH7b3T"
      }
    },
    {
      "cell_type": "code",
      "source": [
        "# Hello. This line is for humans to read.\n",
        "# It is not to be executed.\n",
        "# When you first type #, we have a comment. Typing here does not affect anything\n",
        "# Comments are used to explain programs to humans.\n",
        "# Computers do not execute the comments.\n",
        "\n",
        "# Computers use variables to store information.\n",
        "# In the following line, we store the number 3 in the variable \"x\"\n",
        "\n",
        "# What do you understand by saying that \"x\" is a variable?\n",
        "# Run this cell. Try a different value for \"x\".\n",
        "\n",
        "# Create another variable and experiment with different values.\n",
        "\n",
        "x = 5\n",
        "\n",
        "# print the value of x\n",
        "print(x)\n"
      ],
      "metadata": {
        "colab": {
          "base_uri": "https://localhost:8080/"
        },
        "id": "Kl3sgjbvl06C",
        "outputId": "c8565e9d-90ee-40d9-d2b5-77d0ad2a9a0d"
      },
      "execution_count": 1,
      "outputs": [
        {
          "output_type": "stream",
          "name": "stdout",
          "text": [
            "5\n"
          ]
        }
      ]
    },
    {
      "cell_type": "markdown",
      "source": [
        "# Strings"
      ],
      "metadata": {
        "id": "elknbD5i8Mao"
      }
    },
    {
      "cell_type": "markdown",
      "source": [
        "\n",
        "You can use variables to store characters.\n",
        "\n",
        "A collection of characters forms a string.\n",
        "\n",
        "So the following code stores your name in a variable:\n",
        "\n",
        "\n",
        "```\n",
        "MyString = \"A short phrase\"\n",
        "```\n",
        "From now on, MyString holds \"A short phrase\".\n",
        "\n",
        "\n",
        "Run the following code by clicking on the play button on the left.\n",
        "\n",
        "What can you see?\n",
        "\n",
        "Carefully read the code line-by-line to understand how it works.\n",
        "\n",
        "## Assignment: simple strings\n",
        "Modify the code and answer the following questions:\n",
        "1. Can you change the code so that it will print your favorite food?\n",
        "2. Can you change the name of the variable to <tt>food</tt> and then <tt>print(food)</tt>?\n"
      ],
      "metadata": {
        "id": "sGEXOqIgr1aL"
      }
    },
    {
      "cell_type": "code",
      "source": [
        "# STRINGS\n",
        "# Computers understand strings.\n",
        "# The following line creates a string and stores it in the variable MyString\n",
        "MyString = \"Hello World!\"\n",
        "\n",
        "# PRINTING\n",
        "# You can now see the string in a:\n",
        "print(MyString)"
      ],
      "metadata": {
        "colab": {
          "base_uri": "https://localhost:8080/"
        },
        "id": "WbdV3ReAr9L9",
        "outputId": "c89a3d34-f4b1-4c1f-b042-596be7af87a9"
      },
      "execution_count": 2,
      "outputs": [
        {
          "output_type": "stream",
          "name": "stdout",
          "text": [
            "Hello World!\n"
          ]
        }
      ]
    },
    {
      "cell_type": "markdown",
      "source": [
        "## String concatenation"
      ],
      "metadata": {
        "id": "hOapvgbGqFV7"
      }
    },
    {
      "cell_type": "markdown",
      "source": [
        "1. Note that + is used to concatenate.\n",
        "2. Modify so that it prints your name.\n",
        "3. Print something silly!"
      ],
      "metadata": {
        "id": "7MClIZRVp_Ja"
      }
    },
    {
      "cell_type": "code",
      "source": [
        "hello_string = \"Hello \"\n",
        "name   = \"Marios\"\n",
        "phrase = hello_string + name\n",
        "print(phrase)"
      ],
      "metadata": {
        "colab": {
          "base_uri": "https://localhost:8080/"
        },
        "id": "4FH-KZihp30k",
        "outputId": "cd0cc55b-6d2b-451f-d125-c994cbbee459"
      },
      "execution_count": 3,
      "outputs": [
        {
          "output_type": "stream",
          "name": "stdout",
          "text": [
            "Hello Marios\n"
          ]
        }
      ]
    },
    {
      "cell_type": "markdown",
      "source": [
        "## Very long strings"
      ],
      "metadata": {
        "id": "hh12PPmjqjQS"
      }
    },
    {
      "cell_type": "markdown",
      "source": [
        "1. Note that long strings require three quotes \"\"\" at the beginngining and at the end.\n",
        "2. Modify the message to print a silly message.\n",
        "3. Add a second message and use + to combine them."
      ],
      "metadata": {
        "id": "k8guOxDdrZ9a"
      }
    },
    {
      "cell_type": "code",
      "source": [
        "long_string = \"\"\" This is a very long message.\n",
        "Here is my first line.\n",
        "And another line.\n",
        "We can go on forever!\n",
        "\"\"\"\n",
        "\n",
        "print(long_string)"
      ],
      "metadata": {
        "colab": {
          "base_uri": "https://localhost:8080/"
        },
        "id": "I15Tjaeyp384",
        "outputId": "e2e3547b-d313-4cdc-89a5-e34eef5ab2c2"
      },
      "execution_count": 4,
      "outputs": [
        {
          "output_type": "stream",
          "name": "stdout",
          "text": [
            " This is a very long message.\n",
            "Here is my first line.\n",
            "And another line.\n",
            "We can go on forever!\n",
            "\n"
          ]
        }
      ]
    },
    {
      "cell_type": "markdown",
      "source": [
        "## Formatting strings to print variables"
      ],
      "metadata": {
        "id": "lH9AN1IpsHpZ"
      }
    },
    {
      "cell_type": "markdown",
      "source": [
        "1. Change the code to print your name.\n",
        "2. Modify the code to print your name twice!"
      ],
      "metadata": {
        "id": "Zz7L1PsXsOEs"
      }
    },
    {
      "cell_type": "code",
      "source": [
        "name = \"Marios\"\n",
        "\n",
        "# Note the format! Starts with f\" and ends with \"\n",
        "# Also note the use of {variable_name} to print its value.\n",
        "print(f\"My name is {name}\")"
      ],
      "metadata": {
        "colab": {
          "base_uri": "https://localhost:8080/"
        },
        "id": "SZENuofdp4C4",
        "outputId": "38d3b74e-e061-4a49-8096-90d06448a00e"
      },
      "execution_count": 5,
      "outputs": [
        {
          "output_type": "stream",
          "name": "stdout",
          "text": [
            "My name is Marios\n"
          ]
        }
      ]
    },
    {
      "cell_type": "markdown",
      "source": [
        "# Modules"
      ],
      "metadata": {
        "id": "VdL-dODuucKQ"
      }
    },
    {
      "cell_type": "markdown",
      "source": [
        "## Access new functions using modules: import and dir."
      ],
      "metadata": {
        "id": "Va31tBFSxQCI"
      }
    },
    {
      "cell_type": "markdown",
      "source": [
        "<tt>print()</tt> is an example of a function. It is used to print variables. We will cover functions later.\n",
        "\n",
        "<tt>Modules</tt> allow us to work with different functions.\n",
        "\n",
        "The <tt>math</tt> module has many math functions.\n",
        "\n",
        "You get access to the math module functions using:\n",
        "```\n",
        "import math\n",
        "```\n",
        "You can then see a list of the new functions in a list of strings using:\n",
        "```\n",
        "math_functions = dir(math)\n",
        "```\n",
        "We will cover lists in detail later. Right now, just note that lists start with a [ and they end with ]."
      ],
      "metadata": {
        "id": "G0F2j_uSufuP"
      }
    },
    {
      "cell_type": "markdown",
      "source": [
        "1. Study the functions. List at-least three functions that you recognize.\n",
        "2. Instead of math, change the code to see the functions in the numpy module.\n",
        "3. List three numpy functions that you recognize."
      ],
      "metadata": {
        "id": "Xfn58Qz_y1GI"
      }
    },
    {
      "cell_type": "code",
      "source": [
        "# Access functions in math\n",
        "import math\n",
        "\n",
        "# Get a list of strings of the new functions:\n",
        "math_functions = dir(math))\n",
        "\n",
        "print(math_functions)"
      ],
      "metadata": {
        "colab": {
          "base_uri": "https://localhost:8080/"
        },
        "id": "b3Epe-bYuegi",
        "outputId": "fdb88d1e-0320-4bfe-9960-b4f309f74eab"
      },
      "execution_count": 13,
      "outputs": [
        {
          "output_type": "stream",
          "name": "stdout",
          "text": [
            "['False_', 'ScalarType', 'True_', '_CopyMode', '_NoValue', '__NUMPY_SETUP__', '__all__', '__array_api_version__', '__builtins__', '__cached__', '__config__', '__dir__', '__doc__', '__expired_attributes__', '__file__', '__former_attrs__', '__future_scalars__', '__getattr__', '__loader__', '__name__', '__numpy_submodules__', '__package__', '__path__', '__spec__', '__version__', '_core', '_distributor_init', '_expired_attrs_2_0', '_get_promotion_state', '_globals', '_int_extended_msg', '_mat', '_msg', '_no_nep50_warning', '_pyinstaller_hooks_dir', '_pytesttester', '_set_promotion_state', '_specific_msg', '_type_info', '_typing', '_utils', 'abs', 'absolute', 'acos', 'acosh', 'add', 'all', 'allclose', 'amax', 'amin', 'angle', 'any', 'append', 'apply_along_axis', 'apply_over_axes', 'arange', 'arccos', 'arccosh', 'arcsin', 'arcsinh', 'arctan', 'arctan2', 'arctanh', 'argmax', 'argmin', 'argpartition', 'argsort', 'argwhere', 'around', 'array', 'array2string', 'array_equal', 'array_equiv', 'array_repr', 'array_split', 'array_str', 'asanyarray', 'asarray', 'asarray_chkfinite', 'ascontiguousarray', 'asfortranarray', 'asin', 'asinh', 'asmatrix', 'astype', 'atan', 'atan2', 'atanh', 'atleast_1d', 'atleast_2d', 'atleast_3d', 'average', 'bartlett', 'base_repr', 'binary_repr', 'bincount', 'bitwise_and', 'bitwise_count', 'bitwise_invert', 'bitwise_left_shift', 'bitwise_not', 'bitwise_or', 'bitwise_right_shift', 'bitwise_xor', 'blackman', 'block', 'bmat', 'bool', 'bool_', 'broadcast', 'broadcast_arrays', 'broadcast_shapes', 'broadcast_to', 'busday_count', 'busday_offset', 'busdaycalendar', 'byte', 'bytes_', 'c_', 'can_cast', 'cbrt', 'cdouble', 'ceil', 'char', 'character', 'choose', 'clip', 'clongdouble', 'column_stack', 'common_type', 'complex128', 'complex256', 'complex64', 'complexfloating', 'compress', 'concat', 'concatenate', 'conj', 'conjugate', 'convolve', 'copy', 'copysign', 'copyto', 'core', 'corrcoef', 'correlate', 'cos', 'cosh', 'count_nonzero', 'cov', 'cross', 'csingle', 'ctypeslib', 'cumprod', 'cumsum', 'datetime64', 'datetime_as_string', 'datetime_data', 'deg2rad', 'degrees', 'delete', 'diag', 'diag_indices', 'diag_indices_from', 'diagflat', 'diagonal', 'diff', 'digitize', 'divide', 'divmod', 'dot', 'double', 'dsplit', 'dstack', 'dtype', 'dtypes', 'e', 'ediff1d', 'einsum', 'einsum_path', 'emath', 'empty', 'empty_like', 'equal', 'errstate', 'euler_gamma', 'exceptions', 'exp', 'exp2', 'expand_dims', 'expm1', 'extract', 'eye', 'f2py', 'fabs', 'fft', 'fill_diagonal', 'finfo', 'fix', 'flatiter', 'flatnonzero', 'flexible', 'flip', 'fliplr', 'flipud', 'float128', 'float16', 'float32', 'float64', 'float_power', 'floating', 'floor', 'floor_divide', 'fmax', 'fmin', 'fmod', 'format_float_positional', 'format_float_scientific', 'frexp', 'from_dlpack', 'frombuffer', 'fromfile', 'fromfunction', 'fromiter', 'frompyfunc', 'fromregex', 'fromstring', 'full', 'full_like', 'gcd', 'generic', 'genfromtxt', 'geomspace', 'get_include', 'get_printoptions', 'getbufsize', 'geterr', 'geterrcall', 'gradient', 'greater', 'greater_equal', 'half', 'hamming', 'hanning', 'heaviside', 'histogram', 'histogram2d', 'histogram_bin_edges', 'histogramdd', 'hsplit', 'hstack', 'hypot', 'i0', 'identity', 'iinfo', 'imag', 'in1d', 'index_exp', 'indices', 'inexact', 'inf', 'info', 'inner', 'insert', 'int16', 'int32', 'int64', 'int8', 'int_', 'intc', 'integer', 'interp', 'intersect1d', 'intp', 'invert', 'is_busday', 'isclose', 'iscomplex', 'iscomplexobj', 'isdtype', 'isfinite', 'isfortran', 'isin', 'isinf', 'isnan', 'isnat', 'isneginf', 'isposinf', 'isreal', 'isrealobj', 'isscalar', 'issubdtype', 'iterable', 'ix_', 'kaiser', 'kron', 'lcm', 'ldexp', 'left_shift', 'less', 'less_equal', 'lexsort', 'lib', 'linalg', 'linspace', 'little_endian', 'load', 'loadtxt', 'log', 'log10', 'log1p', 'log2', 'logaddexp', 'logaddexp2', 'logical_and', 'logical_not', 'logical_or', 'logical_xor', 'logspace', 'long', 'longdouble', 'longlong', 'ma', 'mask_indices', 'matmul', 'matrix', 'matrix_transpose', 'max', 'maximum', 'may_share_memory', 'mean', 'median', 'memmap', 'meshgrid', 'mgrid', 'min', 'min_scalar_type', 'minimum', 'mintypecode', 'mod', 'modf', 'moveaxis', 'multiply', 'nan', 'nan_to_num', 'nanargmax', 'nanargmin', 'nancumprod', 'nancumsum', 'nanmax', 'nanmean', 'nanmedian', 'nanmin', 'nanpercentile', 'nanprod', 'nanquantile', 'nanstd', 'nansum', 'nanvar', 'ndarray', 'ndenumerate', 'ndim', 'ndindex', 'nditer', 'negative', 'nested_iters', 'newaxis', 'nextafter', 'nonzero', 'not_equal', 'number', 'object_', 'ogrid', 'ones', 'ones_like', 'outer', 'packbits', 'pad', 'partition', 'percentile', 'permute_dims', 'pi', 'piecewise', 'place', 'poly', 'poly1d', 'polyadd', 'polyder', 'polydiv', 'polyfit', 'polyint', 'polymul', 'polynomial', 'polysub', 'polyval', 'positive', 'pow', 'power', 'printoptions', 'prod', 'promote_types', 'ptp', 'put', 'put_along_axis', 'putmask', 'quantile', 'r_', 'rad2deg', 'radians', 'random', 'ravel', 'ravel_multi_index', 'real', 'real_if_close', 'rec', 'recarray', 'reciprocal', 'record', 'remainder', 'repeat', 'require', 'reshape', 'resize', 'result_type', 'right_shift', 'rint', 'roll', 'rollaxis', 'roots', 'rot90', 'round', 'row_stack', 's_', 'save', 'savetxt', 'savez', 'savez_compressed', 'sctypeDict', 'searchsorted', 'select', 'set_printoptions', 'setbufsize', 'setdiff1d', 'seterr', 'seterrcall', 'setxor1d', 'shape', 'shares_memory', 'short', 'show_config', 'show_runtime', 'sign', 'signbit', 'signedinteger', 'sin', 'sinc', 'single', 'sinh', 'size', 'sort', 'sort_complex', 'spacing', 'split', 'sqrt', 'square', 'squeeze', 'stack', 'std', 'str_', 'strings', 'subtract', 'sum', 'swapaxes', 'take', 'take_along_axis', 'tan', 'tanh', 'tensordot', 'test', 'testing', 'tile', 'timedelta64', 'trace', 'transpose', 'trapezoid', 'trapz', 'tri', 'tril', 'tril_indices', 'tril_indices_from', 'trim_zeros', 'triu', 'triu_indices', 'triu_indices_from', 'true_divide', 'trunc', 'typecodes', 'typename', 'typing', 'ubyte', 'ufunc', 'uint', 'uint16', 'uint32', 'uint64', 'uint8', 'uintc', 'uintp', 'ulong', 'ulonglong', 'union1d', 'unique', 'unique_all', 'unique_counts', 'unique_inverse', 'unique_values', 'unpackbits', 'unravel_index', 'unsignedinteger', 'unwrap', 'ushort', 'vander', 'var', 'vdot', 'vecdot', 'vectorize', 'void', 'vsplit', 'vstack', 'where', 'zeros', 'zeros_like']\n"
          ]
        }
      ]
    },
    {
      "cell_type": "markdown",
      "source": [
        "## Using a function from a module"
      ],
      "metadata": {
        "id": "sfg6V4DIzfPa"
      }
    },
    {
      "cell_type": "markdown",
      "source": [
        "You can learn more about a function using:\n",
        "```\n",
        "help(module_name.function_name)\n",
        "```\n",
        "For example, module_name=math and function_name=cos in the following example.\n",
        "\n",
        "You can then use the function using module_name.function_name (e.g., math.cos).\n",
        "\n",
        "1. Study the example and discuss within your group.\n",
        "2. Modify the example to compute sin(pi/2).\n",
        "\n"
      ],
      "metadata": {
        "id": "4va5j6Etzf_V"
      }
    },
    {
      "cell_type": "code",
      "source": [
        "import math\n",
        "\n",
        "# Use help to see how to use a function.\n",
        "help(math.cos)\n",
        "\n",
        "# Declare a variable and store a value.\n",
        "angle = math.pi # Note that math.pi is a value.\n",
        "\n",
        "# Use a formatted string to print the output.\n",
        "print(f\"cos({angle}) = {math.cos(angle)}\")"
      ],
      "metadata": {
        "colab": {
          "base_uri": "https://localhost:8080/"
        },
        "id": "QlyzKdqgzgUi",
        "outputId": "e72aea48-ab23-40ee-bd4e-a86efb6a10c0"
      },
      "execution_count": 18,
      "outputs": [
        {
          "output_type": "stream",
          "name": "stdout",
          "text": [
            "Help on built-in function cos in module math:\n",
            "\n",
            "cos(x, /)\n",
            "    Return the cosine of x (measured in radians).\n",
            "\n",
            "cos(3.141592653589793) = -1.0\n"
          ]
        }
      ]
    },
    {
      "cell_type": "markdown",
      "source": [
        "## Renaming functions and modules"
      ],
      "metadata": {
        "id": "LtWk1xCT2X3p"
      }
    },
    {
      "cell_type": "markdown",
      "source": [
        "You can avoid having to type math or the name of the module, by importint a specific function:\n",
        "```\n",
        "from module_name import function_name, variable_name, ...\n",
        "```\n",
        "See the code below for an aexample.\n",
        "\n",
        "1. What is better about this example?\n",
        "2. Modify to compute sin(2*pi/2).\n",
        "\n",
        "\n",
        "\n"
      ],
      "metadata": {
        "id": "2-w-EUAZ2YAQ"
      }
    },
    {
      "cell_type": "code",
      "source": [
        "from math import cos, pi\n",
        "\n",
        "print(cos(pi))"
      ],
      "metadata": {
        "colab": {
          "base_uri": "https://localhost:8080/"
        },
        "id": "gUWZsWua2YXK",
        "outputId": "ff867757-86d8-48f3-af13-2b611b3926d7"
      },
      "execution_count": 22,
      "outputs": [
        {
          "output_type": "stream",
          "name": "stdout",
          "text": [
            "-1.0\n"
          ]
        }
      ]
    },
    {
      "cell_type": "markdown",
      "source": [
        "## Renaming modules and functions"
      ],
      "metadata": {
        "id": "pQe-mXdG3kel"
      }
    },
    {
      "cell_type": "markdown",
      "source": [
        "You can rename a module using:\n",
        "```\n",
        "from module_name import function_name as new_name\n",
        "```\n",
        "You can also change the name of the module using:\n",
        "```\n",
        "import module_name as new_name\n",
        "```\n",
        "See example below.\n",
        "\n",
        "1. Modify the example to import the sin as s.\n",
        "2. Modify the example to import pi as p.\n",
        "\n",
        "\n"
      ],
      "metadata": {
        "id": "1dR6eSHR3kh_"
      }
    },
    {
      "cell_type": "code",
      "source": [
        "from math import cos as c\n",
        "import math as m\n",
        "\n",
        "print (c(m.pi))"
      ],
      "metadata": {
        "colab": {
          "base_uri": "https://localhost:8080/"
        },
        "id": "R9sAWZZX3lFO",
        "outputId": "2647bc0a-3745-48fe-c0b7-f5e0d90904de"
      },
      "execution_count": 26,
      "outputs": [
        {
          "output_type": "stream",
          "name": "stdout",
          "text": [
            "-1.0\n"
          ]
        }
      ]
    },
    {
      "cell_type": "markdown",
      "source": [
        "## Avoiding importing everything!"
      ],
      "metadata": {
        "id": "8bA7D0ie4mfE"
      }
    },
    {
      "cell_type": "markdown",
      "source": [
        "You can import everything using:\n",
        "```\n",
        "from module_name import *\n",
        "```\n",
        "See example.\n",
        "\n",
        "1. Modify the example to compute sin(0).\n",
        "\n",
        "We are supposed to avoid the use of * here.\n"
      ],
      "metadata": {
        "id": "_FwfsY3b4mna"
      }
    },
    {
      "cell_type": "code",
      "source": [
        "from math import *\n",
        "\n",
        "print(cos(pi))"
      ],
      "metadata": {
        "colab": {
          "base_uri": "https://localhost:8080/"
        },
        "id": "Py5CRCES4m7C",
        "outputId": "87732837-5391-495b-d113-e25f85fecbd6"
      },
      "execution_count": 27,
      "outputs": [
        {
          "output_type": "stream",
          "name": "stdout",
          "text": [
            "-1.0\n"
          ]
        }
      ]
    },
    {
      "cell_type": "markdown",
      "source": [
        "# Working with directories"
      ],
      "metadata": {
        "id": "GwVYSGeKx9v1"
      }
    },
    {
      "cell_type": "markdown",
      "source": [
        "## Current directory and list of files"
      ],
      "metadata": {
        "id": "2Fi-WlD86BPe"
      }
    },
    {
      "cell_type": "markdown",
      "source": [
        "Notes on directories:\n",
        "\n",
        "<tt>/</tt> is used to separate directories.<br>\n",
        "Note that <tt>/</tt> alone refers to the root directory.<br>\n",
        "<tt>/bin</tt> refers to the directory of <tt>bin</tt> under the root.<br>\n",
        "\n",
        "<tt>.</tt> refers to the current directory.<br>\n",
        "<tt>..</tt> refers to the previous directory.<br>\n",
        "\n",
        "In order to understand the directory and files structure, we need to understand the following functions inside the <tt>os</tt> module:\n",
        "* <tt>getcwd</tt> gets the current directory.\n",
        "* <tt>listdir</tt> lists the files in a directory.<br>\n",
        "\n",
        "Play with the commands below:<br>\n",
        "1. Run the code below that prints files and directories.\n",
        "2. Click on the files folder on the left. Do you see any files in the current directory?\n",
        "3. Can you recognize the files in the previous directory? List some files that appear in both."
      ],
      "metadata": {
        "id": "66dO8-Lkx9-o"
      }
    },
    {
      "cell_type": "code",
      "source": [
        "from os import getcwd, listdir\n",
        "\n",
        "current_directory = getcwd()\n",
        "print(f\"The current directory is {current_directory}\")\n",
        "\n",
        "print(\"Files in current directory:\")\n",
        "listdir(\".\")\n",
        "\n",
        "print(\"Files in the previous directory\")\n",
        "listdir(\"..\")"
      ],
      "metadata": {
        "colab": {
          "base_uri": "https://localhost:8080/"
        },
        "id": "v72di7S7p4GQ",
        "outputId": "822ec7c6-a2a8-43bd-96db-8408c62ff9d7"
      },
      "execution_count": 16,
      "outputs": [
        {
          "output_type": "stream",
          "name": "stdout",
          "text": [
            "The current directory is /content\n",
            "Files in current directory:\n",
            "Files in the previous directory\n"
          ]
        },
        {
          "output_type": "execute_result",
          "data": {
            "text/plain": [
              "['sys',\n",
              " 'etc',\n",
              " 'usr',\n",
              " 'proc',\n",
              " 'boot',\n",
              " 'sbin',\n",
              " 'lib64',\n",
              " 'mnt',\n",
              " 'var',\n",
              " 'srv',\n",
              " 'libx32',\n",
              " 'dev',\n",
              " 'run',\n",
              " 'lib',\n",
              " 'home',\n",
              " 'lib32',\n",
              " 'tmp',\n",
              " 'bin',\n",
              " 'media',\n",
              " 'root',\n",
              " 'opt',\n",
              " 'kaggle',\n",
              " '.dockerenv',\n",
              " 'datalab',\n",
              " 'tools',\n",
              " 'content',\n",
              " 'python-apt',\n",
              " 'python-apt.tar.xz',\n",
              " 'NGC-DL-CONTAINER-LICENSE',\n",
              " 'cuda-keyring_1.1-1_all.deb']"
            ]
          },
          "metadata": {},
          "execution_count": 16
        }
      ]
    },
    {
      "cell_type": "markdown",
      "source": [
        "## Create and remove directories\n"
      ],
      "metadata": {
        "id": "Od7o75hl55en"
      }
    },
    {
      "cell_type": "markdown",
      "source": [
        "We can create and remove directories using:<br>\n",
        "* <tt>chdir</tt> changes the current directory.<br>\n",
        "* <tt>mkdir</tt> makes a new directory with a given name.<br>\n",
        "* <tt>rmdir</tt> removes a directory with a given name.<br>\n",
        "\n",
        "Study the code below.<br>\n",
        "1. Explain what the code is doing.</br>\n",
        "2. Create the following directories:\n",
        "* <tt>/content/user</tt>\n",
        "* <tt>/content/user/A</tt>\n",
        "* <tt>/content/user/B</tt>\n",
        "\n",
        "3. Remove the directories when you finish."
      ],
      "metadata": {
        "id": "LRa-oMY955oN"
      }
    },
    {
      "cell_type": "code",
      "source": [
        "from os import getcwd, listdir, mkdir, chdir, rmdir\n",
        "\n",
        "current_directory = getcwd()\n",
        "print(f\"The current directory is {current_directory}\")\n",
        "\n",
        "# Uncomment below.\n",
        "# Note that you can only create a directory once.\n",
        "mkdir(\"Mario\") # create a directory.\n",
        "\n",
        "chdir(\"Mario\") # change to this new directory.\n",
        "\n",
        "current_directory = getcwd()\n",
        "print(f\"The current directory is {current_directory}\")\n",
        "\n",
        "chdir(\"..\")  # change back\n",
        "\n",
        "\n",
        "rmdir(\"Mario\") # remove the directory.\n",
        "\n",
        "current_directory = getcwd()\n",
        "print(f\"The current directory is {current_directory}\")\n"
      ],
      "metadata": {
        "colab": {
          "base_uri": "https://localhost:8080/"
        },
        "id": "v0SaR7-b57Dn",
        "outputId": "95bbc1cb-d2e0-4397-ebd7-163d60fa577d"
      },
      "execution_count": 23,
      "outputs": [
        {
          "output_type": "stream",
          "name": "stdout",
          "text": [
            "The current directory is /content/Mario\n",
            "The current directory is /content/Mario/Mario\n",
            "The current directory is /content/Mario\n"
          ]
        }
      ]
    },
    {
      "cell_type": "code",
      "source": [],
      "metadata": {
        "id": "JLccbbtt5QJx"
      },
      "execution_count": null,
      "outputs": []
    }
  ]
}