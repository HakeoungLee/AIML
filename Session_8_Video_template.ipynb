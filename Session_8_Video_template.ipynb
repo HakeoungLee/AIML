{
  "nbformat": 4,
  "nbformat_minor": 0,
  "metadata": {
    "colab": {
      "provenance": [],
      "toc_visible": true,
      "include_colab_link": true
    },
    "kernelspec": {
      "name": "python3",
      "display_name": "Python 3"
    },
    "language_info": {
      "name": "python"
    }
  },
  "cells": [
    {
      "cell_type": "markdown",
      "metadata": {
        "id": "view-in-github",
        "colab_type": "text"
      },
      "source": [
        "<a href=\"https://colab.research.google.com/github/pattichis/AIML/blob/main/Session_8_Video_template.ipynb\" target=\"_parent\"><img src=\"https://colab.research.google.com/assets/colab-badge.svg\" alt=\"Open In Colab\"/></a>"
      ]
    },
    {
      "cell_type": "markdown",
      "source": [
        "# Video Creation Project"
      ],
      "metadata": {
        "id": "HA2q78kfOYwK"
      }
    },
    {
      "cell_type": "markdown",
      "source": [
        "Create video with example!"
      ],
      "metadata": {
        "id": "R5xdphTlOYym"
      }
    },
    {
      "cell_type": "code",
      "source": [
        "# Download AOLME.py from the GitHub account.\n",
        "!wget https://raw.githubusercontent.com/pattichis/AIML/main/AOLME.py"
      ],
      "metadata": {
        "colab": {
          "base_uri": "https://localhost:8080/"
        },
        "id": "lpIaPUHwOZi9",
        "outputId": "01c72c83-e8bd-40b4-d035-07d19a7e6f2b"
      },
      "execution_count": 1,
      "outputs": [
        {
          "output_type": "stream",
          "name": "stdout",
          "text": [
            "--2025-06-12 06:15:41--  https://raw.githubusercontent.com/pattichis/AIML/main/AOLME.py\n",
            "Resolving raw.githubusercontent.com (raw.githubusercontent.com)... 185.199.108.133, 185.199.109.133, 185.199.110.133, ...\n",
            "Connecting to raw.githubusercontent.com (raw.githubusercontent.com)|185.199.108.133|:443... connected.\n",
            "HTTP request sent, awaiting response... 200 OK\n",
            "Length: 22702 (22K) [text/plain]\n",
            "Saving to: ‘AOLME.py’\n",
            "\n",
            "\rAOLME.py              0%[                    ]       0  --.-KB/s               \rAOLME.py            100%[===================>]  22.17K  --.-KB/s    in 0s      \n",
            "\n",
            "2025-06-12 06:15:41 (114 MB/s) - ‘AOLME.py’ saved [22702/22702]\n",
            "\n"
          ]
        }
      ]
    },
    {
      "cell_type": "markdown",
      "source": [
        "# Import libraries"
      ],
      "metadata": {
        "id": "QsfFaMQcMHkP"
      }
    },
    {
      "cell_type": "code",
      "source": [
        "# Import the libraries\n",
        "from AOLME import *\n",
        "from IPython.display import HTML\n",
        "import numpy as np"
      ],
      "metadata": {
        "id": "wiT3_FFRMH1S"
      },
      "execution_count": 2,
      "outputs": []
    },
    {
      "cell_type": "markdown",
      "source": [
        "# Define colors"
      ],
      "metadata": {
        "id": "e0-lEuVEr_Z1"
      }
    },
    {
      "cell_type": "markdown",
      "source": [
        "1. Use\n",
        "[RGB Colors link](https://www.w3schools.com/colors/colors_rgb.asp) to come up with three more colors.\n",
        "2. Add the colors and thet color names to the code."
      ],
      "metadata": {
        "id": "kcOVN7Gpr_wO"
      }
    },
    {
      "cell_type": "code",
      "source": [
        "# Video setup\n",
        "\n",
        "# Define the size of the image\n",
        "rows = 20  # num of rows\n",
        "cols = 20  # num of cols\n",
        "\n",
        "# Define all of the colors\n",
        "red     = \"%02x%02x%02x\" % (255, 0, 0)\n",
        "blue    = \"%02x%02x%02x\" % (0, 0, 255)\n",
        "green   = \"%02x%02x%02x\" % (0, 255, 0)\n",
        "yellow  = \"%02x%02x%02x\" % (255, 255, 0)\n",
        "cyan    = \"%02x%02x%02x\" % (0, 255, 255)\n",
        "magenta = \"%02x%02x%02x\" % (255, 0, 255)\n",
        "white   = \"%02x%02x%02x\" % (255, 255, 255)\n",
        "black   = \"%02x%02x%02x\" % (0, 0, 0)"
      ],
      "metadata": {
        "id": "uPc16BlQ9EI-"
      },
      "execution_count": 3,
      "outputs": []
    },
    {
      "cell_type": "markdown",
      "source": [
        "# Complex video example with object movements"
      ],
      "metadata": {
        "id": "kmpMUAbOoTw9"
      }
    },
    {
      "cell_type": "markdown",
      "source": [
        "1. Study the code!\n",
        "2. Change the movement parameters.\n",
        "3. Change the object that is moving."
      ],
      "metadata": {
        "id": "m3pf84n5oT5w"
      }
    },
    {
      "cell_type": "code",
      "source": [
        "from AOLME import *\n",
        "\n",
        "# Define the image size:\n",
        "rows = 20\n",
        "cols = 20\n",
        "\n",
        "# Define the colors:\n",
        "r=\"fe0606\"\n",
        "v=\"157f11\"\n",
        "\n",
        "# Initialize the background using list comprehension\n",
        "backg = np.full((rows, cols), r)\n",
        "\n",
        "# Copy the background into a frame:\n",
        "frame1 = backg.copy()\n",
        "\n",
        "# Create the character\n",
        "frame1[2:5, 8:12] = v\n",
        "frame1[3, 12]  = v\n",
        "\n",
        "# Make a second copy of the character\n",
        "frame1[10:13,8:13] = frame1[2:5,8:13]\n",
        "#im_show(frame2)\n",
        "\n",
        "# Move the character by +2 to the right.\n",
        "frame2 = backg.copy() # Copy background.\n",
        "\n",
        "# Move to the right by 2 pixels.\n",
        "move_r = 2\n",
        "frame2[:, move_r:cols] = frame1[:, 0:cols-move_r]\n",
        "#im_show(frame2)\n",
        "\n",
        "\n",
        "# Create a new copy:\n",
        "frame3 = backg.copy() # Copy background.\n",
        "\n",
        "move_d = 2\n",
        "frame3[move_d:rows, :] = frame2[0:rows-move_d, :]\n",
        "#im_show(frame3)\n",
        "\n",
        "# Move the object by +2 to the left.\n",
        "frame4 = backg.copy() # Copy background.\n",
        "\n",
        "move_l = 2\n",
        "frame4[:, 0:-move_l] = frame3[:, move_l:]\n",
        "\n",
        "\n",
        "\n",
        "# Move the object by +2 up\n",
        "frame5 = backg.copy() # Copy background.\n",
        "\n",
        "move_u = 2\n",
        "frame5[0:-move_u, :] = frame4[move_u:, :]\n",
        "\n",
        "\n",
        "# Show a single image:\n",
        "# Uncommend the im_show() commands to show single images.\n",
        "#im_show(frame5)\n",
        "\n",
        "# Create a frame list of all of the frames\n",
        "frame_list = [frame1, frame2, frame3, frame4, frame5]\n",
        "\n",
        "# Setup the number of frames per second\n",
        "fps= 2\n",
        "\n",
        "# Play the video\n",
        "play_video= vid_show(frame_list, fps)\n",
        "\n"
      ],
      "metadata": {
        "colab": {
          "base_uri": "https://localhost:8080/",
          "height": 487
        },
        "id": "ol5IYSzmoUK3",
        "outputId": "567bb132-658e-45a7-f8e7-e1f608cd267e"
      },
      "execution_count": 4,
      "outputs": [
        {
          "output_type": "display_data",
          "data": {
            "text/plain": [
              "<Figure size 640x480 with 1 Axes>"
            ],
            "image/png": "[encoded data removed]"
          },
          "metadata": {}
        }
      ]
    },
    {
      "cell_type": "code",
      "source": [
        "# play on screen\n",
        "HTML(play_video.to_html5_video())"
      ],
      "metadata": {
        "colab": {
          "base_uri": "https://localhost:8080/",
          "height": 519
        },
        "id": "uAZcWqWyhzlj",
        "outputId": "4b1d5168-616c-4143-caed-80cfcd022fb1"
      },
      "execution_count": 5,
      "outputs": [
        {
          "output_type": "execute_result",
          "data": {
            "text/plain": [
              "<IPython.core.display.HTML object>"
            ],
            "text/html": [
              "<video width=\"640\" height=\"480\" controls autoplay loop>\n",
              "  <source type=\"video/mp4\" src=\"data:video/mp4;base64,AAAAIGZ0eXBNNFYgAAACAE00ViBpc29taXNvMmF2YzEAAAAIZnJlZQAAGuFtZGF0AAACrQYF//+p\n",
              "3EXpvebZSLeWLNgg2SPu73gyNjQgLSBjb3JlIDE2MyByMzA2MCA1ZGI2YWE2IC0gSC4yNjQvTVBF\n",
              "Ry00IEFWQyBjb2RlYyAtIENvcHlsZWZ0IDIwMDMtMjAyMSAtIGh0dHA6Ly93d3cudmlkZW9sYW4u\n",
              "b3JnL3gyNjQuaHRtbCAtIG9wdGlvbnM6IGNhYmFjPTEgcmVmPTMgZGVibG9jaz0xOjA6MCBhbmFs\n",
              "eXNlPTB4MzoweDExMyBtZT1oZXggc3VibWU9NyBwc3k9MSBwc3lfcmQ9MS4wMDowLjAwIG1peGVk\n",
              "X3JlZj0xIG1lX3JhbmdlPTE2IGNocm9tYV9tZT0xIHRyZWxsaXM9MSA4eDhkY3Q9MSBjcW09MCBk\n",
              "ZWFkem9uZT0yMSwxMSBmYXN0X3Bza2lwPTEgY2hyb21hX3FwX29mZnNldD0tMiB0aHJlYWRzPTMg\n",
              "bG9va2FoZWFkX3RocmVhZHM9MSBzbGljZWRfdGhyZWFkcz0wIG5yPTAgZGVjaW1hdGU9MSBpbnRl\n",
              "cmxhY2VkPTAgYmx1cmF5X2NvbXBhdD0wIGNvbnN0cmFpbmVkX2ludHJhPTAgYmZyYW1lcz0zIGJf\n",
              "cHlyYW1pZD0yIGJfYWRhcHQ9MSBiX2JpYXM9MCBkaXJlY3Q9MSB3ZWlnaHRiPTEgb3Blbl9nb3A9\n",
              "MCB3ZWlnaHRwPTIga2V5aW50PTI1MCBrZXlpbnRfbWluPTIgc2NlbmVjdXQ9NDAgaW50cmFfcmVm\n",
              "cmVzaD0wIHJjX2xvb2thaGVhZD00MCByYz1jcmYgbWJ0cmVlPTEgY3JmPTIzLjAgcWNvbXA9MC42\n",
              "MCBxcG1pbj0wIHFwbWF4PTY5IHFwc3RlcD00IGlwX3JhdGlvPTEuNDAgYXE9MToxLjAwAIAAABE2\n",
              "ZYiEABX//vfJ78Cm61tbtb+Tz0j8LLUh/w361iAIrT/wiO8SYYEf+/GvMJ/Qe9bOsWxxRmO8tSU+\n",
              "uYJ6i0K3kL4gAAADAAADAAAm7yRB2w+fJg2aF0vM3O1v3KMrheBwJyGMVg5TYWIPKbfTIZJ93OTN\n",
              "DRNux4IING+OqJ1dcKh2msyEJVK/r9QYl6iX/89B2riRaqUfi7i2lPDmdx47JTHAG+MopQB18jmb\n",
              "bOG7+BiG7AtVIo1cDvS+7/Ka8ffbij0vNDYPwHqHZUiDrNGNlyw8r1T4rDeIoluGNqByGHxmkNkJ\n",
              "1UsGDSddXJEBJUbmc9/HeCvbH0Kl1ETSmug30ifwNs+Pomu/25jqVVAxBeoYciVih7TbA2djXH18\n",
              "PkhCy5P+xaOXG+CLW1hHwk/rAPlCLdzlwYXc1ufzREpm6t55CG2wb0qGK6ijrX+JZYquJsXjGe8k\n",
              "ciDABTCznXb0tliPvxGFUQB8i67BxI1zc0AAbFuzHaUfGfAfMLWmaU+wS7n6go99cqtWN3t00KGZ\n",
              "rgq2ujpC7DE3cthOlmoHynjNwwYfm0AFNm3aV4Oy8r2EHVVWQsJt4Ku1zDDaTIcoAyQQmBDdbd5e\n",
              "AGv1ob4Bb5mcm6JG/NV97OBqKEzTLN7sp4nLPCU0wbO9WxdxIb5+leZnd5xBM+ImZW7eNTEk8IOG\n",
              "hx7IDk7r1jbECba1A8LMVpK8S9z2EmLDVb/USTcV4J8xps8nMSX6PqVbVIikkmVnShtrD5J20B8O\n",
              "v+Z4zh5dNDiMEONLozKawPFE1Mr4mbHWbcl7PW53Fg8fLTt8esk/nRTWLCfYPlbCOYM9SPQo31eC\n",
              "VdGmn6TwpkiAMzNvdx3vhKBkItlIijKrYwRuvisX8E8HIIcC/XQbeFhyA/Apo1Ke872RNYFTea8C\n",
              "eLH+4rHoPYyauPaOYV04aSm8CxtsUlxsbewqVgkDtAceBX6IIrEG6KodoTrQkwbyT6AGRLJhrLP8\n",
              "gPLftUGSIICBggHJHreIYqfP4ydNKkEF3zwqL+RA8RY23aJkXUNUhJ2AhdntljYi6YbtW4XFC37n\n",
              "5Lm/oDGpeIogVky/0y7eOTpCDx/SmPeRmO2Xkp2CZJxvH0lzXqmXTUqCizbOUaP5Nevh+NvXIvPO\n",
              "Cms0dqBgVhCTKM1WeD/tH3zbvtNRCSjdwR41CoitbfU+972G+ha6Kk+yVvzjV4y5jlt5BnLzhKLx\n",
              "5g7sd3h/L9Cq8IM7cIt9NAwDWaolUcCI0ZEujjsqQ4VLDQnlzeEeJPVNXHnqGbweW5MDgME9erM1\n",
              "04KtrUTt45G1fF8Tq8g5YYnEmPtBbPbbRViPKyQTQ0qBN0/McLOn5DbC5AXa2dSmIqqfMfqN7CUR\n",
              "QKrXqIRQ5eo+Fijm4nSheUfi+p8bExRqNN3Db/RAkqurua4f18jXloJRR3ZUeGU39BbDAEg1wtrF\n",
              "fCthLPc5YyqfDcU2zI9RcPs719O6XQ+IABbTB4V7c4VHOtpsuL+tliOyEjgAFdcKn5ohA2h0OuLg\n",
              "jRHQWLxI/Ylznrc/87Wn5eDnCYI5sEfVV0m2TtanT98VnWK8aBEthYz/v7D9a3Re05S48/oYBv7R\n",
              "5c7heUili9vuab9I3iLacOCrxh5coQU1s/CTwdtHmI+64nApcyNXngwDnBPOnC/TW50iWb6eR+TV\n",
              "P1ToNuzGf8nYxnrYCjyv1rKI4/oxCi7FJDgV+AvfX7WZvAGKzqPmN3BhjcwY12h7FOgSiCIrHTQk\n",
              "VEaWQrOJQ70+OQQsn6H/EkHX1phlqEQ/IeechNqTQD/7OYQHepHUYAHTHmjji/+lCFhnY4SqDDYg\n",
              "1RU+F3rHW91uS8KTIm6Ryvl/hebrMDLXQM0Lru/U2IyrJwvQ1RAjA+RgwuPNWwv0KqHm4erIZcBa\n",
              "YiyEPFNiu3A9cqVpvKcyF4o1DTbOojByOC/LBDUw2VJFGw1QZyIqXt4oC3SqUMA96cOt8/82JcAN\n",
              "j2CE/CBB/EY2ELD9lqgh01qsi3ZhB5ZeFEzVRvAvuCxxw7F1+YoOh/Q0RiT3iH+0xcBoa066R8sU\n",
              "ZuSJSzBjhe6EFsRe0L5FVrUJ6a4aAfvPfdBlALsU9Te27XwNuJhj39K8E4RY06Y/pJVffyAtDpPP\n",
              "wcgJcd1+xq8Hrm2MADwJ9RSUwk3eC/DaZVXYyZm0+VYUr96DnoYKHL/oE3UTbtZTHhW1ayl0sywj\n",
              "xu4Hc5Qxx0Zd6nr5D7JrGcKj9OHXGPt/eqU4eNvOspRiaJNPWxCPO3aSvdjYoHNfTdg4/rlFwCdK\n",
              "+V4/RGrxOefFklUAxxUUe1OSpnDqx70M5anIBqifne9CyK8VdT4LzyGm7F9OZUsMhA5nnDj9WII2\n",
              "rmZ0PWr2Ew83lpE+JqPtc5KFcuoan9cx5+bfgeTQq8m2sk4tjark7CA1mTjqiArd4sAYLdL9Zuga\n",
              "xqFi9YvIUuDDJhJpIoNFE+uBM7A2GP9/wZRYsZ92OwhyduZfwMzFICZp+kT/lzX7Sh1np+bJSXBj\n",
              "Yks8me5brM/pyXzlq57GfpVXaZzDiHXwteXHyKwPHfqbCPBA7uKnqlnDOy9OyV1Hw1xH25OU9zwd\n",
              "snVySE/Ahihx0FAFymVIMtK2pefQRyHCV4VYjROcKivli1pvNF56BZuolMpMeexX9qDQAy/LNqeu\n",
              "UwgAAGJsparqU+qkAPgbPag6q9r/C980PZ6n82ry61YCFiFaW4YdgZCLtMvnpuRtCgYkk+S4/6AE\n",
              "V/EYf2G0GuVfmmaxBe8lgTGKwYv7KeQDhbOa9TEpXL/llRUUS8Whhgy6DfeZq8nDrQFov6g158K9\n",
              "VbetBQ7CHvO3GT/HVnBDtAltgYQdySlMa3Rd2oh+E/NdbRyGgyicqZRSYqg5wV8O4B860JIHiICU\n",
              "KxACa5cRBxHNg1qGxQ+amPGZyJDQQuripgalvnQ1LLVa5hjVqHMaGgKoI5T5ek5mFojHYcF2Dexe\n",
              "gHJ3ihfIkjBEuBlKhVCx3zMzkg268XPJckVBkkfoKXD7LP8iEkgAx0CUHbHWrOwCIT3LzjF/dgOX\n",
              "YukPkCsS4LKiIqHYny2htzYJuKsdCkg7byqooRd//gibX6GsLjxTB1P+0AFLMP8Ua19qdPmpTgee\n",
              "ZNtyY7uKP/asmhkpSRocreng3F2m0vVMXLJ5umg9tP1HyFRBVXXt8ap/P3wHG0HsPv1d5jU8vrQl\n",
              "8626r/HUqixeIhadM4RbJ9kdSMUJryjZ59dcE9g/QglXRpjG14CBAlrjyFknFrju6W1IV6wCBc1R\n",
              "mTop3hSaV4fMxGcosVOfMKdsPPUoAmkuUw3k8f2/mVwfQZlKWBTtlvsz5S56cBRjAuSq5qsMUNFl\n",
              "8yooOC9fF2/a1AEgL+iKAe1fiQtnEBK+9TAADOzQHvwrMioSZ9Ezvf8B866f/xcbzzLkKB/uVUWr\n",
              "mrT/N+3PKkFAVnV2wn00SzpypEHiJuU0Ur99cYBJaW9VzUe/52LrNH1GNY4OZ2C8KCeyT9zcL8ky\n",
              "jP8zPlk+FO041RURe94OMFb3d7XHRrRZ545abYesj2THsL59nBnnapU1nZqhjg1m57svBKTxYjYC\n",
              "m2+jAuF0qELpLjocOzgFoyaSNQPOFMq5/pRFQUfiIZNqoy/ecAMyO8Ipnw65x3yxOMeLhMW3m7Bp\n",
              "olyPjL1Q6/ZVBoDpghyIEZ8unoI1rV5CwCOdbWp3hLZ4ha40CoES4uWejFHCBV+SLr+ngWAtaGXE\n",
              "btfyAsUVSa8ZmbiQiqAFO2SCYYzY5qbakZ66rfQFmZGyDuvG7uN2mlFypMZeRdYCXbhKhgHtGORz\n",
              "eXTMg7ePXhnq8lVkeGELU9dPw2R9LIacWuS4sme1R7xwosbnNsxP2kpkpyo/HIn7gEDv9HG4bHR4\n",
              "q6qqheOZielmqC2owatvPF/h6PI/l8WO4g+s9rQtmABp4TDtSMWjL8wMYhQNs3y4xIz4K4oJT8Mc\n",
              "pjzvDjJcVcnrtZQ9L86lDFsWfVjmwUuYX/6UVCtaa6D2hvwif69++wHmfqf4BEOVxrzG2mEXhI8X\n",
              "MWI2+M5lr7GPjzw6GgdpsrzsdgqUl60MDybOtiEKQBauYChITjrf+Gv1LXcy1OhP59Z5+xZpdrC5\n",
              "LEkJPgF1EOECyAa08NsdoamgDxVSjj7cpnN3peO0H9Vfay9X3MtOeQkecJwjcBV3V189PdmJsq9S\n",
              "j69gr42qttHilNNk7kjjSLAud8XAXFWJY6sbpFaQbride1hwdpta9VRrOcpkWXXjcG920N5XXG8K\n",
              "bkOHlL9aOICy/UbfxZVxg2wGffbeEoeg9iX5Tpb5zgEuI7O8RufDSp2XifUnuYD8oASqbnLvjaKs\n",
              "IxU70LNbAUyoDUbb6LUBMInKK4Cy5I5IGEdiQyAsfQcM3KFbqRUos5rQ69tHx5N7let/vNCn9Kal\n",
              "FZqUqUULrgjyy3LJgcxqZrdZj22tUWWDXU719ihhpauUll4iv+Af1sDMcJBQyLccBOK77NbqGwt0\n",
              "/0q3pS74+Bo0VUH5TnboqVBsuYbJc6f+M7Hq9+wIRoZIpXEIqtFm/vinzkU7in/V3xLC99HQDqzW\n",
              "DPH6uLMa0pmksW5rKnmoylu/IpW+3vxpTHk2bap0i7qpSx4zJV+dXpO2V/B+ekzsrDV4zuT0kIxu\n",
              "+CidmTO5oeU9ptDFOz4hFGIg6DN9MxeU1WDMHqVJpq6qbZO2DiDfFebdgX2jAv8JgucGoNlPAfj6\n",
              "IQvFBEh45LZjjq3/VZVm40rVGZPFt1BvaqdcDEKiT10yi02INDHv+flb84zYOcR6LFzZzwcSr0pq\n",
              "/AW5KppoxVSqAy9P/gu+D0j6vcN0T3BWNFNqoE1qjZBCoDOWwYD//kgbZ4jczrbBc43RyR7JH+1E\n",
              "z0tuQN1M1O6jMeVYHM4NLP/mb+zS8wXNBBOH6OfKCwMxDvm7tyJyhwLb9yLyltRNPvr//vThSKff\n",
              "2gzRp/yKmRRVazuQnI7+yJ9PGhXGsDWtf9VdGNlKFSPmpfR/EGjbSdbSKYUqDOMlI5EKqL/Q6f2q\n",
              "BlVGkVQ+eg4rtgDT7VWy2SvnD2WUM4hKfxjAlGLQgVTXtlVY5rdO/Lordsnc9YDwS+ChVhT7ChR+\n",
              "ZGGrUK4axX+VshM48ZdutUZn6tDuBRLyAYKQTa7HrvBZwzgV3f+MYyC2UX8FiYYE0UsXe1PpNTfR\n",
              "eUX90EXCJpuDg8keuN5MnDGTiOI7aLU2LsiNBaw9/mZRfZigz/Ap0Z1teb2aZQrXMTSNItIP2inf\n",
              "pSyNOFGAYXd3FHn0YI+nG1iDOv/TMa9LqlFB8P4H7SJvqnOGjob4BoDAElboOIZIBodlkegY0zzr\n",
              "D9vwkaUmWzbzvqXytQeRuYeLgYfanppIyWQB7Xra9J7SwlvbzL6ssm60UVqz9CVXVD8BUqhJ6Jvn\n",
              "+EC3a17uDYs+fB/YJGqCEttlwehJ61qYZDC0bO46SUFpKxZwZv3Agu4ytdi4QRt7SlLEw0tn5sWM\n",
              "FCaQMZftIbKgT3t1Z4/wVG+cFM1R3qMeT04af08uzNR7ejqp8AE4JMu6HpokthjxH0SNewwzOrQd\n",
              "n7Bn7qqoi/J/1EhGkCkr7TcGJUO2vMIeFC8OVfGi8Yn4cvBpqZ/QVAF2OqYtxb1tSnEHqh+BE2w/\n",
              "tH1SWi0V6/xpYThWt5C3jHVGgFALjxi5rl8fHeU3N6xXyFMqZj/7Qxt/0vu9yQ7FO/BsqsCYdC9t\n",
              "ylSRWYheUS9Plxoo5BDdgdZ0OrAIHBMU0XvuhmjQtny+LO9XfdsrtoG9s7hfJ9pkuZXPm9OpmVaR\n",
              "8nU+uWyMop0dlNs3nYbkysn6BcV/Bp3dujMaj/gSXvJe96BsBET4qwxv0YP1VrSKuk5FkyPcNxYi\n",
              "LsyAAGEgu2SUztIaB4qTs+EAAAIYQZoibEFP/taMsBK49CWbihnzV0GM/pRdvJuQD/qEb5/X/AAA\n",
              "GyCw4cgA+zuzMyog4TKub///38CeQoShvFsHIp//UgKu4TBv7z40SaLBlucklhboixkuZenIqB//\n",
              "I2k7E2TsgafWqwT34NOeFg9rncN14wTSTA38IxwiH8EF8Wkf/okRi3jN9yNSBanclBERCz2506EC\n",
              "keOSirGleVeX0ECN82P5RxIFOxuHNqAVbzn8rM2gwDUtdar5+t9pClb334wlsluCigN24j92kGT/\n",
              "kW7nChWUgtUYlgcaexw6sKOrul4436zH7FO8oZJQcmc5jg5DsDaoJluvk9gcmrFEa2EhZC/OHVE0\n",
              "nF3Bdsq/h4KAMY1loZ/qgiVkZ7iEbqnRXh9ASVMEjhE5lXdCJlQ8t2/U/cwXZ0YAjo5yGehe6ZNn\n",
              "QutUhrWxiZ25cTTZRiF2NpstgIQVhq/MPV+4+UWiCqktfYMqnGdWsAxSfV71ssla1e44UpyD+aND\n",
              "GghT85piROm6ZDyLtGQvO4XYWWzUNfWp3uguJa1sekWCRdE4gx6wQXWASwZ4VRD2R7U9mvdXMgd3\n",
              "Wk8l6bfyGD1N4n8vSELibQtYc0BjaQ0xkODfKyroGhMu2rnfkoI+mJjtXwLbxTlQKLJ9Z1MozpsF\n",
              "Q4ZTr72wPjerAI/c1SenxZ8n/DNLE5u+RIKjcFfxSTJFZmoVYEG4wCYkC7gAAAH1AZ5BeQS/ABOb\n",
              "wET0dxa2KxSAAWcfQ1COKKqM2claoMFwNQO+8jg9xkFd09J8z6rODkihsK+NkLutKjVd9xGuAS+5\n",
              "tE06B323r8eprBMBbmQyD3wuuJ3+kBEQCGgmSXWYgpz6gyO02NWv/4fl023r4N3pjEr0u/rfjcuV\n",
              "q3LarYpcmxWS9k/aoyOUN7zsyGtf8vTirQho2G2ks2B5klII4awGka44O6K/nYjqOZW8ajdVl8DR\n",
              "r84+zFwCfPcw0y0Jngl5rz6PaN0Uts6luGghNWWwcrtz56ko9cj0wmka1OvEPdNQHLiouDoYx3I0\n",
              "cZUSMl3W7fjKTWj1VXW33yecs0tyuEL10CoLr+kLCKIyTFusXW6VB+md1wFQtvXR/jO3KfZBbZbX\n",
              "5RVffc001yPX2eOVvlfK/dzkfn0H2Cw3nPkT1idjOR0j0m24Rs6kDcadWjGVGEH3wFrdHqtIKyvf\n",
              "abm9FBFLLtCjaBMQH1+/kBVYs/f66b4tdXnE2b0J60ScjxkrMziRCnSq4BA4LHaiLUvLYcPc6D5T\n",
              "+GZ56FnjrkoGJErCEqKnWczlaEQzDHGSPo6DUClgTzLe26yrkgdJqwe4cmii8QmwmgnnIZgK++lI\n",
              "2DskyhmVEY5X+6Qrj+0+rFmA19a9fv92aYLkZe6jDh/ioA/xAAAAh0GaRDwhkymEEv/+tSqAA6R7\n",
              "kVvaU8XBRE5QUysQ8G+YEALZJRt2F0/2oeTEUW7rVQ7dLVUF0ohB9wAB+fCZzSCfAp4+iAy0//+r\n",
              "ATmd3GSmYWPsXE4gAAaoCYRkeeqCtKOv7abgRXE0k1f0p2271ayjVZWC5tAPOJeagKPSHWEOZGbn\n",
              "EkQEXAAAAkoBnmNqQS8AAc9yXX7qthTqBcc9TRK08tZvIASMSfGGFDcfOP8gFZNA5cDaoqBuf//H\n",
              "USA2ptB14h8NT7EQENP025jq9xtcEV0uVE1cOBA+o8WMRiINs2mIOA9AaF+iMabzujtol37qpyah\n",
              "wEEb7GC5MaiZkYiPs2nqrkqM7Y6k/xJfYaTpzaVjgxsui2ojdn2qxX9quPGzR/uhYJolkMeuY+L4\n",
              "6PRZK0qxtFmwKKOEZ1+QIfu94VBU7hgJJ6YkYhrpVGJC4cVjU4cTqyc9upw1d57lzYzyURAL1fs+\n",
              "ZM3IlM6Kb3YOrRq/6OBfDAD5DcWoPwPQ4XchgLFh+88aZdR7phcvjDC8FozVIS0jOH3zBn8jGbpU\n",
              "p98SUBqOw1rR3aTzzclz0hKuBsnYdnD0Z5c5U5Qr8vPOgsW//tzh4wa3Au/XlMFi3h+cMZGFDgsv\n",
              "PRKbrtSdWn+rpmmnE+ovM8faoVKP41c4wuT59f5HwBMpzd+tZlmfTn1qNEgv2LtZDEvw4BnqXUiP\n",
              "ssPVi01nr0F8VlGfvlYD07YrulXDohsNRLoN92/TZHjT1t7x93+j9/ossI0Wdp5g5z8XedntZ0FG\n",
              "X3IGpl7hufBvldaYf6VXoOSDbNqztJLBKjsh6I9eJCqRWxQZR4JuRprE3Sqa5ZWjkhhdDI88Stm6\n",
              "oucesrE14Syu7xC9kwXri7aDGDBlI2uSxViPy+FfVuSmUmC9urJjEscF+QPmic78U8GtbG2BkdXe\n",
              "9AUIcIh0dEIwZFRmKSGsHiTZklMnoLaBAAADbm1vb3YAAABsbXZoZAAAAAAAAAAAAAAAAAAAA+gA\n",
              "AAnEAAEAAAEAAAAAAAAAAAAAAAABAAAAAAAAAAAAAAAAAAAAAQAAAAAAAAAAAAAAAAAAQAAAAAAA\n",
              "AAAAAAAAAAAAAAAAAAAAAAAAAAAAAAAAAAIAAAKYdHJhawAAAFx0a2hkAAAAAwAAAAAAAAAAAAAA\n",
              "AQAAAAAAAAnEAAAAAAAAAAAAAAAAAAAAAAABAAAAAAAAAAAAAAAAAAAAAQAAAAAAAAAAAAAAAAAA\n",
              "QAAAAAKAAAAB4AAAAAAAJGVkdHMAAAAcZWxzdAAAAAAAAAABAAAJxAAAQAAAAQAAAAACEG1kaWEA\n",
              "AAAgbWRoZAAAAAAAAAAAAAAAAAAAQAAAAKAAVcQAAAAAAC1oZGxyAAAAAAAAAAB2aWRlAAAAAAAA\n",
              "AAAAAAAAVmlkZW9IYW5kbGVyAAAAAbttaW5mAAAAFHZtaGQAAAABAAAAAAAAAAAAAAAkZGluZgAA\n",
              "ABxkcmVmAAAAAAAAAAEAAAAMdXJsIAAAAAEAAAF7c3RibAAAALdzdHNkAAAAAAAAAAEAAACnYXZj\n",
              "MQAAAAAAAAABAAAAAAAAAAAAAAAAAAAAAAKAAeAASAAAAEgAAAAAAAAAAQAAAAAAAAAAAAAAAAAA\n",
              "AAAAAAAAAAAAAAAAAAAAAAAAABj//wAAADVhdmNDAWQAFv/hABhnZAAWrNlAoD2hAAADAAEAAAMA\n",
              "BA8WLZYBAAZo6+PLIsD9+PgAAAAAHHV1aWRraEDyXyRPxbo5pRvPAyPzAAAAAAAAABhzdHRzAAAA\n",
              "AAAAAAEAAAAFAAAgAAAAABRzdHNzAAAAAAAAAAEAAAABAAAAOGN0dHMAAAAAAAAABQAAAAEAAEAA\n",
              "AAAAAQAAYAAAAAABAAAgAAAAAAEAAGAAAAAAAQAAIAAAAAAcc3RzYwAAAAAAAAABAAAAAQAAAAUA\n",
              "AAABAAAAKHN0c3oAAAAAAAAAAAAAAAUAABPrAAACHAAAAfkAAACLAAACTgAAABRzdGNvAAAAAAAA\n",
              "AAEAAAAwAAAAYnVkdGEAAABabWV0YQAAAAAAAAAhaGRscgAAAAAAAAAAbWRpcmFwcGwAAAAAAAAA\n",
              "AAAAAAAtaWxzdAAAACWpdG9vAAAAHWRhdGEAAAABAAAAAExhdmY1OC43Ni4xMDA=\n",
              "\">\n",
              "  Your browser does not support the video tag.\n",
              "</video>"
            ]
          },
          "metadata": {},
          "execution_count": 5
        },
        {
          "output_type": "display_data",
          "data": {
            "text/plain": [
              "<Figure size 640x480 with 0 Axes>"
            ]
          },
          "metadata": {}
        }
      ]
    },
    {
      "cell_type": "markdown",
      "source": [
        "# Write your video code below"
      ],
      "metadata": {
        "id": "T2mRf9LfyGxV"
      }
    },
    {
      "cell_type": "code",
      "source": [],
      "metadata": {
        "id": "3x6up7tvyIyZ"
      },
      "execution_count": null,
      "outputs": []
    }
  ]
}