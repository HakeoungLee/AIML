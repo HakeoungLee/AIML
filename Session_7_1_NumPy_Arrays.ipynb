{
  "nbformat": 4,
  "nbformat_minor": 0,
  "metadata": {
    "colab": {
      "provenance": [],
      "toc_visible": true,
      "include_colab_link": true
    },
    "kernelspec": {
      "name": "python3",
      "display_name": "Python 3"
    },
    "language_info": {
      "name": "python"
    }
  },
  "cells": [
    {
      "cell_type": "markdown",
      "metadata": {
        "id": "view-in-github",
        "colab_type": "text"
      },
      "source": [
        "<a href=\"https://colab.research.google.com/github/pattichis/AIML/blob/main/Session_7_1_NumPy_Arrays.ipynb\" target=\"_parent\"><img src=\"https://colab.research.google.com/assets/colab-badge.svg\" alt=\"Open In Colab\"/></a>"
      ]
    },
    {
      "cell_type": "markdown",
      "source": [
        "# Goals"
      ],
      "metadata": {
        "id": "f8JQSyd507dz"
      }
    },
    {
      "cell_type": "markdown",
      "source": [
        "1. Introduce Python lists and their operations.\n",
        "2. Lists indexing and lists of lists.\n",
        "3. Operations on NumPy arrays."
      ],
      "metadata": {
        "id": "asVBI7g8rbgb"
      }
    },
    {
      "cell_type": "markdown",
      "source": [
        "# NumPy arrays"
      ],
      "metadata": {
        "id": "6SDPRkYYKx1w"
      }
    },
    {
      "cell_type": "markdown",
      "source": [
        "## Create arrays using np.array()"
      ],
      "metadata": {
        "id": "Fdbw3BPxJe3w"
      }
    },
    {
      "cell_type": "markdown",
      "source": [
        "NumPy array allow us to use fast arithmetic for list of lists or 2D matrices.\n",
        "\n",
        "This is a new type of variable. Note that type refers to the kind of data that we can store.\n",
        "\n",
        "We require an equal number of elements in each component list.\n",
        "\n",
        "Assignment:\n",
        "1. Note that np.array() is just used for converting to a new type.\n",
        "2. What do you understand by a new type?  \n",
        "3. Study the code and comment on why the last example fails."
      ],
      "metadata": {
        "id": "x3oRtUQqFCF2"
      }
    },
    {
      "cell_type": "code",
      "source": [
        "import numpy as np # import all the functions from numpy library. Use np for its functions.\n",
        "\n",
        "str = \"A string example\"\n",
        "print(\"str has type = \", type(str)) # type is used to return the kind of data.\n",
        "\n",
        "num = 5.12\n",
        "print(\"num has type = \", type(num))  # type returns the kind of data.\n",
        "\n",
        "a = [[1, 2, 3], [4, 5, 6]] # regular list.\n",
        "print(type(a))             # print the type of variable that a \"is\"\n",
        "\n",
        "a_np = np.array(a)         # create numpy array.\n",
        "print(a_np, type(a_np))    # We have a new type.\n",
        "\n",
        "b = [[1, 2, 3], [4, 5]]    # b has lists of different sizes.\n",
        "b_np = np.array(b)         # Conversion is not possible!\n",
        "print(b_np)\n"
      ],
      "metadata": {
        "colab": {
          "base_uri": "https://localhost:8080/",
          "height": 297
        },
        "id": "HOgZvq95FCrS",
        "outputId": "9a6b612c-c9b1-4511-c553-3c03a14a376c"
      },
      "execution_count": 1,
      "outputs": [
        {
          "output_type": "stream",
          "name": "stdout",
          "text": [
            "str has type =  <class 'str'>\n",
            "num has type =  <class 'float'>\n",
            "<class 'list'>\n",
            "[[1 2 3]\n",
            " [4 5 6]] <class 'numpy.ndarray'>\n"
          ]
        },
        {
          "output_type": "error",
          "ename": "ValueError",
          "evalue": "setting an array element with a sequence. The requested array has an inhomogeneous shape after 1 dimensions. The detected shape was (2,) + inhomogeneous part.",
          "traceback": [
            "\u001b[0;31m---------------------------------------------------------------------------\u001b[0m",
            "\u001b[0;31mValueError\u001b[0m                                Traceback (most recent call last)",
            "\u001b[0;32m<ipython-input-1-2403441939>\u001b[0m in \u001b[0;36m<cell line: 0>\u001b[0;34m()\u001b[0m\n\u001b[1;32m     14\u001b[0m \u001b[0;34m\u001b[0m\u001b[0m\n\u001b[1;32m     15\u001b[0m \u001b[0mb\u001b[0m \u001b[0;34m=\u001b[0m \u001b[0;34m[\u001b[0m\u001b[0;34m[\u001b[0m\u001b[0;36m1\u001b[0m\u001b[0;34m,\u001b[0m \u001b[0;36m2\u001b[0m\u001b[0;34m,\u001b[0m \u001b[0;36m3\u001b[0m\u001b[0;34m]\u001b[0m\u001b[0;34m,\u001b[0m \u001b[0;34m[\u001b[0m\u001b[0;36m4\u001b[0m\u001b[0;34m,\u001b[0m \u001b[0;36m5\u001b[0m\u001b[0;34m]\u001b[0m\u001b[0;34m]\u001b[0m    \u001b[0;31m# b has lists of different sizes.\u001b[0m\u001b[0;34m\u001b[0m\u001b[0;34m\u001b[0m\u001b[0m\n\u001b[0;32m---> 16\u001b[0;31m \u001b[0mb_np\u001b[0m \u001b[0;34m=\u001b[0m \u001b[0mnp\u001b[0m\u001b[0;34m.\u001b[0m\u001b[0marray\u001b[0m\u001b[0;34m(\u001b[0m\u001b[0mb\u001b[0m\u001b[0;34m)\u001b[0m         \u001b[0;31m# Conversion is not possible!\u001b[0m\u001b[0;34m\u001b[0m\u001b[0;34m\u001b[0m\u001b[0m\n\u001b[0m\u001b[1;32m     17\u001b[0m \u001b[0mprint\u001b[0m\u001b[0;34m(\u001b[0m\u001b[0mb_np\u001b[0m\u001b[0;34m)\u001b[0m\u001b[0;34m\u001b[0m\u001b[0;34m\u001b[0m\u001b[0m\n",
            "\u001b[0;31mValueError\u001b[0m: setting an array element with a sequence. The requested array has an inhomogeneous shape after 1 dimensions. The detected shape was (2,) + inhomogeneous part."
          ]
        }
      ]
    },
    {
      "cell_type": "markdown",
      "source": [
        "1. Study the code.\n",
        "2. Explain the values for len(b) and b.shape."
      ],
      "metadata": {
        "id": "hCcx5HGALEgN"
      }
    },
    {
      "cell_type": "code",
      "source": [
        "import numpy as np\n",
        "\n",
        "# Create a list:\n",
        "a = [[1, 2, 3], [4, 5, 6]]\n",
        "\n",
        "# Create a 2D NumPy array\n",
        "b = np.array(a)\n",
        "\n",
        "print(\"a = \", a, \", len(a) = \", len(a), \", type(a) = \", type(a))\n",
        "print(\"b = \", b)\n",
        "print(\"len(b) = \", len(b), \", b.shape = \", b.shape, \", type(b) = \", type(b))\n",
        "print(\" \")"
      ],
      "metadata": {
        "colab": {
          "base_uri": "https://localhost:8080/"
        },
        "id": "eXdeb2W-LClz",
        "outputId": "1b815c6b-97af-4a6f-d33e-1d746b62ffd1"
      },
      "execution_count": 2,
      "outputs": [
        {
          "output_type": "stream",
          "name": "stdout",
          "text": [
            "a =  [[1, 2, 3], [4, 5, 6]] , len(a) =  2 , type(a) =  <class 'list'>\n",
            "b =  [[1 2 3]\n",
            " [4 5 6]]\n",
            "len(b) =  2 , b.shape =  (2, 3) , type(b) =  <class 'numpy.ndarray'>\n",
            " \n"
          ]
        }
      ]
    },
    {
      "cell_type": "markdown",
      "source": [
        "## Create full arrays with the same element"
      ],
      "metadata": {
        "id": "DDeJ4OyNpVZK"
      }
    },
    {
      "cell_type": "markdown",
      "source": [
        "1. Modify the shape to have 5 rows and 2 columns. Verify that it worked.\n",
        "2. Modify the numerical value to 6.1. Verify that it worked.\n",
        "3. Modify the string to \"FF0000\". Verify that it worked."
      ],
      "metadata": {
        "id": "q76gTGNJpVie"
      }
    },
    {
      "cell_type": "code",
      "source": [
        "import numpy as np\n",
        "\n",
        "# Create a NumPy array using numerical values\n",
        "num_of_rows = 3\n",
        "num_of_cols = 4\n",
        "value = 10\n",
        "arr1 = np.full((num_of_rows, num_of_cols), value)\n",
        "\n",
        "# Create a string array using numerical values\n",
        "arr2 = np.full((num_of_rows, num_of_cols), \"Hello\")\n",
        "\n",
        "# Print the arrays\n",
        "print(f\"arr1: shape={arr1.shape}\")\n",
        "print(arr1)\n",
        "print(f\"arr2: shape={arr2.shape}\")\n",
        "print(arr2)"
      ],
      "metadata": {
        "colab": {
          "base_uri": "https://localhost:8080/"
        },
        "id": "1elTr7-4pWSy",
        "outputId": "f882fc4b-3592-4d0d-9ec8-8fe2f24bb460"
      },
      "execution_count": 3,
      "outputs": [
        {
          "output_type": "stream",
          "name": "stdout",
          "text": [
            "arr1: shape=(3, 4)\n",
            "[[10 10 10 10]\n",
            " [10 10 10 10]\n",
            " [10 10 10 10]]\n",
            "arr2: shape=(3, 4)\n",
            "[['Hello' 'Hello' 'Hello' 'Hello']\n",
            " ['Hello' 'Hello' 'Hello' 'Hello']\n",
            " ['Hello' 'Hello' 'Hello' 'Hello']]\n"
          ]
        }
      ]
    },
    {
      "cell_type": "markdown",
      "source": [
        "## 1D matrix array creation using *"
      ],
      "metadata": {
        "id": "Jywahhc2f4en"
      }
    },
    {
      "cell_type": "markdown",
      "source": [
        "1. Study the code.\n",
        "2. Create a 5 element row with the element of 6."
      ],
      "metadata": {
        "id": "hFaN-iMDei64"
      }
    },
    {
      "cell_type": "code",
      "source": [
        "print(\"List comprehension for a row\")\n",
        "c = np.array([3*[1]])\n",
        "print(\"c = \", c)\n",
        "print(\"len(c) = \", len(c), \", b.shape = \", c.shape)\n",
        "print(\" \")\n"
      ],
      "metadata": {
        "id": "Amrs-qzJetjl",
        "colab": {
          "base_uri": "https://localhost:8080/"
        },
        "outputId": "ebfe6c18-996d-4d63-a5fb-931d4d767fe2"
      },
      "execution_count": 4,
      "outputs": [
        {
          "output_type": "stream",
          "name": "stdout",
          "text": [
            "List comprehension for a row\n",
            "c =  [[1 1 1]]\n",
            "len(c) =  1 , b.shape =  (1, 3)\n",
            " \n"
          ]
        }
      ]
    },
    {
      "cell_type": "markdown",
      "source": [
        "## 2D matrix array creation using a list comprehension"
      ],
      "metadata": {
        "id": "SJP9ueu0ezDH"
      }
    },
    {
      "cell_type": "markdown",
      "source": [
        "1. Study the code below.\n",
        "2. Explain the value of len(d).\n",
        "3. Explain the value of d.shape.\n",
        "4. Modify the example to make the shape (3, 5) of 2."
      ],
      "metadata": {
        "id": "yll-BbBee0DB"
      }
    },
    {
      "cell_type": "code",
      "source": [
        "d = np.array([3*[1] for row in range(4)])\n",
        "print(\"d = \", d)\n",
        "print(\"len(d) = \", len(d), \", d.shape = \", d.shape)\n",
        "print(\" \")"
      ],
      "metadata": {
        "colab": {
          "base_uri": "https://localhost:8080/"
        },
        "id": "jLbAcITBe1KU",
        "outputId": "09feb3bb-e952-4198-9836-aed432e35ad4"
      },
      "execution_count": 5,
      "outputs": [
        {
          "output_type": "stream",
          "name": "stdout",
          "text": [
            "d =  [[1 1 1]\n",
            " [1 1 1]\n",
            " [1 1 1]\n",
            " [1 1 1]]\n",
            "len(d) =  4 , d.shape =  (4, 3)\n",
            " \n"
          ]
        }
      ]
    },
    {
      "cell_type": "markdown",
      "source": [
        "## Accessing NumPy Array elements"
      ],
      "metadata": {
        "id": "3l0KsnkbnkmQ"
      }
    },
    {
      "cell_type": "markdown",
      "source": [
        "1. Study the code carefully.\n",
        "2. Explain how b[0][0:2] prints what you get.\n"
      ],
      "metadata": {
        "id": "LgKYYKdGnlEh"
      }
    },
    {
      "cell_type": "code",
      "source": [
        "# Create a list:\n",
        "a = [[1, 2, 3], [4, 5, 6]]\n",
        "\n",
        "# Create a 2D NumPy array\n",
        "b = np.array(a)\n",
        "print(\"b=\", b)\n",
        "print(\" \")\n",
        "\n",
        "print(\"Like lists: Access row by row.\")\n",
        "print(\"b[0] = \", b[0])\n",
        "print(\"b[1] = \", b[1])\n",
        "print(\" \")\n",
        "\n",
        "print(\"Like lists: Access elements using 2d indices\")\n",
        "print(\"b[0][0] = \", b[0][0])\n",
        "print(\"b[1][2] = \", b[1][2])\n",
        "print(\" \")\n",
        "\n",
        "print(\"Like lists: Access using 1D strides\")\n",
        "print(\"b[0][1:3] = \", b[0][1:3])\n",
        "print(\"b[1][0:2] = \", b[1][0:2])\n",
        "print(\"b[1][0:3:2] = \", b[1][0:3:2])\n",
        "print(\" \")"
      ],
      "metadata": {
        "colab": {
          "base_uri": "https://localhost:8080/"
        },
        "id": "aZRL3pw6nmBb",
        "outputId": "c2ed4fc6-d695-4538-d1c7-084836dad36b"
      },
      "execution_count": 6,
      "outputs": [
        {
          "output_type": "stream",
          "name": "stdout",
          "text": [
            "b= [[1 2 3]\n",
            " [4 5 6]]\n",
            " \n",
            "Like lists: Access row by row.\n",
            "b[0] =  [1 2 3]\n",
            "b[1] =  [4 5 6]\n",
            " \n",
            "Like lists: Access elements using 2d indices\n",
            "b[0][0] =  1\n",
            "b[1][2] =  6\n",
            " \n",
            "Like lists: Access using 1D strides\n",
            "b[0][1:3] =  [2 3]\n",
            "b[1][0:2] =  [4 5]\n",
            "b[1][0:3:2] =  [4 6]\n",
            " \n"
          ]
        }
      ]
    },
    {
      "cell_type": "markdown",
      "source": [
        "## Accessing 2D blocks"
      ],
      "metadata": {
        "id": "iHiEth1YuPV6"
      }
    },
    {
      "cell_type": "markdown",
      "source": [
        "1. Study the code below.\n",
        "2. Changing the single element 10 to 3.\n",
        "3. Change the top row to all 1. Verify your answer.\n",
        "4. Change the first column to 10. Verify your answer.\n",
        "5. Change the lower-right elements to 5, 6. Verify your answer."
      ],
      "metadata": {
        "id": "kBR70IbBuPtf"
      }
    },
    {
      "cell_type": "code",
      "source": [
        "a = np.array([[1, 2, 3, 4, 5], [6, 7, 8, 9, 10]])\n",
        "print(\"1. a = \", a)\n",
        "\n",
        "print(\"2. a[0, 0] = \", a[0,0])\n",
        "print(\"3. a[1, 0] = \", a[1,0])\n",
        "\n",
        "a[1, 0] = 10\n",
        "print(\"4. a[1, 0] = \", a[1,0])\n",
        "\n",
        "a[0:2, 3:] = 5\n",
        "print(\"5. a = \", a)"
      ],
      "metadata": {
        "colab": {
          "base_uri": "https://localhost:8080/"
        },
        "id": "6vMq_Y8YuQi-",
        "outputId": "3075fae6-2fdb-4e28-e55c-830b29ad473d"
      },
      "execution_count": 7,
      "outputs": [
        {
          "output_type": "stream",
          "name": "stdout",
          "text": [
            "1. a =  [[ 1  2  3  4  5]\n",
            " [ 6  7  8  9 10]]\n",
            "2. a[0, 0] =  1\n",
            "3. a[1, 0] =  6\n",
            "4. a[1, 0] =  10\n",
            "5. a =  [[ 1  2  3  5  5]\n",
            " [10  7  8  5  5]]\n"
          ]
        }
      ]
    },
    {
      "cell_type": "markdown",
      "source": [
        "## Note \"=\" in Python does not copy NumPy array elements."
      ],
      "metadata": {
        "id": "JmNBKGKfqdlS"
      }
    },
    {
      "cell_type": "markdown",
      "source": [
        "1. Study what happens after a[0]=100.\n",
        "2. Explain what is unexpected here and why."
      ],
      "metadata": {
        "id": "t6-O1Wt0qmeO"
      }
    },
    {
      "cell_type": "code",
      "source": [
        "a = np.array([1, 2, 3, 4, 5])\n",
        "b = a\n",
        "print(\"a = \", a)\n",
        "print(\"b = \", b)\n",
        "print(\" \")\n",
        "\n",
        "a[0] = 100\n",
        "print(\"a = \", a)\n",
        "print(\"b = \", b)"
      ],
      "metadata": {
        "colab": {
          "base_uri": "https://localhost:8080/"
        },
        "id": "shvvGiF0n7Wd",
        "outputId": "327a8ed7-4c05-4104-826b-ab14d7ef21dd"
      },
      "execution_count": 8,
      "outputs": [
        {
          "output_type": "stream",
          "name": "stdout",
          "text": [
            "a =  [1 2 3 4 5]\n",
            "b =  [1 2 3 4 5]\n",
            " \n",
            "a =  [100   2   3   4   5]\n",
            "b =  [100   2   3   4   5]\n"
          ]
        }
      ]
    },
    {
      "cell_type": "markdown",
      "source": [
        "## Copying NumPy arrays"
      ],
      "metadata": {
        "id": "sZ3RI-DFrDEu"
      }
    },
    {
      "cell_type": "markdown",
      "source": [
        "1. What line did we change here?\n",
        "2. How is the output different?"
      ],
      "metadata": {
        "id": "RnRUE78VrDWA"
      }
    },
    {
      "cell_type": "code",
      "source": [
        "a = np.array([1, 2, 3, 4, 5])\n",
        "b = a.copy()\n",
        "print(\"a = \", a)\n",
        "print(\"b = \", b)\n",
        "print(\" \")\n",
        "\n",
        "a[0] = 100\n",
        "print(\"a = \", a)\n",
        "print(\"b = \", b)"
      ],
      "metadata": {
        "colab": {
          "base_uri": "https://localhost:8080/"
        },
        "id": "gSGU-NubrD1q",
        "outputId": "0cd927b4-552e-4de5-f916-31710536319e"
      },
      "execution_count": 9,
      "outputs": [
        {
          "output_type": "stream",
          "name": "stdout",
          "text": [
            "a =  [1 2 3 4 5]\n",
            "b =  [1 2 3 4 5]\n",
            " \n",
            "a =  [100   2   3   4   5]\n",
            "b =  [1 2 3 4 5]\n"
          ]
        }
      ]
    },
    {
      "cell_type": "markdown",
      "source": [
        "## Flattening arrays to one dimension"
      ],
      "metadata": {
        "id": "Q6a7FB2AKI6O"
      }
    },
    {
      "cell_type": "markdown",
      "source": [
        "1. Study the code and discuss.\n",
        "2. How is the size of b related to a?\n",
        "3. How is b related to a?\n",
        "4. Modify a to [[1, 2], [3, 4], [5, 6], [7, 8]]. What happens to b? Why?"
      ],
      "metadata": {
        "id": "YXARyzXtKJE9"
      }
    },
    {
      "cell_type": "code",
      "source": [
        "import numpy as np\n",
        "\n",
        "a = np.array([[1, 2], [1, 2], [4, 5]]) # create an array.\n",
        "b = a.flatten() # flatten all dimensions.\n",
        "\n",
        "print(\"a = \", a, \", a.shape = \", a.shape)\n",
        "print(\"b = \", b, \", b.shape = \", b.shape)\n"
      ],
      "metadata": {
        "colab": {
          "base_uri": "https://localhost:8080/"
        },
        "id": "bBxykkR3KJXa",
        "outputId": "14e24741-d993-4118-b9b9-45ac791b68dc"
      },
      "execution_count": 10,
      "outputs": [
        {
          "output_type": "stream",
          "name": "stdout",
          "text": [
            "a =  [[1 2]\n",
            " [1 2]\n",
            " [4 5]] , a.shape =  (3, 2)\n",
            "b =  [1 2 1 2 4 5] , b.shape =  (6,)\n"
          ]
        }
      ]
    },
    {
      "cell_type": "markdown",
      "source": [
        "## Reshaping array rows into 2D matrices (e.g., images)"
      ],
      "metadata": {
        "id": "eGBokmPSSkBA"
      }
    },
    {
      "cell_type": "markdown",
      "source": [
        "1. Study the code carefully.\n",
        "2. Can you reshape each element to a size of 4x1. Why?\n",
        "3. Can you reshape each element to a size of 3x2. Why or why not? Explain."
      ],
      "metadata": {
        "id": "s7s_cxZOSkJi"
      }
    },
    {
      "cell_type": "code",
      "source": [
        "# Original matrix has a square number of elements in each row.\n",
        "a = np.array([[1, 2, 3, 4], [5, 6, 7, 8]])\n",
        "print(\"a = \", a, \", a.shape = \", a.shape)\n",
        "print(\" \")\n",
        "\n",
        "# Reshape each row:\n",
        "for element in a:\n",
        "  b = element.reshape(2, 2) # Reshape into 2 by 2.\n",
        "  print(\"b = \", b, \", b.shape = \", b.shape)\n"
      ],
      "metadata": {
        "id": "liyjWZ1brO6x",
        "colab": {
          "base_uri": "https://localhost:8080/"
        },
        "outputId": "47c9dd80-648d-479c-ab90-dc0f6c144210"
      },
      "execution_count": 11,
      "outputs": [
        {
          "output_type": "stream",
          "name": "stdout",
          "text": [
            "a =  [[1 2 3 4]\n",
            " [5 6 7 8]] , a.shape =  (2, 4)\n",
            " \n",
            "b =  [[1 2]\n",
            " [3 4]] , b.shape =  (2, 2)\n",
            "b =  [[5 6]\n",
            " [7 8]] , b.shape =  (2, 2)\n"
          ]
        }
      ]
    },
    {
      "cell_type": "markdown",
      "source": [
        "## A video as list of numpy frames."
      ],
      "metadata": {
        "id": "yO8gQcM6UGcp"
      }
    },
    {
      "cell_type": "markdown",
      "source": [
        "1. Study the example carefully.\n",
        "2. Add frame5 with some values. Verify your answer.\n",
        "3. Comment out frame1 and frame2. Does it work? Explain."
      ],
      "metadata": {
        "id": "LE4s8tZoUGhk"
      }
    },
    {
      "cell_type": "code",
      "source": [
        "# Individual frames\n",
        "frame1 = np.array([1, 2])\n",
        "frame2 = np.array([3, 4])\n",
        "frame3 = np.array([5, 6])\n",
        "frame4 = np.array([7, 8])\n",
        "\n",
        "video = [frame1, frame2, frame3, frame4]\n",
        "print(\"video = \", video, \", type(video) = \")\n",
        "print(\" \")\n",
        "\n",
        "for frame in video:\n",
        "  print(\"frame = \", frame)"
      ],
      "metadata": {
        "colab": {
          "base_uri": "https://localhost:8080/"
        },
        "id": "s46TCPgTUHG5",
        "outputId": "b23b26d8-5e76-4991-836b-f51e883b6f85"
      },
      "execution_count": 12,
      "outputs": [
        {
          "output_type": "stream",
          "name": "stdout",
          "text": [
            "video =  [array([1, 2]), array([3, 4]), array([5, 6]), array([7, 8])] , type(video) = \n",
            " \n",
            "frame =  [1 2]\n",
            "frame =  [3 4]\n",
            "frame =  [5 6]\n",
            "frame =  [7 8]\n"
          ]
        }
      ]
    },
    {
      "cell_type": "code",
      "source": [],
      "metadata": {
        "id": "4RYa8dPfVMQM"
      },
      "execution_count": 12,
      "outputs": []
    }
  ]
}