{
  "nbformat": 4,
  "nbformat_minor": 0,
  "metadata": {
    "colab": {
      "provenance": [],
      "toc_visible": true,
      "authorship_tag": "ABX9TyO+2EMuZRVFE0D4qR2sxMd4",
      "include_colab_link": true
    },
    "kernelspec": {
      "name": "python3",
      "display_name": "Python 3"
    },
    "language_info": {
      "name": "python"
    }
  },
  "cells": [
    {
      "cell_type": "markdown",
      "metadata": {
        "id": "view-in-github",
        "colab_type": "text"
      },
      "source": [
        "<a href=\"https://colab.research.google.com/github/pattichis/AIML/blob/main/Session_4_binary_and_hexadecimals.ipynb\" target=\"_parent\"><img src=\"https://colab.research.google.com/assets/colab-badge.svg\" alt=\"Open In Colab\"/></a>"
      ]
    },
    {
      "cell_type": "markdown",
      "source": [
        "# SESSION DESCRIPTION AND OBJECTIVES"
      ],
      "metadata": {
        "id": "UmMp-fo08CcX"
      }
    },
    {
      "cell_type": "markdown",
      "source": [
        "Session-4 introduces students to Binary and Hexadecimal number systems. The session goals include:\n",
        "\n",
        "1. Develop connections and number sense across decimal, binary, and hexadecimal systems. / Desarrollar conexiones y sentido numérico a través de los sistemas decimal, binario, y hexadecimal.\n",
        "\n",
        "2. Identify real-world applications of binary numbers. / Identificar aplicaciones reales de los números binarios.\n",
        "\n",
        "3. Convert number values across systems. / Convertir valores numéricos a través de distintos systemas."
      ],
      "metadata": {
        "id": "3LLY05pf8Cfm"
      }
    },
    {
      "cell_type": "markdown",
      "source": [
        "Click on the following links:\n",
        "\n",
        "1. [Binary/Hexadecimal Calculator](https://ece46medsrv.ece.unm.edu/docs/L1S4/binary2.html) Use the calculator to verify your calculations.\n",
        "\n",
        "2. [Binary numbers table](https://ece46medsrv.ece.unm.edu/docs/L1S4/TABLE1-Card_4.1.docx) Fill in your binary numbers into this table.\n",
        "\n",
        "3. [Headecimal numbers table](https://ece46medsrv.ece.unm.edu/docs/L1S4/TABLE2-Card_4.2.docx) Fill in your hexadecimal numbers into this table."
      ],
      "metadata": {
        "id": "ZW0R4Pup8Cio"
      }
    },
    {
      "cell_type": "markdown",
      "source": [
        "# Binary numbers"
      ],
      "metadata": {
        "id": "InzkjYi_8CoX"
      }
    },
    {
      "cell_type": "markdown",
      "source": [
        "Using 4 binary digits, we can represent numbers from 0 to 15.\n",
        "\n",
        "0000 represents \"0\"<br>\n",
        "0001 represents \"1\"<br>\n",
        "0010 represents <tt>1*2=2</tt>.<br>\n",
        "0011 represents <tt>1*2+1=3</tt>.<br>\n",
        "\n",
        "Fill in the table for all of the number up to \"15\"."
      ],
      "metadata": {
        "id": "GBz8s-wL-6ZP"
      }
    },
    {
      "cell_type": "markdown",
      "source": [
        "# Hexadeciml numbers"
      ],
      "metadata": {
        "id": "Q658ypWc-6cF"
      }
    },
    {
      "cell_type": "markdown",
      "source": [
        "Using two hexadecimal numbers, we can represent numbers up to 255.\n",
        "\n",
        "00 represents \"0\".<br>\n",
        "01 represents \"1\".<br>\n",
        "02 represents \"2\".<br>\n",
        "03 represents \"3\".<br>\n",
        ":<br>\n",
        "09 represents \"9\".<br>\n",
        "\n",
        "We need a single character to represent 10 to 15.<br>\n",
        "This is done using:<br>\n",
        "0A represents \"10\".<br>\n",
        "0B represents \"11\".<br>\n",
        "0C represents \"12\".<br>\n",
        "0D represents \"13\".<br>\n",
        "0E represents \"14\".<br>\n",
        "0F represents \"15\".<br>\n",
        "\n",
        "10 represents <tt>1*16+0=16</tt>.<br>\n",
        "20 represents <tt>2*16+0=32</tt>.<br>\n",
        "23 represents <tt>2*16+3=35</tt>.<br>\n",
        "\n"
      ],
      "metadata": {
        "id": "ex9HpVN78C6_"
      }
    },
    {
      "cell_type": "markdown",
      "source": [
        "What do the following 5 hexadecimal numbers represent?\n",
        "\n",
        "31<br>\n",
        "A2<br>\n",
        "C2<br>\n",
        "D3<br>\n",
        "FF<br>"
      ],
      "metadata": {
        "id": "CIJ9bd5kBzqR"
      }
    },
    {
      "cell_type": "markdown",
      "source": [],
      "metadata": {
        "id": "Tv8yaahtBxPT"
      }
    }
  ]
}